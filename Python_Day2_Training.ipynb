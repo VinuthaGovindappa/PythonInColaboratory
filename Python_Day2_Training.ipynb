{
  "nbformat": 4,
  "nbformat_minor": 0,
  "metadata": {
    "colab": {
      "name": "Python Day2 Training.ipynb",
      "version": "0.3.2",
      "provenance": [],
      "include_colab_link": true
    },
    "kernelspec": {
      "name": "python3",
      "display_name": "Python 3"
    }
  },
  "cells": [
    {
      "cell_type": "markdown",
      "metadata": {
        "id": "view-in-github",
        "colab_type": "text"
      },
      "source": [
        "<a href=\"https://colab.research.google.com/github/VinuthaGovindappa/PythonInColaboratory/blob/master/Python_Day2_Training.ipynb\" target=\"_parent\"><img src=\"https://colab.research.google.com/assets/colab-badge.svg\" alt=\"Open In Colab\"/></a>"
      ]
    },
    {
      "cell_type": "code",
      "metadata": {
        "id": "wHs7V4YEfcjG",
        "colab_type": "code",
        "colab": {
          "base_uri": "https://localhost:8080/",
          "height": 69
        },
        "outputId": "e0d199e7-b8c9-4903-a3b0-baa1955779ee"
      },
      "source": [
        "# For Loops \n",
        "\n",
        "rad_angles = []\n",
        "\n",
        "for a in [30, 60, 90]:\n",
        "#   Calculate radian with given degree\n",
        "  rad_angles = a * (22 / 7 / 180)\n",
        "  print(rad_angles)"
      ],
      "execution_count": 6,
      "outputs": [
        {
          "output_type": "stream",
          "text": [
            "0.5238095238095238\n",
            "1.0476190476190477\n",
            "1.5714285714285714\n"
          ],
          "name": "stdout"
        }
      ]
    },
    {
      "cell_type": "code",
      "metadata": {
        "id": "KF8VN9HpgIV2",
        "colab_type": "code",
        "colab": {
          "base_uri": "https://localhost:8080/",
          "height": 69
        },
        "outputId": "fb54d402-89a1-459e-c874-42989f8f643f"
      },
      "source": [
        "# print Qudrant 2 degree's\n",
        "\n",
        "q2_angles = []\n",
        "for a in [90, 120, 180]:\n",
        "  #   Calculate radian with given degree\n",
        "  q2_angles = a * (22 / 7 / 180)\n",
        "  print(q2_angles)"
      ],
      "execution_count": 9,
      "outputs": [
        {
          "output_type": "stream",
          "text": [
            "1.5714285714285714\n",
            "2.0952380952380953\n",
            "3.142857142857143\n"
          ],
          "name": "stdout"
        }
      ]
    }
  ]
}