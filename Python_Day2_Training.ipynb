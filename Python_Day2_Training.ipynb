{
  "nbformat": 4,
  "nbformat_minor": 0,
  "metadata": {
    "colab": {
      "name": "Python Day2 Training.ipynb",
      "version": "0.3.2",
      "provenance": [],
      "collapsed_sections": [],
      "include_colab_link": true
    },
    "kernelspec": {
      "name": "python3",
      "display_name": "Python 3"
    }
  },
  "cells": [
    {
      "cell_type": "markdown",
      "metadata": {
        "id": "view-in-github",
        "colab_type": "text"
      },
      "source": [
        "<a href=\"https://colab.research.google.com/github/VinuthaGovindappa/PythonInColaboratory/blob/master/Python_Day2_Training.ipynb\" target=\"_parent\"><img src=\"https://colab.research.google.com/assets/colab-badge.svg\" alt=\"Open In Colab\"/></a>"
      ]
    },
    {
      "cell_type": "code",
      "metadata": {
        "id": "wHs7V4YEfcjG",
        "colab_type": "code",
        "outputId": "e0d199e7-b8c9-4903-a3b0-baa1955779ee",
        "colab": {
          "base_uri": "https://localhost:8080/",
          "height": 69
        }
      },
      "source": [
        "# For Loops \n",
        "\n",
        "rad_angles = []\n",
        "\n",
        "for a in [30, 60, 90]:\n",
        "#   Calculate radian with given degree\n",
        "  rad_angles = a * (22 / 7 / 180)\n",
        "  print(rad_angles)\n",
        "  \n",
        "#   rad_angles.append(r)"
      ],
      "execution_count": 0,
      "outputs": [
        {
          "output_type": "stream",
          "text": [
            "0.5238095238095238\n",
            "1.0476190476190477\n",
            "1.5714285714285714\n"
          ],
          "name": "stdout"
        }
      ]
    },
    {
      "cell_type": "code",
      "metadata": {
        "id": "KF8VN9HpgIV2",
        "colab_type": "code",
        "outputId": "d5f6fa8a-fddf-40b5-a0db-831c44faa189",
        "colab": {
          "base_uri": "https://localhost:8080/",
          "height": 131
        }
      },
      "source": [
        "# print Qudrant 2 degree's\n",
        "\n",
        "# q2_angles = []\n",
        "# for a in [30, 60, 90, 120, 180]:\n",
        "#   #   Calculate radian with given degree\n",
        "#   q2_angles = a * (22 / 7 / 180)\n",
        "#   print(q2_angles)\n",
        "  \n",
        "q2_angles = [] \n",
        "\n",
        "for a in [30, 60, 90, 120, 180]:\n",
        "  if((a>=90) & (a<180)):\n",
        "    q2_angles.append(a)\n",
        "    \n",
        "print(q2_angles)\n",
        "    "
      ],
      "execution_count": 0,
      "outputs": [
        {
          "output_type": "error",
          "ename": "IndentationError",
          "evalue": "ignored",
          "traceback": [
            "\u001b[0;36m  File \u001b[0;32m\"<ipython-input-24-b740910a93ec>\"\u001b[0;36m, line \u001b[0;32m5\u001b[0m\n\u001b[0;31m    if((a>=90) & (a<180)):\u001b[0m\n\u001b[0m     ^\u001b[0m\n\u001b[0;31mIndentationError\u001b[0m\u001b[0;31m:\u001b[0m expected an indented block\n"
          ]
        }
      ]
    },
    {
      "cell_type": "markdown",
      "metadata": {
        "id": "_Rxd5DDeoDLJ",
        "colab_type": "text"
      },
      "source": [
        "Numpy\n"
      ]
    },
    {
      "cell_type": "code",
      "metadata": {
        "id": "yAS3h_JEoHxG",
        "colab_type": "code",
        "outputId": "863d8c56-c46d-4245-df27-1bad3334ca27",
        "colab": {
          "base_uri": "https://localhost:8080/",
          "height": 173
        }
      },
      "source": [
        "# numpy array\n",
        "\n",
        "import numpy as np\n",
        "\n",
        "# one D array\n",
        "# 2 D array\n",
        "# Zero matrix\n",
        "# crate identical matrix\n",
        "\n",
        "a = np.array([1, 2, 3])  \n",
        "b = np.array([[1, 2, 3], [4, 5, 6]], dtype=float)\n",
        "c = np.zeros((3, 4))\n",
        "d = np.eye(3)\n",
        "\n",
        "print(a)\n",
        "print(b)\n",
        "print(c)\n",
        "print(d)"
      ],
      "execution_count": 0,
      "outputs": [
        {
          "output_type": "stream",
          "text": [
            "[1 2 3]\n",
            "[[1 2 3]\n",
            " [4 5 6]]\n",
            "[[0. 0. 0. 0.]\n",
            " [0. 0. 0. 0.]\n",
            " [0. 0. 0. 0.]]\n",
            "[[1. 0. 0.]\n",
            " [0. 1. 0.]\n",
            " [0. 0. 1.]]\n"
          ],
          "name": "stdout"
        }
      ]
    },
    {
      "cell_type": "code",
      "metadata": {
        "id": "8f9cpe7rrX3C",
        "colab_type": "code",
        "outputId": "0ce75956-bd95-4225-a359-90fda371b7f3",
        "colab": {
          "base_uri": "https://localhost:8080/",
          "height": 121
        }
      },
      "source": [
        "# Basic inspecting operations\n",
        "\n",
        "# shape, len, ndim, size, dtype\n",
        "\n",
        "print(b.shape)\n",
        "print(len(a))\n",
        "print(b.ndim)\n",
        "print(b.size)\n",
        "print(b.dtype)\n",
        "\n",
        "b = b.astype(int)\n",
        "b.dtype\n",
        "\n"
      ],
      "execution_count": 0,
      "outputs": [
        {
          "output_type": "stream",
          "text": [
            "(2, 3)\n",
            "3\n",
            "2\n",
            "6\n",
            "int64\n"
          ],
          "name": "stdout"
        },
        {
          "output_type": "execute_result",
          "data": {
            "text/plain": [
              "dtype('int64')"
            ]
          },
          "metadata": {
            "tags": []
          },
          "execution_count": 31
        }
      ]
    },
    {
      "cell_type": "code",
      "metadata": {
        "id": "ASm8X0mKsjp4",
        "colab_type": "code",
        "outputId": "46165ce4-65d5-4764-bac7-b89df5f4edad",
        "colab": {
          "base_uri": "https://localhost:8080/",
          "height": 1439
        }
      },
      "source": [
        "# Student Activity\n",
        "\n",
        "from sklearn import datasets\n",
        "iris = datasets.load_iris()\n",
        "\n",
        "x = iris.data\n",
        "\n",
        "# print(x)\n",
        "\n",
        "# 1. print shape and dimension of this array x\n",
        "\n",
        "print(x.shape)\n",
        "\n",
        "# print(x)\n",
        "\n",
        "# 2. Sub-array with only petal data and measurements from (100 to 140 rows)\n",
        "print(x[100:140, 2:4 ])\n",
        "\n",
        "# 3. assign Sub-array to Xsub and print cellblock\n",
        "\n",
        "Xsub = x[100:140, 2:4]\n",
        "\n",
        "print(Xsub)\n",
        "\n",
        "# 4. print explcitly shape of Xsub\n",
        "\n",
        "print(Xsub.shape)\n",
        "\n",
        "\n"
      ],
      "execution_count": 0,
      "outputs": [
        {
          "output_type": "stream",
          "text": [
            "(150, 4)\n",
            "[[6.  2.5]\n",
            " [5.1 1.9]\n",
            " [5.9 2.1]\n",
            " [5.6 1.8]\n",
            " [5.8 2.2]\n",
            " [6.6 2.1]\n",
            " [4.5 1.7]\n",
            " [6.3 1.8]\n",
            " [5.8 1.8]\n",
            " [6.1 2.5]\n",
            " [5.1 2. ]\n",
            " [5.3 1.9]\n",
            " [5.5 2.1]\n",
            " [5.  2. ]\n",
            " [5.1 2.4]\n",
            " [5.3 2.3]\n",
            " [5.5 1.8]\n",
            " [6.7 2.2]\n",
            " [6.9 2.3]\n",
            " [5.  1.5]\n",
            " [5.7 2.3]\n",
            " [4.9 2. ]\n",
            " [6.7 2. ]\n",
            " [4.9 1.8]\n",
            " [5.7 2.1]\n",
            " [6.  1.8]\n",
            " [4.8 1.8]\n",
            " [4.9 1.8]\n",
            " [5.6 2.1]\n",
            " [5.8 1.6]\n",
            " [6.1 1.9]\n",
            " [6.4 2. ]\n",
            " [5.6 2.2]\n",
            " [5.1 1.5]\n",
            " [5.6 1.4]\n",
            " [6.1 2.3]\n",
            " [5.6 2.4]\n",
            " [5.5 1.8]\n",
            " [4.8 1.8]\n",
            " [5.4 2.1]]\n",
            "[[6.  2.5]\n",
            " [5.1 1.9]\n",
            " [5.9 2.1]\n",
            " [5.6 1.8]\n",
            " [5.8 2.2]\n",
            " [6.6 2.1]\n",
            " [4.5 1.7]\n",
            " [6.3 1.8]\n",
            " [5.8 1.8]\n",
            " [6.1 2.5]\n",
            " [5.1 2. ]\n",
            " [5.3 1.9]\n",
            " [5.5 2.1]\n",
            " [5.  2. ]\n",
            " [5.1 2.4]\n",
            " [5.3 2.3]\n",
            " [5.5 1.8]\n",
            " [6.7 2.2]\n",
            " [6.9 2.3]\n",
            " [5.  1.5]\n",
            " [5.7 2.3]\n",
            " [4.9 2. ]\n",
            " [6.7 2. ]\n",
            " [4.9 1.8]\n",
            " [5.7 2.1]\n",
            " [6.  1.8]\n",
            " [4.8 1.8]\n",
            " [4.9 1.8]\n",
            " [5.6 2.1]\n",
            " [5.8 1.6]\n",
            " [6.1 1.9]\n",
            " [6.4 2. ]\n",
            " [5.6 2.2]\n",
            " [5.1 1.5]\n",
            " [5.6 1.4]\n",
            " [6.1 2.3]\n",
            " [5.6 2.4]\n",
            " [5.5 1.8]\n",
            " [4.8 1.8]\n",
            " [5.4 2.1]]\n",
            "(40, 2)\n"
          ],
          "name": "stdout"
        }
      ]
    },
    {
      "cell_type": "code",
      "metadata": {
        "id": "HZnZWSvE4kWY",
        "colab_type": "code",
        "outputId": "dfad5792-5b53-411e-dbc2-9403145c1492",
        "colab": {
          "resources": {
            "http://localhost:8080/nbextensions/google.colab/files.js": {
              "data": "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",
              "ok": true,
              "headers": [
                [
                  "content-type",
                  "application/javascript"
                ]
              ],
              "status": 200,
              "status_text": ""
            }
          },
          "base_uri": "https://localhost:8080/",
          "height": 75
        }
      },
      "source": [
        "\n",
        "# Upload file to colab \n",
        "# \n",
        "from google.colab import files\n",
        "uploaded = files.upload()\n",
        "\n"
      ],
      "execution_count": 0,
      "outputs": [
        {
          "output_type": "display_data",
          "data": {
            "text/html": [
              "\n",
              "     <input type=\"file\" id=\"files-7fd555ed-a367-4fd9-808f-512cfb5ff8d2\" name=\"files[]\" multiple disabled />\n",
              "     <output id=\"result-7fd555ed-a367-4fd9-808f-512cfb5ff8d2\">\n",
              "      Upload widget is only available when the cell has been executed in the\n",
              "      current browser session. Please rerun this cell to enable.\n",
              "      </output>\n",
              "      <script src=\"/nbextensions/google.colab/files.js\"></script> "
            ],
            "text/plain": [
              "<IPython.core.display.HTML object>"
            ]
          },
          "metadata": {
            "tags": []
          }
        },
        {
          "output_type": "stream",
          "text": [
            "Saving matches.csv to matches.csv\n"
          ],
          "name": "stdout"
        }
      ]
    },
    {
      "cell_type": "code",
      "metadata": {
        "id": "G7I13QNq1f-L",
        "colab_type": "code",
        "outputId": "38f53e8c-fc94-41a5-ee25-d85d4d71a515",
        "colab": {
          "base_uri": "https://localhost:8080/",
          "height": 369
        }
      },
      "source": [
        "# Pandas DataFrame\n",
        "# help tabular data \"Python data analysis Library\"\n",
        "\n",
        "# read data from matches.csv from data folder\n",
        "#\n",
        "\n",
        "import pandas as pd\n",
        "\n",
        "df = pd.read_csv('matches.csv')\n",
        "\n",
        "print(df.shape)\n",
        "print(df.columns)\n",
        "print(list(df.index)[:10])\n",
        "df.head()\n",
        "df.head(2)\n",
        "df.tail(3)"
      ],
      "execution_count": 0,
      "outputs": [
        {
          "output_type": "stream",
          "text": [
            "(577, 18)\n",
            "Index(['id', 'season', 'city', 'date', 'team1', 'team2', 'toss_winner',\n",
            "       'toss_decision', 'result', 'dl_applied', 'winner', 'win_by_runs',\n",
            "       'win_by_wickets', 'player_of_match', 'venue', 'umpire1', 'umpire2',\n",
            "       'umpire3'],\n",
            "      dtype='object')\n",
            "[0, 1, 2, 3, 4, 5, 6, 7, 8, 9]\n"
          ],
          "name": "stdout"
        },
        {
          "output_type": "execute_result",
          "data": {
            "text/html": [
              "<div>\n",
              "<style scoped>\n",
              "    .dataframe tbody tr th:only-of-type {\n",
              "        vertical-align: middle;\n",
              "    }\n",
              "\n",
              "    .dataframe tbody tr th {\n",
              "        vertical-align: top;\n",
              "    }\n",
              "\n",
              "    .dataframe thead th {\n",
              "        text-align: right;\n",
              "    }\n",
              "</style>\n",
              "<table border=\"1\" class=\"dataframe\">\n",
              "  <thead>\n",
              "    <tr style=\"text-align: right;\">\n",
              "      <th></th>\n",
              "      <th>id</th>\n",
              "      <th>season</th>\n",
              "      <th>city</th>\n",
              "      <th>date</th>\n",
              "      <th>team1</th>\n",
              "      <th>team2</th>\n",
              "      <th>toss_winner</th>\n",
              "      <th>toss_decision</th>\n",
              "      <th>result</th>\n",
              "      <th>dl_applied</th>\n",
              "      <th>winner</th>\n",
              "      <th>win_by_runs</th>\n",
              "      <th>win_by_wickets</th>\n",
              "      <th>player_of_match</th>\n",
              "      <th>venue</th>\n",
              "      <th>umpire1</th>\n",
              "      <th>umpire2</th>\n",
              "      <th>umpire3</th>\n",
              "    </tr>\n",
              "  </thead>\n",
              "  <tbody>\n",
              "    <tr>\n",
              "      <th>574</th>\n",
              "      <td>575</td>\n",
              "      <td>2016</td>\n",
              "      <td>Delhi</td>\n",
              "      <td>2016-05-25</td>\n",
              "      <td>Sunrisers Hyderabad</td>\n",
              "      <td>Kolkata Knight Riders</td>\n",
              "      <td>Kolkata Knight Riders</td>\n",
              "      <td>field</td>\n",
              "      <td>normal</td>\n",
              "      <td>0</td>\n",
              "      <td>Sunrisers Hyderabad</td>\n",
              "      <td>22</td>\n",
              "      <td>0</td>\n",
              "      <td>MC Henriques</td>\n",
              "      <td>Feroz Shah Kotla</td>\n",
              "      <td>M Erasmus</td>\n",
              "      <td>C Shamshuddin</td>\n",
              "      <td>NaN</td>\n",
              "    </tr>\n",
              "    <tr>\n",
              "      <th>575</th>\n",
              "      <td>576</td>\n",
              "      <td>2016</td>\n",
              "      <td>Delhi</td>\n",
              "      <td>2016-05-27</td>\n",
              "      <td>Gujarat Lions</td>\n",
              "      <td>Sunrisers Hyderabad</td>\n",
              "      <td>Sunrisers Hyderabad</td>\n",
              "      <td>field</td>\n",
              "      <td>normal</td>\n",
              "      <td>0</td>\n",
              "      <td>Sunrisers Hyderabad</td>\n",
              "      <td>0</td>\n",
              "      <td>4</td>\n",
              "      <td>DA Warner</td>\n",
              "      <td>Feroz Shah Kotla</td>\n",
              "      <td>M Erasmus</td>\n",
              "      <td>CK Nandan</td>\n",
              "      <td>NaN</td>\n",
              "    </tr>\n",
              "    <tr>\n",
              "      <th>576</th>\n",
              "      <td>577</td>\n",
              "      <td>2016</td>\n",
              "      <td>Bangalore</td>\n",
              "      <td>2016-05-29</td>\n",
              "      <td>Sunrisers Hyderabad</td>\n",
              "      <td>Royal Challengers Bangalore</td>\n",
              "      <td>Sunrisers Hyderabad</td>\n",
              "      <td>bat</td>\n",
              "      <td>normal</td>\n",
              "      <td>0</td>\n",
              "      <td>Sunrisers Hyderabad</td>\n",
              "      <td>8</td>\n",
              "      <td>0</td>\n",
              "      <td>BCJ Cutting</td>\n",
              "      <td>M Chinnaswamy Stadium</td>\n",
              "      <td>HDPK Dharmasena</td>\n",
              "      <td>BNJ Oxenford</td>\n",
              "      <td>NaN</td>\n",
              "    </tr>\n",
              "  </tbody>\n",
              "</table>\n",
              "</div>"
            ],
            "text/plain": [
              "      id  season       city        date                team1  \\\n",
              "574  575    2016      Delhi  2016-05-25  Sunrisers Hyderabad   \n",
              "575  576    2016      Delhi  2016-05-27        Gujarat Lions   \n",
              "576  577    2016  Bangalore  2016-05-29  Sunrisers Hyderabad   \n",
              "\n",
              "                           team2            toss_winner toss_decision  result  \\\n",
              "574        Kolkata Knight Riders  Kolkata Knight Riders         field  normal   \n",
              "575          Sunrisers Hyderabad    Sunrisers Hyderabad         field  normal   \n",
              "576  Royal Challengers Bangalore    Sunrisers Hyderabad           bat  normal   \n",
              "\n",
              "     dl_applied               winner  win_by_runs  win_by_wickets  \\\n",
              "574           0  Sunrisers Hyderabad           22               0   \n",
              "575           0  Sunrisers Hyderabad            0               4   \n",
              "576           0  Sunrisers Hyderabad            8               0   \n",
              "\n",
              "    player_of_match                  venue          umpire1        umpire2  \\\n",
              "574    MC Henriques       Feroz Shah Kotla        M Erasmus  C Shamshuddin   \n",
              "575       DA Warner       Feroz Shah Kotla        M Erasmus      CK Nandan   \n",
              "576     BCJ Cutting  M Chinnaswamy Stadium  HDPK Dharmasena   BNJ Oxenford   \n",
              "\n",
              "     umpire3  \n",
              "574      NaN  \n",
              "575      NaN  \n",
              "576      NaN  "
            ]
          },
          "metadata": {
            "tags": []
          },
          "execution_count": 69
        }
      ]
    },
    {
      "cell_type": "code",
      "metadata": {
        "id": "fYCkoR1j6XVT",
        "colab_type": "code",
        "outputId": "c3e84b5b-82a8-4c80-9412-50e8e6c56a8c",
        "colab": {
          "base_uri": "https://localhost:8080/",
          "height": 35
        }
      },
      "source": [
        "# Subsetting DataFrames\n",
        "\n",
        "# Only Bangalore games\n",
        "# Subset data frame where city is bangalore\n",
        "\n",
        "df[df['city']=='Bangalore']\n",
        "\n",
        "# on above subset get only winners\n",
        "df[df['city']=='Bangalore']['winner']\n",
        "\n",
        "# use isin function to subset season is 2008,2015\n",
        "df[df['season'].isin([2008,2015])]\n",
        "\n",
        "# get only season and toss_winner from above subset\n",
        "df[df['season'].isin([2008,2015])][['season','toss_winner']]\n",
        "\n",
        "# use valuse_counts for winners\n",
        "\n",
        "df['winner'].value_counts()\n",
        "\n",
        "# use isnull().sum() get total of NAs\n",
        "\n",
        "df['winner'].isnull().sum()\n"
      ],
      "execution_count": 0,
      "outputs": [
        {
          "output_type": "execute_result",
          "data": {
            "text/plain": [
              "3"
            ]
          },
          "metadata": {
            "tags": []
          },
          "execution_count": 83
        }
      ]
    },
    {
      "cell_type": "code",
      "metadata": {
        "id": "GwWta9WzCKg7",
        "colab_type": "code",
        "outputId": "10ce0362-a473-4fca-c2c0-c2c505511567",
        "colab": {
          "base_uri": "https://localhost:8080/",
          "height": 4270
        }
      },
      "source": [
        "# index, ix, loc, iloc\n",
        "# ix id depricated \n",
        "\n",
        "df.reset_index(inplace=True)\n",
        "df.set_index('season',inplace=True)\n",
        "\n",
        "df.iloc[0:10]\n",
        "df.loc['2008']"
      ],
      "execution_count": 0,
      "outputs": [
        {
          "output_type": "execute_result",
          "data": {
            "text/html": [
              "<div>\n",
              "<style scoped>\n",
              "    .dataframe tbody tr th:only-of-type {\n",
              "        vertical-align: middle;\n",
              "    }\n",
              "\n",
              "    .dataframe tbody tr th {\n",
              "        vertical-align: top;\n",
              "    }\n",
              "\n",
              "    .dataframe thead th {\n",
              "        text-align: right;\n",
              "    }\n",
              "</style>\n",
              "<table border=\"1\" class=\"dataframe\">\n",
              "  <thead>\n",
              "    <tr style=\"text-align: right;\">\n",
              "      <th></th>\n",
              "      <th>date</th>\n",
              "      <th>level_0</th>\n",
              "      <th>index</th>\n",
              "      <th>id</th>\n",
              "      <th>city</th>\n",
              "      <th>team1</th>\n",
              "      <th>team2</th>\n",
              "      <th>toss_winner</th>\n",
              "      <th>toss_decision</th>\n",
              "      <th>result</th>\n",
              "      <th>dl_applied</th>\n",
              "      <th>winner</th>\n",
              "      <th>win_by_runs</th>\n",
              "      <th>win_by_wickets</th>\n",
              "      <th>player_of_match</th>\n",
              "      <th>venue</th>\n",
              "      <th>umpire1</th>\n",
              "      <th>umpire2</th>\n",
              "      <th>umpire3</th>\n",
              "    </tr>\n",
              "    <tr>\n",
              "      <th>season</th>\n",
              "      <th></th>\n",
              "      <th></th>\n",
              "      <th></th>\n",
              "      <th></th>\n",
              "      <th></th>\n",
              "      <th></th>\n",
              "      <th></th>\n",
              "      <th></th>\n",
              "      <th></th>\n",
              "      <th></th>\n",
              "      <th></th>\n",
              "      <th></th>\n",
              "      <th></th>\n",
              "      <th></th>\n",
              "      <th></th>\n",
              "      <th></th>\n",
              "      <th></th>\n",
              "      <th></th>\n",
              "      <th></th>\n",
              "    </tr>\n",
              "  </thead>\n",
              "  <tbody>\n",
              "    <tr>\n",
              "      <th>2008</th>\n",
              "      <td>2008-04-18</td>\n",
              "      <td>0</td>\n",
              "      <td>0</td>\n",
              "      <td>1</td>\n",
              "      <td>Bangalore</td>\n",
              "      <td>Kolkata Knight Riders</td>\n",
              "      <td>Royal Challengers Bangalore</td>\n",
              "      <td>Royal Challengers Bangalore</td>\n",
              "      <td>field</td>\n",
              "      <td>normal</td>\n",
              "      <td>0</td>\n",
              "      <td>Kolkata Knight Riders</td>\n",
              "      <td>140</td>\n",
              "      <td>0</td>\n",
              "      <td>BB McCullum</td>\n",
              "      <td>M Chinnaswamy Stadium</td>\n",
              "      <td>Asad Rauf</td>\n",
              "      <td>RE Koertzen</td>\n",
              "      <td>NaN</td>\n",
              "    </tr>\n",
              "    <tr>\n",
              "      <th>2008</th>\n",
              "      <td>2008-04-19</td>\n",
              "      <td>1</td>\n",
              "      <td>1</td>\n",
              "      <td>2</td>\n",
              "      <td>Chandigarh</td>\n",
              "      <td>Chennai Super Kings</td>\n",
              "      <td>Kings XI Punjab</td>\n",
              "      <td>Chennai Super Kings</td>\n",
              "      <td>bat</td>\n",
              "      <td>normal</td>\n",
              "      <td>0</td>\n",
              "      <td>Chennai Super Kings</td>\n",
              "      <td>33</td>\n",
              "      <td>0</td>\n",
              "      <td>MEK Hussey</td>\n",
              "      <td>Punjab Cricket Association Stadium, Mohali</td>\n",
              "      <td>MR Benson</td>\n",
              "      <td>SL Shastri</td>\n",
              "      <td>NaN</td>\n",
              "    </tr>\n",
              "    <tr>\n",
              "      <th>2008</th>\n",
              "      <td>2008-04-19</td>\n",
              "      <td>2</td>\n",
              "      <td>2</td>\n",
              "      <td>3</td>\n",
              "      <td>Delhi</td>\n",
              "      <td>Rajasthan Royals</td>\n",
              "      <td>Delhi Daredevils</td>\n",
              "      <td>Rajasthan Royals</td>\n",
              "      <td>bat</td>\n",
              "      <td>normal</td>\n",
              "      <td>0</td>\n",
              "      <td>Delhi Daredevils</td>\n",
              "      <td>0</td>\n",
              "      <td>9</td>\n",
              "      <td>MF Maharoof</td>\n",
              "      <td>Feroz Shah Kotla</td>\n",
              "      <td>Aleem Dar</td>\n",
              "      <td>GA Pratapkumar</td>\n",
              "      <td>NaN</td>\n",
              "    </tr>\n",
              "    <tr>\n",
              "      <th>2008</th>\n",
              "      <td>2008-04-20</td>\n",
              "      <td>3</td>\n",
              "      <td>3</td>\n",
              "      <td>4</td>\n",
              "      <td>Mumbai</td>\n",
              "      <td>Mumbai Indians</td>\n",
              "      <td>Royal Challengers Bangalore</td>\n",
              "      <td>Mumbai Indians</td>\n",
              "      <td>bat</td>\n",
              "      <td>normal</td>\n",
              "      <td>0</td>\n",
              "      <td>Royal Challengers Bangalore</td>\n",
              "      <td>0</td>\n",
              "      <td>5</td>\n",
              "      <td>MV Boucher</td>\n",
              "      <td>Wankhede Stadium</td>\n",
              "      <td>SJ Davis</td>\n",
              "      <td>DJ Harper</td>\n",
              "      <td>NaN</td>\n",
              "    </tr>\n",
              "    <tr>\n",
              "      <th>2008</th>\n",
              "      <td>2008-04-20</td>\n",
              "      <td>4</td>\n",
              "      <td>4</td>\n",
              "      <td>5</td>\n",
              "      <td>Kolkata</td>\n",
              "      <td>Deccan Chargers</td>\n",
              "      <td>Kolkata Knight Riders</td>\n",
              "      <td>Deccan Chargers</td>\n",
              "      <td>bat</td>\n",
              "      <td>normal</td>\n",
              "      <td>0</td>\n",
              "      <td>Kolkata Knight Riders</td>\n",
              "      <td>0</td>\n",
              "      <td>5</td>\n",
              "      <td>DJ Hussey</td>\n",
              "      <td>Eden Gardens</td>\n",
              "      <td>BF Bowden</td>\n",
              "      <td>K Hariharan</td>\n",
              "      <td>NaN</td>\n",
              "    </tr>\n",
              "    <tr>\n",
              "      <th>2008</th>\n",
              "      <td>2008-04-21</td>\n",
              "      <td>5</td>\n",
              "      <td>5</td>\n",
              "      <td>6</td>\n",
              "      <td>Jaipur</td>\n",
              "      <td>Kings XI Punjab</td>\n",
              "      <td>Rajasthan Royals</td>\n",
              "      <td>Kings XI Punjab</td>\n",
              "      <td>bat</td>\n",
              "      <td>normal</td>\n",
              "      <td>0</td>\n",
              "      <td>Rajasthan Royals</td>\n",
              "      <td>0</td>\n",
              "      <td>6</td>\n",
              "      <td>SR Watson</td>\n",
              "      <td>Sawai Mansingh Stadium</td>\n",
              "      <td>Aleem Dar</td>\n",
              "      <td>RB Tiffin</td>\n",
              "      <td>NaN</td>\n",
              "    </tr>\n",
              "    <tr>\n",
              "      <th>2008</th>\n",
              "      <td>2008-04-22</td>\n",
              "      <td>6</td>\n",
              "      <td>6</td>\n",
              "      <td>7</td>\n",
              "      <td>Hyderabad</td>\n",
              "      <td>Deccan Chargers</td>\n",
              "      <td>Delhi Daredevils</td>\n",
              "      <td>Deccan Chargers</td>\n",
              "      <td>bat</td>\n",
              "      <td>normal</td>\n",
              "      <td>0</td>\n",
              "      <td>Delhi Daredevils</td>\n",
              "      <td>0</td>\n",
              "      <td>9</td>\n",
              "      <td>V Sehwag</td>\n",
              "      <td>Rajiv Gandhi International Stadium, Uppal</td>\n",
              "      <td>IL Howell</td>\n",
              "      <td>AM Saheba</td>\n",
              "      <td>NaN</td>\n",
              "    </tr>\n",
              "    <tr>\n",
              "      <th>2008</th>\n",
              "      <td>2008-04-23</td>\n",
              "      <td>7</td>\n",
              "      <td>7</td>\n",
              "      <td>8</td>\n",
              "      <td>Chennai</td>\n",
              "      <td>Chennai Super Kings</td>\n",
              "      <td>Mumbai Indians</td>\n",
              "      <td>Mumbai Indians</td>\n",
              "      <td>field</td>\n",
              "      <td>normal</td>\n",
              "      <td>0</td>\n",
              "      <td>Chennai Super Kings</td>\n",
              "      <td>6</td>\n",
              "      <td>0</td>\n",
              "      <td>ML Hayden</td>\n",
              "      <td>MA Chidambaram Stadium, Chepauk</td>\n",
              "      <td>DJ Harper</td>\n",
              "      <td>GA Pratapkumar</td>\n",
              "      <td>NaN</td>\n",
              "    </tr>\n",
              "    <tr>\n",
              "      <th>2008</th>\n",
              "      <td>2008-04-24</td>\n",
              "      <td>8</td>\n",
              "      <td>8</td>\n",
              "      <td>9</td>\n",
              "      <td>Hyderabad</td>\n",
              "      <td>Deccan Chargers</td>\n",
              "      <td>Rajasthan Royals</td>\n",
              "      <td>Rajasthan Royals</td>\n",
              "      <td>field</td>\n",
              "      <td>normal</td>\n",
              "      <td>0</td>\n",
              "      <td>Rajasthan Royals</td>\n",
              "      <td>0</td>\n",
              "      <td>3</td>\n",
              "      <td>YK Pathan</td>\n",
              "      <td>Rajiv Gandhi International Stadium, Uppal</td>\n",
              "      <td>Asad Rauf</td>\n",
              "      <td>MR Benson</td>\n",
              "      <td>NaN</td>\n",
              "    </tr>\n",
              "    <tr>\n",
              "      <th>2008</th>\n",
              "      <td>2008-04-25</td>\n",
              "      <td>9</td>\n",
              "      <td>9</td>\n",
              "      <td>10</td>\n",
              "      <td>Chandigarh</td>\n",
              "      <td>Kings XI Punjab</td>\n",
              "      <td>Mumbai Indians</td>\n",
              "      <td>Mumbai Indians</td>\n",
              "      <td>field</td>\n",
              "      <td>normal</td>\n",
              "      <td>0</td>\n",
              "      <td>Kings XI Punjab</td>\n",
              "      <td>66</td>\n",
              "      <td>0</td>\n",
              "      <td>KC Sangakkara</td>\n",
              "      <td>Punjab Cricket Association Stadium, Mohali</td>\n",
              "      <td>Aleem Dar</td>\n",
              "      <td>AM Saheba</td>\n",
              "      <td>NaN</td>\n",
              "    </tr>\n",
              "    <tr>\n",
              "      <th>2008</th>\n",
              "      <td>2008-04-26</td>\n",
              "      <td>10</td>\n",
              "      <td>10</td>\n",
              "      <td>11</td>\n",
              "      <td>Bangalore</td>\n",
              "      <td>Royal Challengers Bangalore</td>\n",
              "      <td>Rajasthan Royals</td>\n",
              "      <td>Rajasthan Royals</td>\n",
              "      <td>field</td>\n",
              "      <td>normal</td>\n",
              "      <td>0</td>\n",
              "      <td>Rajasthan Royals</td>\n",
              "      <td>0</td>\n",
              "      <td>7</td>\n",
              "      <td>SR Watson</td>\n",
              "      <td>M Chinnaswamy Stadium</td>\n",
              "      <td>MR Benson</td>\n",
              "      <td>IL Howell</td>\n",
              "      <td>NaN</td>\n",
              "    </tr>\n",
              "    <tr>\n",
              "      <th>2008</th>\n",
              "      <td>2008-04-26</td>\n",
              "      <td>11</td>\n",
              "      <td>11</td>\n",
              "      <td>12</td>\n",
              "      <td>Chennai</td>\n",
              "      <td>Kolkata Knight Riders</td>\n",
              "      <td>Chennai Super Kings</td>\n",
              "      <td>Kolkata Knight Riders</td>\n",
              "      <td>bat</td>\n",
              "      <td>normal</td>\n",
              "      <td>0</td>\n",
              "      <td>Chennai Super Kings</td>\n",
              "      <td>0</td>\n",
              "      <td>9</td>\n",
              "      <td>JDP Oram</td>\n",
              "      <td>MA Chidambaram Stadium, Chepauk</td>\n",
              "      <td>BF Bowden</td>\n",
              "      <td>AV Jayaprakash</td>\n",
              "      <td>NaN</td>\n",
              "    </tr>\n",
              "    <tr>\n",
              "      <th>2008</th>\n",
              "      <td>2008-04-27</td>\n",
              "      <td>12</td>\n",
              "      <td>12</td>\n",
              "      <td>13</td>\n",
              "      <td>Mumbai</td>\n",
              "      <td>Mumbai Indians</td>\n",
              "      <td>Deccan Chargers</td>\n",
              "      <td>Deccan Chargers</td>\n",
              "      <td>field</td>\n",
              "      <td>normal</td>\n",
              "      <td>0</td>\n",
              "      <td>Deccan Chargers</td>\n",
              "      <td>0</td>\n",
              "      <td>10</td>\n",
              "      <td>AC Gilchrist</td>\n",
              "      <td>Dr DY Patil Sports Academy</td>\n",
              "      <td>Asad Rauf</td>\n",
              "      <td>SL Shastri</td>\n",
              "      <td>NaN</td>\n",
              "    </tr>\n",
              "    <tr>\n",
              "      <th>2008</th>\n",
              "      <td>2008-04-27</td>\n",
              "      <td>13</td>\n",
              "      <td>13</td>\n",
              "      <td>14</td>\n",
              "      <td>Chandigarh</td>\n",
              "      <td>Delhi Daredevils</td>\n",
              "      <td>Kings XI Punjab</td>\n",
              "      <td>Delhi Daredevils</td>\n",
              "      <td>bat</td>\n",
              "      <td>normal</td>\n",
              "      <td>0</td>\n",
              "      <td>Kings XI Punjab</td>\n",
              "      <td>0</td>\n",
              "      <td>4</td>\n",
              "      <td>SM Katich</td>\n",
              "      <td>Punjab Cricket Association Stadium, Mohali</td>\n",
              "      <td>RE Koertzen</td>\n",
              "      <td>I Shivram</td>\n",
              "      <td>NaN</td>\n",
              "    </tr>\n",
              "    <tr>\n",
              "      <th>2008</th>\n",
              "      <td>2008-04-28</td>\n",
              "      <td>14</td>\n",
              "      <td>14</td>\n",
              "      <td>15</td>\n",
              "      <td>Bangalore</td>\n",
              "      <td>Chennai Super Kings</td>\n",
              "      <td>Royal Challengers Bangalore</td>\n",
              "      <td>Chennai Super Kings</td>\n",
              "      <td>bat</td>\n",
              "      <td>normal</td>\n",
              "      <td>0</td>\n",
              "      <td>Chennai Super Kings</td>\n",
              "      <td>13</td>\n",
              "      <td>0</td>\n",
              "      <td>MS Dhoni</td>\n",
              "      <td>M Chinnaswamy Stadium</td>\n",
              "      <td>BR Doctrove</td>\n",
              "      <td>RB Tiffin</td>\n",
              "      <td>NaN</td>\n",
              "    </tr>\n",
              "    <tr>\n",
              "      <th>2008</th>\n",
              "      <td>2008-04-29</td>\n",
              "      <td>15</td>\n",
              "      <td>15</td>\n",
              "      <td>16</td>\n",
              "      <td>Kolkata</td>\n",
              "      <td>Kolkata Knight Riders</td>\n",
              "      <td>Mumbai Indians</td>\n",
              "      <td>Kolkata Knight Riders</td>\n",
              "      <td>bat</td>\n",
              "      <td>normal</td>\n",
              "      <td>0</td>\n",
              "      <td>Mumbai Indians</td>\n",
              "      <td>0</td>\n",
              "      <td>7</td>\n",
              "      <td>ST Jayasuriya</td>\n",
              "      <td>Eden Gardens</td>\n",
              "      <td>BF Bowden</td>\n",
              "      <td>AV Jayaprakash</td>\n",
              "      <td>NaN</td>\n",
              "    </tr>\n",
              "    <tr>\n",
              "      <th>2008</th>\n",
              "      <td>2008-04-30</td>\n",
              "      <td>16</td>\n",
              "      <td>16</td>\n",
              "      <td>17</td>\n",
              "      <td>Delhi</td>\n",
              "      <td>Delhi Daredevils</td>\n",
              "      <td>Royal Challengers Bangalore</td>\n",
              "      <td>Royal Challengers Bangalore</td>\n",
              "      <td>field</td>\n",
              "      <td>normal</td>\n",
              "      <td>0</td>\n",
              "      <td>Delhi Daredevils</td>\n",
              "      <td>10</td>\n",
              "      <td>0</td>\n",
              "      <td>GD McGrath</td>\n",
              "      <td>Feroz Shah Kotla</td>\n",
              "      <td>Aleem Dar</td>\n",
              "      <td>I Shivram</td>\n",
              "      <td>NaN</td>\n",
              "    </tr>\n",
              "    <tr>\n",
              "      <th>2008</th>\n",
              "      <td>2008-05-01</td>\n",
              "      <td>17</td>\n",
              "      <td>17</td>\n",
              "      <td>18</td>\n",
              "      <td>Hyderabad</td>\n",
              "      <td>Deccan Chargers</td>\n",
              "      <td>Kings XI Punjab</td>\n",
              "      <td>Kings XI Punjab</td>\n",
              "      <td>field</td>\n",
              "      <td>normal</td>\n",
              "      <td>0</td>\n",
              "      <td>Kings XI Punjab</td>\n",
              "      <td>0</td>\n",
              "      <td>7</td>\n",
              "      <td>SE Marsh</td>\n",
              "      <td>Rajiv Gandhi International Stadium, Uppal</td>\n",
              "      <td>BR Doctrove</td>\n",
              "      <td>RB Tiffin</td>\n",
              "      <td>NaN</td>\n",
              "    </tr>\n",
              "    <tr>\n",
              "      <th>2008</th>\n",
              "      <td>2008-05-01</td>\n",
              "      <td>18</td>\n",
              "      <td>18</td>\n",
              "      <td>19</td>\n",
              "      <td>Jaipur</td>\n",
              "      <td>Rajasthan Royals</td>\n",
              "      <td>Kolkata Knight Riders</td>\n",
              "      <td>Rajasthan Royals</td>\n",
              "      <td>bat</td>\n",
              "      <td>normal</td>\n",
              "      <td>0</td>\n",
              "      <td>Rajasthan Royals</td>\n",
              "      <td>45</td>\n",
              "      <td>0</td>\n",
              "      <td>SA Asnodkar</td>\n",
              "      <td>Sawai Mansingh Stadium</td>\n",
              "      <td>RE Koertzen</td>\n",
              "      <td>GA Pratapkumar</td>\n",
              "      <td>NaN</td>\n",
              "    </tr>\n",
              "    <tr>\n",
              "      <th>2008</th>\n",
              "      <td>2008-05-02</td>\n",
              "      <td>19</td>\n",
              "      <td>19</td>\n",
              "      <td>20</td>\n",
              "      <td>Chennai</td>\n",
              "      <td>Chennai Super Kings</td>\n",
              "      <td>Delhi Daredevils</td>\n",
              "      <td>Chennai Super Kings</td>\n",
              "      <td>bat</td>\n",
              "      <td>normal</td>\n",
              "      <td>0</td>\n",
              "      <td>Delhi Daredevils</td>\n",
              "      <td>0</td>\n",
              "      <td>8</td>\n",
              "      <td>V Sehwag</td>\n",
              "      <td>MA Chidambaram Stadium, Chepauk</td>\n",
              "      <td>BF Bowden</td>\n",
              "      <td>K Hariharan</td>\n",
              "      <td>NaN</td>\n",
              "    </tr>\n",
              "    <tr>\n",
              "      <th>2008</th>\n",
              "      <td>2008-05-25</td>\n",
              "      <td>20</td>\n",
              "      <td>20</td>\n",
              "      <td>21</td>\n",
              "      <td>Hyderabad</td>\n",
              "      <td>Deccan Chargers</td>\n",
              "      <td>Royal Challengers Bangalore</td>\n",
              "      <td>Deccan Chargers</td>\n",
              "      <td>bat</td>\n",
              "      <td>normal</td>\n",
              "      <td>0</td>\n",
              "      <td>Royal Challengers Bangalore</td>\n",
              "      <td>0</td>\n",
              "      <td>5</td>\n",
              "      <td>R Vinay Kumar</td>\n",
              "      <td>Rajiv Gandhi International Stadium, Uppal</td>\n",
              "      <td>Asad Rauf</td>\n",
              "      <td>RE Koertzen</td>\n",
              "      <td>NaN</td>\n",
              "    </tr>\n",
              "    <tr>\n",
              "      <th>2008</th>\n",
              "      <td>2008-05-03</td>\n",
              "      <td>21</td>\n",
              "      <td>21</td>\n",
              "      <td>22</td>\n",
              "      <td>Chandigarh</td>\n",
              "      <td>Kings XI Punjab</td>\n",
              "      <td>Kolkata Knight Riders</td>\n",
              "      <td>Kings XI Punjab</td>\n",
              "      <td>bat</td>\n",
              "      <td>normal</td>\n",
              "      <td>0</td>\n",
              "      <td>Kings XI Punjab</td>\n",
              "      <td>9</td>\n",
              "      <td>0</td>\n",
              "      <td>IK Pathan</td>\n",
              "      <td>Punjab Cricket Association Stadium, Mohali</td>\n",
              "      <td>DJ Harper</td>\n",
              "      <td>I Shivram</td>\n",
              "      <td>NaN</td>\n",
              "    </tr>\n",
              "    <tr>\n",
              "      <th>2008</th>\n",
              "      <td>2008-05-04</td>\n",
              "      <td>22</td>\n",
              "      <td>22</td>\n",
              "      <td>23</td>\n",
              "      <td>Mumbai</td>\n",
              "      <td>Mumbai Indians</td>\n",
              "      <td>Delhi Daredevils</td>\n",
              "      <td>Delhi Daredevils</td>\n",
              "      <td>field</td>\n",
              "      <td>normal</td>\n",
              "      <td>0</td>\n",
              "      <td>Mumbai Indians</td>\n",
              "      <td>29</td>\n",
              "      <td>0</td>\n",
              "      <td>SM Pollock</td>\n",
              "      <td>Dr DY Patil Sports Academy</td>\n",
              "      <td>IL Howell</td>\n",
              "      <td>RE Koertzen</td>\n",
              "      <td>NaN</td>\n",
              "    </tr>\n",
              "    <tr>\n",
              "      <th>2008</th>\n",
              "      <td>2008-05-04</td>\n",
              "      <td>23</td>\n",
              "      <td>23</td>\n",
              "      <td>24</td>\n",
              "      <td>Jaipur</td>\n",
              "      <td>Chennai Super Kings</td>\n",
              "      <td>Rajasthan Royals</td>\n",
              "      <td>Chennai Super Kings</td>\n",
              "      <td>bat</td>\n",
              "      <td>normal</td>\n",
              "      <td>0</td>\n",
              "      <td>Rajasthan Royals</td>\n",
              "      <td>0</td>\n",
              "      <td>8</td>\n",
              "      <td>Sohail Tanvir</td>\n",
              "      <td>Sawai Mansingh Stadium</td>\n",
              "      <td>Asad Rauf</td>\n",
              "      <td>AV Jayaprakash</td>\n",
              "      <td>NaN</td>\n",
              "    </tr>\n",
              "    <tr>\n",
              "      <th>2008</th>\n",
              "      <td>2008-05-05</td>\n",
              "      <td>24</td>\n",
              "      <td>24</td>\n",
              "      <td>25</td>\n",
              "      <td>Bangalore</td>\n",
              "      <td>Royal Challengers Bangalore</td>\n",
              "      <td>Kings XI Punjab</td>\n",
              "      <td>Kings XI Punjab</td>\n",
              "      <td>field</td>\n",
              "      <td>normal</td>\n",
              "      <td>0</td>\n",
              "      <td>Kings XI Punjab</td>\n",
              "      <td>0</td>\n",
              "      <td>6</td>\n",
              "      <td>S Sreesanth</td>\n",
              "      <td>M Chinnaswamy Stadium</td>\n",
              "      <td>SJ Davis</td>\n",
              "      <td>BR Doctrove</td>\n",
              "      <td>NaN</td>\n",
              "    </tr>\n",
              "    <tr>\n",
              "      <th>2008</th>\n",
              "      <td>2008-05-06</td>\n",
              "      <td>25</td>\n",
              "      <td>25</td>\n",
              "      <td>26</td>\n",
              "      <td>Chennai</td>\n",
              "      <td>Chennai Super Kings</td>\n",
              "      <td>Deccan Chargers</td>\n",
              "      <td>Deccan Chargers</td>\n",
              "      <td>field</td>\n",
              "      <td>normal</td>\n",
              "      <td>0</td>\n",
              "      <td>Deccan Chargers</td>\n",
              "      <td>0</td>\n",
              "      <td>7</td>\n",
              "      <td>AC Gilchrist</td>\n",
              "      <td>MA Chidambaram Stadium, Chepauk</td>\n",
              "      <td>MR Benson</td>\n",
              "      <td>RB Tiffin</td>\n",
              "      <td>NaN</td>\n",
              "    </tr>\n",
              "    <tr>\n",
              "      <th>2008</th>\n",
              "      <td>2008-05-07</td>\n",
              "      <td>26</td>\n",
              "      <td>26</td>\n",
              "      <td>27</td>\n",
              "      <td>Mumbai</td>\n",
              "      <td>Rajasthan Royals</td>\n",
              "      <td>Mumbai Indians</td>\n",
              "      <td>Mumbai Indians</td>\n",
              "      <td>field</td>\n",
              "      <td>normal</td>\n",
              "      <td>0</td>\n",
              "      <td>Mumbai Indians</td>\n",
              "      <td>0</td>\n",
              "      <td>7</td>\n",
              "      <td>A Nehra</td>\n",
              "      <td>Dr DY Patil Sports Academy</td>\n",
              "      <td>DJ Harper</td>\n",
              "      <td>RE Koertzen</td>\n",
              "      <td>NaN</td>\n",
              "    </tr>\n",
              "    <tr>\n",
              "      <th>2008</th>\n",
              "      <td>2008-05-08</td>\n",
              "      <td>27</td>\n",
              "      <td>27</td>\n",
              "      <td>28</td>\n",
              "      <td>Delhi</td>\n",
              "      <td>Delhi Daredevils</td>\n",
              "      <td>Chennai Super Kings</td>\n",
              "      <td>Chennai Super Kings</td>\n",
              "      <td>field</td>\n",
              "      <td>normal</td>\n",
              "      <td>0</td>\n",
              "      <td>Chennai Super Kings</td>\n",
              "      <td>0</td>\n",
              "      <td>4</td>\n",
              "      <td>MS Dhoni</td>\n",
              "      <td>Feroz Shah Kotla</td>\n",
              "      <td>Aleem Dar</td>\n",
              "      <td>RB Tiffin</td>\n",
              "      <td>NaN</td>\n",
              "    </tr>\n",
              "    <tr>\n",
              "      <th>2008</th>\n",
              "      <td>2008-05-08</td>\n",
              "      <td>28</td>\n",
              "      <td>28</td>\n",
              "      <td>29</td>\n",
              "      <td>Kolkata</td>\n",
              "      <td>Kolkata Knight Riders</td>\n",
              "      <td>Royal Challengers Bangalore</td>\n",
              "      <td>Kolkata Knight Riders</td>\n",
              "      <td>bat</td>\n",
              "      <td>normal</td>\n",
              "      <td>0</td>\n",
              "      <td>Kolkata Knight Riders</td>\n",
              "      <td>5</td>\n",
              "      <td>0</td>\n",
              "      <td>SC Ganguly</td>\n",
              "      <td>Eden Gardens</td>\n",
              "      <td>Asad Rauf</td>\n",
              "      <td>IL Howell</td>\n",
              "      <td>NaN</td>\n",
              "    </tr>\n",
              "    <tr>\n",
              "      <th>2008</th>\n",
              "      <td>2008-05-09</td>\n",
              "      <td>29</td>\n",
              "      <td>29</td>\n",
              "      <td>30</td>\n",
              "      <td>Jaipur</td>\n",
              "      <td>Deccan Chargers</td>\n",
              "      <td>Rajasthan Royals</td>\n",
              "      <td>Rajasthan Royals</td>\n",
              "      <td>field</td>\n",
              "      <td>normal</td>\n",
              "      <td>0</td>\n",
              "      <td>Rajasthan Royals</td>\n",
              "      <td>0</td>\n",
              "      <td>8</td>\n",
              "      <td>YK Pathan</td>\n",
              "      <td>Sawai Mansingh Stadium</td>\n",
              "      <td>MR Benson</td>\n",
              "      <td>AM Saheba</td>\n",
              "      <td>NaN</td>\n",
              "    </tr>\n",
              "    <tr>\n",
              "      <th>2008</th>\n",
              "      <td>2008-05-28</td>\n",
              "      <td>30</td>\n",
              "      <td>30</td>\n",
              "      <td>31</td>\n",
              "      <td>Bangalore</td>\n",
              "      <td>Royal Challengers Bangalore</td>\n",
              "      <td>Mumbai Indians</td>\n",
              "      <td>Mumbai Indians</td>\n",
              "      <td>field</td>\n",
              "      <td>normal</td>\n",
              "      <td>0</td>\n",
              "      <td>Mumbai Indians</td>\n",
              "      <td>0</td>\n",
              "      <td>9</td>\n",
              "      <td>CRD Fernando</td>\n",
              "      <td>M Chinnaswamy Stadium</td>\n",
              "      <td>BF Bowden</td>\n",
              "      <td>AV Jayaprakash</td>\n",
              "      <td>NaN</td>\n",
              "    </tr>\n",
              "    <tr>\n",
              "      <th>2008</th>\n",
              "      <td>2008-05-10</td>\n",
              "      <td>31</td>\n",
              "      <td>31</td>\n",
              "      <td>32</td>\n",
              "      <td>Chennai</td>\n",
              "      <td>Chennai Super Kings</td>\n",
              "      <td>Kings XI Punjab</td>\n",
              "      <td>Kings XI Punjab</td>\n",
              "      <td>field</td>\n",
              "      <td>normal</td>\n",
              "      <td>0</td>\n",
              "      <td>Chennai Super Kings</td>\n",
              "      <td>18</td>\n",
              "      <td>0</td>\n",
              "      <td>L Balaji</td>\n",
              "      <td>MA Chidambaram Stadium, Chepauk</td>\n",
              "      <td>AV Jayaprakash</td>\n",
              "      <td>BG Jerling</td>\n",
              "      <td>NaN</td>\n",
              "    </tr>\n",
              "    <tr>\n",
              "      <th>2008</th>\n",
              "      <td>2008-05-11</td>\n",
              "      <td>32</td>\n",
              "      <td>32</td>\n",
              "      <td>33</td>\n",
              "      <td>Hyderabad</td>\n",
              "      <td>Kolkata Knight Riders</td>\n",
              "      <td>Deccan Chargers</td>\n",
              "      <td>Kolkata Knight Riders</td>\n",
              "      <td>bat</td>\n",
              "      <td>normal</td>\n",
              "      <td>0</td>\n",
              "      <td>Kolkata Knight Riders</td>\n",
              "      <td>23</td>\n",
              "      <td>0</td>\n",
              "      <td>SC Ganguly</td>\n",
              "      <td>Rajiv Gandhi International Stadium, Uppal</td>\n",
              "      <td>IL Howell</td>\n",
              "      <td>AM Saheba</td>\n",
              "      <td>NaN</td>\n",
              "    </tr>\n",
              "    <tr>\n",
              "      <th>2008</th>\n",
              "      <td>2008-05-11</td>\n",
              "      <td>33</td>\n",
              "      <td>33</td>\n",
              "      <td>34</td>\n",
              "      <td>Jaipur</td>\n",
              "      <td>Delhi Daredevils</td>\n",
              "      <td>Rajasthan Royals</td>\n",
              "      <td>Rajasthan Royals</td>\n",
              "      <td>field</td>\n",
              "      <td>normal</td>\n",
              "      <td>0</td>\n",
              "      <td>Rajasthan Royals</td>\n",
              "      <td>0</td>\n",
              "      <td>3</td>\n",
              "      <td>SR Watson</td>\n",
              "      <td>Sawai Mansingh Stadium</td>\n",
              "      <td>SJ Davis</td>\n",
              "      <td>RE Koertzen</td>\n",
              "      <td>NaN</td>\n",
              "    </tr>\n",
              "    <tr>\n",
              "      <th>2008</th>\n",
              "      <td>2008-05-12</td>\n",
              "      <td>34</td>\n",
              "      <td>34</td>\n",
              "      <td>35</td>\n",
              "      <td>Chandigarh</td>\n",
              "      <td>Royal Challengers Bangalore</td>\n",
              "      <td>Kings XI Punjab</td>\n",
              "      <td>Royal Challengers Bangalore</td>\n",
              "      <td>bat</td>\n",
              "      <td>normal</td>\n",
              "      <td>0</td>\n",
              "      <td>Kings XI Punjab</td>\n",
              "      <td>0</td>\n",
              "      <td>9</td>\n",
              "      <td>SE Marsh</td>\n",
              "      <td>Punjab Cricket Association Stadium, Mohali</td>\n",
              "      <td>BR Doctrove</td>\n",
              "      <td>I Shivram</td>\n",
              "      <td>NaN</td>\n",
              "    </tr>\n",
              "    <tr>\n",
              "      <th>2008</th>\n",
              "      <td>2008-05-13</td>\n",
              "      <td>35</td>\n",
              "      <td>35</td>\n",
              "      <td>36</td>\n",
              "      <td>Kolkata</td>\n",
              "      <td>Kolkata Knight Riders</td>\n",
              "      <td>Delhi Daredevils</td>\n",
              "      <td>Kolkata Knight Riders</td>\n",
              "      <td>bat</td>\n",
              "      <td>normal</td>\n",
              "      <td>0</td>\n",
              "      <td>Kolkata Knight Riders</td>\n",
              "      <td>23</td>\n",
              "      <td>0</td>\n",
              "      <td>Shoaib Akhtar</td>\n",
              "      <td>Eden Gardens</td>\n",
              "      <td>Asad Rauf</td>\n",
              "      <td>IL Howell</td>\n",
              "      <td>NaN</td>\n",
              "    </tr>\n",
              "    <tr>\n",
              "      <th>2008</th>\n",
              "      <td>2008-05-14</td>\n",
              "      <td>36</td>\n",
              "      <td>36</td>\n",
              "      <td>37</td>\n",
              "      <td>Mumbai</td>\n",
              "      <td>Chennai Super Kings</td>\n",
              "      <td>Mumbai Indians</td>\n",
              "      <td>Mumbai Indians</td>\n",
              "      <td>field</td>\n",
              "      <td>normal</td>\n",
              "      <td>0</td>\n",
              "      <td>Mumbai Indians</td>\n",
              "      <td>0</td>\n",
              "      <td>9</td>\n",
              "      <td>ST Jayasuriya</td>\n",
              "      <td>Wankhede Stadium</td>\n",
              "      <td>BR Doctrove</td>\n",
              "      <td>AM Saheba</td>\n",
              "      <td>NaN</td>\n",
              "    </tr>\n",
              "    <tr>\n",
              "      <th>2008</th>\n",
              "      <td>2008-05-28</td>\n",
              "      <td>37</td>\n",
              "      <td>37</td>\n",
              "      <td>38</td>\n",
              "      <td>Chandigarh</td>\n",
              "      <td>Kings XI Punjab</td>\n",
              "      <td>Rajasthan Royals</td>\n",
              "      <td>Rajasthan Royals</td>\n",
              "      <td>field</td>\n",
              "      <td>normal</td>\n",
              "      <td>0</td>\n",
              "      <td>Kings XI Punjab</td>\n",
              "      <td>41</td>\n",
              "      <td>0</td>\n",
              "      <td>SE Marsh</td>\n",
              "      <td>Punjab Cricket Association Stadium, Mohali</td>\n",
              "      <td>SJ Davis</td>\n",
              "      <td>K Hariharan</td>\n",
              "      <td>NaN</td>\n",
              "    </tr>\n",
              "    <tr>\n",
              "      <th>2008</th>\n",
              "      <td>2008-05-15</td>\n",
              "      <td>38</td>\n",
              "      <td>38</td>\n",
              "      <td>39</td>\n",
              "      <td>Delhi</td>\n",
              "      <td>Delhi Daredevils</td>\n",
              "      <td>Deccan Chargers</td>\n",
              "      <td>Deccan Chargers</td>\n",
              "      <td>field</td>\n",
              "      <td>normal</td>\n",
              "      <td>0</td>\n",
              "      <td>Delhi Daredevils</td>\n",
              "      <td>12</td>\n",
              "      <td>0</td>\n",
              "      <td>A Mishra</td>\n",
              "      <td>Feroz Shah Kotla</td>\n",
              "      <td>BG Jerling</td>\n",
              "      <td>GA Pratapkumar</td>\n",
              "      <td>NaN</td>\n",
              "    </tr>\n",
              "    <tr>\n",
              "      <th>2008</th>\n",
              "      <td>2008-05-16</td>\n",
              "      <td>39</td>\n",
              "      <td>39</td>\n",
              "      <td>40</td>\n",
              "      <td>Mumbai</td>\n",
              "      <td>Kolkata Knight Riders</td>\n",
              "      <td>Mumbai Indians</td>\n",
              "      <td>Mumbai Indians</td>\n",
              "      <td>field</td>\n",
              "      <td>normal</td>\n",
              "      <td>0</td>\n",
              "      <td>Mumbai Indians</td>\n",
              "      <td>0</td>\n",
              "      <td>8</td>\n",
              "      <td>SM Pollock</td>\n",
              "      <td>Wankhede Stadium</td>\n",
              "      <td>BR Doctrove</td>\n",
              "      <td>DJ Harper</td>\n",
              "      <td>NaN</td>\n",
              "    </tr>\n",
              "    <tr>\n",
              "      <th>2008</th>\n",
              "      <td>2008-05-17</td>\n",
              "      <td>40</td>\n",
              "      <td>40</td>\n",
              "      <td>41</td>\n",
              "      <td>Delhi</td>\n",
              "      <td>Delhi Daredevils</td>\n",
              "      <td>Kings XI Punjab</td>\n",
              "      <td>Delhi Daredevils</td>\n",
              "      <td>bat</td>\n",
              "      <td>normal</td>\n",
              "      <td>1</td>\n",
              "      <td>Kings XI Punjab</td>\n",
              "      <td>6</td>\n",
              "      <td>0</td>\n",
              "      <td>DPMD Jayawardene</td>\n",
              "      <td>Feroz Shah Kotla</td>\n",
              "      <td>AV Jayaprakash</td>\n",
              "      <td>RE Koertzen</td>\n",
              "      <td>NaN</td>\n",
              "    </tr>\n",
              "    <tr>\n",
              "      <th>2008</th>\n",
              "      <td>2008-05-17</td>\n",
              "      <td>41</td>\n",
              "      <td>41</td>\n",
              "      <td>42</td>\n",
              "      <td>Jaipur</td>\n",
              "      <td>Rajasthan Royals</td>\n",
              "      <td>Royal Challengers Bangalore</td>\n",
              "      <td>Royal Challengers Bangalore</td>\n",
              "      <td>field</td>\n",
              "      <td>normal</td>\n",
              "      <td>0</td>\n",
              "      <td>Rajasthan Royals</td>\n",
              "      <td>65</td>\n",
              "      <td>0</td>\n",
              "      <td>GC Smith</td>\n",
              "      <td>Sawai Mansingh Stadium</td>\n",
              "      <td>BF Bowden</td>\n",
              "      <td>SL Shastri</td>\n",
              "      <td>NaN</td>\n",
              "    </tr>\n",
              "    <tr>\n",
              "      <th>2008</th>\n",
              "      <td>2008-05-18</td>\n",
              "      <td>42</td>\n",
              "      <td>42</td>\n",
              "      <td>43</td>\n",
              "      <td>Hyderabad</td>\n",
              "      <td>Mumbai Indians</td>\n",
              "      <td>Deccan Chargers</td>\n",
              "      <td>Deccan Chargers</td>\n",
              "      <td>field</td>\n",
              "      <td>normal</td>\n",
              "      <td>0</td>\n",
              "      <td>Mumbai Indians</td>\n",
              "      <td>25</td>\n",
              "      <td>0</td>\n",
              "      <td>DJ Bravo</td>\n",
              "      <td>Rajiv Gandhi International Stadium, Uppal</td>\n",
              "      <td>BR Doctrove</td>\n",
              "      <td>DJ Harper</td>\n",
              "      <td>NaN</td>\n",
              "    </tr>\n",
              "    <tr>\n",
              "      <th>2008</th>\n",
              "      <td>2008-05-18</td>\n",
              "      <td>43</td>\n",
              "      <td>43</td>\n",
              "      <td>44</td>\n",
              "      <td>Kolkata</td>\n",
              "      <td>Kolkata Knight Riders</td>\n",
              "      <td>Chennai Super Kings</td>\n",
              "      <td>Kolkata Knight Riders</td>\n",
              "      <td>bat</td>\n",
              "      <td>normal</td>\n",
              "      <td>1</td>\n",
              "      <td>Chennai Super Kings</td>\n",
              "      <td>3</td>\n",
              "      <td>0</td>\n",
              "      <td>M Ntini</td>\n",
              "      <td>Eden Gardens</td>\n",
              "      <td>Asad Rauf</td>\n",
              "      <td>K Hariharan</td>\n",
              "      <td>NaN</td>\n",
              "    </tr>\n",
              "    <tr>\n",
              "      <th>2008</th>\n",
              "      <td>2008-05-19</td>\n",
              "      <td>44</td>\n",
              "      <td>44</td>\n",
              "      <td>45</td>\n",
              "      <td>Bangalore</td>\n",
              "      <td>Royal Challengers Bangalore</td>\n",
              "      <td>Delhi Daredevils</td>\n",
              "      <td>Delhi Daredevils</td>\n",
              "      <td>field</td>\n",
              "      <td>normal</td>\n",
              "      <td>0</td>\n",
              "      <td>Delhi Daredevils</td>\n",
              "      <td>0</td>\n",
              "      <td>5</td>\n",
              "      <td>SP Goswami</td>\n",
              "      <td>M Chinnaswamy Stadium</td>\n",
              "      <td>SJ Davis</td>\n",
              "      <td>GA Pratapkumar</td>\n",
              "      <td>NaN</td>\n",
              "    </tr>\n",
              "    <tr>\n",
              "      <th>2008</th>\n",
              "      <td>2008-05-20</td>\n",
              "      <td>45</td>\n",
              "      <td>45</td>\n",
              "      <td>46</td>\n",
              "      <td>Kolkata</td>\n",
              "      <td>Kolkata Knight Riders</td>\n",
              "      <td>Rajasthan Royals</td>\n",
              "      <td>Rajasthan Royals</td>\n",
              "      <td>field</td>\n",
              "      <td>normal</td>\n",
              "      <td>0</td>\n",
              "      <td>Rajasthan Royals</td>\n",
              "      <td>0</td>\n",
              "      <td>6</td>\n",
              "      <td>YK Pathan</td>\n",
              "      <td>Eden Gardens</td>\n",
              "      <td>BG Jerling</td>\n",
              "      <td>RE Koertzen</td>\n",
              "      <td>NaN</td>\n",
              "    </tr>\n",
              "    <tr>\n",
              "      <th>2008</th>\n",
              "      <td>2008-05-21</td>\n",
              "      <td>46</td>\n",
              "      <td>46</td>\n",
              "      <td>47</td>\n",
              "      <td>Mumbai</td>\n",
              "      <td>Kings XI Punjab</td>\n",
              "      <td>Mumbai Indians</td>\n",
              "      <td>Mumbai Indians</td>\n",
              "      <td>field</td>\n",
              "      <td>normal</td>\n",
              "      <td>0</td>\n",
              "      <td>Kings XI Punjab</td>\n",
              "      <td>1</td>\n",
              "      <td>0</td>\n",
              "      <td>SE Marsh</td>\n",
              "      <td>Wankhede Stadium</td>\n",
              "      <td>BF Bowden</td>\n",
              "      <td>GA Pratapkumar</td>\n",
              "      <td>NaN</td>\n",
              "    </tr>\n",
              "    <tr>\n",
              "      <th>2008</th>\n",
              "      <td>2008-05-21</td>\n",
              "      <td>47</td>\n",
              "      <td>47</td>\n",
              "      <td>48</td>\n",
              "      <td>Chennai</td>\n",
              "      <td>Royal Challengers Bangalore</td>\n",
              "      <td>Chennai Super Kings</td>\n",
              "      <td>Royal Challengers Bangalore</td>\n",
              "      <td>bat</td>\n",
              "      <td>normal</td>\n",
              "      <td>0</td>\n",
              "      <td>Royal Challengers Bangalore</td>\n",
              "      <td>14</td>\n",
              "      <td>0</td>\n",
              "      <td>A Kumble</td>\n",
              "      <td>MA Chidambaram Stadium, Chepauk</td>\n",
              "      <td>DJ Harper</td>\n",
              "      <td>I Shivram</td>\n",
              "      <td>NaN</td>\n",
              "    </tr>\n",
              "    <tr>\n",
              "      <th>2008</th>\n",
              "      <td>2008-05-23</td>\n",
              "      <td>48</td>\n",
              "      <td>48</td>\n",
              "      <td>49</td>\n",
              "      <td>Chandigarh</td>\n",
              "      <td>Deccan Chargers</td>\n",
              "      <td>Kings XI Punjab</td>\n",
              "      <td>Kings XI Punjab</td>\n",
              "      <td>field</td>\n",
              "      <td>normal</td>\n",
              "      <td>0</td>\n",
              "      <td>Kings XI Punjab</td>\n",
              "      <td>0</td>\n",
              "      <td>6</td>\n",
              "      <td>SE Marsh</td>\n",
              "      <td>Punjab Cricket Association Stadium, Mohali</td>\n",
              "      <td>Asad Rauf</td>\n",
              "      <td>SJ Davis</td>\n",
              "      <td>NaN</td>\n",
              "    </tr>\n",
              "    <tr>\n",
              "      <th>2008</th>\n",
              "      <td>2008-05-24</td>\n",
              "      <td>49</td>\n",
              "      <td>49</td>\n",
              "      <td>50</td>\n",
              "      <td>Delhi</td>\n",
              "      <td>Mumbai Indians</td>\n",
              "      <td>Delhi Daredevils</td>\n",
              "      <td>Delhi Daredevils</td>\n",
              "      <td>field</td>\n",
              "      <td>normal</td>\n",
              "      <td>0</td>\n",
              "      <td>Delhi Daredevils</td>\n",
              "      <td>0</td>\n",
              "      <td>5</td>\n",
              "      <td>KD Karthik</td>\n",
              "      <td>Feroz Shah Kotla</td>\n",
              "      <td>BF Bowden</td>\n",
              "      <td>K Hariharan</td>\n",
              "      <td>NaN</td>\n",
              "    </tr>\n",
              "    <tr>\n",
              "      <th>2008</th>\n",
              "      <td>2008-05-24</td>\n",
              "      <td>50</td>\n",
              "      <td>50</td>\n",
              "      <td>51</td>\n",
              "      <td>Chennai</td>\n",
              "      <td>Rajasthan Royals</td>\n",
              "      <td>Chennai Super Kings</td>\n",
              "      <td>Rajasthan Royals</td>\n",
              "      <td>bat</td>\n",
              "      <td>normal</td>\n",
              "      <td>0</td>\n",
              "      <td>Rajasthan Royals</td>\n",
              "      <td>10</td>\n",
              "      <td>0</td>\n",
              "      <td>JA Morkel</td>\n",
              "      <td>MA Chidambaram Stadium, Chepauk</td>\n",
              "      <td>DJ Harper</td>\n",
              "      <td>SL Shastri</td>\n",
              "      <td>NaN</td>\n",
              "    </tr>\n",
              "    <tr>\n",
              "      <th>2008</th>\n",
              "      <td>2008-05-03</td>\n",
              "      <td>51</td>\n",
              "      <td>51</td>\n",
              "      <td>52</td>\n",
              "      <td>Bangalore</td>\n",
              "      <td>Royal Challengers Bangalore</td>\n",
              "      <td>Deccan Chargers</td>\n",
              "      <td>Deccan Chargers</td>\n",
              "      <td>field</td>\n",
              "      <td>normal</td>\n",
              "      <td>0</td>\n",
              "      <td>Royal Challengers Bangalore</td>\n",
              "      <td>3</td>\n",
              "      <td>0</td>\n",
              "      <td>P Kumar</td>\n",
              "      <td>M Chinnaswamy Stadium</td>\n",
              "      <td>BR Doctrove</td>\n",
              "      <td>SL Shastri</td>\n",
              "      <td>NaN</td>\n",
              "    </tr>\n",
              "    <tr>\n",
              "      <th>2008</th>\n",
              "      <td>2008-05-25</td>\n",
              "      <td>52</td>\n",
              "      <td>52</td>\n",
              "      <td>53</td>\n",
              "      <td>Kolkata</td>\n",
              "      <td>Kings XI Punjab</td>\n",
              "      <td>Kolkata Knight Riders</td>\n",
              "      <td>Kings XI Punjab</td>\n",
              "      <td>bat</td>\n",
              "      <td>normal</td>\n",
              "      <td>0</td>\n",
              "      <td>Kolkata Knight Riders</td>\n",
              "      <td>0</td>\n",
              "      <td>3</td>\n",
              "      <td>Umar Gul</td>\n",
              "      <td>Eden Gardens</td>\n",
              "      <td>SJ Davis</td>\n",
              "      <td>I Shivram</td>\n",
              "      <td>NaN</td>\n",
              "    </tr>\n",
              "    <tr>\n",
              "      <th>2008</th>\n",
              "      <td>2008-05-26</td>\n",
              "      <td>53</td>\n",
              "      <td>53</td>\n",
              "      <td>54</td>\n",
              "      <td>Jaipur</td>\n",
              "      <td>Mumbai Indians</td>\n",
              "      <td>Rajasthan Royals</td>\n",
              "      <td>Rajasthan Royals</td>\n",
              "      <td>field</td>\n",
              "      <td>normal</td>\n",
              "      <td>0</td>\n",
              "      <td>Rajasthan Royals</td>\n",
              "      <td>0</td>\n",
              "      <td>5</td>\n",
              "      <td>Sohail Tanvir</td>\n",
              "      <td>Sawai Mansingh Stadium</td>\n",
              "      <td>BF Bowden</td>\n",
              "      <td>K Hariharan</td>\n",
              "      <td>NaN</td>\n",
              "    </tr>\n",
              "    <tr>\n",
              "      <th>2008</th>\n",
              "      <td>2008-05-27</td>\n",
              "      <td>54</td>\n",
              "      <td>54</td>\n",
              "      <td>55</td>\n",
              "      <td>Hyderabad</td>\n",
              "      <td>Deccan Chargers</td>\n",
              "      <td>Chennai Super Kings</td>\n",
              "      <td>Deccan Chargers</td>\n",
              "      <td>bat</td>\n",
              "      <td>normal</td>\n",
              "      <td>0</td>\n",
              "      <td>Chennai Super Kings</td>\n",
              "      <td>0</td>\n",
              "      <td>7</td>\n",
              "      <td>SK Raina</td>\n",
              "      <td>Rajiv Gandhi International Stadium, Uppal</td>\n",
              "      <td>BG Jerling</td>\n",
              "      <td>AM Saheba</td>\n",
              "      <td>NaN</td>\n",
              "    </tr>\n",
              "    <tr>\n",
              "      <th>2008</th>\n",
              "      <td>2008-05-30</td>\n",
              "      <td>55</td>\n",
              "      <td>55</td>\n",
              "      <td>56</td>\n",
              "      <td>Mumbai</td>\n",
              "      <td>Rajasthan Royals</td>\n",
              "      <td>Delhi Daredevils</td>\n",
              "      <td>Delhi Daredevils</td>\n",
              "      <td>field</td>\n",
              "      <td>normal</td>\n",
              "      <td>0</td>\n",
              "      <td>Rajasthan Royals</td>\n",
              "      <td>105</td>\n",
              "      <td>0</td>\n",
              "      <td>SR Watson</td>\n",
              "      <td>Wankhede Stadium</td>\n",
              "      <td>BF Bowden</td>\n",
              "      <td>RE Koertzen</td>\n",
              "      <td>NaN</td>\n",
              "    </tr>\n",
              "    <tr>\n",
              "      <th>2008</th>\n",
              "      <td>2008-05-31</td>\n",
              "      <td>56</td>\n",
              "      <td>56</td>\n",
              "      <td>57</td>\n",
              "      <td>Mumbai</td>\n",
              "      <td>Kings XI Punjab</td>\n",
              "      <td>Chennai Super Kings</td>\n",
              "      <td>Kings XI Punjab</td>\n",
              "      <td>bat</td>\n",
              "      <td>normal</td>\n",
              "      <td>0</td>\n",
              "      <td>Chennai Super Kings</td>\n",
              "      <td>0</td>\n",
              "      <td>9</td>\n",
              "      <td>M Ntini</td>\n",
              "      <td>Wankhede Stadium</td>\n",
              "      <td>Asad Rauf</td>\n",
              "      <td>DJ Harper</td>\n",
              "      <td>NaN</td>\n",
              "    </tr>\n",
              "    <tr>\n",
              "      <th>2008</th>\n",
              "      <td>2008-06-01</td>\n",
              "      <td>57</td>\n",
              "      <td>57</td>\n",
              "      <td>58</td>\n",
              "      <td>Mumbai</td>\n",
              "      <td>Chennai Super Kings</td>\n",
              "      <td>Rajasthan Royals</td>\n",
              "      <td>Rajasthan Royals</td>\n",
              "      <td>field</td>\n",
              "      <td>normal</td>\n",
              "      <td>0</td>\n",
              "      <td>Rajasthan Royals</td>\n",
              "      <td>0</td>\n",
              "      <td>3</td>\n",
              "      <td>YK Pathan</td>\n",
              "      <td>Dr DY Patil Sports Academy</td>\n",
              "      <td>BF Bowden</td>\n",
              "      <td>RE Koertzen</td>\n",
              "      <td>NaN</td>\n",
              "    </tr>\n",
              "  </tbody>\n",
              "</table>\n",
              "</div>"
            ],
            "text/plain": [
              "              date  level_0  index  id        city  \\\n",
              "season                                               \n",
              "2008    2008-04-18        0      0   1   Bangalore   \n",
              "2008    2008-04-19        1      1   2  Chandigarh   \n",
              "2008    2008-04-19        2      2   3       Delhi   \n",
              "2008    2008-04-20        3      3   4      Mumbai   \n",
              "2008    2008-04-20        4      4   5     Kolkata   \n",
              "2008    2008-04-21        5      5   6      Jaipur   \n",
              "2008    2008-04-22        6      6   7   Hyderabad   \n",
              "2008    2008-04-23        7      7   8     Chennai   \n",
              "2008    2008-04-24        8      8   9   Hyderabad   \n",
              "2008    2008-04-25        9      9  10  Chandigarh   \n",
              "2008    2008-04-26       10     10  11   Bangalore   \n",
              "2008    2008-04-26       11     11  12     Chennai   \n",
              "2008    2008-04-27       12     12  13      Mumbai   \n",
              "2008    2008-04-27       13     13  14  Chandigarh   \n",
              "2008    2008-04-28       14     14  15   Bangalore   \n",
              "2008    2008-04-29       15     15  16     Kolkata   \n",
              "2008    2008-04-30       16     16  17       Delhi   \n",
              "2008    2008-05-01       17     17  18   Hyderabad   \n",
              "2008    2008-05-01       18     18  19      Jaipur   \n",
              "2008    2008-05-02       19     19  20     Chennai   \n",
              "2008    2008-05-25       20     20  21   Hyderabad   \n",
              "2008    2008-05-03       21     21  22  Chandigarh   \n",
              "2008    2008-05-04       22     22  23      Mumbai   \n",
              "2008    2008-05-04       23     23  24      Jaipur   \n",
              "2008    2008-05-05       24     24  25   Bangalore   \n",
              "2008    2008-05-06       25     25  26     Chennai   \n",
              "2008    2008-05-07       26     26  27      Mumbai   \n",
              "2008    2008-05-08       27     27  28       Delhi   \n",
              "2008    2008-05-08       28     28  29     Kolkata   \n",
              "2008    2008-05-09       29     29  30      Jaipur   \n",
              "2008    2008-05-28       30     30  31   Bangalore   \n",
              "2008    2008-05-10       31     31  32     Chennai   \n",
              "2008    2008-05-11       32     32  33   Hyderabad   \n",
              "2008    2008-05-11       33     33  34      Jaipur   \n",
              "2008    2008-05-12       34     34  35  Chandigarh   \n",
              "2008    2008-05-13       35     35  36     Kolkata   \n",
              "2008    2008-05-14       36     36  37      Mumbai   \n",
              "2008    2008-05-28       37     37  38  Chandigarh   \n",
              "2008    2008-05-15       38     38  39       Delhi   \n",
              "2008    2008-05-16       39     39  40      Mumbai   \n",
              "2008    2008-05-17       40     40  41       Delhi   \n",
              "2008    2008-05-17       41     41  42      Jaipur   \n",
              "2008    2008-05-18       42     42  43   Hyderabad   \n",
              "2008    2008-05-18       43     43  44     Kolkata   \n",
              "2008    2008-05-19       44     44  45   Bangalore   \n",
              "2008    2008-05-20       45     45  46     Kolkata   \n",
              "2008    2008-05-21       46     46  47      Mumbai   \n",
              "2008    2008-05-21       47     47  48     Chennai   \n",
              "2008    2008-05-23       48     48  49  Chandigarh   \n",
              "2008    2008-05-24       49     49  50       Delhi   \n",
              "2008    2008-05-24       50     50  51     Chennai   \n",
              "2008    2008-05-03       51     51  52   Bangalore   \n",
              "2008    2008-05-25       52     52  53     Kolkata   \n",
              "2008    2008-05-26       53     53  54      Jaipur   \n",
              "2008    2008-05-27       54     54  55   Hyderabad   \n",
              "2008    2008-05-30       55     55  56      Mumbai   \n",
              "2008    2008-05-31       56     56  57      Mumbai   \n",
              "2008    2008-06-01       57     57  58      Mumbai   \n",
              "\n",
              "                              team1                        team2  \\\n",
              "season                                                             \n",
              "2008          Kolkata Knight Riders  Royal Challengers Bangalore   \n",
              "2008            Chennai Super Kings              Kings XI Punjab   \n",
              "2008               Rajasthan Royals             Delhi Daredevils   \n",
              "2008                 Mumbai Indians  Royal Challengers Bangalore   \n",
              "2008                Deccan Chargers        Kolkata Knight Riders   \n",
              "2008                Kings XI Punjab             Rajasthan Royals   \n",
              "2008                Deccan Chargers             Delhi Daredevils   \n",
              "2008            Chennai Super Kings               Mumbai Indians   \n",
              "2008                Deccan Chargers             Rajasthan Royals   \n",
              "2008                Kings XI Punjab               Mumbai Indians   \n",
              "2008    Royal Challengers Bangalore             Rajasthan Royals   \n",
              "2008          Kolkata Knight Riders          Chennai Super Kings   \n",
              "2008                 Mumbai Indians              Deccan Chargers   \n",
              "2008               Delhi Daredevils              Kings XI Punjab   \n",
              "2008            Chennai Super Kings  Royal Challengers Bangalore   \n",
              "2008          Kolkata Knight Riders               Mumbai Indians   \n",
              "2008               Delhi Daredevils  Royal Challengers Bangalore   \n",
              "2008                Deccan Chargers              Kings XI Punjab   \n",
              "2008               Rajasthan Royals        Kolkata Knight Riders   \n",
              "2008            Chennai Super Kings             Delhi Daredevils   \n",
              "2008                Deccan Chargers  Royal Challengers Bangalore   \n",
              "2008                Kings XI Punjab        Kolkata Knight Riders   \n",
              "2008                 Mumbai Indians             Delhi Daredevils   \n",
              "2008            Chennai Super Kings             Rajasthan Royals   \n",
              "2008    Royal Challengers Bangalore              Kings XI Punjab   \n",
              "2008            Chennai Super Kings              Deccan Chargers   \n",
              "2008               Rajasthan Royals               Mumbai Indians   \n",
              "2008               Delhi Daredevils          Chennai Super Kings   \n",
              "2008          Kolkata Knight Riders  Royal Challengers Bangalore   \n",
              "2008                Deccan Chargers             Rajasthan Royals   \n",
              "2008    Royal Challengers Bangalore               Mumbai Indians   \n",
              "2008            Chennai Super Kings              Kings XI Punjab   \n",
              "2008          Kolkata Knight Riders              Deccan Chargers   \n",
              "2008               Delhi Daredevils             Rajasthan Royals   \n",
              "2008    Royal Challengers Bangalore              Kings XI Punjab   \n",
              "2008          Kolkata Knight Riders             Delhi Daredevils   \n",
              "2008            Chennai Super Kings               Mumbai Indians   \n",
              "2008                Kings XI Punjab             Rajasthan Royals   \n",
              "2008               Delhi Daredevils              Deccan Chargers   \n",
              "2008          Kolkata Knight Riders               Mumbai Indians   \n",
              "2008               Delhi Daredevils              Kings XI Punjab   \n",
              "2008               Rajasthan Royals  Royal Challengers Bangalore   \n",
              "2008                 Mumbai Indians              Deccan Chargers   \n",
              "2008          Kolkata Knight Riders          Chennai Super Kings   \n",
              "2008    Royal Challengers Bangalore             Delhi Daredevils   \n",
              "2008          Kolkata Knight Riders             Rajasthan Royals   \n",
              "2008                Kings XI Punjab               Mumbai Indians   \n",
              "2008    Royal Challengers Bangalore          Chennai Super Kings   \n",
              "2008                Deccan Chargers              Kings XI Punjab   \n",
              "2008                 Mumbai Indians             Delhi Daredevils   \n",
              "2008               Rajasthan Royals          Chennai Super Kings   \n",
              "2008    Royal Challengers Bangalore              Deccan Chargers   \n",
              "2008                Kings XI Punjab        Kolkata Knight Riders   \n",
              "2008                 Mumbai Indians             Rajasthan Royals   \n",
              "2008                Deccan Chargers          Chennai Super Kings   \n",
              "2008               Rajasthan Royals             Delhi Daredevils   \n",
              "2008                Kings XI Punjab          Chennai Super Kings   \n",
              "2008            Chennai Super Kings             Rajasthan Royals   \n",
              "\n",
              "                        toss_winner toss_decision  result  dl_applied  \\\n",
              "season                                                                  \n",
              "2008    Royal Challengers Bangalore         field  normal           0   \n",
              "2008            Chennai Super Kings           bat  normal           0   \n",
              "2008               Rajasthan Royals           bat  normal           0   \n",
              "2008                 Mumbai Indians           bat  normal           0   \n",
              "2008                Deccan Chargers           bat  normal           0   \n",
              "2008                Kings XI Punjab           bat  normal           0   \n",
              "2008                Deccan Chargers           bat  normal           0   \n",
              "2008                 Mumbai Indians         field  normal           0   \n",
              "2008               Rajasthan Royals         field  normal           0   \n",
              "2008                 Mumbai Indians         field  normal           0   \n",
              "2008               Rajasthan Royals         field  normal           0   \n",
              "2008          Kolkata Knight Riders           bat  normal           0   \n",
              "2008                Deccan Chargers         field  normal           0   \n",
              "2008               Delhi Daredevils           bat  normal           0   \n",
              "2008            Chennai Super Kings           bat  normal           0   \n",
              "2008          Kolkata Knight Riders           bat  normal           0   \n",
              "2008    Royal Challengers Bangalore         field  normal           0   \n",
              "2008                Kings XI Punjab         field  normal           0   \n",
              "2008               Rajasthan Royals           bat  normal           0   \n",
              "2008            Chennai Super Kings           bat  normal           0   \n",
              "2008                Deccan Chargers           bat  normal           0   \n",
              "2008                Kings XI Punjab           bat  normal           0   \n",
              "2008               Delhi Daredevils         field  normal           0   \n",
              "2008            Chennai Super Kings           bat  normal           0   \n",
              "2008                Kings XI Punjab         field  normal           0   \n",
              "2008                Deccan Chargers         field  normal           0   \n",
              "2008                 Mumbai Indians         field  normal           0   \n",
              "2008            Chennai Super Kings         field  normal           0   \n",
              "2008          Kolkata Knight Riders           bat  normal           0   \n",
              "2008               Rajasthan Royals         field  normal           0   \n",
              "2008                 Mumbai Indians         field  normal           0   \n",
              "2008                Kings XI Punjab         field  normal           0   \n",
              "2008          Kolkata Knight Riders           bat  normal           0   \n",
              "2008               Rajasthan Royals         field  normal           0   \n",
              "2008    Royal Challengers Bangalore           bat  normal           0   \n",
              "2008          Kolkata Knight Riders           bat  normal           0   \n",
              "2008                 Mumbai Indians         field  normal           0   \n",
              "2008               Rajasthan Royals         field  normal           0   \n",
              "2008                Deccan Chargers         field  normal           0   \n",
              "2008                 Mumbai Indians         field  normal           0   \n",
              "2008               Delhi Daredevils           bat  normal           1   \n",
              "2008    Royal Challengers Bangalore         field  normal           0   \n",
              "2008                Deccan Chargers         field  normal           0   \n",
              "2008          Kolkata Knight Riders           bat  normal           1   \n",
              "2008               Delhi Daredevils         field  normal           0   \n",
              "2008               Rajasthan Royals         field  normal           0   \n",
              "2008                 Mumbai Indians         field  normal           0   \n",
              "2008    Royal Challengers Bangalore           bat  normal           0   \n",
              "2008                Kings XI Punjab         field  normal           0   \n",
              "2008               Delhi Daredevils         field  normal           0   \n",
              "2008               Rajasthan Royals           bat  normal           0   \n",
              "2008                Deccan Chargers         field  normal           0   \n",
              "2008                Kings XI Punjab           bat  normal           0   \n",
              "2008               Rajasthan Royals         field  normal           0   \n",
              "2008                Deccan Chargers           bat  normal           0   \n",
              "2008               Delhi Daredevils         field  normal           0   \n",
              "2008                Kings XI Punjab           bat  normal           0   \n",
              "2008               Rajasthan Royals         field  normal           0   \n",
              "\n",
              "                             winner  win_by_runs  win_by_wickets  \\\n",
              "season                                                             \n",
              "2008          Kolkata Knight Riders          140               0   \n",
              "2008            Chennai Super Kings           33               0   \n",
              "2008               Delhi Daredevils            0               9   \n",
              "2008    Royal Challengers Bangalore            0               5   \n",
              "2008          Kolkata Knight Riders            0               5   \n",
              "2008               Rajasthan Royals            0               6   \n",
              "2008               Delhi Daredevils            0               9   \n",
              "2008            Chennai Super Kings            6               0   \n",
              "2008               Rajasthan Royals            0               3   \n",
              "2008                Kings XI Punjab           66               0   \n",
              "2008               Rajasthan Royals            0               7   \n",
              "2008            Chennai Super Kings            0               9   \n",
              "2008                Deccan Chargers            0              10   \n",
              "2008                Kings XI Punjab            0               4   \n",
              "2008            Chennai Super Kings           13               0   \n",
              "2008                 Mumbai Indians            0               7   \n",
              "2008               Delhi Daredevils           10               0   \n",
              "2008                Kings XI Punjab            0               7   \n",
              "2008               Rajasthan Royals           45               0   \n",
              "2008               Delhi Daredevils            0               8   \n",
              "2008    Royal Challengers Bangalore            0               5   \n",
              "2008                Kings XI Punjab            9               0   \n",
              "2008                 Mumbai Indians           29               0   \n",
              "2008               Rajasthan Royals            0               8   \n",
              "2008                Kings XI Punjab            0               6   \n",
              "2008                Deccan Chargers            0               7   \n",
              "2008                 Mumbai Indians            0               7   \n",
              "2008            Chennai Super Kings            0               4   \n",
              "2008          Kolkata Knight Riders            5               0   \n",
              "2008               Rajasthan Royals            0               8   \n",
              "2008                 Mumbai Indians            0               9   \n",
              "2008            Chennai Super Kings           18               0   \n",
              "2008          Kolkata Knight Riders           23               0   \n",
              "2008               Rajasthan Royals            0               3   \n",
              "2008                Kings XI Punjab            0               9   \n",
              "2008          Kolkata Knight Riders           23               0   \n",
              "2008                 Mumbai Indians            0               9   \n",
              "2008                Kings XI Punjab           41               0   \n",
              "2008               Delhi Daredevils           12               0   \n",
              "2008                 Mumbai Indians            0               8   \n",
              "2008                Kings XI Punjab            6               0   \n",
              "2008               Rajasthan Royals           65               0   \n",
              "2008                 Mumbai Indians           25               0   \n",
              "2008            Chennai Super Kings            3               0   \n",
              "2008               Delhi Daredevils            0               5   \n",
              "2008               Rajasthan Royals            0               6   \n",
              "2008                Kings XI Punjab            1               0   \n",
              "2008    Royal Challengers Bangalore           14               0   \n",
              "2008                Kings XI Punjab            0               6   \n",
              "2008               Delhi Daredevils            0               5   \n",
              "2008               Rajasthan Royals           10               0   \n",
              "2008    Royal Challengers Bangalore            3               0   \n",
              "2008          Kolkata Knight Riders            0               3   \n",
              "2008               Rajasthan Royals            0               5   \n",
              "2008            Chennai Super Kings            0               7   \n",
              "2008               Rajasthan Royals          105               0   \n",
              "2008            Chennai Super Kings            0               9   \n",
              "2008               Rajasthan Royals            0               3   \n",
              "\n",
              "         player_of_match                                       venue  \\\n",
              "season                                                                 \n",
              "2008         BB McCullum                       M Chinnaswamy Stadium   \n",
              "2008          MEK Hussey  Punjab Cricket Association Stadium, Mohali   \n",
              "2008         MF Maharoof                            Feroz Shah Kotla   \n",
              "2008          MV Boucher                            Wankhede Stadium   \n",
              "2008           DJ Hussey                                Eden Gardens   \n",
              "2008           SR Watson                      Sawai Mansingh Stadium   \n",
              "2008            V Sehwag   Rajiv Gandhi International Stadium, Uppal   \n",
              "2008           ML Hayden             MA Chidambaram Stadium, Chepauk   \n",
              "2008           YK Pathan   Rajiv Gandhi International Stadium, Uppal   \n",
              "2008       KC Sangakkara  Punjab Cricket Association Stadium, Mohali   \n",
              "2008           SR Watson                       M Chinnaswamy Stadium   \n",
              "2008            JDP Oram             MA Chidambaram Stadium, Chepauk   \n",
              "2008        AC Gilchrist                  Dr DY Patil Sports Academy   \n",
              "2008           SM Katich  Punjab Cricket Association Stadium, Mohali   \n",
              "2008            MS Dhoni                       M Chinnaswamy Stadium   \n",
              "2008       ST Jayasuriya                                Eden Gardens   \n",
              "2008          GD McGrath                            Feroz Shah Kotla   \n",
              "2008            SE Marsh   Rajiv Gandhi International Stadium, Uppal   \n",
              "2008         SA Asnodkar                      Sawai Mansingh Stadium   \n",
              "2008            V Sehwag             MA Chidambaram Stadium, Chepauk   \n",
              "2008       R Vinay Kumar   Rajiv Gandhi International Stadium, Uppal   \n",
              "2008           IK Pathan  Punjab Cricket Association Stadium, Mohali   \n",
              "2008          SM Pollock                  Dr DY Patil Sports Academy   \n",
              "2008       Sohail Tanvir                      Sawai Mansingh Stadium   \n",
              "2008         S Sreesanth                       M Chinnaswamy Stadium   \n",
              "2008        AC Gilchrist             MA Chidambaram Stadium, Chepauk   \n",
              "2008             A Nehra                  Dr DY Patil Sports Academy   \n",
              "2008            MS Dhoni                            Feroz Shah Kotla   \n",
              "2008          SC Ganguly                                Eden Gardens   \n",
              "2008           YK Pathan                      Sawai Mansingh Stadium   \n",
              "2008        CRD Fernando                       M Chinnaswamy Stadium   \n",
              "2008            L Balaji             MA Chidambaram Stadium, Chepauk   \n",
              "2008          SC Ganguly   Rajiv Gandhi International Stadium, Uppal   \n",
              "2008           SR Watson                      Sawai Mansingh Stadium   \n",
              "2008            SE Marsh  Punjab Cricket Association Stadium, Mohali   \n",
              "2008       Shoaib Akhtar                                Eden Gardens   \n",
              "2008       ST Jayasuriya                            Wankhede Stadium   \n",
              "2008            SE Marsh  Punjab Cricket Association Stadium, Mohali   \n",
              "2008            A Mishra                            Feroz Shah Kotla   \n",
              "2008          SM Pollock                            Wankhede Stadium   \n",
              "2008    DPMD Jayawardene                            Feroz Shah Kotla   \n",
              "2008            GC Smith                      Sawai Mansingh Stadium   \n",
              "2008            DJ Bravo   Rajiv Gandhi International Stadium, Uppal   \n",
              "2008             M Ntini                                Eden Gardens   \n",
              "2008          SP Goswami                       M Chinnaswamy Stadium   \n",
              "2008           YK Pathan                                Eden Gardens   \n",
              "2008            SE Marsh                            Wankhede Stadium   \n",
              "2008            A Kumble             MA Chidambaram Stadium, Chepauk   \n",
              "2008            SE Marsh  Punjab Cricket Association Stadium, Mohali   \n",
              "2008          KD Karthik                            Feroz Shah Kotla   \n",
              "2008           JA Morkel             MA Chidambaram Stadium, Chepauk   \n",
              "2008             P Kumar                       M Chinnaswamy Stadium   \n",
              "2008            Umar Gul                                Eden Gardens   \n",
              "2008       Sohail Tanvir                      Sawai Mansingh Stadium   \n",
              "2008            SK Raina   Rajiv Gandhi International Stadium, Uppal   \n",
              "2008           SR Watson                            Wankhede Stadium   \n",
              "2008             M Ntini                            Wankhede Stadium   \n",
              "2008           YK Pathan                  Dr DY Patil Sports Academy   \n",
              "\n",
              "               umpire1         umpire2  umpire3  \n",
              "season                                           \n",
              "2008         Asad Rauf     RE Koertzen      NaN  \n",
              "2008         MR Benson      SL Shastri      NaN  \n",
              "2008         Aleem Dar  GA Pratapkumar      NaN  \n",
              "2008          SJ Davis       DJ Harper      NaN  \n",
              "2008         BF Bowden     K Hariharan      NaN  \n",
              "2008         Aleem Dar       RB Tiffin      NaN  \n",
              "2008         IL Howell       AM Saheba      NaN  \n",
              "2008         DJ Harper  GA Pratapkumar      NaN  \n",
              "2008         Asad Rauf       MR Benson      NaN  \n",
              "2008         Aleem Dar       AM Saheba      NaN  \n",
              "2008         MR Benson       IL Howell      NaN  \n",
              "2008         BF Bowden  AV Jayaprakash      NaN  \n",
              "2008         Asad Rauf      SL Shastri      NaN  \n",
              "2008       RE Koertzen       I Shivram      NaN  \n",
              "2008       BR Doctrove       RB Tiffin      NaN  \n",
              "2008         BF Bowden  AV Jayaprakash      NaN  \n",
              "2008         Aleem Dar       I Shivram      NaN  \n",
              "2008       BR Doctrove       RB Tiffin      NaN  \n",
              "2008       RE Koertzen  GA Pratapkumar      NaN  \n",
              "2008         BF Bowden     K Hariharan      NaN  \n",
              "2008         Asad Rauf     RE Koertzen      NaN  \n",
              "2008         DJ Harper       I Shivram      NaN  \n",
              "2008         IL Howell     RE Koertzen      NaN  \n",
              "2008         Asad Rauf  AV Jayaprakash      NaN  \n",
              "2008          SJ Davis     BR Doctrove      NaN  \n",
              "2008         MR Benson       RB Tiffin      NaN  \n",
              "2008         DJ Harper     RE Koertzen      NaN  \n",
              "2008         Aleem Dar       RB Tiffin      NaN  \n",
              "2008         Asad Rauf       IL Howell      NaN  \n",
              "2008         MR Benson       AM Saheba      NaN  \n",
              "2008         BF Bowden  AV Jayaprakash      NaN  \n",
              "2008    AV Jayaprakash      BG Jerling      NaN  \n",
              "2008         IL Howell       AM Saheba      NaN  \n",
              "2008          SJ Davis     RE Koertzen      NaN  \n",
              "2008       BR Doctrove       I Shivram      NaN  \n",
              "2008         Asad Rauf       IL Howell      NaN  \n",
              "2008       BR Doctrove       AM Saheba      NaN  \n",
              "2008          SJ Davis     K Hariharan      NaN  \n",
              "2008        BG Jerling  GA Pratapkumar      NaN  \n",
              "2008       BR Doctrove       DJ Harper      NaN  \n",
              "2008    AV Jayaprakash     RE Koertzen      NaN  \n",
              "2008         BF Bowden      SL Shastri      NaN  \n",
              "2008       BR Doctrove       DJ Harper      NaN  \n",
              "2008         Asad Rauf     K Hariharan      NaN  \n",
              "2008          SJ Davis  GA Pratapkumar      NaN  \n",
              "2008        BG Jerling     RE Koertzen      NaN  \n",
              "2008         BF Bowden  GA Pratapkumar      NaN  \n",
              "2008         DJ Harper       I Shivram      NaN  \n",
              "2008         Asad Rauf        SJ Davis      NaN  \n",
              "2008         BF Bowden     K Hariharan      NaN  \n",
              "2008         DJ Harper      SL Shastri      NaN  \n",
              "2008       BR Doctrove      SL Shastri      NaN  \n",
              "2008          SJ Davis       I Shivram      NaN  \n",
              "2008         BF Bowden     K Hariharan      NaN  \n",
              "2008        BG Jerling       AM Saheba      NaN  \n",
              "2008         BF Bowden     RE Koertzen      NaN  \n",
              "2008         Asad Rauf       DJ Harper      NaN  \n",
              "2008         BF Bowden     RE Koertzen      NaN  "
            ]
          },
          "metadata": {
            "tags": []
          },
          "execution_count": 103
        }
      ]
    },
    {
      "cell_type": "code",
      "metadata": {
        "id": "I6_Q5oRAFo6E",
        "colab_type": "code",
        "outputId": "3f673289-6457-447a-90be-01c1cabd68f6",
        "colab": {
          "base_uri": "https://localhost:8080/",
          "height": 364
        }
      },
      "source": [
        "# fillna attribute\n",
        "\n",
        "df['winner'].fillna('bfill', inplace=True)\n",
        "df.isnull().sum()"
      ],
      "execution_count": 0,
      "outputs": [
        {
          "output_type": "execute_result",
          "data": {
            "text/plain": [
              "date                 0\n",
              "level_0              0\n",
              "index                0\n",
              "id                   0\n",
              "city                 7\n",
              "team1                0\n",
              "team2                0\n",
              "toss_winner          0\n",
              "toss_decision        0\n",
              "result               0\n",
              "dl_applied           0\n",
              "winner               0\n",
              "win_by_runs          0\n",
              "win_by_wickets       0\n",
              "player_of_match      3\n",
              "venue                0\n",
              "umpire1              0\n",
              "umpire2              0\n",
              "umpire3            577\n",
              "dtype: int64"
            ]
          },
          "metadata": {
            "tags": []
          },
          "execution_count": 104
        }
      ]
    },
    {
      "cell_type": "code",
      "metadata": {
        "id": "TJrkUm2DWPcf",
        "colab_type": "code",
        "outputId": "01e4ad3d-a123-48e3-c4ec-98b1fe4b6c31",
        "colab": {
          "base_uri": "https://localhost:8080/",
          "height": 141
        }
      },
      "source": [
        "# Create DataFrames\n",
        "\n",
        "df1 = pd.DataFrame({'metal':['steel', 'copper', 'wood'], 'YM': [200, 100, 50], 'Ductile': [True, True, False]})\n",
        "df1\n",
        "\n",
        "# Add row\n",
        "# df1.ix[3:0] = 'cement'\n",
        "# [{'cement', 150, False}]\n",
        "\n",
        "df1.loc[3] = {'metal': 'cement', 'YM': 150, 'Ductile': False}\n",
        "# df1.ix[3] = {'metal': 'cement', 'YM': 150, 'Ductile': False}\n",
        "df1\n",
        "\n",
        "# df2 = df1.drop([3, 3], axis=0)\n",
        "df2 = df1.drop(3, axis=0)\n",
        "\n",
        "# df2 = df1.drop(['YM'], axis=1)\n",
        "df2"
      ],
      "execution_count": 0,
      "outputs": [
        {
          "output_type": "execute_result",
          "data": {
            "text/html": [
              "<div>\n",
              "<style scoped>\n",
              "    .dataframe tbody tr th:only-of-type {\n",
              "        vertical-align: middle;\n",
              "    }\n",
              "\n",
              "    .dataframe tbody tr th {\n",
              "        vertical-align: top;\n",
              "    }\n",
              "\n",
              "    .dataframe thead th {\n",
              "        text-align: right;\n",
              "    }\n",
              "</style>\n",
              "<table border=\"1\" class=\"dataframe\">\n",
              "  <thead>\n",
              "    <tr style=\"text-align: right;\">\n",
              "      <th></th>\n",
              "      <th>metal</th>\n",
              "      <th>YM</th>\n",
              "      <th>Ductile</th>\n",
              "    </tr>\n",
              "  </thead>\n",
              "  <tbody>\n",
              "    <tr>\n",
              "      <th>0</th>\n",
              "      <td>steel</td>\n",
              "      <td>200</td>\n",
              "      <td>True</td>\n",
              "    </tr>\n",
              "    <tr>\n",
              "      <th>1</th>\n",
              "      <td>copper</td>\n",
              "      <td>100</td>\n",
              "      <td>True</td>\n",
              "    </tr>\n",
              "    <tr>\n",
              "      <th>2</th>\n",
              "      <td>wood</td>\n",
              "      <td>50</td>\n",
              "      <td>False</td>\n",
              "    </tr>\n",
              "  </tbody>\n",
              "</table>\n",
              "</div>"
            ],
            "text/plain": [
              "    metal   YM  Ductile\n",
              "0   steel  200     True\n",
              "1  copper  100     True\n",
              "2    wood   50    False"
            ]
          },
          "metadata": {
            "tags": []
          },
          "execution_count": 145
        }
      ]
    },
    {
      "cell_type": "code",
      "metadata": {
        "id": "hC2-IuYcioLd",
        "colab_type": "code",
        "outputId": "eff8225c-e433-4d66-9552-2bf74940c51b",
        "colab": {
          "base_uri": "https://localhost:8080/",
          "height": 486
        }
      },
      "source": [
        "# Merging Dataframes\n",
        "\n",
        "df2 = pd.DataFrame({'metal':['steel', 'copper', 'wood'],'UTS (Mpa)': [400, 300, 40], 'YM': [200, 100, 50]}, index=['me1', 'me2', 'me3'])\n",
        "\n",
        "df2\n",
        "\n",
        "pd.concat([df1,df2])\n",
        "\n",
        "# merge df1 and df2 on metal outer right and left index true\n",
        "\n",
        "print(df1)\n",
        "print(df2)\n",
        "\n",
        "pd.merge(df1, df2,on='metal', how='outer')"
      ],
      "execution_count": 0,
      "outputs": [
        {
          "output_type": "stream",
          "text": [
            "    metal   YM  Ductile\n",
            "0   steel  200     True\n",
            "1  copper  100     True\n",
            "2    wood   50    False\n",
            "3  cement  150    False\n",
            "      metal  UTS (Mpa)   YM\n",
            "me1   steel        400  200\n",
            "me2  copper        300  100\n",
            "me3    wood         40   50\n"
          ],
          "name": "stdout"
        },
        {
          "output_type": "stream",
          "text": [
            "/usr/local/lib/python3.6/dist-packages/ipykernel_launcher.py:6: FutureWarning: Sorting because non-concatenation axis is not aligned. A future version\n",
            "of pandas will change to not sort by default.\n",
            "\n",
            "To accept the future behavior, pass 'sort=False'.\n",
            "\n",
            "To retain the current behavior and silence the warning, pass 'sort=True'.\n",
            "\n",
            "  \n"
          ],
          "name": "stderr"
        },
        {
          "output_type": "execute_result",
          "data": {
            "text/html": [
              "<div>\n",
              "<style scoped>\n",
              "    .dataframe tbody tr th:only-of-type {\n",
              "        vertical-align: middle;\n",
              "    }\n",
              "\n",
              "    .dataframe tbody tr th {\n",
              "        vertical-align: top;\n",
              "    }\n",
              "\n",
              "    .dataframe thead th {\n",
              "        text-align: right;\n",
              "    }\n",
              "</style>\n",
              "<table border=\"1\" class=\"dataframe\">\n",
              "  <thead>\n",
              "    <tr style=\"text-align: right;\">\n",
              "      <th></th>\n",
              "      <th>metal</th>\n",
              "      <th>YM_x</th>\n",
              "      <th>Ductile</th>\n",
              "      <th>UTS (Mpa)</th>\n",
              "      <th>YM_y</th>\n",
              "    </tr>\n",
              "  </thead>\n",
              "  <tbody>\n",
              "    <tr>\n",
              "      <th>0</th>\n",
              "      <td>steel</td>\n",
              "      <td>200</td>\n",
              "      <td>True</td>\n",
              "      <td>400.0</td>\n",
              "      <td>200.0</td>\n",
              "    </tr>\n",
              "    <tr>\n",
              "      <th>1</th>\n",
              "      <td>copper</td>\n",
              "      <td>100</td>\n",
              "      <td>True</td>\n",
              "      <td>300.0</td>\n",
              "      <td>100.0</td>\n",
              "    </tr>\n",
              "    <tr>\n",
              "      <th>2</th>\n",
              "      <td>wood</td>\n",
              "      <td>50</td>\n",
              "      <td>False</td>\n",
              "      <td>40.0</td>\n",
              "      <td>50.0</td>\n",
              "    </tr>\n",
              "    <tr>\n",
              "      <th>3</th>\n",
              "      <td>cement</td>\n",
              "      <td>150</td>\n",
              "      <td>False</td>\n",
              "      <td>NaN</td>\n",
              "      <td>NaN</td>\n",
              "    </tr>\n",
              "  </tbody>\n",
              "</table>\n",
              "</div>"
            ],
            "text/plain": [
              "    metal  YM_x  Ductile  UTS (Mpa)   YM_y\n",
              "0   steel   200     True      400.0  200.0\n",
              "1  copper   100     True      300.0  100.0\n",
              "2    wood    50    False       40.0   50.0\n",
              "3  cement   150    False        NaN    NaN"
            ]
          },
          "metadata": {
            "tags": []
          },
          "execution_count": 153
        }
      ]
    },
    {
      "cell_type": "code",
      "metadata": {
        "id": "2cu4b71cmKKp",
        "colab_type": "code",
        "outputId": "38c79365-bd28-4512-d79c-7c38ba47cc68",
        "colab": {
          "resources": {
            "http://localhost:8080/nbextensions/google.colab/files.js": {
              "data": "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",
              "ok": true,
              "headers": [
                [
                  "content-type",
                  "application/javascript"
                ]
              ],
              "status": 200,
              "status_text": ""
            }
          },
          "base_uri": "https://localhost:8080/",
          "height": 110
        }
      },
      "source": [
        "# Stuadent Activity\n",
        "from google.colab import files\n",
        "uploaded = files.upload()"
      ],
      "execution_count": 0,
      "outputs": [
        {
          "output_type": "display_data",
          "data": {
            "text/html": [
              "\n",
              "     <input type=\"file\" id=\"files-d4148397-93b4-435b-993f-85e9e28d9436\" name=\"files[]\" multiple disabled />\n",
              "     <output id=\"result-d4148397-93b4-435b-993f-85e9e28d9436\">\n",
              "      Upload widget is only available when the cell has been executed in the\n",
              "      current browser session. Please rerun this cell to enable.\n",
              "      </output>\n",
              "      <script src=\"/nbextensions/google.colab/files.js\"></script> "
            ],
            "text/plain": [
              "<IPython.core.display.HTML object>"
            ]
          },
          "metadata": {
            "tags": []
          }
        },
        {
          "output_type": "stream",
          "text": [
            "Saving roads.csv to roads.csv\n",
            "Saving road_accidents.csv to road_accidents.csv\n"
          ],
          "name": "stdout"
        }
      ]
    },
    {
      "cell_type": "code",
      "metadata": {
        "id": "d92VZ_0znbGs",
        "colab_type": "code",
        "outputId": "f356d7dd-9e1c-4774-fbf1-06c1ca78d323",
        "colab": {
          "base_uri": "https://localhost:8080/",
          "height": 999
        }
      },
      "source": [
        "roads = pd.read_csv('roads.csv')\n",
        "accidents = pd.read_csv('road_accidents.csv')\n",
        "\n",
        "# print(roads.shape)\n",
        "# print(accidents.shape)\n",
        "\n",
        "# print(roads.head())\n",
        "# print(accidents.head())\n",
        "\n",
        "# drop_roads = roads.drop(['Category','Total'], axis=1)\n",
        "drop_roads = roads.drop(['Category','Total'],axis=1, inplace=True)\n",
        "\n",
        "# print(roads)\n",
        "\n",
        "acc = accidents[['States/UTs', '2012', '2013', '2014']]\n",
        "\n",
        "# print(acc)\n",
        "\n",
        "# print(acc.head())\n",
        "\n",
        "pd.merge(roads, accidents, on='States/UTs', how='inner')"
      ],
      "execution_count": 0,
      "outputs": [
        {
          "output_type": "execute_result",
          "data": {
            "text/html": [
              "<div>\n",
              "<style scoped>\n",
              "    .dataframe tbody tr th:only-of-type {\n",
              "        vertical-align: middle;\n",
              "    }\n",
              "\n",
              "    .dataframe tbody tr th {\n",
              "        vertical-align: top;\n",
              "    }\n",
              "\n",
              "    .dataframe thead th {\n",
              "        text-align: right;\n",
              "    }\n",
              "</style>\n",
              "<table border=\"1\" class=\"dataframe\">\n",
              "  <thead>\n",
              "    <tr style=\"text-align: right;\">\n",
              "      <th></th>\n",
              "      <th>States/UTs</th>\n",
              "      <th>Surfaced</th>\n",
              "      <th>2006</th>\n",
              "      <th>2007</th>\n",
              "      <th>2008</th>\n",
              "      <th>2009</th>\n",
              "      <th>2010</th>\n",
              "      <th>2011</th>\n",
              "      <th>2012</th>\n",
              "      <th>2013</th>\n",
              "      <th>2014</th>\n",
              "      <th>2015</th>\n",
              "    </tr>\n",
              "  </thead>\n",
              "  <tbody>\n",
              "    <tr>\n",
              "      <th>0</th>\n",
              "      <td>Andhra Pradesh</td>\n",
              "      <td>93573</td>\n",
              "      <td>17468.0</td>\n",
              "      <td>18859.0</td>\n",
              "      <td>15320.0</td>\n",
              "      <td>17465.0</td>\n",
              "      <td>17996.0</td>\n",
              "      <td>19081.0</td>\n",
              "      <td>14578.0</td>\n",
              "      <td>17355.0</td>\n",
              "      <td>7815</td>\n",
              "      <td>7263</td>\n",
              "    </tr>\n",
              "    <tr>\n",
              "      <th>1</th>\n",
              "      <td>Arunachal Pradesh</td>\n",
              "      <td>5262</td>\n",
              "      <td>177.0</td>\n",
              "      <td>110.0</td>\n",
              "      <td>212.0</td>\n",
              "      <td>138.0</td>\n",
              "      <td>165.0</td>\n",
              "      <td>140.0</td>\n",
              "      <td>147.0</td>\n",
              "      <td>242.0</td>\n",
              "      <td>149</td>\n",
              "      <td>184</td>\n",
              "    </tr>\n",
              "    <tr>\n",
              "      <th>2</th>\n",
              "      <td>Assam</td>\n",
              "      <td>27622</td>\n",
              "      <td>2575.0</td>\n",
              "      <td>2579.0</td>\n",
              "      <td>2776.0</td>\n",
              "      <td>2938.0</td>\n",
              "      <td>3741.0</td>\n",
              "      <td>3951.0</td>\n",
              "      <td>4174.0</td>\n",
              "      <td>4112.0</td>\n",
              "      <td>4186</td>\n",
              "      <td>4121</td>\n",
              "    </tr>\n",
              "    <tr>\n",
              "      <th>3</th>\n",
              "      <td>Bihar</td>\n",
              "      <td>94421</td>\n",
              "      <td>2048.0</td>\n",
              "      <td>2677.0</td>\n",
              "      <td>3661.0</td>\n",
              "      <td>3968.0</td>\n",
              "      <td>3908.0</td>\n",
              "      <td>4746.0</td>\n",
              "      <td>5124.0</td>\n",
              "      <td>4470.0</td>\n",
              "      <td>4580</td>\n",
              "      <td>4250</td>\n",
              "    </tr>\n",
              "    <tr>\n",
              "      <th>4</th>\n",
              "      <td>Chhattisgarh</td>\n",
              "      <td>30295</td>\n",
              "      <td>5883.0</td>\n",
              "      <td>5492.0</td>\n",
              "      <td>5849.0</td>\n",
              "      <td>5616.0</td>\n",
              "      <td>6341.0</td>\n",
              "      <td>6402.0</td>\n",
              "      <td>6183.0</td>\n",
              "      <td>5824.0</td>\n",
              "      <td>6049</td>\n",
              "      <td>6072</td>\n",
              "    </tr>\n",
              "    <tr>\n",
              "      <th>5</th>\n",
              "      <td>Goa</td>\n",
              "      <td>3221</td>\n",
              "      <td>1507.0</td>\n",
              "      <td>1582.0</td>\n",
              "      <td>1935.0</td>\n",
              "      <td>1841.0</td>\n",
              "      <td>2334.0</td>\n",
              "      <td>1906.0</td>\n",
              "      <td>1752.0</td>\n",
              "      <td>1920.0</td>\n",
              "      <td>1904</td>\n",
              "      <td>2019</td>\n",
              "    </tr>\n",
              "    <tr>\n",
              "      <th>6</th>\n",
              "      <td>Gujarat</td>\n",
              "      <td>50621</td>\n",
              "      <td>11893.0</td>\n",
              "      <td>12755.0</td>\n",
              "      <td>14500.0</td>\n",
              "      <td>11845.0</td>\n",
              "      <td>11287.0</td>\n",
              "      <td>10797.0</td>\n",
              "      <td>10382.0</td>\n",
              "      <td>9434.0</td>\n",
              "      <td>8597</td>\n",
              "      <td>9101</td>\n",
              "    </tr>\n",
              "    <tr>\n",
              "      <th>7</th>\n",
              "      <td>Haryana</td>\n",
              "      <td>4622</td>\n",
              "      <td>3182.0</td>\n",
              "      <td>4214.0</td>\n",
              "      <td>4043.0</td>\n",
              "      <td>4199.0</td>\n",
              "      <td>3898.0</td>\n",
              "      <td>3907.0</td>\n",
              "      <td>3221.0</td>\n",
              "      <td>3485.0</td>\n",
              "      <td>3628</td>\n",
              "      <td>3892</td>\n",
              "    </tr>\n",
              "    <tr>\n",
              "      <th>8</th>\n",
              "      <td>Himachal Pradesh</td>\n",
              "      <td>14714</td>\n",
              "      <td>993.0</td>\n",
              "      <td>960.0</td>\n",
              "      <td>1077.0</td>\n",
              "      <td>1116.0</td>\n",
              "      <td>1198.0</td>\n",
              "      <td>1153.0</td>\n",
              "      <td>1012.0</td>\n",
              "      <td>1093.0</td>\n",
              "      <td>1138</td>\n",
              "      <td>796</td>\n",
              "    </tr>\n",
              "    <tr>\n",
              "      <th>9</th>\n",
              "      <td>Jammu &amp; Kashmir</td>\n",
              "      <td>12404</td>\n",
              "      <td>1885.0</td>\n",
              "      <td>2191.0</td>\n",
              "      <td>2874.0</td>\n",
              "      <td>2745.0</td>\n",
              "      <td>1982.0</td>\n",
              "      <td>2738.0</td>\n",
              "      <td>2540.0</td>\n",
              "      <td>2601.0</td>\n",
              "      <td>2421</td>\n",
              "      <td>2385</td>\n",
              "    </tr>\n",
              "    <tr>\n",
              "      <th>10</th>\n",
              "      <td>Jharkhand</td>\n",
              "      <td>17097</td>\n",
              "      <td>2221.0</td>\n",
              "      <td>1909.0</td>\n",
              "      <td>2044.0</td>\n",
              "      <td>2027.0</td>\n",
              "      <td>2367.0</td>\n",
              "      <td>2378.0</td>\n",
              "      <td>2496.0</td>\n",
              "      <td>2546.0</td>\n",
              "      <td>2547</td>\n",
              "      <td>2464</td>\n",
              "    </tr>\n",
              "    <tr>\n",
              "      <th>11</th>\n",
              "      <td>Karnataka</td>\n",
              "      <td>90260</td>\n",
              "      <td>21683.0</td>\n",
              "      <td>22236.0</td>\n",
              "      <td>21713.0</td>\n",
              "      <td>20433.0</td>\n",
              "      <td>21841.0</td>\n",
              "      <td>18159.0</td>\n",
              "      <td>17797.0</td>\n",
              "      <td>18541.0</td>\n",
              "      <td>16617</td>\n",
              "      <td>17923</td>\n",
              "    </tr>\n",
              "    <tr>\n",
              "      <th>12</th>\n",
              "      <td>Kerala</td>\n",
              "      <td>79354</td>\n",
              "      <td>14234.0</td>\n",
              "      <td>15629.0</td>\n",
              "      <td>14561.0</td>\n",
              "      <td>13851.0</td>\n",
              "      <td>13712.0</td>\n",
              "      <td>13765.0</td>\n",
              "      <td>14147.0</td>\n",
              "      <td>13775.0</td>\n",
              "      <td>14171</td>\n",
              "      <td>15216</td>\n",
              "    </tr>\n",
              "    <tr>\n",
              "      <th>13</th>\n",
              "      <td>Madhya Pradesh</td>\n",
              "      <td>75718</td>\n",
              "      <td>19515.0</td>\n",
              "      <td>23033.0</td>\n",
              "      <td>22927.0</td>\n",
              "      <td>23591.0</td>\n",
              "      <td>25596.0</td>\n",
              "      <td>25937.0</td>\n",
              "      <td>26726.0</td>\n",
              "      <td>26253.0</td>\n",
              "      <td>27474</td>\n",
              "      <td>27397</td>\n",
              "    </tr>\n",
              "    <tr>\n",
              "      <th>14</th>\n",
              "      <td>Maharashtra</td>\n",
              "      <td>193806</td>\n",
              "      <td>47843.0</td>\n",
              "      <td>47329.0</td>\n",
              "      <td>46895.0</td>\n",
              "      <td>46520.0</td>\n",
              "      <td>41409.0</td>\n",
              "      <td>39676.0</td>\n",
              "      <td>38227.0</td>\n",
              "      <td>36069.0</td>\n",
              "      <td>36473</td>\n",
              "      <td>37506</td>\n",
              "    </tr>\n",
              "    <tr>\n",
              "      <th>15</th>\n",
              "      <td>Manipur</td>\n",
              "      <td>3919</td>\n",
              "      <td>326.0</td>\n",
              "      <td>378.0</td>\n",
              "      <td>409.0</td>\n",
              "      <td>154.0</td>\n",
              "      <td>238.0</td>\n",
              "      <td>245.0</td>\n",
              "      <td>502.0</td>\n",
              "      <td>246.0</td>\n",
              "      <td>166</td>\n",
              "      <td>188</td>\n",
              "    </tr>\n",
              "    <tr>\n",
              "      <th>16</th>\n",
              "      <td>Meghalaya</td>\n",
              "      <td>1194</td>\n",
              "      <td>270.0</td>\n",
              "      <td>122.0</td>\n",
              "      <td>117.0</td>\n",
              "      <td>140.0</td>\n",
              "      <td>221.0</td>\n",
              "      <td>305.0</td>\n",
              "      <td>354.0</td>\n",
              "      <td>346.0</td>\n",
              "      <td>311</td>\n",
              "      <td>265</td>\n",
              "    </tr>\n",
              "    <tr>\n",
              "      <th>17</th>\n",
              "      <td>Mizoram</td>\n",
              "      <td>2561</td>\n",
              "      <td>51.0</td>\n",
              "      <td>46.0</td>\n",
              "      <td>67.0</td>\n",
              "      <td>51.0</td>\n",
              "      <td>77.0</td>\n",
              "      <td>39.0</td>\n",
              "      <td>47.0</td>\n",
              "      <td>46.0</td>\n",
              "      <td>70</td>\n",
              "      <td>36</td>\n",
              "    </tr>\n",
              "    <tr>\n",
              "      <th>18</th>\n",
              "      <td>Nagaland</td>\n",
              "      <td>10930</td>\n",
              "      <td>137.0</td>\n",
              "      <td>159.0</td>\n",
              "      <td>54.0</td>\n",
              "      <td>42.0</td>\n",
              "      <td>35.0</td>\n",
              "      <td>39.0</td>\n",
              "      <td>32.0</td>\n",
              "      <td>50.0</td>\n",
              "      <td>248</td>\n",
              "      <td>17</td>\n",
              "    </tr>\n",
              "    <tr>\n",
              "      <th>19</th>\n",
              "      <td>Odisha</td>\n",
              "      <td>213446</td>\n",
              "      <td>3642.0</td>\n",
              "      <td>3594.0</td>\n",
              "      <td>3820.0</td>\n",
              "      <td>3980.0</td>\n",
              "      <td>4397.0</td>\n",
              "      <td>4550.0</td>\n",
              "      <td>4378.0</td>\n",
              "      <td>4500.0</td>\n",
              "      <td>4405</td>\n",
              "      <td>5054</td>\n",
              "    </tr>\n",
              "    <tr>\n",
              "      <th>20</th>\n",
              "      <td>Punjab</td>\n",
              "      <td>62900</td>\n",
              "      <td>1633.0</td>\n",
              "      <td>2181.0</td>\n",
              "      <td>1942.0</td>\n",
              "      <td>2059.0</td>\n",
              "      <td>2247.0</td>\n",
              "      <td>2255.0</td>\n",
              "      <td>2175.0</td>\n",
              "      <td>2404.0</td>\n",
              "      <td>2641</td>\n",
              "      <td>2443</td>\n",
              "    </tr>\n",
              "    <tr>\n",
              "      <th>21</th>\n",
              "      <td>Rajasthan</td>\n",
              "      <td>67313</td>\n",
              "      <td>10838.0</td>\n",
              "      <td>8728.0</td>\n",
              "      <td>8582.0</td>\n",
              "      <td>8865.0</td>\n",
              "      <td>8880.0</td>\n",
              "      <td>8923.0</td>\n",
              "      <td>8407.0</td>\n",
              "      <td>8653.0</td>\n",
              "      <td>8964</td>\n",
              "      <td>8648</td>\n",
              "    </tr>\n",
              "    <tr>\n",
              "      <th>22</th>\n",
              "      <td>Sikkim</td>\n",
              "      <td>3343</td>\n",
              "      <td>51.0</td>\n",
              "      <td>47.0</td>\n",
              "      <td>68.0</td>\n",
              "      <td>160.0</td>\n",
              "      <td>72.0</td>\n",
              "      <td>127.0</td>\n",
              "      <td>53.0</td>\n",
              "      <td>80.0</td>\n",
              "      <td>146</td>\n",
              "      <td>99</td>\n",
              "    </tr>\n",
              "    <tr>\n",
              "      <th>23</th>\n",
              "      <td>Tamil Nadu</td>\n",
              "      <td>107803</td>\n",
              "      <td>22301.0</td>\n",
              "      <td>24319.0</td>\n",
              "      <td>24302.0</td>\n",
              "      <td>29076.0</td>\n",
              "      <td>26955.0</td>\n",
              "      <td>28387.0</td>\n",
              "      <td>28224.0</td>\n",
              "      <td>27333.0</td>\n",
              "      <td>24869</td>\n",
              "      <td>28533</td>\n",
              "    </tr>\n",
              "    <tr>\n",
              "      <th>24</th>\n",
              "      <td>Tripura</td>\n",
              "      <td>8976</td>\n",
              "      <td>292.0</td>\n",
              "      <td>287.0</td>\n",
              "      <td>218.0</td>\n",
              "      <td>173.0</td>\n",
              "      <td>205.0</td>\n",
              "      <td>292.0</td>\n",
              "      <td>377.0</td>\n",
              "      <td>398.0</td>\n",
              "      <td>325</td>\n",
              "      <td>310</td>\n",
              "    </tr>\n",
              "    <tr>\n",
              "      <th>25</th>\n",
              "      <td>Uttarakhand</td>\n",
              "      <td>6933</td>\n",
              "      <td>689.0</td>\n",
              "      <td>711.0</td>\n",
              "      <td>704.0</td>\n",
              "      <td>823.0</td>\n",
              "      <td>790.0</td>\n",
              "      <td>729.0</td>\n",
              "      <td>796.0</td>\n",
              "      <td>649.0</td>\n",
              "      <td>735</td>\n",
              "      <td>801</td>\n",
              "    </tr>\n",
              "    <tr>\n",
              "      <th>26</th>\n",
              "      <td>Uttar Pradesh</td>\n",
              "      <td>79446</td>\n",
              "      <td>8357.0</td>\n",
              "      <td>10182.0</td>\n",
              "      <td>11611.0</td>\n",
              "      <td>12665.0</td>\n",
              "      <td>14453.0</td>\n",
              "      <td>13801.0</td>\n",
              "      <td>15715.0</td>\n",
              "      <td>15964.0</td>\n",
              "      <td>18605</td>\n",
              "      <td>17918</td>\n",
              "    </tr>\n",
              "    <tr>\n",
              "      <th>27</th>\n",
              "      <td>West Bengal</td>\n",
              "      <td>38156</td>\n",
              "      <td>5569.0</td>\n",
              "      <td>5308.0</td>\n",
              "      <td>5813.0</td>\n",
              "      <td>5163.0</td>\n",
              "      <td>8694.0</td>\n",
              "      <td>8550.0</td>\n",
              "      <td>6025.0</td>\n",
              "      <td>5694.0</td>\n",
              "      <td>6892</td>\n",
              "      <td>6372</td>\n",
              "    </tr>\n",
              "    <tr>\n",
              "      <th>28</th>\n",
              "      <td>Andaman &amp; Nicobar Islands</td>\n",
              "      <td>111</td>\n",
              "      <td>80.0</td>\n",
              "      <td>110.0</td>\n",
              "      <td>120.0</td>\n",
              "      <td>175.0</td>\n",
              "      <td>149.0</td>\n",
              "      <td>53.0</td>\n",
              "      <td>74.0</td>\n",
              "      <td>61.0</td>\n",
              "      <td>131</td>\n",
              "      <td>153</td>\n",
              "    </tr>\n",
              "    <tr>\n",
              "      <th>29</th>\n",
              "      <td>Chandigarh</td>\n",
              "      <td>967</td>\n",
              "      <td>480.0</td>\n",
              "      <td>486.0</td>\n",
              "      <td>416.0</td>\n",
              "      <td>392.0</td>\n",
              "      <td>398.0</td>\n",
              "      <td>367.0</td>\n",
              "      <td>367.0</td>\n",
              "      <td>327.0</td>\n",
              "      <td>336</td>\n",
              "      <td>388</td>\n",
              "    </tr>\n",
              "    <tr>\n",
              "      <th>30</th>\n",
              "      <td>All India</td>\n",
              "      <td>1400988</td>\n",
              "      <td>217062.0</td>\n",
              "      <td>227212.0</td>\n",
              "      <td>228009.0</td>\n",
              "      <td>230687.0</td>\n",
              "      <td>233757.0</td>\n",
              "      <td>231455.0</td>\n",
              "      <td>223933.0</td>\n",
              "      <td>222883.0</td>\n",
              "      <td>226415</td>\n",
              "      <td>231894</td>\n",
              "    </tr>\n",
              "  </tbody>\n",
              "</table>\n",
              "</div>"
            ],
            "text/plain": [
              "                   States/UTs  Surfaced      2006      2007      2008  \\\n",
              "0              Andhra Pradesh     93573   17468.0   18859.0   15320.0   \n",
              "1           Arunachal Pradesh      5262     177.0     110.0     212.0   \n",
              "2                       Assam     27622    2575.0    2579.0    2776.0   \n",
              "3                       Bihar     94421    2048.0    2677.0    3661.0   \n",
              "4                Chhattisgarh     30295    5883.0    5492.0    5849.0   \n",
              "5                         Goa      3221    1507.0    1582.0    1935.0   \n",
              "6                     Gujarat     50621   11893.0   12755.0   14500.0   \n",
              "7                     Haryana      4622    3182.0    4214.0    4043.0   \n",
              "8            Himachal Pradesh     14714     993.0     960.0    1077.0   \n",
              "9             Jammu & Kashmir     12404    1885.0    2191.0    2874.0   \n",
              "10                  Jharkhand     17097    2221.0    1909.0    2044.0   \n",
              "11                  Karnataka     90260   21683.0   22236.0   21713.0   \n",
              "12                     Kerala     79354   14234.0   15629.0   14561.0   \n",
              "13             Madhya Pradesh     75718   19515.0   23033.0   22927.0   \n",
              "14                Maharashtra    193806   47843.0   47329.0   46895.0   \n",
              "15                    Manipur      3919     326.0     378.0     409.0   \n",
              "16                  Meghalaya      1194     270.0     122.0     117.0   \n",
              "17                    Mizoram      2561      51.0      46.0      67.0   \n",
              "18                   Nagaland     10930     137.0     159.0      54.0   \n",
              "19                     Odisha    213446    3642.0    3594.0    3820.0   \n",
              "20                     Punjab     62900    1633.0    2181.0    1942.0   \n",
              "21                  Rajasthan     67313   10838.0    8728.0    8582.0   \n",
              "22                     Sikkim      3343      51.0      47.0      68.0   \n",
              "23                 Tamil Nadu    107803   22301.0   24319.0   24302.0   \n",
              "24                    Tripura      8976     292.0     287.0     218.0   \n",
              "25                Uttarakhand      6933     689.0     711.0     704.0   \n",
              "26              Uttar Pradesh     79446    8357.0   10182.0   11611.0   \n",
              "27                West Bengal     38156    5569.0    5308.0    5813.0   \n",
              "28  Andaman & Nicobar Islands       111      80.0     110.0     120.0   \n",
              "29                 Chandigarh       967     480.0     486.0     416.0   \n",
              "30                  All India   1400988  217062.0  227212.0  228009.0   \n",
              "\n",
              "        2009      2010      2011      2012      2013    2014    2015  \n",
              "0    17465.0   17996.0   19081.0   14578.0   17355.0    7815    7263  \n",
              "1      138.0     165.0     140.0     147.0     242.0     149     184  \n",
              "2     2938.0    3741.0    3951.0    4174.0    4112.0    4186    4121  \n",
              "3     3968.0    3908.0    4746.0    5124.0    4470.0    4580    4250  \n",
              "4     5616.0    6341.0    6402.0    6183.0    5824.0    6049    6072  \n",
              "5     1841.0    2334.0    1906.0    1752.0    1920.0    1904    2019  \n",
              "6    11845.0   11287.0   10797.0   10382.0    9434.0    8597    9101  \n",
              "7     4199.0    3898.0    3907.0    3221.0    3485.0    3628    3892  \n",
              "8     1116.0    1198.0    1153.0    1012.0    1093.0    1138     796  \n",
              "9     2745.0    1982.0    2738.0    2540.0    2601.0    2421    2385  \n",
              "10    2027.0    2367.0    2378.0    2496.0    2546.0    2547    2464  \n",
              "11   20433.0   21841.0   18159.0   17797.0   18541.0   16617   17923  \n",
              "12   13851.0   13712.0   13765.0   14147.0   13775.0   14171   15216  \n",
              "13   23591.0   25596.0   25937.0   26726.0   26253.0   27474   27397  \n",
              "14   46520.0   41409.0   39676.0   38227.0   36069.0   36473   37506  \n",
              "15     154.0     238.0     245.0     502.0     246.0     166     188  \n",
              "16     140.0     221.0     305.0     354.0     346.0     311     265  \n",
              "17      51.0      77.0      39.0      47.0      46.0      70      36  \n",
              "18      42.0      35.0      39.0      32.0      50.0     248      17  \n",
              "19    3980.0    4397.0    4550.0    4378.0    4500.0    4405    5054  \n",
              "20    2059.0    2247.0    2255.0    2175.0    2404.0    2641    2443  \n",
              "21    8865.0    8880.0    8923.0    8407.0    8653.0    8964    8648  \n",
              "22     160.0      72.0     127.0      53.0      80.0     146      99  \n",
              "23   29076.0   26955.0   28387.0   28224.0   27333.0   24869   28533  \n",
              "24     173.0     205.0     292.0     377.0     398.0     325     310  \n",
              "25     823.0     790.0     729.0     796.0     649.0     735     801  \n",
              "26   12665.0   14453.0   13801.0   15715.0   15964.0   18605   17918  \n",
              "27    5163.0    8694.0    8550.0    6025.0    5694.0    6892    6372  \n",
              "28     175.0     149.0      53.0      74.0      61.0     131     153  \n",
              "29     392.0     398.0     367.0     367.0     327.0     336     388  \n",
              "30  230687.0  233757.0  231455.0  223933.0  222883.0  226415  231894  "
            ]
          },
          "metadata": {
            "tags": []
          },
          "execution_count": 187
        }
      ]
    },
    {
      "cell_type": "code",
      "metadata": {
        "id": "22qo7HQqwyUI",
        "colab_type": "code",
        "outputId": "7e7a30f1-2e81-40fa-916c-cf72f3a6f78c",
        "colab": {
          "base_uri": "https://localhost:8080/",
          "height": 303
        }
      },
      "source": [
        "# Regression ML\n",
        "\n",
        "import numpy as np\n",
        "import pandas as pd\n",
        "import matplotlib.pyplot as plt\n",
        "import seaborn as sns\n",
        "import statsmodels.api as sm\n",
        "\n",
        "cars = sm.datasets.get_rdataset('mtcars').data\n",
        "# print(cars.head(4).T)\n",
        "# print(cars.head())\n",
        "\n",
        "# print(cars.info())\n",
        "\n",
        "\n",
        "sns.regplot(x=cars.mpg, y=cars.wt, ci=95)\n",
        "\n",
        "corcoef = np.corrcoef(cars.mpg, cars.wt)[0,1]\n",
        "\n",
        "text_cc = '\\n\\n\\n\\nCorrelation coefficient is %1.4f'%corcoef\n",
        "plt.title('Scatter plot MPG Vs Weight')\n",
        "plt.suptitle(text_cc)\n",
        "plt.gcf().tight_layout()\n",
        "# plt.text(15,6.5,text_cc)\n",
        "\n",
        "plt.show()"
      ],
      "execution_count": 0,
      "outputs": [
        {
          "output_type": "display_data",
          "data": {
            "image/png": "[encoded data removed]",
            "text/plain": [
              "<Figure size 432x288 with 1 Axes>"
            ]
          },
          "metadata": {
            "tags": []
          }
        }
      ]
    },
    {
      "cell_type": "code",
      "metadata": {
        "id": "gCw-UHhq5CaM",
        "colab_type": "code",
        "outputId": "ea2bd8b4-f791-4cfb-e55a-0a3553d67922",
        "colab": {
          "base_uri": "https://localhost:8080/",
          "height": 269
        }
      },
      "source": [
        "sns.heatmap(cars.corr(), cmap='BuGn')\n",
        "plt.show()"
      ],
      "execution_count": 0,
      "outputs": [
        {
          "output_type": "display_data",
          "data": {
            "image/png": "[encoded data removed]",
            "text/plain": [
              "<Figure size 432x288 with 2 Axes>"
            ]
          },
          "metadata": {
            "tags": []
          }
        }
      ]
    },
    {
      "cell_type": "code",
      "metadata": {
        "id": "3E1aKYkB_I1-",
        "colab_type": "code",
        "outputId": "616c5f75-5cf5-4533-9bb6-df2923572492",
        "colab": {
          "base_uri": "https://localhost:8080/",
          "height": 495
        }
      },
      "source": [
        "import statsmodels.api as sm\n",
        "X  = cars.wt\n",
        "y = cars.mpg\n",
        "\n",
        "X = sm.add_constant(X)\n",
        "\n",
        "model = sm.OLS(y, X).fit()\n",
        "predections = model.predict(X)\n",
        "\n",
        "model.summary()"
      ],
      "execution_count": 0,
      "outputs": [
        {
          "output_type": "stream",
          "text": [
            "/usr/local/lib/python3.6/dist-packages/numpy/core/fromnumeric.py:2389: FutureWarning: Method .ptp is deprecated and will be removed in a future version. Use numpy.ptp instead.\n",
            "  return ptp(axis=axis, out=out, **kwargs)\n"
          ],
          "name": "stderr"
        },
        {
          "output_type": "execute_result",
          "data": {
            "text/html": [
              "<table class=\"simpletable\">\n",
              "<caption>OLS Regression Results</caption>\n",
              "<tr>\n",
              "  <th>Dep. Variable:</th>           <td>mpg</td>       <th>  R-squared:         </th> <td>   0.753</td>\n",
              "</tr>\n",
              "<tr>\n",
              "  <th>Model:</th>                   <td>OLS</td>       <th>  Adj. R-squared:    </th> <td>   0.745</td>\n",
              "</tr>\n",
              "<tr>\n",
              "  <th>Method:</th>             <td>Least Squares</td>  <th>  F-statistic:       </th> <td>   91.38</td>\n",
              "</tr>\n",
              "<tr>\n",
              "  <th>Date:</th>             <td>Tue, 07 May 2019</td> <th>  Prob (F-statistic):</th> <td>1.29e-10</td>\n",
              "</tr>\n",
              "<tr>\n",
              "  <th>Time:</th>                 <td>11:13:35</td>     <th>  Log-Likelihood:    </th> <td> -80.015</td>\n",
              "</tr>\n",
              "<tr>\n",
              "  <th>No. Observations:</th>      <td>    32</td>      <th>  AIC:               </th> <td>   164.0</td>\n",
              "</tr>\n",
              "<tr>\n",
              "  <th>Df Residuals:</th>          <td>    30</td>      <th>  BIC:               </th> <td>   167.0</td>\n",
              "</tr>\n",
              "<tr>\n",
              "  <th>Df Model:</th>              <td>     1</td>      <th>                     </th>     <td> </td>   \n",
              "</tr>\n",
              "<tr>\n",
              "  <th>Covariance Type:</th>      <td>nonrobust</td>    <th>                     </th>     <td> </td>   \n",
              "</tr>\n",
              "</table>\n",
              "<table class=\"simpletable\">\n",
              "<tr>\n",
              "    <td></td>       <th>coef</th>     <th>std err</th>      <th>t</th>      <th>P>|t|</th>  <th>[0.025</th>    <th>0.975]</th>  \n",
              "</tr>\n",
              "<tr>\n",
              "  <th>const</th> <td>   37.2851</td> <td>    1.878</td> <td>   19.858</td> <td> 0.000</td> <td>   33.450</td> <td>   41.120</td>\n",
              "</tr>\n",
              "<tr>\n",
              "  <th>wt</th>    <td>   -5.3445</td> <td>    0.559</td> <td>   -9.559</td> <td> 0.000</td> <td>   -6.486</td> <td>   -4.203</td>\n",
              "</tr>\n",
              "</table>\n",
              "<table class=\"simpletable\">\n",
              "<tr>\n",
              "  <th>Omnibus:</th>       <td> 2.988</td> <th>  Durbin-Watson:     </th> <td>   1.252</td>\n",
              "</tr>\n",
              "<tr>\n",
              "  <th>Prob(Omnibus):</th> <td> 0.225</td> <th>  Jarque-Bera (JB):  </th> <td>   2.399</td>\n",
              "</tr>\n",
              "<tr>\n",
              "  <th>Skew:</th>          <td> 0.668</td> <th>  Prob(JB):          </th> <td>   0.301</td>\n",
              "</tr>\n",
              "<tr>\n",
              "  <th>Kurtosis:</th>      <td> 2.877</td> <th>  Cond. No.          </th> <td>    12.7</td>\n",
              "</tr>\n",
              "</table><br/><br/>Warnings:<br/>[1] Standard Errors assume that the covariance matrix of the errors is correctly specified."
            ],
            "text/plain": [
              "<class 'statsmodels.iolib.summary.Summary'>\n",
              "\"\"\"\n",
              "                            OLS Regression Results                            \n",
              "==============================================================================\n",
              "Dep. Variable:                    mpg   R-squared:                       0.753\n",
              "Model:                            OLS   Adj. R-squared:                  0.745\n",
              "Method:                 Least Squares   F-statistic:                     91.38\n",
              "Date:                Tue, 07 May 2019   Prob (F-statistic):           1.29e-10\n",
              "Time:                        11:13:35   Log-Likelihood:                -80.015\n",
              "No. Observations:                  32   AIC:                             164.0\n",
              "Df Residuals:                      30   BIC:                             167.0\n",
              "Df Model:                           1                                         \n",
              "Covariance Type:            nonrobust                                         \n",
              "==============================================================================\n",
              "                 coef    std err          t      P>|t|      [0.025      0.975]\n",
              "------------------------------------------------------------------------------\n",
              "const         37.2851      1.878     19.858      0.000      33.450      41.120\n",
              "wt            -5.3445      0.559     -9.559      0.000      -6.486      -4.203\n",
              "==============================================================================\n",
              "Omnibus:                        2.988   Durbin-Watson:                   1.252\n",
              "Prob(Omnibus):                  0.225   Jarque-Bera (JB):                2.399\n",
              "Skew:                           0.668   Prob(JB):                        0.301\n",
              "Kurtosis:                       2.877   Cond. No.                         12.7\n",
              "==============================================================================\n",
              "\n",
              "Warnings:\n",
              "[1] Standard Errors assume that the covariance matrix of the errors is correctly specified.\n",
              "\"\"\""
            ]
          },
          "metadata": {
            "tags": []
          },
          "execution_count": 208
        }
      ]
    },
    {
      "cell_type": "code",
      "metadata": {
        "id": "HgmnLIriE_lI",
        "colab_type": "code",
        "outputId": "2fa49cb8-b1d3-40d3-d06d-a24074fe072c",
        "colab": {
          "base_uri": "https://localhost:8080/",
          "height": 35
        }
      },
      "source": [
        "new_X = [1, 3.0]\n",
        "\n",
        "predections = model.predict(new_X)\n",
        "\n",
        "print('Predicted mpg of the car with weight %d(000 lbs) is %2.2f' %(3.0, np.round(predections,3)))"
      ],
      "execution_count": 0,
      "outputs": [
        {
          "output_type": "stream",
          "text": [
            "Predicted mpg of the car with weight 3(000 lbs) is 21.25\n"
          ],
          "name": "stdout"
        }
      ]
    },
    {
      "cell_type": "code",
      "metadata": {
        "id": "juK5RZvNGgQQ",
        "colab_type": "code",
        "outputId": "3ed71142-6561-4cfe-e495-cccb1c412029",
        "colab": {
          "base_uri": "https://localhost:8080/",
          "height": 156
        }
      },
      "source": [
        "from sklearn import linear_model\n",
        "\n",
        "X = np.array(cars.wt).reshape(-1, 1)\n",
        "y = cars.mpg\n",
        "lm = linear_model.LinearRegression()\n",
        "model = lm.fit(X, y)\n",
        "\n",
        "\n",
        "predictions = lm.predict(X)\n",
        "# predictions = model.predict(X)\n",
        "print(predictions)\n",
        "\n",
        "# get the R2 score of the model\n",
        "print('R square is %1.3f' %lm.score(X, y))\n",
        "\n",
        "new_X = np.array([3.0]).reshape(-1,1)\n",
        "predictions = lm.predict(new_X)\n",
        "print(predictions)"
      ],
      "execution_count": 0,
      "outputs": [
        {
          "output_type": "stream",
          "text": [
            "[23.28261065 21.9197704  24.88595212 20.10265006 18.90014396 18.79325453\n",
            " 18.20536265 20.23626185 20.45004071 18.90014396 18.90014396 15.53312687\n",
            " 17.3502472  17.08302362  9.22665041  8.29671236  8.71892561 25.52728871\n",
            " 28.65380458 27.47802083 24.11100374 18.47258623 18.92686632 16.76235533\n",
            " 16.73563297 26.94357367 25.847957   29.19894068 20.34315128 22.48093991\n",
            " 18.20536265 22.4274952 ]\n",
            "R square is 0.753\n",
            "[21.25171145]\n"
          ],
          "name": "stdout"
        }
      ]
    },
    {
      "cell_type": "code",
      "metadata": {
        "id": "jRHTC3QsrQtC",
        "colab_type": "code",
        "outputId": "40c4254c-8902-4d99-845c-7588135a561d",
        "colab": {
          "base_uri": "https://localhost:8080/",
          "height": 302
        }
      },
      "source": [
        "# Redo the ex 1 : by using the variables, cars.mpg and cars.qsec\n",
        "\n",
        "import numpy as np\n",
        "import pandas as pd\n",
        "import matplotlib.pyplot as plt\n",
        "import seaborn as sns\n",
        "import statsmodels.api as sm\n",
        "\n",
        "cars = sm.datasets.get_rdataset('mtcars').data\n",
        "# print(cars.head(4).T)\n",
        "# print(cars.head())\n",
        "\n",
        "# print(cars.info())\n",
        "\n",
        "\n",
        "sns.regplot(x=cars.mpg, y=cars.qsec, ci=95)\n",
        "\n",
        "corcoef = np.corrcoef(cars.mpg, cars.qsec)[0,1]\n",
        "\n",
        "text_cc = '\\n\\n\\n\\nCorrelation coefficient is %1.4f'%corcoef\n",
        "plt.title('Scatter plot MPG Vs Qsec')\n",
        "plt.suptitle(text_cc)\n",
        "plt.gcf().tight_layout()\n",
        "# plt.text(15,6.5,text_cc)\n",
        "\n",
        "plt.show()"
      ],
      "execution_count": 0,
      "outputs": [
        {
          "output_type": "display_data",
          "data": {
            "image/png": "[encoded data removed]",
            "text/plain": [
              "<Figure size 432x288 with 1 Axes>"
            ]
          },
          "metadata": {
            "tags": []
          }
        }
      ]
    },
    {
      "cell_type": "code",
      "metadata": {
        "id": "F4NpcXZlsOtw",
        "colab_type": "code",
        "outputId": "938165b5-e755-445b-fa81-c2bcfab56b77",
        "colab": {
          "base_uri": "https://localhost:8080/",
          "height": 482
        }
      },
      "source": [
        "import statsmodels.api as sm\n",
        "X  = cars.wt\n",
        "y = cars.qsec\n",
        "\n",
        "X = sm.add_constant(X)\n",
        "\n",
        "model = sm.OLS(y, X).fit()\n",
        "predections = model.predict(X)\n",
        "\n",
        "# print(predections)\n",
        "\n",
        "model.summary()"
      ],
      "execution_count": 0,
      "outputs": [
        {
          "output_type": "stream",
          "text": [
            "/usr/local/lib/python3.6/dist-packages/numpy/core/fromnumeric.py:2389: FutureWarning: Method .ptp is deprecated and will be removed in a future version. Use numpy.ptp instead.\n",
            "  return ptp(axis=axis, out=out, **kwargs)\n"
          ],
          "name": "stderr"
        },
        {
          "output_type": "execute_result",
          "data": {
            "text/html": [
              "<table class=\"simpletable\">\n",
              "<caption>OLS Regression Results</caption>\n",
              "<tr>\n",
              "  <th>Dep. Variable:</th>          <td>qsec</td>       <th>  R-squared:         </th> <td>   0.031</td>\n",
              "</tr>\n",
              "<tr>\n",
              "  <th>Model:</th>                   <td>OLS</td>       <th>  Adj. R-squared:    </th> <td>  -0.002</td>\n",
              "</tr>\n",
              "<tr>\n",
              "  <th>Method:</th>             <td>Least Squares</td>  <th>  F-statistic:       </th> <td>  0.9446</td>\n",
              "</tr>\n",
              "<tr>\n",
              "  <th>Date:</th>             <td>Wed, 08 May 2019</td> <th>  Prob (F-statistic):</th>  <td> 0.339</td> \n",
              "</tr>\n",
              "<tr>\n",
              "  <th>Time:</th>                 <td>04:31:53</td>     <th>  Log-Likelihood:    </th> <td> -62.978</td>\n",
              "</tr>\n",
              "<tr>\n",
              "  <th>No. Observations:</th>      <td>    32</td>      <th>  AIC:               </th> <td>   130.0</td>\n",
              "</tr>\n",
              "<tr>\n",
              "  <th>Df Residuals:</th>          <td>    30</td>      <th>  BIC:               </th> <td>   132.9</td>\n",
              "</tr>\n",
              "<tr>\n",
              "  <th>Df Model:</th>              <td>     1</td>      <th>                     </th>     <td> </td>   \n",
              "</tr>\n",
              "<tr>\n",
              "  <th>Covariance Type:</th>      <td>nonrobust</td>    <th>                     </th>     <td> </td>   \n",
              "</tr>\n",
              "</table>\n",
              "<table class=\"simpletable\">\n",
              "<tr>\n",
              "    <td></td>       <th>coef</th>     <th>std err</th>      <th>t</th>      <th>P>|t|</th>  <th>[0.025</th>    <th>0.975]</th>  \n",
              "</tr>\n",
              "<tr>\n",
              "  <th>const</th> <td>   18.8753</td> <td>    1.103</td> <td>   17.120</td> <td> 0.000</td> <td>   16.624</td> <td>   21.127</td>\n",
              "</tr>\n",
              "<tr>\n",
              "  <th>wt</th>    <td>   -0.3191</td> <td>    0.328</td> <td>   -0.972</td> <td> 0.339</td> <td>   -0.990</td> <td>    0.351</td>\n",
              "</tr>\n",
              "</table>\n",
              "<table class=\"simpletable\">\n",
              "<tr>\n",
              "  <th>Omnibus:</th>       <td> 2.374</td> <th>  Durbin-Watson:     </th> <td>   1.346</td>\n",
              "</tr>\n",
              "<tr>\n",
              "  <th>Prob(Omnibus):</th> <td> 0.305</td> <th>  Jarque-Bera (JB):  </th> <td>   1.179</td>\n",
              "</tr>\n",
              "<tr>\n",
              "  <th>Skew:</th>          <td> 0.343</td> <th>  Prob(JB):          </th> <td>   0.555</td>\n",
              "</tr>\n",
              "<tr>\n",
              "  <th>Kurtosis:</th>      <td> 3.644</td> <th>  Cond. No.          </th> <td>    12.7</td>\n",
              "</tr>\n",
              "</table><br/><br/>Warnings:<br/>[1] Standard Errors assume that the covariance matrix of the errors is correctly specified."
            ],
            "text/plain": [
              "<class 'statsmodels.iolib.summary.Summary'>\n",
              "\"\"\"\n",
              "                            OLS Regression Results                            \n",
              "==============================================================================\n",
              "Dep. Variable:                   qsec   R-squared:                       0.031\n",
              "Model:                            OLS   Adj. R-squared:                 -0.002\n",
              "Method:                 Least Squares   F-statistic:                    0.9446\n",
              "Date:                Wed, 08 May 2019   Prob (F-statistic):              0.339\n",
              "Time:                        04:31:53   Log-Likelihood:                -62.978\n",
              "No. Observations:                  32   AIC:                             130.0\n",
              "Df Residuals:                      30   BIC:                             132.9\n",
              "Df Model:                           1                                         \n",
              "Covariance Type:            nonrobust                                         \n",
              "==============================================================================\n",
              "                 coef    std err          t      P>|t|      [0.025      0.975]\n",
              "------------------------------------------------------------------------------\n",
              "const         18.8753      1.103     17.120      0.000      16.624      21.127\n",
              "wt            -0.3191      0.328     -0.972      0.339      -0.990       0.351\n",
              "==============================================================================\n",
              "Omnibus:                        2.374   Durbin-Watson:                   1.346\n",
              "Prob(Omnibus):                  0.305   Jarque-Bera (JB):                1.179\n",
              "Skew:                           0.343   Prob(JB):                        0.555\n",
              "Kurtosis:                       3.644   Cond. No.                         12.7\n",
              "==============================================================================\n",
              "\n",
              "Warnings:\n",
              "[1] Standard Errors assume that the covariance matrix of the errors is correctly specified.\n",
              "\"\"\""
            ]
          },
          "metadata": {
            "tags": []
          },
          "execution_count": 5
        }
      ]
    },
    {
      "cell_type": "code",
      "metadata": {
        "id": "OSt9KdBftozK",
        "colab_type": "code",
        "outputId": "a111a30b-ac11-4ea4-9aa3-03dbabf424f8",
        "colab": {
          "base_uri": "https://localhost:8080/",
          "height": 140
        }
      },
      "source": [
        "from sklearn import linear_model\n",
        "\n",
        "X = np.array(cars.wt).reshape(-1, 1)\n",
        "y = cars.qsec\n",
        "lm = linear_model.LinearRegression()\n",
        "model = lm.fit(X, y)\n",
        "\n",
        "\n",
        "predictions = lm.predict(X)\n",
        "# predictions = model.predict(X)\n",
        "print(predictions)\n",
        "\n",
        "# get the R2 score of the model\n",
        "print('R square is %1.3f' %lm.score(X, y))\n"
      ],
      "execution_count": 0,
      "outputs": [
        {
          "output_type": "stream",
          "text": [
            "[18.03932124 17.95795553 18.13504559 17.84946793 17.77767467 17.77129304\n",
            " 17.73619411 17.85744496 17.87020821 17.77767467 17.77767467 17.57665352\n",
            " 17.68514112 17.66918706 17.20013773 17.1446176  17.16982501 18.17333533\n",
            " 18.35999782 18.28979996 18.08877882 17.75214817 17.77927007 17.65004219\n",
            " 17.64844679 18.25789185 18.1924802  18.3925441  17.86382659 17.99145906\n",
            " 17.73619411 17.98826825]\n",
            "R square is 0.031\n"
          ],
          "name": "stdout"
        }
      ]
    },
    {
      "cell_type": "code",
      "metadata": {
        "id": "yPPEbwDLr5AX",
        "colab_type": "code",
        "outputId": "db92474f-6625-4960-dd71-008893bacced",
        "colab": {
          "base_uri": "https://localhost:8080/",
          "height": 175
        }
      },
      "source": [
        "# Redo the ex 1: by using the variables cars.mpg and cars.disp\n",
        "\n",
        "from sklearn import linear_model\n",
        "\n",
        "X = np.array(cars.wt).reshape(-1, 1)\n",
        "y = cars.disp\n",
        "lm = linear_model.LinearRegression()\n",
        "model = lm.fit(X, y)\n",
        "\n",
        "\n",
        "predictions = lm.predict(X)\n",
        "# predictions = model.predict(X)\n",
        "print(predictions)\n",
        "\n",
        "# get the R2 score of the model\n",
        "print('R square is %1.3f' %lm.score(X, y))\n",
        "\n",
        "new_X = np.array([3.0]).reshape(-1,1)\n",
        "predictions = lm.predict(new_X)\n",
        "print(predictions)"
      ],
      "execution_count": 0,
      "outputs": [
        {
          "output_type": "stream",
          "text": [
            "[163.54430684 192.22623213 129.80086532 230.46879919 255.77638033\n",
            " 258.0259431  270.39853832 227.65684573 223.15772019 255.77638033\n",
            " 255.77638033 326.63760752 288.39504046 294.01894738 459.36181083\n",
            " 478.93300691 470.04723397 116.30348872  50.50377775  75.2489682\n",
            " 146.11019539 264.7746314  255.21398964 300.76763569 301.33002638\n",
            "  86.49678204 109.55480041  39.03100764 225.40728296 180.4160276\n",
            " 270.39853832 181.54080899]\n",
            "R square is 0.789\n",
            "[206.28599943]\n"
          ],
          "name": "stdout"
        }
      ]
    },
    {
      "cell_type": "code",
      "metadata": {
        "id": "Q0XxMgUstETZ",
        "colab_type": "code",
        "outputId": "c272a494-1d94-4065-f576-5567abbd5221",
        "colab": {
          "base_uri": "https://localhost:8080/",
          "height": 775
        }
      },
      "source": [
        "# Example 5:\n",
        "  \n",
        "#   Let us try with two predictions for the ex 1:\n",
        "\n",
        "import statsmodels.api as sm\n",
        "import scipy.stats as state\n",
        "import matplotlib.pyplot as plt\n",
        "import sklearn as lm\n",
        "\n",
        "X = cars[[\"wt\", \"disp\"]]\n",
        "y = cars.mpg\n",
        "\n",
        "X = sm.add_constant(X)\n",
        "print(X)\n",
        "\n",
        "model = sm.OLS(y, X).fit()\n",
        "predections = model.predict(X)\n",
        "\n",
        "model.summary()\n",
        "\n",
        "\n",
        "# sklearn\n",
        "\n",
        "lm = linear_model.LinearRegression()\n",
        "model = lm.fit(X, y)\n",
        "\n",
        "\n",
        "predictions = lm.predict(X)\n",
        "# predictions = model.predict(X)\n",
        "print(predictions)\n",
        "\n",
        "# get the R2 score of the model\n",
        "print('R square is %1.3f' %lm.score(X, y))\n"
      ],
      "execution_count": 0,
      "outputs": [
        {
          "output_type": "stream",
          "text": [
            "                     const     wt   disp\n",
            "Mazda RX4              1.0  2.620  160.0\n",
            "Mazda RX4 Wag          1.0  2.875  160.0\n",
            "Datsun 710             1.0  2.320  108.0\n",
            "Hornet 4 Drive         1.0  3.215  258.0\n",
            "Hornet Sportabout      1.0  3.440  360.0\n",
            "Valiant                1.0  3.460  225.0\n",
            "Duster 360             1.0  3.570  360.0\n",
            "Merc 240D              1.0  3.190  146.7\n",
            "Merc 230               1.0  3.150  140.8\n",
            "Merc 280               1.0  3.440  167.6\n",
            "Merc 280C              1.0  3.440  167.6\n",
            "Merc 450SE             1.0  4.070  275.8\n",
            "Merc 450SL             1.0  3.730  275.8\n",
            "Merc 450SLC            1.0  3.780  275.8\n",
            "Cadillac Fleetwood     1.0  5.250  472.0\n",
            "Lincoln Continental    1.0  5.424  460.0\n",
            "Chrysler Imperial      1.0  5.345  440.0\n",
            "Fiat 128               1.0  2.200   78.7\n",
            "Honda Civic            1.0  1.615   75.7\n",
            "Toyota Corolla         1.0  1.835   71.1\n",
            "Toyota Corona          1.0  2.465  120.1\n",
            "Dodge Challenger       1.0  3.520  318.0\n",
            "AMC Javelin            1.0  3.435  304.0\n",
            "Camaro Z28             1.0  3.840  350.0\n",
            "Pontiac Firebird       1.0  3.845  400.0\n",
            "Fiat X1-9              1.0  1.935   79.0\n",
            "Porsche 914-2          1.0  2.140  120.3\n",
            "Lotus Europa           1.0  1.513   95.1\n",
            "Ford Pantera L         1.0  3.170  351.0\n",
            "Ferrari Dino           1.0  2.770  145.0\n",
            "Maserati Bora          1.0  3.570  301.0\n",
            "Volvo 142E             1.0  2.780  121.0\n",
            "[23.34543258 22.49097212 25.27236688 19.61466657 17.05280695 19.37863092\n",
            " 16.61719966 21.67120124 21.90981024 20.46304775 20.46304775 16.43421046\n",
            " 17.57349107 17.40594981  9.00264174  8.63229506  9.25150515 26.19380093\n",
            " 28.20720798 27.55156023 24.5720278  17.52918018 18.06214676 15.88972426\n",
            " 14.98673292 27.07645222 25.65750109 28.20513213 18.11705249 23.10867994\n",
            " 17.66295957 23.50056555]\n",
            "R square is 0.781\n"
          ],
          "name": "stdout"
        },
        {
          "output_type": "stream",
          "text": [
            "/usr/local/lib/python3.6/dist-packages/numpy/core/fromnumeric.py:2389: FutureWarning: Method .ptp is deprecated and will be removed in a future version. Use numpy.ptp instead.\n",
            "  return ptp(axis=axis, out=out, **kwargs)\n"
          ],
          "name": "stderr"
        }
      ]
    },
    {
      "cell_type": "code",
      "metadata": {
        "id": "Mv9mvdQfusxA",
        "colab_type": "code",
        "outputId": "0dcab375-d452-463c-e277-ccd65824a057",
        "colab": {
          "base_uri": "https://localhost:8080/",
          "height": 705
        }
      },
      "source": [
        "X = cars.iloc[:,1:11]\n",
        "\n",
        "y = cars.mpg\n",
        "\n",
        "X = sm.add_constant(X)\n",
        "# print(X)\n",
        "\n",
        "model = sm.OLS(y, X).fit()\n",
        "predections = model.predict(X)\n",
        "\n",
        "print(model.summary())\n"
      ],
      "execution_count": 0,
      "outputs": [
        {
          "output_type": "stream",
          "text": [
            "                            OLS Regression Results                            \n",
            "==============================================================================\n",
            "Dep. Variable:                    mpg   R-squared:                       0.869\n",
            "Model:                            OLS   Adj. R-squared:                  0.807\n",
            "Method:                 Least Squares   F-statistic:                     13.93\n",
            "Date:                Wed, 08 May 2019   Prob (F-statistic):           3.79e-07\n",
            "Time:                        05:36:55   Log-Likelihood:                -69.855\n",
            "No. Observations:                  32   AIC:                             161.7\n",
            "Df Residuals:                      21   BIC:                             177.8\n",
            "Df Model:                          10                                         \n",
            "Covariance Type:            nonrobust                                         \n",
            "==============================================================================\n",
            "                 coef    std err          t      P>|t|      [0.025      0.975]\n",
            "------------------------------------------------------------------------------\n",
            "const         12.3034     18.718      0.657      0.518     -26.623      51.229\n",
            "cyl           -0.1114      1.045     -0.107      0.916      -2.285       2.062\n",
            "disp           0.0133      0.018      0.747      0.463      -0.024       0.050\n",
            "hp            -0.0215      0.022     -0.987      0.335      -0.067       0.024\n",
            "drat           0.7871      1.635      0.481      0.635      -2.614       4.188\n",
            "wt            -3.7153      1.894     -1.961      0.063      -7.655       0.224\n",
            "qsec           0.8210      0.731      1.123      0.274      -0.699       2.341\n",
            "vs             0.3178      2.105      0.151      0.881      -4.059       4.694\n",
            "am             2.5202      2.057      1.225      0.234      -1.757       6.797\n",
            "gear           0.6554      1.493      0.439      0.665      -2.450       3.761\n",
            "carb          -0.1994      0.829     -0.241      0.812      -1.923       1.524\n",
            "==============================================================================\n",
            "Omnibus:                        1.907   Durbin-Watson:                   1.861\n",
            "Prob(Omnibus):                  0.385   Jarque-Bera (JB):                1.747\n",
            "Skew:                           0.521   Prob(JB):                        0.418\n",
            "Kurtosis:                       2.526   Cond. No.                     1.22e+04\n",
            "==============================================================================\n",
            "\n",
            "Warnings:\n",
            "[1] Standard Errors assume that the covariance matrix of the errors is correctly specified.\n",
            "[2] The condition number is large, 1.22e+04. This might indicate that there are\n",
            "strong multicollinearity or other numerical problems.\n"
          ],
          "name": "stdout"
        },
        {
          "output_type": "stream",
          "text": [
            "/usr/local/lib/python3.6/dist-packages/numpy/core/fromnumeric.py:2389: FutureWarning: Method .ptp is deprecated and will be removed in a future version. Use numpy.ptp instead.\n",
            "  return ptp(axis=axis, out=out, **kwargs)\n"
          ],
          "name": "stderr"
        }
      ]
    },
    {
      "cell_type": "code",
      "metadata": {
        "id": "TrXEBxlX3gta",
        "colab_type": "code",
        "outputId": "34c8a5ac-c5b6-446b-864c-9d7cdd8ae530",
        "colab": {
          "base_uri": "https://localhost:8080/",
          "height": 652
        }
      },
      "source": [
        "X = X.drop(['cyl', 'vs', 'carb'], axis=1)\n",
        "\n",
        "# print(X)\n",
        "\n",
        "y = cars.mpg\n",
        "\n",
        "X = sm.add_constant(X)\n",
        "# print(X)\n",
        "\n",
        "model = sm.OLS(y, X).fit()\n",
        "predections = model.predict(X)\n",
        "\n",
        "print(model.summary())\n"
      ],
      "execution_count": 0,
      "outputs": [
        {
          "output_type": "stream",
          "text": [
            "                            OLS Regression Results                            \n",
            "==============================================================================\n",
            "Dep. Variable:                    mpg   R-squared:                       0.868\n",
            "Model:                            OLS   Adj. R-squared:                  0.830\n",
            "Method:                 Least Squares   F-statistic:                     22.56\n",
            "Date:                Wed, 08 May 2019   Prob (F-statistic):           4.22e-09\n",
            "Time:                        05:37:02   Log-Likelihood:                -69.967\n",
            "No. Observations:                  32   AIC:                             155.9\n",
            "Df Residuals:                      24   BIC:                             167.7\n",
            "Df Model:                           7                                         \n",
            "Covariance Type:            nonrobust                                         \n",
            "==============================================================================\n",
            "                 coef    std err          t      P>|t|      [0.025      0.975]\n",
            "------------------------------------------------------------------------------\n",
            "const          9.1976     11.542      0.797      0.433     -14.624      33.020\n",
            "disp           0.0155      0.012      1.278      0.213      -0.010       0.041\n",
            "hp            -0.0247      0.016     -1.548      0.135      -0.058       0.008\n",
            "drat           0.8102      1.450      0.559      0.582      -2.183       3.803\n",
            "wt            -4.1307      1.236     -3.342      0.003      -6.681      -1.580\n",
            "qsec           1.0098      0.489      2.066      0.050       0.001       2.019\n",
            "am             2.5898      1.835      1.411      0.171      -1.198       6.378\n",
            "gear           0.6064      1.206      0.503      0.620      -1.883       3.095\n",
            "==============================================================================\n",
            "Omnibus:                        2.570   Durbin-Watson:                   1.840\n",
            "Prob(Omnibus):                  0.277   Jarque-Bera (JB):                2.325\n",
            "Skew:                           0.613   Prob(JB):                        0.313\n",
            "Kurtosis:                       2.508   Cond. No.                     8.02e+03\n",
            "==============================================================================\n",
            "\n",
            "Warnings:\n",
            "[1] Standard Errors assume that the covariance matrix of the errors is correctly specified.\n",
            "[2] The condition number is large, 8.02e+03. This might indicate that there are\n",
            "strong multicollinearity or other numerical problems.\n"
          ],
          "name": "stdout"
        },
        {
          "output_type": "stream",
          "text": [
            "/usr/local/lib/python3.6/dist-packages/numpy/core/fromnumeric.py:2389: FutureWarning: Method .ptp is deprecated and will be removed in a future version. Use numpy.ptp instead.\n",
            "  return ptp(axis=axis, out=out, **kwargs)\n"
          ],
          "name": "stderr"
        }
      ]
    },
    {
      "cell_type": "code",
      "metadata": {
        "id": "uAH4_LUQA9Ej",
        "colab_type": "code",
        "outputId": "20f59f23-1af6-4b61-f087-9fad8521141d",
        "colab": {
          "resources": {
            "http://localhost:8080/nbextensions/google.colab/files.js": {
              "data": "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",
              "ok": true,
              "headers": [
                [
                  "content-type",
                  "application/javascript"
                ]
              ],
              "status": 200,
              "status_text": ""
            }
          },
          "base_uri": "https://localhost:8080/",
          "height": 75
        }
      },
      "source": [
        "from google.colab import files\n",
        "uploaded = files.upload()"
      ],
      "execution_count": 0,
      "outputs": [
        {
          "output_type": "display_data",
          "data": {
            "text/html": [
              "\n",
              "     <input type=\"file\" id=\"files-48ee0cd5-a426-473f-9603-565f8791c9a3\" name=\"files[]\" multiple disabled />\n",
              "     <output id=\"result-48ee0cd5-a426-473f-9603-565f8791c9a3\">\n",
              "      Upload widget is only available when the cell has been executed in the\n",
              "      current browser session. Please rerun this cell to enable.\n",
              "      </output>\n",
              "      <script src=\"/nbextensions/google.colab/files.js\"></script> "
            ],
            "text/plain": [
              "<IPython.core.display.HTML object>"
            ]
          },
          "metadata": {
            "tags": []
          }
        },
        {
          "output_type": "stream",
          "text": [
            "Saving concrete.csv to concrete.csv\n"
          ],
          "name": "stdout"
        }
      ]
    },
    {
      "cell_type": "code",
      "metadata": {
        "id": "l_nRWV9o4BJM",
        "colab_type": "code",
        "outputId": "d23fea53-189e-4b93-c928-6dc6172647cd",
        "colab": {
          "base_uri": "https://localhost:8080/",
          "height": 2407
        }
      },
      "source": [
        "# Automatic model building \n",
        "# coleniearity\n",
        "# variance inflation factor\n",
        "\n",
        "cement = pd.read_csv('concrete.csv')\n",
        "\n",
        "print(cement.shape)\n",
        "print(cement.head)\n",
        "\n",
        "\n",
        "\n",
        "from statsmodels.stats.outliers_influence import variance_inflation_factor\n",
        "\n",
        "[variance_inflation_factor(cement.values, j) for j in range(1, cement.shape[1])]"
      ],
      "execution_count": 0,
      "outputs": [
        {
          "output_type": "stream",
          "text": [
            "(1030, 9)\n",
            "<bound method NDFrame.head of       cement   slag    ash  water  superplastic  coarseagg  fineagg  age  \\\n",
            "0      141.3  212.0    0.0  203.5           0.0      971.8    748.5   28   \n",
            "1      168.9   42.2  124.3  158.3          10.8     1080.8    796.2   14   \n",
            "2      250.0    0.0   95.7  187.4           5.5      956.9    861.2   28   \n",
            "3      266.0  114.0    0.0  228.0           0.0      932.0    670.0   28   \n",
            "4      154.8  183.4    0.0  193.3           9.1     1047.4    696.7   28   \n",
            "5      255.0    0.0    0.0  192.0           0.0      889.8    945.0   90   \n",
            "6      166.8  250.2    0.0  203.5           0.0      975.6    692.6    7   \n",
            "7      251.4    0.0  118.3  188.5           6.4     1028.4    757.7   56   \n",
            "8      296.0    0.0    0.0  192.0           0.0     1085.0    765.0   28   \n",
            "9      155.0  184.0  143.0  194.0           9.0      880.0    699.0   28   \n",
            "10     151.8  178.1  138.7  167.5          18.3      944.0    694.6   28   \n",
            "11     173.0  116.0    0.0  192.0           0.0      946.8    856.8    3   \n",
            "12     385.0    0.0    0.0  186.0           0.0      966.0    763.0   14   \n",
            "13     237.5  237.5    0.0  228.0           0.0      932.0    594.0    7   \n",
            "14     167.0  187.0  195.0  185.0           7.0      898.0    636.0   28   \n",
            "15     213.8   98.1   24.5  181.7           6.7     1066.0    785.5  100   \n",
            "16     237.5  237.5    0.0  228.0           0.0      932.0    594.0   28   \n",
            "17     336.0    0.0    0.0  182.0           3.0      986.0    817.0   28   \n",
            "18     190.7    0.0  125.4  162.1           7.8     1090.0    804.0    3   \n",
            "19     312.7    0.0    0.0  178.1           8.0      999.7    822.2   28   \n",
            "20     229.7    0.0  118.2  195.2           6.1     1028.1    757.6    3   \n",
            "21     228.0  342.1    0.0  185.7           0.0      955.8    674.3    7   \n",
            "22     236.0  157.0    0.0  192.0           0.0      972.6    749.1    7   \n",
            "23     132.0  207.0  161.0  179.0           5.0      867.0    736.0   28   \n",
            "24     331.0    0.0    0.0  192.0           0.0     1025.0    821.0   28   \n",
            "25     310.0  143.0    0.0  168.0          10.0      914.0    804.0   28   \n",
            "26     304.0   76.0    0.0  228.0           0.0      932.0    670.0   90   \n",
            "27     425.0  106.3    0.0  153.5          16.5      852.1    887.1   91   \n",
            "28     166.1    0.0  163.3  176.5           4.5     1058.6    780.1   28   \n",
            "29     255.0   99.0   77.0  189.0           6.0      919.0    749.0   28   \n",
            "...      ...    ...    ...    ...           ...        ...      ...  ...   \n",
            "1000   165.0    0.0  143.6  163.8           0.0     1005.6    900.9  100   \n",
            "1001   233.8    0.0   94.6  197.9           4.6      947.0    852.2   28   \n",
            "1002   316.1  210.7    0.0  185.7           0.0      977.0    689.3   28   \n",
            "1003   323.7  282.8    0.0  183.8          10.3      942.7    659.9   56   \n",
            "1004   250.0    0.0   95.7  191.8           5.3      948.9    857.2   28   \n",
            "1005   387.0   20.0   94.0  157.0          14.3      938.0    845.0   28   \n",
            "1006   158.0    0.0  195.0  220.0          11.0      898.0    713.0   28   \n",
            "1007   288.0  192.0    0.0  192.0           0.0      932.0    717.8    3   \n",
            "1008   213.5    0.0  174.2  154.6          11.7     1052.3    775.5  100   \n",
            "1009   213.7   98.1   24.5  181.7           6.9     1065.8    785.4   28   \n",
            "1010   190.3    0.0  125.2  166.6           9.9     1079.0    798.9    3   \n",
            "1011   313.0    0.0    0.0  178.0           8.0     1000.0    822.0   28   \n",
            "1012   296.0    0.0    0.0  192.0           0.0     1085.0    765.0   90   \n",
            "1013   359.0   19.0  141.0  154.0          10.9      942.0    801.0   28   \n",
            "1014   153.1  145.0  113.0  178.5           8.0      867.2    824.0   28   \n",
            "1015   298.0    0.0  107.0  186.0           6.0      879.0    815.0   28   \n",
            "1016   140.0  133.0  103.0  200.0           7.0      916.0    753.0   28   \n",
            "1017   139.6  209.4    0.0  192.0           0.0     1047.0    806.9  180   \n",
            "1018   147.0  115.0   89.0  202.0           9.0      860.0    829.0   28   \n",
            "1019   288.0  192.0    0.0  192.0           0.0      932.0    717.8    7   \n",
            "1020   183.9  122.6    0.0  203.5           0.0      959.2    800.0    7   \n",
            "1021   203.5  305.3    0.0  203.5           0.0      963.4    630.0    3   \n",
            "1022   144.8    0.0  133.6  180.8          11.1      979.5    811.5   28   \n",
            "1023   141.3  212.0    0.0  203.5           0.0      971.8    748.5    7   \n",
            "1024   297.2    0.0  117.5  174.8           9.5     1022.8    753.5    3   \n",
            "1025   135.0    0.0  166.0  180.0          10.0      961.0    805.0   28   \n",
            "1026   531.3    0.0    0.0  141.8          28.2      852.1    893.7    3   \n",
            "1027   276.4  116.0   90.3  179.6           8.9      870.1    768.3   28   \n",
            "1028   342.0   38.0    0.0  228.0           0.0      932.0    670.0  270   \n",
            "1029   540.0    0.0    0.0  173.0           0.0     1125.0    613.0    7   \n",
            "\n",
            "      strength  \n",
            "0        29.89  \n",
            "1        23.51  \n",
            "2        29.22  \n",
            "3        45.85  \n",
            "4        18.29  \n",
            "5        21.86  \n",
            "6        15.75  \n",
            "7        36.64  \n",
            "8        21.65  \n",
            "9        28.99  \n",
            "10       36.35  \n",
            "11        6.94  \n",
            "12       27.92  \n",
            "13       26.26  \n",
            "14       23.89  \n",
            "15       49.97  \n",
            "16       30.08  \n",
            "17       44.86  \n",
            "18       15.04  \n",
            "19       25.10  \n",
            "20       13.36  \n",
            "21       21.92  \n",
            "22       20.42  \n",
            "23       33.30  \n",
            "24       31.74  \n",
            "25       45.30  \n",
            "26       49.19  \n",
            "27       65.20  \n",
            "28       21.54  \n",
            "29       33.80  \n",
            "...        ...  \n",
            "1000     37.96  \n",
            "1001     22.84  \n",
            "1002     38.70  \n",
            "1003     80.20  \n",
            "1004     27.22  \n",
            "1005     50.24  \n",
            "1006      8.54  \n",
            "1007     16.11  \n",
            "1008     59.30  \n",
            "1009     45.71  \n",
            "1010     12.55  \n",
            "1011     25.10  \n",
            "1012     29.39  \n",
            "1013     62.94  \n",
            "1014     26.23  \n",
            "1015     42.64  \n",
            "1016     36.44  \n",
            "1017     44.21  \n",
            "1018     19.99  \n",
            "1019     23.52  \n",
            "1020     10.79  \n",
            "1021      9.56  \n",
            "1022     13.20  \n",
            "1023     10.39  \n",
            "1024     21.91  \n",
            "1025     13.29  \n",
            "1026     41.30  \n",
            "1027     44.28  \n",
            "1028     55.06  \n",
            "1029     52.61  \n",
            "\n",
            "[1030 rows x 9 columns]>\n"
          ],
          "name": "stdout"
        },
        {
          "output_type": "execute_result",
          "data": {
            "text/plain": [
              "[4.442518089309977,\n",
              " 4.560002417136254,\n",
              " 92.50405550361941,\n",
              " 5.519535300205162,\n",
              " 85.89663020690534,\n",
              " 73.51499498282989,\n",
              " 2.4349424482213955,\n",
              " 14.557838329742737]"
            ]
          },
          "metadata": {
            "tags": []
          },
          "execution_count": 47
        }
      ]
    },
    {
      "cell_type": "code",
      "metadata": {
        "id": "lh6iJTo1DTgw",
        "colab_type": "code",
        "outputId": "ab877532-09d8-4cfb-f8d1-28ebbc5ad85e",
        "colab": {
          "base_uri": "https://localhost:8080/",
          "height": 670
        }
      },
      "source": [
        "# Model 'strength' ~ all features\n",
        "\n",
        "Xc = cement.iloc[: , :8]\n",
        "yc = cement.strength\n",
        "\n",
        "\n",
        "Xc = sm.add_constant(Xc)\n",
        "# print(X)\n",
        "\n",
        "model = sm.OLS(yc, Xc).fit()\n",
        "predections = model.predict(Xc)\n",
        "\n",
        "print(model.summary())"
      ],
      "execution_count": 0,
      "outputs": [
        {
          "output_type": "stream",
          "text": [
            "                            OLS Regression Results                            \n",
            "==============================================================================\n",
            "Dep. Variable:               strength   R-squared:                       0.616\n",
            "Model:                            OLS   Adj. R-squared:                  0.613\n",
            "Method:                 Least Squares   F-statistic:                     204.3\n",
            "Date:                Wed, 08 May 2019   Prob (F-statistic):          6.29e-206\n",
            "Time:                        06:12:44   Log-Likelihood:                -3869.0\n",
            "No. Observations:                1030   AIC:                             7756.\n",
            "Df Residuals:                    1021   BIC:                             7800.\n",
            "Df Model:                           8                                         \n",
            "Covariance Type:            nonrobust                                         \n",
            "================================================================================\n",
            "                   coef    std err          t      P>|t|      [0.025      0.975]\n",
            "--------------------------------------------------------------------------------\n",
            "const          -23.3312     26.586     -0.878      0.380     -75.500      28.837\n",
            "cement           0.1198      0.008     14.113      0.000       0.103       0.136\n",
            "slag             0.1039      0.010     10.247      0.000       0.084       0.124\n",
            "ash              0.0879      0.013      6.988      0.000       0.063       0.113\n",
            "water           -0.1499      0.040     -3.731      0.000      -0.229      -0.071\n",
            "superplastic     0.2922      0.093      3.128      0.002       0.109       0.476\n",
            "coarseagg        0.0181      0.009      1.926      0.054      -0.000       0.037\n",
            "fineagg          0.0202      0.011      1.887      0.059      -0.001       0.041\n",
            "age              0.1142      0.005     21.046      0.000       0.104       0.125\n",
            "==============================================================================\n",
            "Omnibus:                        5.378   Durbin-Watson:                   1.870\n",
            "Prob(Omnibus):                  0.068   Jarque-Bera (JB):                5.304\n",
            "Skew:                          -0.174   Prob(JB):                       0.0705\n",
            "Kurtosis:                       3.045   Cond. No.                     1.06e+05\n",
            "==============================================================================\n",
            "\n",
            "Warnings:\n",
            "[1] Standard Errors assume that the covariance matrix of the errors is correctly specified.\n",
            "[2] The condition number is large, 1.06e+05. This might indicate that there are\n",
            "strong multicollinearity or other numerical problems.\n"
          ],
          "name": "stdout"
        },
        {
          "output_type": "stream",
          "text": [
            "/usr/local/lib/python3.6/dist-packages/numpy/core/fromnumeric.py:2389: FutureWarning: Method .ptp is deprecated and will be removed in a future version. Use numpy.ptp instead.\n",
            "  return ptp(axis=axis, out=out, **kwargs)\n"
          ],
          "name": "stderr"
        }
      ]
    },
    {
      "cell_type": "code",
      "metadata": {
        "id": "gsbBUmDiE9Gj",
        "colab_type": "code",
        "outputId": "51e64a83-a5a9-4535-ebb2-fad3164e7a68",
        "colab": {
          "base_uri": "https://localhost:8080/",
          "height": 175
        }
      },
      "source": [
        "# VIF\n",
        "from statsmodels.stats.outliers_influence import variance_inflation_factor\n",
        "\n",
        "[variance_inflation_factor(Xc.values, j) for j in range(Xc.shape[1])]"
      ],
      "execution_count": 0,
      "outputs": [
        {
          "output_type": "execute_result",
          "data": {
            "text/plain": [
              "[6731.81153941005,\n",
              " 7.488943791050504,\n",
              " 7.276963098742672,\n",
              " 6.170634315398794,\n",
              " 7.003956703955316,\n",
              " 2.9637757487001766,\n",
              " 5.074616997481172,\n",
              " 7.005081407516046,\n",
              " 1.1183665239005427]"
            ]
          },
          "metadata": {
            "tags": []
          },
          "execution_count": 68
        }
      ]
    },
    {
      "cell_type": "code",
      "metadata": {
        "id": "uQqxr9RmKGwJ",
        "colab_type": "code",
        "outputId": "cfa6558f-d98b-4d4e-9278-a015f8ab43c8",
        "colab": {
          "base_uri": "https://localhost:8080/",
          "height": 105
        }
      },
      "source": [
        "# Drop features to get VIF < 5\n",
        "\n",
        "# Xd = Xc.drop(['water', 'slag'], axis=1)\n",
        "# Xd = Xc.drop(['cement', 'slag', 'water', 'fineagg', 'ash', 'superplastic', 'coarseagg'], axis=1)\n",
        "Xd = Xc.drop(['cement', 'water', 'fineagg', 'coarseagg'], axis=1)\n",
        "\n",
        "# VIF\n",
        "from statsmodels.stats.outliers_influence import variance_inflation_factor\n",
        "\n",
        "[variance_inflation_factor(Xd.values, j) for j in range(Xd.shape[1])]"
      ],
      "execution_count": 0,
      "outputs": [
        {
          "output_type": "execute_result",
          "data": {
            "text/plain": [
              "[4.611706497439256,\n",
              " 1.1648164502640292,\n",
              " 1.3650533648459466,\n",
              " 1.2303837819476826,\n",
              " 1.0529649753875938]"
            ]
          },
          "metadata": {
            "tags": []
          },
          "execution_count": 73
        }
      ]
    },
    {
      "cell_type": "code",
      "metadata": {
        "id": "QBwTM1ZUgcgE",
        "colab_type": "code",
        "outputId": "500202c9-bc65-4eed-8e73-9093f71c230b",
        "colab": {
          "resources": {
            "http://localhost:8080/nbextensions/google.colab/files.js": {
              "data": "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",
              "ok": true,
              "headers": [
                [
                  "content-type",
                  "application/javascript"
                ]
              ],
              "status": 200,
              "status_text": ""
            }
          },
          "base_uri": "https://localhost:8080/",
          "height": 40
        }
      },
      "source": [
        "# Simple Logistic Regression\n",
        "# in sklearn its logistic regression model\n",
        "# in OLS its logit model\n",
        "\n",
        "from google.colab import files\n",
        "uploaded = files.upload()\n",
        "\n",
        "\n"
      ],
      "execution_count": 0,
      "outputs": [
        {
          "output_type": "display_data",
          "data": {
            "text/html": [
              "\n",
              "     <input type=\"file\" id=\"files-1999bff6-7b0e-4d36-8d18-9fe1f4b3e251\" name=\"files[]\" multiple disabled />\n",
              "     <output id=\"result-1999bff6-7b0e-4d36-8d18-9fe1f4b3e251\">\n",
              "      Upload widget is only available when the cell has been executed in the\n",
              "      current browser session. Please rerun this cell to enable.\n",
              "      </output>\n",
              "      <script src=\"/nbextensions/google.colab/files.js\"></script> "
            ],
            "text/plain": [
              "<IPython.core.display.HTML object>"
            ]
          },
          "metadata": {
            "tags": []
          }
        }
      ]
    },
    {
      "cell_type": "code",
      "metadata": {
        "id": "kZbKmgZVj45H",
        "colab_type": "code",
        "outputId": "dad35355-3318-4a27-e67f-7dc6a13de416",
        "colab": {
          "base_uri": "https://localhost:8080/",
          "height": 685
        }
      },
      "source": [
        "wisc = pd.read_csv('wisc_bc_data.csv')\n",
        "\n",
        "# Check shape of cancer data\n",
        "print(wisc.shape)\n",
        "print(wisc.size)\n",
        "# Print head\n",
        "print(wisc.head())"
      ],
      "execution_count": 0,
      "outputs": [
        {
          "output_type": "stream",
          "text": [
            "(569, 32)\n",
            "18208\n",
            "         id diagnosis  radius_mean  texture_mean  perimeter_mean  area_mean  \\\n",
            "0  87139402         B        12.32         12.39           78.85      464.1   \n",
            "1   8910251         B        10.60         18.95           69.28      346.4   \n",
            "2    905520         B        11.04         16.83           70.92      373.2   \n",
            "3    868871         B        11.28         13.39           73.00      384.8   \n",
            "4   9012568         B        15.19         13.21           97.65      711.8   \n",
            "\n",
            "   smoothness_mean  compactness_mean  concavity_mean  points_mean  ...  \\\n",
            "0          0.10280           0.06981         0.03987      0.03700  ...   \n",
            "1          0.09688           0.11470         0.06387      0.02642  ...   \n",
            "2          0.10770           0.07804         0.03046      0.02480  ...   \n",
            "3          0.11640           0.11360         0.04635      0.04796  ...   \n",
            "4          0.07963           0.06934         0.03393      0.02657  ...   \n",
            "\n",
            "   radius_worst  texture_worst  perimeter_worst  area_worst  smoothness_worst  \\\n",
            "0         13.50          15.64            86.97       549.1            0.1385   \n",
            "1         11.88          22.94            78.28       424.8            0.1213   \n",
            "2         12.41          26.44            79.93       471.4            0.1369   \n",
            "3         11.92          15.77            76.53       434.0            0.1367   \n",
            "4         16.20          15.73           104.50       819.1            0.1126   \n",
            "\n",
            "   compactness_worst  concavity_worst  points_worst  symmetry_worst  \\\n",
            "0             0.1266          0.12420       0.09391          0.2827   \n",
            "1             0.2515          0.19160       0.07926          0.2940   \n",
            "2             0.1482          0.10670       0.07431          0.2998   \n",
            "3             0.1822          0.08669       0.08611          0.2102   \n",
            "4             0.1737          0.13620       0.08178          0.2487   \n",
            "\n",
            "   dimension_worst  \n",
            "0          0.06771  \n",
            "1          0.07587  \n",
            "2          0.07881  \n",
            "3          0.06784  \n",
            "4          0.06766  \n",
            "\n",
            "[5 rows x 32 columns]\n"
          ],
          "name": "stdout"
        }
      ]
    },
    {
      "cell_type": "code",
      "metadata": {
        "id": "mjZ9QJODlLqI",
        "colab_type": "code",
        "colab": {}
      },
      "source": [
        "# Model cancer.target ~ all feature\n",
        "\n",
        "# Convert to string\n",
        "wisc['diagnosis'] = wisc['diagnosis'].map({'B':'0', 'M': '1'})\n",
        "\n",
        "Xw = np.array(wisc.iloc[:, 3:])\n",
        "# np.array([3.0]).reshape(-1,1)\n",
        "yw = wisc.diagnosis\n",
        "\n",
        "\n",
        "# Xw = sm.add_constant(Xw)\n",
        "# print(Xw)\n",
        "\n",
        "# model = sm.OLS(yw, Xw).fit()\n",
        "# predections = model.predict(Xw)\n",
        "\n",
        "# print(model.summary())"
      ],
      "execution_count": 0,
      "outputs": []
    },
    {
      "cell_type": "code",
      "metadata": {
        "id": "iEG9WXmwrjiI",
        "colab_type": "code",
        "colab": {}
      },
      "source": [
        "\n",
        "model = sm.OLS(yw.astype(float), Xw.astype(float)).fit()\n",
        "predections = model.predict(Xw)\n",
        "\n",
        "print(model.summary())"
      ],
      "execution_count": 0,
      "outputs": []
    },
    {
      "cell_type": "code",
      "metadata": {
        "id": "rYKTVOAQtB_I",
        "colab_type": "code",
        "colab": {}
      },
      "source": [
        ">>> from sklearn.datasets import load_iris\n",
        ">>> from sklearn.linear_model import LogisticRegression\n",
        ">>> X, y = load_iris(return_X_y=True)\n",
        ">>> clf = LogisticRegression(random_state=0, solver='lbfgs',\n",
        "...                          multi_class='multinomial').fit(X, y)\n",
        ">>> clf.predict(X[:2, :])\n",
        "array([0, 0])\n",
        ">>> clf.predict_proba(X[:2, :]) \n",
        "array([[9.8...e-01, 1.8...e-02, 1.4...e-08],\n",
        "       [9.7...e-01, 2.8...e-02, ...e-08]])\n",
        ">>> clf.score(X, y)\n",
        "0.97..."
      ],
      "execution_count": 0,
      "outputs": []
    },
    {
      "cell_type": "code",
      "metadata": {
        "id": "JIl9AKsrtDJ-",
        "colab_type": "code",
        "outputId": "0f6d3250-8b1d-4be7-ded1-4248522819f6",
        "colab": {
          "base_uri": "https://localhost:8080/",
          "height": 237
        }
      },
      "source": [
        "from sklearn.datasets import load_iris\n",
        "from sklearn.linear_model import LogisticRegression\n",
        "\n",
        "# wisc['diagnosis'] = wisc['diagnosis'].map({'B':0, 'M': 1})\n",
        "\n",
        "# wisc['diagnosis'].dtype\n",
        "\n",
        "Xw = wisc.iloc[:, 2:]\n",
        "yw = wisc['diagnosis'].map({'B':0, 'M': 1})\n",
        "\n",
        "clf = LogisticRegression().fit(Xw,yw)\n",
        "\n",
        "y_predictions = clf.predict(Xw)\n",
        "\n",
        "print(predictions)\n",
        "print(model.summery)\n"
      ],
      "execution_count": 0,
      "outputs": [
        {
          "output_type": "error",
          "ename": "NameError",
          "evalue": "ignored",
          "traceback": [
            "\u001b[0;31m---------------------------------------------------------------------------\u001b[0m",
            "\u001b[0;31mNameError\u001b[0m                                 Traceback (most recent call last)",
            "\u001b[0;32m<ipython-input-1-b09778fa6b6a>\u001b[0m in \u001b[0;36m<module>\u001b[0;34m()\u001b[0m\n\u001b[1;32m      6\u001b[0m \u001b[0;31m# wisc['diagnosis'].dtype\u001b[0m\u001b[0;34m\u001b[0m\u001b[0;34m\u001b[0m\u001b[0;34m\u001b[0m\u001b[0m\n\u001b[1;32m      7\u001b[0m \u001b[0;34m\u001b[0m\u001b[0m\n\u001b[0;32m----> 8\u001b[0;31m \u001b[0mXw\u001b[0m \u001b[0;34m=\u001b[0m \u001b[0mwisc\u001b[0m\u001b[0;34m.\u001b[0m\u001b[0miloc\u001b[0m\u001b[0;34m[\u001b[0m\u001b[0;34m:\u001b[0m\u001b[0;34m,\u001b[0m \u001b[0;36m2\u001b[0m\u001b[0;34m:\u001b[0m\u001b[0;34m]\u001b[0m\u001b[0;34m\u001b[0m\u001b[0;34m\u001b[0m\u001b[0m\n\u001b[0m\u001b[1;32m      9\u001b[0m \u001b[0myw\u001b[0m \u001b[0;34m=\u001b[0m \u001b[0mwisc\u001b[0m\u001b[0;34m[\u001b[0m\u001b[0;34m'diagnosis'\u001b[0m\u001b[0;34m]\u001b[0m\u001b[0;34m.\u001b[0m\u001b[0mmap\u001b[0m\u001b[0;34m(\u001b[0m\u001b[0;34m{\u001b[0m\u001b[0;34m'B'\u001b[0m\u001b[0;34m:\u001b[0m\u001b[0;36m0\u001b[0m\u001b[0;34m,\u001b[0m \u001b[0;34m'M'\u001b[0m\u001b[0;34m:\u001b[0m \u001b[0;36m1\u001b[0m\u001b[0;34m}\u001b[0m\u001b[0;34m)\u001b[0m\u001b[0;34m\u001b[0m\u001b[0;34m\u001b[0m\u001b[0m\n\u001b[1;32m     10\u001b[0m \u001b[0;34m\u001b[0m\u001b[0m\n",
            "\u001b[0;31mNameError\u001b[0m: name 'wisc' is not defined"
          ]
        }
      ]
    },
    {
      "cell_type": "code",
      "metadata": {
        "id": "yKWKOfD9zm6U",
        "colab_type": "code",
        "colab": {}
      },
      "source": [
        ">>> from sklearn.metrics import balanced_accuracy_score\n",
        ">>> y_true = [0, 1, 0, 0, 1, 0]\n",
        ">>> y_pred = [0, 1, 0, 0, 0, 1]\n",
        ">>> balanced_accuracy_score(y_true, y_pred)\n",
        "0.625"
      ],
      "execution_count": 0,
      "outputs": []
    },
    {
      "cell_type": "code",
      "metadata": {
        "id": "QN7FIF7V0Rqp",
        "colab_type": "code",
        "outputId": "999f657a-e7da-4752-9dd5-ce5b84530d38",
        "colab": {
          "base_uri": "https://localhost:8080/",
          "height": 34
        }
      },
      "source": [
        "from sklearn.metrics import balanced_accuracy_score\n",
        "\n",
        "y_true = [0, 1, 0, 0, 1, 0]\n",
        "y_pred = [0, 1, 0, 0, 0, 1]\n",
        "\n",
        "balanced_accuracy_score(y_true, y_pred)"
      ],
      "execution_count": 0,
      "outputs": [
        {
          "output_type": "execute_result",
          "data": {
            "text/plain": [
              "0.625"
            ]
          },
          "metadata": {
            "tags": []
          },
          "execution_count": 131
        }
      ]
    },
    {
      "cell_type": "code",
      "metadata": {
        "id": "zJBAlZ7S4rXl",
        "colab_type": "code",
        "colab": {}
      },
      "source": [
        "# Find out\n",
        "\n",
        "# Precision, Recall\n",
        "# F1 Score\n",
        "# Sensitivity\n",
        "# Specificity"
      ],
      "execution_count": 0,
      "outputs": []
    },
    {
      "cell_type": "code",
      "metadata": {
        "id": "0KE5d3uu5hR2",
        "colab_type": "code",
        "outputId": "1bf80be1-f90c-4dc0-d7f5-2d4d8ae46d3d",
        "colab": {
          "base_uri": "https://localhost:8080/",
          "height": 34
        }
      },
      "source": [
        "from sklearn.metrics import balanced_accuracy_score\n",
        "\n",
        "# accuracy\n",
        "balanced_accuracy_score(yw, y_predictions)"
      ],
      "execution_count": 0,
      "outputs": [
        {
          "output_type": "execute_result",
          "data": {
            "text/plain": [
              "0.954376090058665"
            ]
          },
          "metadata": {
            "tags": []
          },
          "execution_count": 133
        }
      ]
    },
    {
      "cell_type": "code",
      "metadata": {
        "id": "6gzDil2X6d2S",
        "colab_type": "code",
        "colab": {}
      },
      "source": [
        "# Precision\n",
        "\n",
        "from sklearn.metrics import precision_score\n",
        "# precision_score(yw, y_predictions, average='macro')  \n",
        "precision_w = precision_score(yw, y_predictions)\n",
        "\n"
      ],
      "execution_count": 0,
      "outputs": []
    },
    {
      "cell_type": "code",
      "metadata": {
        "id": "EOmyR_YH7J5F",
        "colab_type": "code",
        "outputId": "a7b8fc07-995f-46b3-f0dc-99fbfd2f2179",
        "colab": {
          "base_uri": "https://localhost:8080/",
          "height": 34
        }
      },
      "source": [
        "precision_score(yw, y_predictions, average='micro')  \n",
        " "
      ],
      "execution_count": 0,
      "outputs": [
        {
          "output_type": "execute_result",
          "data": {
            "text/plain": [
              "0.9595782073813708"
            ]
          },
          "metadata": {
            "tags": []
          },
          "execution_count": 136
        }
      ]
    },
    {
      "cell_type": "code",
      "metadata": {
        "id": "_WBgXRmG7OVa",
        "colab_type": "code",
        "outputId": "46b91645-18ef-4271-bc06-0b98e21c2f0d",
        "colab": {
          "base_uri": "https://localhost:8080/",
          "height": 34
        }
      },
      "source": [
        "\n",
        "precision_score(yw, y_predictions, average='weighted')\n"
      ],
      "execution_count": 0,
      "outputs": [
        {
          "output_type": "execute_result",
          "data": {
            "text/plain": [
              "0.9595359909690652"
            ]
          },
          "metadata": {
            "tags": []
          },
          "execution_count": 137
        }
      ]
    },
    {
      "cell_type": "code",
      "metadata": {
        "id": "7tX8Jpn_7Rpq",
        "colab_type": "code",
        "outputId": "4806f22a-a2a9-417e-ba81-7adb0bffd25e",
        "colab": {
          "base_uri": "https://localhost:8080/",
          "height": 34
        }
      },
      "source": [
        "\n",
        "precision_score(yw, y_predictions, average=None) "
      ],
      "execution_count": 0,
      "outputs": [
        {
          "output_type": "execute_result",
          "data": {
            "text/plain": [
              "array([0.96132597, 0.95652174])"
            ]
          },
          "metadata": {
            "tags": []
          },
          "execution_count": 138
        }
      ]
    },
    {
      "cell_type": "code",
      "metadata": {
        "id": "u06BvMfg7cyZ",
        "colab_type": "code",
        "colab": {}
      },
      "source": [
        "# Recall\n",
        "\n",
        "from sklearn.metrics import recall_score\n",
        "\n",
        "recall_w = recall_score(yw, y_predictions)  "
      ],
      "execution_count": 0,
      "outputs": []
    },
    {
      "cell_type": "code",
      "metadata": {
        "id": "LNWeFoSS7k79",
        "colab_type": "code",
        "outputId": "43a01ffd-2bf4-48a1-aa45-fc3df8eaa843",
        "colab": {
          "base_uri": "https://localhost:8080/",
          "height": 34
        }
      },
      "source": [
        "from sklearn.metrics import recall_score\n",
        "\n",
        "recall_score(yw, y_predictions, average='micro')  "
      ],
      "execution_count": 0,
      "outputs": [
        {
          "output_type": "execute_result",
          "data": {
            "text/plain": [
              "0.9595782073813708"
            ]
          },
          "metadata": {
            "tags": []
          },
          "execution_count": 140
        }
      ]
    },
    {
      "cell_type": "code",
      "metadata": {
        "id": "43T1X3yd7od2",
        "colab_type": "code",
        "outputId": "75ff6646-270f-4b15-dd02-52fbe52b03ed",
        "colab": {
          "base_uri": "https://localhost:8080/",
          "height": 34
        }
      },
      "source": [
        "from sklearn.metrics import recall_score\n",
        "\n",
        "recall_score(yw, y_predictions, average='weighted')  "
      ],
      "execution_count": 0,
      "outputs": [
        {
          "output_type": "execute_result",
          "data": {
            "text/plain": [
              "0.9595782073813708"
            ]
          },
          "metadata": {
            "tags": []
          },
          "execution_count": 141
        }
      ]
    },
    {
      "cell_type": "code",
      "metadata": {
        "id": "fOuw3Wd37sIy",
        "colab_type": "code",
        "outputId": "24e6ee2f-90f7-4c9f-c033-f39077828173",
        "colab": {
          "base_uri": "https://localhost:8080/",
          "height": 34
        }
      },
      "source": [
        "recall_score(yw, y_predictions, average=None) "
      ],
      "execution_count": 0,
      "outputs": [
        {
          "output_type": "execute_result",
          "data": {
            "text/plain": [
              "array([0.97478992, 0.93396226])"
            ]
          },
          "metadata": {
            "tags": []
          },
          "execution_count": 143
        }
      ]
    },
    {
      "cell_type": "code",
      "metadata": {
        "id": "nV0lpI0m74Md",
        "colab_type": "code",
        "outputId": "b3a4a1d0-0c6a-4e9d-8791-9098fc61d7a8",
        "colab": {
          "base_uri": "https://localhost:8080/",
          "height": 34
        }
      },
      "source": [
        "from sklearn.metrics import f1_score\n",
        "\n",
        "f1_score(yw, y_predictions, average='macro')  "
      ],
      "execution_count": 0,
      "outputs": [
        {
          "output_type": "execute_result",
          "data": {
            "text/plain": [
              "0.9565592625663462"
            ]
          },
          "metadata": {
            "tags": []
          },
          "execution_count": 144
        }
      ]
    },
    {
      "cell_type": "code",
      "metadata": {
        "id": "LvWuuwrq7-6C",
        "colab_type": "code",
        "outputId": "20ed8be1-f893-48af-b7e1-c0633276a481",
        "colab": {
          "base_uri": "https://localhost:8080/",
          "height": 34
        }
      },
      "source": [
        "f1_score(yw, y_predictions, average='micro')  "
      ],
      "execution_count": 0,
      "outputs": [
        {
          "output_type": "execute_result",
          "data": {
            "text/plain": [
              "0.9595782073813708"
            ]
          },
          "metadata": {
            "tags": []
          },
          "execution_count": 145
        }
      ]
    },
    {
      "cell_type": "code",
      "metadata": {
        "id": "ISza5mSC8A8X",
        "colab_type": "code",
        "outputId": "b36d9e35-653d-4a93-c611-9f4e32ad55d1",
        "colab": {
          "base_uri": "https://localhost:8080/",
          "height": 34
        }
      },
      "source": [
        "f1_score(yw, y_predictions, average='weighted')  "
      ],
      "execution_count": 0,
      "outputs": [
        {
          "output_type": "execute_result",
          "data": {
            "text/plain": [
              "0.9594775758875367"
            ]
          },
          "metadata": {
            "tags": []
          },
          "execution_count": 147
        }
      ]
    },
    {
      "cell_type": "code",
      "metadata": {
        "id": "8qWjp_PX8GXR",
        "colab_type": "code",
        "outputId": "80f08448-e467-4cd8-b535-db3bf4277c0c",
        "colab": {
          "base_uri": "https://localhost:8080/",
          "height": 34
        }
      },
      "source": [
        "f1_score(yw, y_predictions, average=None)  "
      ],
      "execution_count": 0,
      "outputs": [
        {
          "output_type": "execute_result",
          "data": {
            "text/plain": [
              "array([0.96801113, 0.9451074 ])"
            ]
          },
          "metadata": {
            "tags": []
          },
          "execution_count": 148
        }
      ]
    },
    {
      "cell_type": "code",
      "metadata": {
        "id": "0mprniHA8dcD",
        "colab_type": "code",
        "outputId": "8b3507a6-8ecb-4ed8-c17e-3f5f53077011",
        "colab": {
          "base_uri": "https://localhost:8080/",
          "height": 52
        }
      },
      "source": [
        "from sklearn.metrics import confusion_matrix\n",
        "\n",
        "con_mat = confusion_matrix(yw, y_predictions)\n",
        "print(con_mat)"
      ],
      "execution_count": 0,
      "outputs": [
        {
          "output_type": "stream",
          "text": [
            "[[348   9]\n",
            " [ 14 198]]\n"
          ],
          "name": "stdout"
        }
      ]
    },
    {
      "cell_type": "code",
      "metadata": {
        "id": "G4CsMuau9DLU",
        "colab_type": "code",
        "outputId": "f0a68e49-b13a-4477-9f2a-6d024aefee34",
        "colab": {
          "base_uri": "https://localhost:8080/",
          "height": 34
        }
      },
      "source": [
        "# F1 score\n",
        "\n",
        "# F1 = 2 * (precision * recall) / (precision + recall)\n",
        "\n",
        "F1 = 2 * (precision_w * recall_w) / (precision_w + recall_w)\n",
        "\n",
        "print(F1)"
      ],
      "execution_count": 0,
      "outputs": [
        {
          "output_type": "stream",
          "text": [
            "0.9451073985680192\n"
          ],
          "name": "stdout"
        }
      ]
    },
    {
      "cell_type": "code",
      "metadata": {
        "id": "4v4kYga7-Eo7",
        "colab_type": "code",
        "outputId": "1301156f-cebb-4cf2-e906-cee414f444d0",
        "colab": {
          "base_uri": "https://localhost:8080/",
          "height": 34
        }
      },
      "source": [
        " from sklearn.metrics import f1_score\n",
        "  \n",
        "f1_score(yw, y_predictions, average='macro') "
      ],
      "execution_count": 0,
      "outputs": [
        {
          "output_type": "execute_result",
          "data": {
            "text/plain": [
              "0.9565592625663462"
            ]
          },
          "metadata": {
            "tags": []
          },
          "execution_count": 157
        }
      ]
    },
    {
      "cell_type": "code",
      "metadata": {
        "id": "uRctfnVn-kZu",
        "colab_type": "code",
        "colab": {}
      },
      "source": [
        ">>> from sklearn.metrics import classification_report\n",
        ">>> y_true = [0, 1, 2, 2, 2]\n",
        ">>> y_pred = [0, 0, 2, 2, 1]\n",
        ">>> target_names = ['class 0', 'class 1', 'class 2']\n",
        ">>> print(classification_report(y_true, y_pred, target_names=target_names))\n",
        "              precision    recall  f1-score   support\n",
        "\n",
        "     class 0       0.50      1.00      0.67         1\n",
        "     class 1       0.00      0.00      0.00         1\n",
        "     class 2       1.00      0.67      0.80         3\n",
        "\n",
        "   micro avg       0.60      0.60      0.60         5\n",
        "   macro avg       0.50      0.56      0.49         5\n",
        "weighted avg       0.70      0.60      0.61         5"
      ],
      "execution_count": 0,
      "outputs": []
    },
    {
      "cell_type": "code",
      "metadata": {
        "id": "nAp6_D3T-lHd",
        "colab_type": "code",
        "outputId": "b520f69e-be1d-4856-9535-300b2398e87f",
        "colab": {
          "base_uri": "https://localhost:8080/",
          "height": 175
        }
      },
      "source": [
        "# Sensitivity and Specificity\n",
        "\n",
        "from sklearn.metrics import classification_report\n",
        "\n",
        "# target_names = wisc[]\n",
        "\n",
        "print(classification_report(yw, y_predictions))"
      ],
      "execution_count": 0,
      "outputs": [
        {
          "output_type": "stream",
          "text": [
            "              precision    recall  f1-score   support\n",
            "\n",
            "           0       0.96      0.97      0.97       357\n",
            "           1       0.96      0.93      0.95       212\n",
            "\n",
            "   micro avg       0.96      0.96      0.96       569\n",
            "   macro avg       0.96      0.95      0.96       569\n",
            "weighted avg       0.96      0.96      0.96       569\n",
            "\n"
          ],
          "name": "stdout"
        }
      ]
    },
    {
      "cell_type": "code",
      "metadata": {
        "id": "DVJSq-UXAGo9",
        "colab_type": "code",
        "colab": {}
      },
      "source": [
        "sensitivity1 = cm1[0,0]/(cm1[0,0]+cm1[0,1])\n",
        "print('Sensitivity : ', sensitivity1 )\n",
        "\n",
        "specificity1 = cm1[1,1]/(cm1[1,0]+cm1[1,1])\n",
        "print('Specificity : ', specificity1)"
      ],
      "execution_count": 0,
      "outputs": []
    },
    {
      "cell_type": "code",
      "metadata": {
        "id": "iMyNdzH_AHXD",
        "colab_type": "code",
        "outputId": "18282574-77b2-46f3-ffe8-7fb2be69c6a3",
        "colab": {
          "base_uri": "https://localhost:8080/",
          "height": 52
        }
      },
      "source": [
        "sensitivity1 = con_mat[0,0]/(con_mat[0,0]+con_mat[0,1])\n",
        "print('Sensitivity : ', sensitivity1 )\n",
        "\n",
        "specificity1 = con_mat[1,1]/(con_mat[1,0]+con_mat[1,1])\n",
        "print('Specificity : ', specificity1)"
      ],
      "execution_count": 0,
      "outputs": [
        {
          "output_type": "stream",
          "text": [
            "Sensitivity :  0.9747899159663865\n",
            "Specificity :  0.9339622641509434\n"
          ],
          "name": "stdout"
        }
      ]
    },
    {
      "cell_type": "code",
      "metadata": {
        "id": "pjHKXo55P5Te",
        "colab_type": "code",
        "outputId": "165922e6-2f8f-4003-9c78-20e81801eac5",
        "colab": {
          "resources": {
            "http://localhost:8080/nbextensions/google.colab/files.js": {
              "data": "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",
              "ok": true,
              "headers": [
                [
                  "content-type",
                  "application/javascript"
                ]
              ],
              "status": 200,
              "status_text": ""
            }
          },
          "base_uri": "https://localhost:8080/",
          "height": 75
        }
      },
      "source": [
        "from google.colab import files\n",
        "uploaded = files.upload()\n"
      ],
      "execution_count": 0,
      "outputs": [
        {
          "output_type": "display_data",
          "data": {
            "text/html": [
              "\n",
              "     <input type=\"file\" id=\"files-30655a6e-d5bb-40e1-898b-82adfdff4253\" name=\"files[]\" multiple disabled />\n",
              "     <output id=\"result-30655a6e-d5bb-40e1-898b-82adfdff4253\">\n",
              "      Upload widget is only available when the cell has been executed in the\n",
              "      current browser session. Please rerun this cell to enable.\n",
              "      </output>\n",
              "      <script src=\"/nbextensions/google.colab/files.js\"></script> "
            ],
            "text/plain": [
              "<IPython.core.display.HTML object>"
            ]
          },
          "metadata": {
            "tags": []
          }
        },
        {
          "output_type": "stream",
          "text": [
            "Saving loans_imputed.csv to loans_imputed.csv\n"
          ],
          "name": "stdout"
        }
      ]
    },
    {
      "cell_type": "code",
      "metadata": {
        "id": "AHactUjTQCZo",
        "colab_type": "code",
        "outputId": "41a86a30-b166-4e99-a31b-5e5806914191",
        "colab": {
          "base_uri": "https://localhost:8080/",
          "height": 386
        }
      },
      "source": [
        "# read data from csv\n",
        "import pandas as pd\n",
        "\n",
        "loan = pd.read_csv('loans_imputed.csv')\n",
        "\n",
        "print(loan.shape)\n",
        "print(loan.head())"
      ],
      "execution_count": 0,
      "outputs": [
        {
          "output_type": "stream",
          "text": [
            "(9578, 14)\n",
            "   credit.policy             purpose  int.rate  installment  log.annual.inc  \\\n",
            "0              1  debt_consolidation    0.1189       829.10       11.350407   \n",
            "1              1         credit_card    0.1071       228.22       11.082143   \n",
            "2              1  debt_consolidation    0.1357       366.86       10.373491   \n",
            "3              1  debt_consolidation    0.1008       162.34       11.350407   \n",
            "4              1         credit_card    0.1426       102.92       11.299732   \n",
            "\n",
            "     dti  fico  days.with.cr.line  revol.bal  revol.util  inq.last.6mths  \\\n",
            "0  19.48   737        5639.958333      28854        52.1               0   \n",
            "1  14.29   707        2760.000000      33623        76.7               0   \n",
            "2  11.63   682        4710.000000       3511        25.6               1   \n",
            "3   8.10   712        2699.958333      33667        73.2               1   \n",
            "4  14.97   667        4066.000000       4740        39.5               0   \n",
            "\n",
            "   delinq.2yrs  pub.rec  not.fully.paid  \n",
            "0            0        0               0  \n",
            "1            0        0               0  \n",
            "2            0        0               0  \n",
            "3            0        0               0  \n",
            "4            1        0               0  \n"
          ],
          "name": "stdout"
        }
      ]
    },
    {
      "cell_type": "code",
      "metadata": {
        "id": "53BlnXb-Qref",
        "colab_type": "code",
        "outputId": "1d28fd93-ff5d-4bd2-a808-05a63c495ac5",
        "colab": {
          "base_uri": "https://localhost:8080/",
          "height": 368
        }
      },
      "source": [
        "# loan: Modelcredit.policy ~ all features\n",
        "\n",
        "loan['purpose'] = loan['purpose'].map({'credit_card': 0, 'debt_consolidation': 1, 'educational': 2, 'major_purchase': 3, 'small_business': 4, 'all_other': 5, 'home_improvement': 6})\n",
        "Xl = loan.iloc[:, 1:]\n",
        "yl = loan['credit.policy']\n",
        "\n",
        "\n",
        "print(Xl.head())\n"
      ],
      "execution_count": 0,
      "outputs": [
        {
          "output_type": "stream",
          "text": [
            "   purpose  int.rate  installment  log.annual.inc    dti  fico  \\\n",
            "0        1    0.1189       829.10       11.350407  19.48   737   \n",
            "1        0    0.1071       228.22       11.082143  14.29   707   \n",
            "2        1    0.1357       366.86       10.373491  11.63   682   \n",
            "3        1    0.1008       162.34       11.350407   8.10   712   \n",
            "4        0    0.1426       102.92       11.299732  14.97   667   \n",
            "\n",
            "   days.with.cr.line  revol.bal  revol.util  inq.last.6mths  delinq.2yrs  \\\n",
            "0        5639.958333      28854        52.1               0            0   \n",
            "1        2760.000000      33623        76.7               0            0   \n",
            "2        4710.000000       3511        25.6               1            0   \n",
            "3        2699.958333      33667        73.2               1            0   \n",
            "4        4066.000000       4740        39.5               0            1   \n",
            "\n",
            "   pub.rec  not.fully.paid  \n",
            "0        0               0  \n",
            "1        0               0  \n",
            "2        0               0  \n",
            "3        0               0  \n",
            "4        0               0  \n"
          ],
          "name": "stdout"
        }
      ]
    },
    {
      "cell_type": "code",
      "metadata": {
        "id": "5GRZ38EM16_c",
        "colab_type": "code",
        "outputId": "db9475d6-842d-4505-fe8f-3fb23c49be6e",
        "colab": {
          "base_uri": "https://localhost:8080/",
          "height": 90
        }
      },
      "source": [
        "from sklearn.linear_model import LogisticRegression\n",
        "\n",
        "modelL = LogisticRegression().fit(Xl,yl)\n",
        "\n",
        "loan_predictions = modelL.predict(Xl)\n",
        "\n",
        "print(loan_predictions)\n",
        "# print(modelL.summary())"
      ],
      "execution_count": 0,
      "outputs": [
        {
          "output_type": "stream",
          "text": [
            "[1 1 1 ... 0 0 0]\n"
          ],
          "name": "stdout"
        },
        {
          "output_type": "stream",
          "text": [
            "/usr/local/lib/python3.6/dist-packages/sklearn/linear_model/logistic.py:433: FutureWarning: Default solver will be changed to 'lbfgs' in 0.22. Specify a solver to silence this warning.\n",
            "  FutureWarning)\n"
          ],
          "name": "stderr"
        }
      ]
    },
    {
      "cell_type": "code",
      "metadata": {
        "id": "QnRQfv0nRpS4",
        "colab_type": "code",
        "outputId": "8c37919a-8459-4230-b5eb-e2dee151aa31",
        "colab": {
          "base_uri": "https://localhost:8080/",
          "height": 228
        }
      },
      "source": [
        "# Print precision_score, classification_report, f1_score, accuracy_score\n",
        "\n",
        "from sklearn.metrics import precision_score, classification_report, f1_score, accuracy_score\n",
        "\n",
        "precision_loan = precision_score(yl, loan_predictions)\n",
        "print(precision_loan)\n",
        "\n",
        "cla_report_loan = classification_report(yl, loan_predictions)\n",
        "print(cla_report_loan)\n",
        "\n",
        "f1_loan = f1_score(yl, loan_predictions)\n",
        "print(f1_loan)\n",
        "\n",
        "accuracy_loan = accuracy_score(yl, loan_predictions)\n",
        "print(accuracy_loan)\n",
        "\n",
        "\n"
      ],
      "execution_count": 0,
      "outputs": [
        {
          "output_type": "stream",
          "text": [
            "0.90625\n",
            "              precision    recall  f1-score   support\n",
            "\n",
            "           0       0.85      0.58      0.69      1868\n",
            "           1       0.91      0.97      0.94      7710\n",
            "\n",
            "   micro avg       0.90      0.90      0.90      9578\n",
            "   macro avg       0.88      0.78      0.81      9578\n",
            "weighted avg       0.89      0.90      0.89      9578\n",
            "\n",
            "0.9389923740467558\n",
            "0.8980998120693255\n"
          ],
          "name": "stdout"
        }
      ]
    },
    {
      "cell_type": "code",
      "metadata": {
        "id": "fZR3N-Txx84F",
        "colab_type": "code",
        "colab": {}
      },
      "source": [
        "# Day 4 : \n",
        "\n",
        "# Push the accuracy to >95%\n",
        "# Bar Plot\n",
        "# Scatter Plot\n",
        "# Histogram Plot b/w any 2 features\n",
        "# Bonus : with all of the features"
      ],
      "execution_count": 0,
      "outputs": []
    },
    {
      "cell_type": "code",
      "metadata": {
        "id": "zrEiget5y5kD",
        "colab_type": "code",
        "colab": {}
      },
      "source": [
        "# 1. Push the accuracy to >95%\n",
        "\n",
        "X_loan_d  = Xl.drop([Xl['purpose']], axis=0)\n",
        "\n",
        "# df[df['column name'].map(len) < 2]\n",
        "\n",
        "print(X_loan_d)\n",
        "\n",
        "# {'credit_card': 0, 'debt_consolidation': 1, 'educational': 2, 'major_purchase': 3, 'small_business': 4, 'all_other': 5, 'home_improvement': 6})\n",
        "\n",
        "# from sklearn.linear_model import LogisticRegression\n",
        "\n",
        "# modelL = LogisticRegression().fit(X_loan_d,yl)\n",
        "\n",
        "# loan_predictions = modelL.predict(X_loan_d)\n",
        "\n",
        "# print(loan_predictions)"
      ],
      "execution_count": 0,
      "outputs": []
    },
    {
      "cell_type": "code",
      "metadata": {
        "id": "coGBNoBaBneG",
        "colab_type": "code",
        "outputId": "5f0f89f1-038e-43e9-907f-8eaf151890c8",
        "colab": {
          "base_uri": "https://localhost:8080/",
          "height": 283
        }
      },
      "source": [
        "# Bar Plot\n",
        "\n",
        ">>> df = pd.DataFrame({'lab':['A', 'B', 'C'], 'val':[10, 30, 20]})\n",
        ">>> ax = df.plot.bar(x='lab', y='val', rot=0)"
      ],
      "execution_count": 0,
      "outputs": [
        {
          "output_type": "display_data",
          "data": {
            "image/png": "[encoded data removed]",
            "text/plain": [
              "<Figure size 432x288 with 1 Axes>"
            ]
          },
          "metadata": {
            "tags": []
          }
        }
      ]
    },
    {
      "cell_type": "code",
      "metadata": {
        "id": "sTvfq2fCB5Hb",
        "colab_type": "code",
        "colab": {}
      },
      "source": [
        "# Bar Plot for load\n",
        "\n",
        "import pandas as pd\n",
        "\n",
        "loan = pd.read_csv('loans_imputed.csv')\n",
        "\n",
        "print(loan.head())\n",
        "# df = pd.DataFrame({'purpose':loan['purpose'], 'interest':loan['int.rate']})\n",
        "ax = loan.plot.bar(x='purpose', y='int.rate', rot=0)\n",
        "# loan.plot.bar(rot=0)"
      ],
      "execution_count": 0,
      "outputs": []
    },
    {
      "cell_type": "code",
      "metadata": {
        "id": "jhQpf_FWGGsO",
        "colab_type": "code",
        "colab": {}
      },
      "source": [
        "import matplotlib.pyplot as plt\n",
        "import numpy as np\n",
        "\n",
        "X_purpose = ['credit_card', 'debt_consolidation', 'educational', 'major_purchase', 'small_business', 'all_other', 'home_improvement']\n",
        "\n",
        "Y_intrest = loan['int.rate']\n",
        "print(Y_intrest)"
      ],
      "execution_count": 0,
      "outputs": []
    },
    {
      "cell_type": "code",
      "metadata": {
        "id": "vLHpCg-TILOV",
        "colab_type": "code",
        "outputId": "fc8d74f6-9197-4dd8-b90b-7799a21294cc",
        "colab": {
          "base_uri": "https://localhost:8080/",
          "height": 311
        }
      },
      "source": [
        "import matplotlib.pyplot as plt\n",
        "import numpy as np\n",
        "\n",
        "# X_purpose = loan['installment']\n",
        "# Y_intrest = loan['int.rate']\n",
        "\n",
        "X_purpose = ['credit_card', 'debt_consolidation', 'educational', 'major_purchase', 'small_business', 'all_other', 'home_improvement']\n",
        "\n",
        "\n",
        "Y_intrest =  [\n",
        "    941,\n",
        "    854,\n",
        "    4595,\n",
        "    2125,\n",
        "    942,\n",
        "    509,\n",
        "    548\n",
        "]\n",
        "\n",
        "    # this is for plotting purpose\n",
        "index = np.arange(len(X_purpose))\n",
        "plt.bar(index, Y_intrest)\n",
        "plt.xlabel('Genre', fontsize=5)\n",
        "plt.ylabel('rate of intrest', fontsize=5)\n",
        "plt.xticks(index, X_purpose, fontsize=5, rotation=30)\n",
        "plt.title('Loan: purpose Vs intrest')\n",
        "plt.show()\n",
        "\n"
      ],
      "execution_count": 0,
      "outputs": [
        {
          "output_type": "display_data",
          "data": {
            "image/png": "[encoded data removed]",
            "text/plain": [
              "<Figure size 432x288 with 1 Axes>"
            ]
          },
          "metadata": {
            "tags": []
          }
        }
      ]
    },
    {
      "cell_type": "code",
      "metadata": {
        "id": "F5RDXt5PMWxz",
        "colab_type": "code",
        "outputId": "215e85d3-03fb-4d9e-83a7-eaabb3ae1a87",
        "colab": {
          "base_uri": "https://localhost:8080/",
          "height": 333
        }
      },
      "source": [
        "import numpy as np\n",
        "import matplotlib.pyplot as plt\n",
        "\n",
        "# Create data\n",
        "N = 500\n",
        "x = np.random.rand(N)\n",
        "y = np.random.rand(N)\n",
        "colors = (0,0,0)\n",
        "area = np.pi*3\n",
        "\n",
        "# Plot\n",
        "plt.scatter(x, y, s=area, c=colors, alpha=0.5)\n",
        "plt.title('Scatter plot pythonspot.com')\n",
        "plt.xlabel('x')\n",
        "plt.ylabel('y')\n",
        "plt.show()"
      ],
      "execution_count": 0,
      "outputs": [
        {
          "output_type": "stream",
          "text": [
            "'c' argument looks like a single numeric RGB or RGBA sequence, which should be avoided as value-mapping will have precedence in case its length matches with 'x' & 'y'.  Please use a 2-D array with a single row if you really want to specify the same RGB or RGBA value for all points.\n"
          ],
          "name": "stderr"
        },
        {
          "output_type": "display_data",
          "data": {
            "image/png": "[encoded data removed]",
            "text/plain": [
              "<Figure size 432x288 with 1 Axes>"
            ]
          },
          "metadata": {
            "tags": []
          }
        }
      ]
    },
    {
      "cell_type": "code",
      "metadata": {
        "id": "7obdrUU2Mivt",
        "colab_type": "code",
        "colab": {}
      },
      "source": [
        "import numpy as np\n",
        "import matplotlib.pyplot as plt\n",
        "\n",
        "# Create data\n",
        "N = 500\n",
        "x = np.random.rand(N)\n",
        "y = np.random.rand(N)\n",
        "colors = (0,0,0)\n",
        "area = np.pi*3\n",
        "\n",
        "# Plot\n",
        "plt.scatter(x, y, s=area, c=colors, alpha=0.5)\n",
        "plt.title('Scatter plot pythonspot.com')\n",
        "plt.xlabel('x')\n",
        "plt.ylabel('y')\n",
        "plt.show()"
      ],
      "execution_count": 0,
      "outputs": []
    },
    {
      "cell_type": "code",
      "metadata": {
        "id": "ZHbpZicjNfcX",
        "colab_type": "code",
        "colab": {}
      },
      "source": [
        "import numpy as np\n",
        "import matplotlib.pyplot as plt\n",
        "\n",
        "# Create data\n",
        "N = 60\n",
        "g1 = (0.6 + 0.6 * np.random.rand(N), np.random.rand(N))\n",
        "g2 = (0.4+0.3 * np.random.rand(N), 0.5*np.random.rand(N))\n",
        "g3 = (0.3*np.random.rand(N),0.3*np.random.rand(N))\n",
        "\n",
        "data = (g1, g2, g3)\n",
        "colors = (\"red\", \"green\", \"blue\")\n",
        "groups = (\"coffee\", \"tea\", \"water\")\n",
        "\n",
        "# Create plot\n",
        "fig = plt.figure()\n",
        "ax = fig.add_subplot(1, 1, 1, axisbg=\"1.0\")\n",
        "\n",
        "for data, color, group in zip(data, colors, groups):\n",
        "  x, y = data\n",
        "  ax.scatter(x, y, alpha=0.8, c=color, edgecolors='none', s=30, label=group)\n",
        "\n",
        "plt.title('Matplot scatter plot')\n",
        "plt.legend(loc=2)\n",
        "plt.show()"
      ],
      "execution_count": 0,
      "outputs": []
    },
    {
      "cell_type": "code",
      "metadata": {
        "id": "BfZaPG-lOpTw",
        "colab_type": "code",
        "outputId": "7bc7a67a-299a-4598-c4e0-bb2e510437f2",
        "colab": {
          "base_uri": "https://localhost:8080/",
          "height": 473
        }
      },
      "source": [
        "N_points = 100000\n",
        "n_bins = 20\n",
        "\n",
        "# Generate a normal distribution, center at x=0 and y=5\n",
        "# x = np.random.randn(N_points)\n",
        "# y = .4 * x + np.random.randn(100000) + 5\n",
        "\n",
        "x = loan['installment']\n",
        "y = loan['int.rate']\n",
        "\n",
        "fig, axs = plt.subplots(1, 2, sharey=True, tight_layout=True)\n",
        "\n",
        "# We can set the number of bins with the `bins` kwarg\n",
        "axs[0].hist(x, bins=n_bins)\n",
        "axs[1].hist(y, bins=n_bins)"
      ],
      "execution_count": 0,
      "outputs": [
        {
          "output_type": "execute_result",
          "data": {
            "text/plain": [
              "(array([  21.,  235.,  613.,  605.,  681.,  409.,  879., 1375., 1034.,\n",
              "        1083.,  811.,  766.,  410.,  217.,  183.,  119.,   68.,   32.,\n",
              "          20.,   17.]),\n",
              " array([0.06   , 0.06782, 0.07564, 0.08346, 0.09128, 0.0991 , 0.10692,\n",
              "        0.11474, 0.12256, 0.13038, 0.1382 , 0.14602, 0.15384, 0.16166,\n",
              "        0.16948, 0.1773 , 0.18512, 0.19294, 0.20076, 0.20858, 0.2164 ]),\n",
              " <a list of 20 Patch objects>)"
            ]
          },
          "metadata": {
            "tags": []
          },
          "execution_count": 31
        },
        {
          "output_type": "stream",
          "text": [
            "/usr/local/lib/python3.6/dist-packages/matplotlib/figure.py:2369: UserWarning:\n",
            "\n",
            "This figure includes Axes that are not compatible with tight_layout, so results might be incorrect.\n",
            "\n"
          ],
          "name": "stderr"
        },
        {
          "output_type": "display_data",
          "data": {
            "image/png": "[encoded data removed]",
            "text/plain": [
              "<Figure size 432x288 with 2 Axes>"
            ]
          },
          "metadata": {
            "tags": []
          }
        }
      ]
    },
    {
      "cell_type": "code",
      "metadata": {
        "id": "gSAaVud9S7Sw",
        "colab_type": "code",
        "outputId": "9a64cc9e-adac-4006-edbf-4a56c39e97e1",
        "colab": {
          "base_uri": "https://localhost:8080/",
          "height": 291
        }
      },
      "source": [
        "import numpy as np\n",
        "import pandas as pd\n",
        "import seaborn as sns\n",
        "import matplotlib.pyplot as plt\n",
        "from scipy import stats\n",
        "\n",
        "sns.set(color_codes=True)\n",
        "\n",
        "# x = np.random.normal(size=100)\n",
        "x = loan['int.rate']\n",
        "sns.distplot(x);"
      ],
      "execution_count": 0,
      "outputs": [
        {
          "output_type": "display_data",
          "data": {
            "image/png": "[encoded data removed]",
            "text/plain": [
              "<Figure size 432x288 with 1 Axes>"
            ]
          },
          "metadata": {
            "tags": []
          }
        }
      ]
    },
    {
      "cell_type": "code",
      "metadata": {
        "id": "Z-EyAWr-TGXk",
        "colab_type": "code",
        "outputId": "58e233a3-d766-4d01-9ccf-0a10b9c13ca0",
        "colab": {
          "base_uri": "https://localhost:8080/",
          "height": 291
        }
      },
      "source": [
        "sns.distplot(x, kde=False, rug=True);"
      ],
      "execution_count": 0,
      "outputs": [
        {
          "output_type": "display_data",
          "data": {
            "image/png": "[encoded data removed]",
            "text/plain": [
              "<Figure size 432x288 with 1 Axes>"
            ]
          },
          "metadata": {
            "tags": []
          }
        }
      ]
    },
    {
      "cell_type": "code",
      "metadata": {
        "id": "09vwT_DaTLLk",
        "colab_type": "code",
        "outputId": "efc8820f-1e34-4b7e-cbaf-7f549b76d863",
        "colab": {
          "base_uri": "https://localhost:8080/",
          "height": 291
        }
      },
      "source": [
        "sns.distplot(x, bins=20, kde=False, rug=True);"
      ],
      "execution_count": 0,
      "outputs": [
        {
          "output_type": "display_data",
          "data": {
            "image/png": "[encoded data removed]",
            "text/plain": [
              "<Figure size 432x288 with 1 Axes>"
            ]
          },
          "metadata": {
            "tags": []
          }
        }
      ]
    },
    {
      "cell_type": "code",
      "metadata": {
        "id": "76FQKGcdTPUF",
        "colab_type": "code",
        "outputId": "b16f436e-d0a5-4067-e6f7-1d0622b2729a",
        "colab": {
          "base_uri": "https://localhost:8080/",
          "height": 291
        }
      },
      "source": [
        "sns.distplot(x, hist=False, rug=True);"
      ],
      "execution_count": 0,
      "outputs": [
        {
          "output_type": "display_data",
          "data": {
            "image/png": "[encoded data removed]",
            "text/plain": [
              "<Figure size 432x288 with 1 Axes>"
            ]
          },
          "metadata": {
            "tags": []
          }
        }
      ]
    },
    {
      "cell_type": "code",
      "metadata": {
        "id": "bbgtcLisTS0x",
        "colab_type": "code",
        "outputId": "479434de-b468-4ab6-a78d-2765720939d7",
        "colab": {
          "base_uri": "https://localhost:8080/",
          "height": 274
        }
      },
      "source": [
        "x = np.random.normal(0, 1, size=30)\n",
        "bandwidth = 1.06 * x.std() * x.size ** (-1 / 5.)\n",
        "support = np.linspace(-4, 4, 200)\n",
        "\n",
        "kernels = []\n",
        "for x_i in x:\n",
        "\n",
        "    kernel = stats.norm(x_i, bandwidth).pdf(support)\n",
        "    kernels.append(kernel)\n",
        "    plt.plot(support, kernel, color=\"r\")\n",
        "\n",
        "sns.rugplot(x, color=\".2\", linewidth=3);"
      ],
      "execution_count": 0,
      "outputs": [
        {
          "output_type": "display_data",
          "data": {
            "image/png": "[encoded data removed]",
            "text/plain": [
              "<Figure size 432x288 with 1 Axes>"
            ]
          },
          "metadata": {
            "tags": []
          }
        }
      ]
    },
    {
      "cell_type": "code",
      "metadata": {
        "id": "9uPzV44gTXAh",
        "colab_type": "code",
        "outputId": "41a4fd97-ba9e-453a-fc30-ece39cc43b6e",
        "colab": {
          "base_uri": "https://localhost:8080/",
          "height": 274
        }
      },
      "source": [
        "from scipy.integrate import trapz\n",
        "density = np.sum(kernels, axis=0)\n",
        "density /= trapz(density, support)\n",
        "plt.plot(support, density);"
      ],
      "execution_count": 0,
      "outputs": [
        {
          "output_type": "display_data",
          "data": {
            "image/png": "[encoded data removed]",
            "text/plain": [
              "<Figure size 432x288 with 1 Axes>"
            ]
          },
          "metadata": {
            "tags": []
          }
        }
      ]
    },
    {
      "cell_type": "code",
      "metadata": {
        "id": "yRj0vQAfTagW",
        "colab_type": "code",
        "outputId": "b3f79396-0ac5-4102-e92e-c1f4a0dcad92",
        "colab": {
          "base_uri": "https://localhost:8080/",
          "height": 274
        }
      },
      "source": [
        "sns.kdeplot(x, shade=True);"
      ],
      "execution_count": 0,
      "outputs": [
        {
          "output_type": "display_data",
          "data": {
            "image/png": "[encoded data removed]",
            "text/plain": [
              "<Figure size 432x288 with 1 Axes>"
            ]
          },
          "metadata": {
            "tags": []
          }
        }
      ]
    },
    {
      "cell_type": "code",
      "metadata": {
        "id": "IPP6yjWsTk6R",
        "colab_type": "code",
        "outputId": "5a2f85e3-e979-4291-b663-18e98619c4e3",
        "colab": {
          "base_uri": "https://localhost:8080/",
          "height": 274
        }
      },
      "source": [
        "sns.kdeplot(x)\n",
        "sns.kdeplot(x, bw=.2, label=\"bw: 0.2\")\n",
        "sns.kdeplot(x, bw=2, label=\"bw: 2\")\n",
        "plt.legend();"
      ],
      "execution_count": 0,
      "outputs": [
        {
          "output_type": "display_data",
          "data": {
            "image/png": "[encoded data removed]",
            "text/plain": [
              "<Figure size 432x288 with 1 Axes>"
            ]
          },
          "metadata": {
            "tags": []
          }
        }
      ]
    },
    {
      "cell_type": "code",
      "metadata": {
        "id": "G1nrRdouToC1",
        "colab_type": "code",
        "outputId": "2dffda20-a3c0-4d24-b1ad-0ce7073ce2e2",
        "colab": {
          "base_uri": "https://localhost:8080/",
          "height": 274
        }
      },
      "source": [
        "sns.kdeplot(x, shade=True, cut=0)\n",
        "sns.rugplot(x);"
      ],
      "execution_count": 0,
      "outputs": [
        {
          "output_type": "display_data",
          "data": {
            "image/png": "[encoded data removed]",
            "text/plain": [
              "<Figure size 432x288 with 1 Axes>"
            ]
          },
          "metadata": {
            "tags": []
          }
        }
      ]
    },
    {
      "cell_type": "code",
      "metadata": {
        "id": "yxhzRQxcTq2n",
        "colab_type": "code",
        "outputId": "12ca7caa-6dd1-4c1e-9011-ffec3f132ef2",
        "colab": {
          "base_uri": "https://localhost:8080/",
          "height": 274
        }
      },
      "source": [
        "x = np.random.gamma(6, size=200)\n",
        "sns.distplot(x, kde=False, fit=stats.gamma);"
      ],
      "execution_count": 0,
      "outputs": [
        {
          "output_type": "display_data",
          "data": {
            "image/png": "[encoded data removed]",
            "text/plain": [
              "<Figure size 432x288 with 1 Axes>"
            ]
          },
          "metadata": {
            "tags": []
          }
        }
      ]
    },
    {
      "cell_type": "code",
      "metadata": {
        "id": "C0XrXt9VTxxt",
        "colab_type": "code",
        "colab": {}
      },
      "source": [
        "mean, cov = [0, 1], [(1, .5), (.5, 1)]\n",
        "data = np.random.multivariate_normal(mean, cov, 200)\n",
        "df = pd.DataFrame(data, columns=[\"x\", \"y\"])"
      ],
      "execution_count": 0,
      "outputs": []
    },
    {
      "cell_type": "code",
      "metadata": {
        "id": "RndkwgMVT2ON",
        "colab_type": "code",
        "outputId": "dd1a03cd-5133-4fab-d8ac-0ac7dc3f6816",
        "colab": {
          "base_uri": "https://localhost:8080/",
          "height": 437
        }
      },
      "source": [
        "sns.jointplot(x=\"x\", y=\"y\", data=df);"
      ],
      "execution_count": 0,
      "outputs": [
        {
          "output_type": "display_data",
          "data": {
            "image/png": "[encoded data removed]",
            "text/plain": [
              "<Figure size 432x432 with 3 Axes>"
            ]
          },
          "metadata": {
            "tags": []
          }
        }
      ]
    },
    {
      "cell_type": "code",
      "metadata": {
        "id": "G14RGdQjT6q3",
        "colab_type": "code",
        "outputId": "239f5bf4-8424-4c16-88eb-6f1204b9ebf1",
        "colab": {
          "base_uri": "https://localhost:8080/",
          "height": 437
        }
      },
      "source": [
        "x, y = np.random.multivariate_normal(mean, cov, 1000).T\n",
        "with sns.axes_style(\"white\"):\n",
        "    sns.jointplot(x=x, y=y, kind=\"hex\", color=\"k\");"
      ],
      "execution_count": 0,
      "outputs": [
        {
          "output_type": "display_data",
          "data": {
            "image/png": "[encoded data removed]",
            "text/plain": [
              "<Figure size 432x432 with 3 Axes>"
            ]
          },
          "metadata": {
            "tags": []
          }
        }
      ]
    },
    {
      "cell_type": "code",
      "metadata": {
        "id": "2vVBXrRMU_E5",
        "colab_type": "code",
        "outputId": "fadfb744-2d3d-4a12-a2ed-85f8db6f216e",
        "colab": {
          "base_uri": "https://localhost:8080/",
          "height": 437
        }
      },
      "source": [
        "sns.jointplot(x=\"x\", y=\"y\", data=df, kind=\"kde\");"
      ],
      "execution_count": 0,
      "outputs": [
        {
          "output_type": "display_data",
          "data": {
            "image/png": "[encoded data removed]",
            "text/plain": [
              "<Figure size 432x432 with 3 Axes>"
            ]
          },
          "metadata": {
            "tags": []
          }
        }
      ]
    },
    {
      "cell_type": "code",
      "metadata": {
        "id": "t9Z4CG_jVLCz",
        "colab_type": "code",
        "outputId": "ebb548d7-78d9-4765-dd84-3646dadad609",
        "colab": {
          "base_uri": "https://localhost:8080/",
          "height": 400
        }
      },
      "source": [
        "f, ax = plt.subplots(figsize=(6, 6))\n",
        "sns.kdeplot(df.x, df.y, ax=ax)\n",
        "sns.rugplot(df.x, color=\"g\", ax=ax)\n",
        "sns.rugplot(df.y, vertical=True, ax=ax);"
      ],
      "execution_count": 0,
      "outputs": [
        {
          "output_type": "display_data",
          "data": {
            "image/png": "[encoded data removed]",
            "text/plain": [
              "<Figure size 432x432 with 1 Axes>"
            ]
          },
          "metadata": {
            "tags": []
          }
        }
      ]
    },
    {
      "cell_type": "code",
      "metadata": {
        "id": "uWNaH8sBufdc",
        "colab_type": "code",
        "outputId": "7cf485e9-4f2e-44e0-d232-ffb6ffc83ea0",
        "colab": {
          "base_uri": "https://localhost:8080/",
          "height": 34
        }
      },
      "source": [
        "L1=list(range(10,0,-1)) \n",
        "L1[-6::2]"
      ],
      "execution_count": 0,
      "outputs": [
        {
          "output_type": "execute_result",
          "data": {
            "text/plain": [
              "[6, 4, 2]"
            ]
          },
          "metadata": {
            "tags": []
          },
          "execution_count": 56
        }
      ]
    },
    {
      "cell_type": "code",
      "metadata": {
        "id": "YpyMFs8Zuw7P",
        "colab_type": "code",
        "outputId": "eb748d87-c6db-492c-ef94-f0d1001d26b0",
        "colab": {
          "base_uri": "https://localhost:8080/",
          "height": 34
        }
      },
      "source": [
        "import numpy as np\n",
        "b=np.array([[1,2,3],[4,7,9]])\n",
        "           \n",
        "# print(len(b), b.size)\n",
        "b.size\n",
        "len(b)"
      ],
      "execution_count": 0,
      "outputs": [
        {
          "output_type": "execute_result",
          "data": {
            "text/plain": [
              "2"
            ]
          },
          "metadata": {
            "tags": []
          },
          "execution_count": 62
        }
      ]
    },
    {
      "cell_type": "code",
      "metadata": {
        "id": "oph_mALDGeRf",
        "colab_type": "code",
        "colab": {
          "resources": {
            "http://localhost:8080/nbextensions/google.colab/files.js": {
              "data": "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",
              "ok": true,
              "headers": [
                [
                  "content-type",
                  "application/javascript"
                ]
              ],
              "status": 200,
              "status_text": ""
            }
          },
          "base_uri": "https://localhost:8080/",
          "height": 75
        },
        "outputId": "d1d82579-e1ee-4a8a-cb1a-bc18223db9fe"
      },
      "source": [
        "# Upload file to colab \n",
        "# \n",
        "from google.colab import files\n",
        "uploaded = files.upload()"
      ],
      "execution_count": 63,
      "outputs": [
        {
          "output_type": "display_data",
          "data": {
            "text/html": [
              "\n",
              "     <input type=\"file\" id=\"files-b98314af-0a87-494f-b5d9-6d56465a177f\" name=\"files[]\" multiple disabled />\n",
              "     <output id=\"result-b98314af-0a87-494f-b5d9-6d56465a177f\">\n",
              "      Upload widget is only available when the cell has been executed in the\n",
              "      current browser session. Please rerun this cell to enable.\n",
              "      </output>\n",
              "      <script src=\"/nbextensions/google.colab/files.js\"></script> "
            ],
            "text/plain": [
              "<IPython.core.display.HTML object>"
            ]
          },
          "metadata": {
            "tags": []
          }
        },
        {
          "output_type": "stream",
          "text": [
            "Saving TRAIN_info_SMS.csv to TRAIN_info_SMS.csv\n"
          ],
          "name": "stdout"
        }
      ]
    },
    {
      "cell_type": "code",
      "metadata": {
        "id": "H_p96mdIG6Bz",
        "colab_type": "code",
        "colab": {
          "base_uri": "https://localhost:8080/",
          "height": 193
        },
        "outputId": "71686717-ea47-4978-f2bb-1d9bb6c67d9b"
      },
      "source": [
        "# Train data for Naiya Bayes\n",
        "\n",
        "train = pd.read_csv('TRAIN_info_SMS.csv')\n",
        "\n",
        "print(train.shape)\n",
        "print(train.size)\n",
        "print(train.head())\n",
        "\n",
        "# Max of len of Message\n",
        "\n",
        "print(train['Message'].dtype)\n",
        "print(len(max(train['Message'])))\n",
        "\n",
        "# find out the level of max length data\n",
        "# Total 12 levels\n",
        "\n",
        "\n"
      ],
      "execution_count": 73,
      "outputs": [
        {
          "output_type": "stream",
          "text": [
            "(12000, 2)\n",
            "24000\n",
            "         Label                                            Message\n",
            "0     Delivery  Dear Guest, Thanks for choosing The Edison. Or...\n",
            "1        Hotel  Welcome to Southern University at Shreveport R...\n",
            "2      Payment  Bill dated 2013-01-14 for Rs 626 has been gene...\n",
            "3      Payment  Bill dated 2014-11-30 for Rs 323 has been gene...\n",
            "4  Appointment  DEAR Zachary, THANK YOU FOR YOUR BOOKING (ORDE...\n",
            "object\n",
            "140\n"
          ],
          "name": "stdout"
        }
      ]
    },
    {
      "cell_type": "code",
      "metadata": {
        "id": "57cKNnpqKBil",
        "colab_type": "code",
        "colab": {
          "base_uri": "https://localhost:8080/",
          "height": 70
        },
        "outputId": "51e34221-4bf6-4c62-ad63-96fc92bfc5fb"
      },
      "source": [
        "import re\n",
        "import nltk\n",
        "nltk.download('stopwords')\n",
        "\n",
        "from nltk.corpus import stopwords\n",
        "\n"
      ],
      "execution_count": 87,
      "outputs": [
        {
          "output_type": "stream",
          "text": [
            "[nltk_data] Downloading package stopwords to /root/nltk_data...\n",
            "[nltk_data]   Package stopwords is already up-to-date!\n"
          ],
          "name": "stdout"
        },
        {
          "output_type": "execute_result",
          "data": {
            "text/plain": [
              "'dear guest, thanks choosing edison. order id 3645. delivery 2013-12-18 21:57. enjoy 10% discount next purchase. code nl99j9. t&c.'"
            ]
          },
          "metadata": {
            "tags": []
          },
          "execution_count": 87
        }
      ]
    },
    {
      "cell_type": "code",
      "metadata": {
        "id": "_2Uay7mTNH0M",
        "colab_type": "code",
        "colab": {
          "base_uri": "https://localhost:8080/",
          "height": 34
        },
        "outputId": "30164392-c31e-478f-8bcc-bfd549dd6ebf"
      },
      "source": [
        "def message_to_words(raw_message):\n",
        "  words = raw_message.lower().split()\n",
        "  stops = set(stopwords.words(\"english\"))\n",
        "  meaningful_words = [w for w in words if not w in stops]\n",
        "  return(\" \".join(meaningful_words))\n",
        "\n",
        "message_to_words(train['Message'][0])"
      ],
      "execution_count": 89,
      "outputs": [
        {
          "output_type": "execute_result",
          "data": {
            "text/plain": [
              "'dear guest, thanks choosing edison. order id 3645. delivery 2013-12-18 21:57. enjoy 10% discount next purchase. code nl99j9. t&c.'"
            ]
          },
          "metadata": {
            "tags": []
          },
          "execution_count": 89
        }
      ]
    },
    {
      "cell_type": "code",
      "metadata": {
        "id": "gUuDuMP_NKKZ",
        "colab_type": "code",
        "colab": {
          "base_uri": "https://localhost:8080/",
          "height": 34
        },
        "outputId": "591b00f3-af44-4880-f751-279839a576fc"
      },
      "source": [
        "def message_to_words(raw_message):\n",
        "  letters_only = re.sub(\"[^a-zA-Z]\", \" \", raw_message)\n",
        "  words = letters_only.lower().split()\n",
        "  stops = set(stopwords.words(\"english\"))\n",
        "  meaningful_words = [w for w in words if not w in stops]\n",
        "  return(\" \".join(meaningful_words))\n",
        "\n",
        "message_to_words(train['Message'][0])"
      ],
      "execution_count": 90,
      "outputs": [
        {
          "output_type": "execute_result",
          "data": {
            "text/plain": [
              "'dear guest thanks choosing edison order id delivery enjoy discount next purchase code nl j c'"
            ]
          },
          "metadata": {
            "tags": []
          },
          "execution_count": 90
        }
      ]
    },
    {
      "cell_type": "code",
      "metadata": {
        "id": "vN4PKLq5OeUQ",
        "colab_type": "code",
        "colab": {
          "base_uri": "https://localhost:8080/",
          "height": 52
        },
        "outputId": "27c6aff8-99d2-449a-bd57-feb52b8ceb66"
      },
      "source": [
        "# Do it for all messages\n",
        "\n",
        "Message = []\n",
        "Label = []\n",
        "\n",
        "for x in range(len(train.Message)):\n",
        "#   Message.append(message_to_words(str(train.Message[x]).decode('ascii', 'ignore')))\n",
        "  Message.append(message_to_words(str(train.Message[x])))\n",
        "  Label.append(train.Label[x])\n",
        "  \n",
        "# print(Message.head())\n",
        "# print(Label.head())\n",
        "\n",
        "len(Message)\n",
        "Message[:3]\n",
        "\n",
        "print(len(Label))\n",
        "\n",
        "Label[:3]"
      ],
      "execution_count": 122,
      "outputs": [
        {
          "output_type": "stream",
          "text": [
            "12000\n"
          ],
          "name": "stdout"
        },
        {
          "output_type": "execute_result",
          "data": {
            "text/plain": [
              "['Delivery', 'Hotel', 'Payment']"
            ]
          },
          "metadata": {
            "tags": []
          },
          "execution_count": 122
        }
      ]
    },
    {
      "cell_type": "code",
      "metadata": {
        "id": "nnWrCGOqREWk",
        "colab_type": "code",
        "colab": {}
      },
      "source": [
        ">>> from sklearn.feature_extraction.text import TfidfVectorizer\n",
        ">>> corpus = [\n",
        "...     'This is the first document.',\n",
        "...     'This document is the second document.',\n",
        "...     'And this is the third one.',\n",
        "...     'Is this the first document?',\n",
        "... ]\n",
        ">>> vectorizer = TfidfVectorizer()\n",
        ">>> X = vectorizer.fit_transform(corpus)\n",
        ">>> print(vectorizer.get_feature_names())\n",
        "['and', 'document', 'first', 'is', 'one', 'second', 'the', 'third', 'this']\n",
        ">>> print(X.shape)\n",
        "(4, 9)"
      ],
      "execution_count": 0,
      "outputs": []
    },
    {
      "cell_type": "code",
      "metadata": {
        "id": "3zfr7Rt9QmbF",
        "colab_type": "code",
        "colab": {
          "base_uri": "https://localhost:8080/",
          "height": 72
        },
        "outputId": "076ed82b-679b-41ec-c416-b02c7ba053d6"
      },
      "source": [
        "# Now to apply Tfidf Vectorizer\n",
        "from sklearn.feature_extraction.text import TfidfVectorizer\n",
        "\n",
        "vectorizer = TfidfVectorizer()\n",
        "X = vectorizer.fit_transform(Message)\n",
        "print(vectorizer.get_feature_names())\n",
        "print(X.shape)"
      ],
      "execution_count": 105,
      "outputs": [
        {
          "output_type": "stream",
          "text": [
            "['aa', 'aaaz', 'aadr', 'aag', 'aal', 'aam', 'aapm', 'aar', 'aaron', 'aas', 'aay', 'ab', 'abad', 'abadgaran', 'abbott', 'aberdeen', 'abfc', 'abh', 'abi', 'abka', 'abkp', 'able', 'abnnl', 'abo', 'abp', 'abr', 'abraham', 'abrakebabra', 'abs', 'absa', 'abu', 'abz', 'ac', 'academy', 'accessories', 'accountant', 'ace', 'acl', 'acnd', 'ad', 'adam', 'adb', 'add', 'adf', 'adh', 'adi', 'adigas', 'adij', 'adirondack', 'adl', 'admin', 'adobe', 'adolphus', 'adq', 'adra', 'adrian', 'adst', 'adt', 'adtl', 'adtp', 'adventure', 'adventurers', 'adventures', 'advi', 'ady', 'adyar', 'ae', 'aecalu', 'aed', 'ael', 'aen', 'aerf', 'aero', 'aerodrome', 'af', 'afk', 'afn', 'afr', 'african', 'aftp', 'aga', 'agate', 'agawam', 'agb', 'agc', 'agd', 'age', 'agency', 'agi', 'agk', 'agmn', 'agn', 'agr', 'agricultural', 'agtl', 'agucoi', 'agudav', 'agudha', 'agukas', 'agukol', 'agukot', 'agukum', 'aguman', 'agumbe', 'agumum', 'agunel', 'agupay', 'agushi', 'agusri', 'agutir', 'agx', 'agy', 'agz', 'ah', 'aha', 'ahan', 'ahd', 'ahh', 'ahi', 'ahn', 'ai', 'aia', 'aic', 'aida', 'aidan', 'aiden', 'aig', 'aii', 'aip', 'air', 'airasia', 'aircel', 'airfield', 'airplane', 'airport', 'airporttaxi', 'airstrip', 'airtel', 'airways', 'aisr', 'ait', 'aizawl', 'aj', 'ajeeaw', 'aji', 'ajisen', 'ajj', 'ajl', 'ajni', 'ajp', 'ajr', 'ajswnv', 'ak', 'akd', 'ake', 'akemi', 'akjtf', 'akn', 'ako', 'akor', 'akot', 'akp', 'akrd', 'akt', 'akv', 'akvd', 'al', 'alabama', 'alan', 'alask', 'alaska', 'alb', 'albany', 'alcohol', 'alcove', 'ald', 'alejandro', 'aler', 'alex', 'alexander', 'alexis', 'alfaro', 'alfateh', 'alfred', 'alhambra', 'alhawar', 'alhv', 'ali', 'alianw', 'aliben', 'alice', 'alicha', 'alidav', 'alikar', 'alike', 'alikod', 'alikot', 'aliman', 'alimer', 'alipon', 'alipun', 'alisag', 'alithi', 'alithr', 'alitum', 'alj', 'aljn', 'allegiant', 'allentown', 'alley', 'allie', 'allied', 'allp', 'alm', 'almond', 'almr', 'aln', 'alni', 'along', 'alor', 'altar', 'alter', 'alterego', 'alto', 'altvsu', 'alw', 'aly', 'amalgamated', 'amb', 'ambr', 'amc', 'amd', 'ame', 'ameche', 'amer', 'amerasia', 'america', 'american', 'americas', 'amerigroup', 'amg', 'amh', 'ami', 'amighetti', 'amir', 'aml', 'amla', 'amli', 'amo', 'amp', 'ampa', 'amsa', 'amsterdam', 'amt', 'amul', 'amusement', 'amx', 'amy', 'amzv', 'ana', 'anaheim', 'ananda', 'anas', 'anb', 'anceg', 'anchialine', 'ancient', 'ancients', 'andaz', 'anderson', 'andi', 'andn', 'andover', 'andre', 'andres', 'andrew', 'andy', 'anesthesia', 'anf', 'ang', 'angel', 'angeles', 'angelo', 'angl', 'angry', 'angus', 'anh', 'ani', 'aniakchak', 'animal', 'anjan', 'ank', 'ankl', 'ankx', 'ann', 'annalakshmi', 'annapoorna', 'annd', 'anne', 'anpr', 'anr', 'anrmbu', 'ansb', 'ant', 'antarchile', 'antarctic', 'antartic', 'anthem', 'anthony', 'antica', 'antonio', 'antq', 'antu', 'anv', 'anvr', 'anvt', 'anwali', 'anwatti', 'anwche', 'anwchi', 'anwcoo', 'anwern', 'anwhun', 'anwkas', 'anwkod', 'anwkot', 'anwkun', 'anwman', 'anwmys', 'anwpay', 'anwpun', 'anwsec', 'anwshi', 'anwsri', 'anwtan', 'anwudu', 'anwvij', 'ao', 'aogp', 'aojv', 'aokyv', 'aoni', 'ap', 'apa', 'apd', 'apdj', 'api', 'apk', 'apkiyy', 'apl', 'apn', 'apocalypse', 'app', 'apple', 'applebee', 'apply', 'appointment', 'appollo', 'appt', 'apr', 'apsley', 'apt', 'apta', 'aq', 'aqckfu', 'aqeezv', 'aqg', 'aqh', 'aqmgha', 'aqqm', 'aqua', 'aquagrill', 'aquinas', 'ar', 'ara', 'arag', 'arb', 'arby', 'arbys', 'arcade', 'arcaffe', 'arch', 'archer', 'architecture', 'arcl', 'arclight', 'arctic', 'ard', 'ardkbn', 'area', 'arena', 'areva', 'argd', 'arj', 'ark', 'arkansas', 'armand', 'armroire', 'army', 'arn', 'arnold', 'aroma', 'arq', 'arr', 'arrival', 'art', 'arthur', 'arts', 'arv', 'arw', 'arwyxa', 'aryan', 'arz', 'asaf', 'asc', 'ascendas', 'asd', 'aseman', 'ash', 'ashram', 'ashton', 'ashvale', 'askn', 'asl', 'asm', 'asn', 'aso', 'aspen', 'asr', 'asset', 'assigned', 'assistance', 'ast', 'astor', 'asv', 'asw', 'atakule', 'atco', 'ate', 'ath', 'atl', 'atlanta', 'atmo', 'atnr', 'atp', 'atpa', 'atq', 'atr', 'atrh', 'atrium', 'atru', 'ats', 'att', 'attending', 'attraction', 'atu', 'atul', 'au', 'aub', 'aubr', 'aung', 'auntie', 'aurangabad', 'aus', 'austin', 'austr', 'australia', 'australian', 'auto', 'automatic', 'av', 'avd', 'avenue', 'avery', 'aviary', 'avk', 'avli', 'avn', 'avqsfc', 'avs', 'aw', 'awlgpu', 'awp', 'awr', 'ax', 'axjx', 'axk', 'axr', 'axrpyr', 'ay', 'ayce', 'ayden', 'ayez', 'ayrn', 'ayssu', 'ayu', 'ayzu', 'az', 'azamgarh', 'azr', 'ba', 'bab', 'baba', 'back', 'bad', 'badger', 'bae', 'baf', 'bagd', 'bagel', 'bagels', 'baggage', 'baghdad', 'bagl', 'baguette', 'bah', 'bahi', 'bai', 'baja', 'baka', 'bakdash', 'baker', 'bakers', 'bakery', 'baking', 'balad', 'balboa', 'bale', 'balinese', 'balr', 'baltech', 'balu', 'baluchi', 'bama', 'banaswadi', 'banca', 'banccorp', 'bancorp', 'band', 'bandelier', 'bandhan', 'bane', 'bangalore', 'bangor', 'bank', 'bankcentre', 'bankfirst', 'banking', 'bannerghatta', 'bano', 'bao', 'baojg', 'bap', 'bapfb', 'baptist', 'bar', 'barbecue', 'barbeque', 'barbil', 'barbq', 'barbque', 'barburrito', 'barh', 'barista', 'baristas', 'barl', 'barn', 'barracks', 'barrel', 'bars', 'basilica', 'basin', 'basket', 'baskinrobbins', 'bat', 'bathroom', 'batjys', 'batl', 'batman', 'battle', 'bay', 'baylake', 'baylor', 'bayou', 'bayview', 'baz', 'bb', 'bba', 'bbai', 'bbbgg', 'bbgn', 'bbi', 'bbjfv', 'bbk', 'bbmn', 'bbn', 'bbo', 'bbpm', 'bbq', 'bbs', 'bbtr', 'bbu', 'bbvt', 'bbwhv', 'bby', 'bc', 'bca', 'bch', 'bchl', 'bck', 'bcn', 'bco', 'bcob', 'bcq', 'bcu', 'bd', 'bdba', 'bdc', 'bdcj', 'bdcr', 'bdh', 'bdhl', 'bdi', 'bdm', 'bdn', 'bdnp', 'bdp', 'bdq', 'bdts', 'bdvjus', 'bdvt', 'bdwa', 'bdwd', 'bdwl', 'bdws', 'bdxx', 'bdz', 'bea', 'beach', 'beacon', 'beam', 'bean', 'beanery', 'bear', 'beas', 'beasts', 'beaumont', 'beauty', 'beavertails', 'beb', 'bedlam', 'beechman', 'beef', 'beefeater', 'beenie', 'beerhouse', 'bef', 'beg', 'behr', 'behs', 'beihai', 'beitou', 'bek', 'bel', 'bela', 'belagavi', 'belagu', 'belgorod', 'believe', 'belkas', 'bell', 'bella', 'bellandur', 'bellbank', 'belle', 'bellevue', 'bellows', 'belnova', 'belpal', 'belsag', 'belshi', 'belthi', 'beltum', 'bembos', 'bemelmans', 'bemidji', 'ben', 'benchi', 'bencoo', 'bend', 'bendav', 'bene', 'benern', 'bengaluru', 'benhir', 'benjamin', 'benkar', 'benkas', 'benkot', 'benmad', 'benman', 'benmys', 'bennel', 'bennigan', 'benny', 'bennys', 'benpal', 'benpay', 'benpud', 'benpun', 'benput', 'benshi', 'bensri', 'bentan', 'benthi', 'benthr', 'bentir', 'bento', 'bentri', 'beo', 'beodqz', 'bep', 'beppo', 'ber', 'bergen', 'berklee', 'bernardin', 'bernardo', 'berryessa', 'berthillon', 'bertucci', 'bess', 'best', 'bet', 'betel', 'bethany', 'beurger', 'bew', 'bey', 'beyond', 'bf', 'bfan', 'bfj', 'bfm', 'bfr', 'bfrt', 'bft', 'bfy', 'bfz', 'bg', 'bgae', 'bgbr', 'bgfljh', 'bgg', 'bgh', 'bgk', 'bgkt', 'bgm', 'bgmr', 'bgp', 'bgpl', 'bgpr', 'bgq', 'bgra', 'bgs', 'bgsf', 'bgta', 'bgu', 'bgua', 'bgv', 'bgvn', 'bgw', 'bgy', 'bgz', 'bh', 'bhavan', 'bhb', 'bhbk', 'bhc', 'bhd', 'bhdr', 'bhet', 'bhg', 'bhi', 'bhj', 'bhja', 'bhkd', 'bhl', 'bhla', 'bhle', 'bhlk', 'bhlp', 'bhme', 'bhne', 'bhns', 'bho', 'bhojnalaya', 'bhr', 'bhrl', 'bht', 'bhta', 'bhtk', 'bhtn', 'bhtr', 'bhu', 'bhuj', 'bhv', 'bhw', 'bhwa', 'bhx', 'bhy', 'bhz', 'bi', 'bia', 'biaf', 'bible', 'bic', 'bickford', 'bid', 'bidr', 'bierhaus', 'big', 'biga', 'biggby', 'bih', 'bij', 'bijr', 'bik', 'bikanervala', 'bila', 'bild', 'bill', 'billy', 'bim', 'bimal', 'biml', 'bina', 'binnypet', 'bintang', 'biosphere', 'biq', 'bir', 'bird', 'birds', 'birtcq', 'birthday', 'biryani', 'biscuits', 'bistro', 'bite', 'biu', 'biwk', 'biwll', 'bix', 'biy', 'bizeca', 'bj', 'bjd', 'bje', 'bjf', 'bjg', 'bji', 'bjih', 'bjjb', 'bjjmd', 'bjk', 'bjmd', 'bjme', 'bjnr', 'bjo', 'bjp', 'bjq', 'bjr', 'bjri', 'bjw', 'bjyz', 'bk', 'bkb', 'bkg', 'bkh', 'bki', 'bkj', 'bkle', 'bkn', 'bkng', 'bko', 'bkp', 'bkr', 'bkrd', 'bksl', 'bkth', 'bktl', 'bku', 'bkxkfm', 'bl', 'black', 'blackhand', 'blackjack', 'blacksburg', 'blake', 'blax', 'bld', 'blda', 'bldi', 'bleecker', 'blg', 'blgr', 'blgt', 'blh', 'blimpies', 'blind', 'blitz', 'blk', 'bll', 'blm', 'blmk', 'blmr', 'blni', 'blnr', 'blo', 'block', 'blona', 'bloom', 'bloomfield', 'blooms', 'blor', 'blossoming', 'blpu', 'blqr', 'blr', 'bls', 'blsd', 'blsn', 'blsr', 'bltr', 'blu', 'blue', 'bluefield', 'blues', 'blushrock', 'bly', 'bmb', 'bmc', 'bmck', 'bmd', 'bme', 'bmf', 'bmga', 'bmh', 'bmi', 'bmkd', 'bmki', 'bmkj', 'bml', 'bmll', 'bmn', 'bmr', 'bmsb', 'bmu', 'bn', 'bnbh', 'bnc', 'bnce', 'bnda', 'bndwi', 'bnf', 'bnhl', 'bnjkt', 'bnkr', 'bnl', 'bnlw', 'bnn', 'bno', 'bnp', 'bnr', 'bns', 'bnsa', 'bnt', 'bntl', 'bnu', 'bnud', 'bnv', 'bnvd', 'bnw', 'bnwc', 'bnws', 'bnxr', 'bo', 'boa', 'boardingpt', 'bob', 'boc', 'bod', 'bof', 'bofhus', 'bog', 'bogue', 'bohdb', 'boi', 'boil', 'boj', 'boke', 'bokr', 'bolio', 'bolour', 'bom', 'bon', 'bonanza', 'bonchon', 'bondi', 'boo', 'book', 'booking', 'boost', 'booster', 'bora', 'border', 'boston', 'botanical', 'boti', 'bottle', 'boudin', 'boulangerie', 'boulevard', 'boupb', 'bourbon', 'bourne', 'bowl', 'box', 'boy', 'boys', 'bp', 'bpb', 'bpc', 'bpd', 'bpf', 'bph', 'bphb', 'bpilla', 'bpk', 'bpl', 'bpo', 'bpq', 'bpr', 'bprd', 'bprh', 'bprs', 'bps', 'bpy', 'bpzahg', 'bq', 'bqa', 'bqe', 'bqekkw', 'bqg', 'bqiptb', 'bqm', 'bqn', 'bqo', 'bqp', 'bqq', 'bqr', 'bqu', 'br', 'braden', 'bradley', 'brady', 'brag', 'bram', 'brandman', 'brandon', 'brandsbuffet', 'brasil', 'brasileira', 'brasserie', 'braum', 'brayden', 'braza', 'brazil', 'brd', 'brdh', 'bre', 'brea', 'bread', 'breadsmith', 'breadtop', 'break', 'breakfast', 'breath', 'breathe', 'brendan', 'brescia', 'brett', 'brewers', 'brewery', 'brg', 'brgm', 'brgt', 'brh', 'brian', 'briarcliffe', 'brick', 'bridge', 'bridgehead', 'bridges', 'briens', 'brigade', 'britches', 'brk', 'brkh', 'brly', 'brm', 'brmd', 'brmo', 'brn', 'brna', 'broadband', 'broadway', 'brocato', 'brody', 'bronx', 'brook', 'brookefield', 'brooklyn', 'bros', 'brother', 'brothers', 'broward', 'brown', 'brpl', 'brpt', 'brr', 'brrg', 'brs', 'brtk', 'bru', 'brud', 'bruegger', 'brule', 'bruno', 'brunswick', 'brussels', 'bruster', 'brw', 'brwd', 'brya', 'bryan', 'bryce', 'bryson', 'brz', 'bs', 'bsae', 'bsbr', 'bsdp', 'bse', 'bsgn', 'bshrs', 'bsi', 'bsj', 'bskh', 'bsl', 'bsle', 'bsm', 'bsnbdx', 'bsnl', 'bsp', 'bspn', 'bspr', 'bspx', 'bsqp', 'bsrx', 'bst', 'bstn', 'bstp', 'bsx', 'bsya', 'bsz', 'bta', 'btc', 'bte', 'btg', 'bth', 'bti', 'btic', 'btj', 'btjl', 'btjobl', 'btkl', 'btkp', 'bto', 'btp', 'btpd', 'btq', 'bts', 'btsd', 'btsr', 'btt', 'bttr', 'btu', 'btus', 'btv', 'btw', 'bty', 'bu', 'bua', 'bub', 'buca', 'buckhorn', 'bucking', 'bucks', 'bud', 'buddakan', 'budm', 'bueno', 'buffalo', 'buffet', 'buffett', 'bug', 'bugalow', 'bui', 'building', 'bul', 'bull', 'bup', 'buph', 'buq', 'burger', 'burgeranch', 'burgers', 'burj', 'burrito', 'burrow', 'bus', 'busbys', 'business', 'buster', 'busters', 'butcher', 'butlers', 'buuz', 'buvette', 'buwl', 'bux', 'bv', 'bva', 'bvc', 'bvezx', 'bvh', 'bvl', 'bvn', 'bvnagk', 'bvnr', 'bvp', 'bvq', 'bvrm', 'bvrt', 'bvs', 'bwa', 'bwaalx', 'bwd', 'bwh', 'bwi', 'bwip', 'bwkdx', 'bwl', 'bwm', 'bwn', 'bwr', 'bwsn', 'bwt', 'bwtc', 'bww', 'bwy', 'bx', 'bxa', 'bxk', 'bxll', 'bxn', 'bxpbry', 'bxrlvw', 'byc', 'byha', 'byhv', 'byl', 'byline', 'bypl', 'byr', 'byron', 'bys', 'byt', 'byze', 'bzev', 'bzg', 'bzh', 'bzm', 'bzn', 'bzo', 'bzr', 'bzu', 'bzy', 'ca', 'cab', 'cabaret', 'cac', 'caden', 'cadena', 'cadwalader', 'caesars', 'caf', 'cafe', 'cafee', 'cafes', 'cafeteria', 'cafeterias', 'caff', 'caffe', 'cahuenga', 'cake', 'cakery', 'caleb', 'california', 'call', 'callender', 'caloosahatchee', 'calvin', 'cambia', 'camden', 'cameron', 'camp', 'campero', 'campus', 'canada', 'canal', 'cancer', 'candies', 'cannery', 'canteen', 'cantiere', 'cantina', 'canto', 'canvas', 'canyon', 'canyons', 'capital', 'capitol', 'capodichino', 'captain', 'car', 'card', 'care', 'cargo', 'carige', 'carl', 'carleton', 'carlos', 'carmine', 'carnegie', 'carnival', 'carolina', 'carousel', 'carrabba', 'carriageway', 'carrot', 'carrows', 'carry', 'carson', 'carter', 'carvel', 'casa', 'cascades', 'case', 'caselle', 'casper', 'castle', 'castro', 'casual', 'caterers', 'catering', 'cathay', 'catskill', 'cauvery', 'cave', 'cayden', 'cb', 'cbdpvt', 'cbqzy', 'cbr', 'cbyrdw', 'cc', 'ccbcrr', 'cce', 'ccj', 'ccks', 'ccr', 'ccu', 'cd', 'cdh', 'cdnwac', 'cdp', 'cdqv', 'cdsr', 'cecconi', 'cefiore', 'cell', 'cent', 'center', 'central', 'centre', 'century', 'cer', 'cerealicious', 'certified', 'cesar', 'cetj', 'cezpdt', 'cff', 'cfwfn', 'cg', 'ch', 'cha', 'chaan', 'chaanw', 'chachi', 'chacoo', 'chadav', 'chadwick', 'chahyd', 'chai', 'chain', 'chair', 'chakod', 'chakol', 'chakoz', 'chakum', 'chalet', 'chalkis', 'cham', 'chamer', 'champps', 'chanel', 'chang', 'changing', 'channarayapatna', 'channel', 'chao', 'chapal', 'chapan', 'chapud', 'charleroi', 'charles', 'charley', 'charlie', 'charlotte', 'chase', 'chashi', 'chatir', 'chatri', 'chatum', 'chaudu', 'chauffer', 'cheagu', 'cheali', 'check', 'checkers', 'cheddar', 'chedha', 'cheeseboard', 'cheesecake', 'chef', 'chehas', 'chekan', 'chekod', 'chekoz', 'cheman', 'chenel', 'chennai', 'chens', 'cheoot', 'chepal', 'chepay', 'cherry', 'chesapeake', 'cheshi', 'cheshm', 'chesri', 'chetan', 'chethi', 'chevys', 'chez', 'chhindwara', 'chi', 'chiagu', 'chiben', 'chicago', 'chicken', 'chickfila', 'chico', 'chicoo', 'chidav', 'chihas', 'chihir', 'chikas', 'chikia', 'chikkamagaluru', 'chikoz', 'chikum', 'chikun', 'children', 'chileka', 'chili', 'chilli', 'chillis', 'chiman', 'chimys', 'china', 'chinese', 'chip', 'chipan', 'chipon', 'chippewa', 'chips', 'chipud', 'chipun', 'chiquito', 'chisec', 'chishi', 'chitir', 'chitradurga', 'chitri', 'chitto', 'chiudu', 'chivij', 'chocolate', 'chocolates', 'cholo', 'chooks', 'choosing', 'chop', 'chowking', 'christian', 'chu', 'chulah', 'chung', 'church', 'churchill', 'churrascaria', 'churromania', 'chw', 'chz', 'ci', 'ciaiy', 'ciao', 'cici', 'cider', 'cielo', 'cilician', 'cimarex', 'cinema', 'cinemas', 'cinepolis', 'cinespace', 'cinnabon', 'cinnzeo', 'circa', 'circle', 'cisco', 'cit', 'citigroup', 'citizen', 'citizens', 'citrus', 'city', 'civil', 'civista', 'cj', 'cjb', 'ck', 'cke', 'ckqof', 'ckyycl', 'cl', 'claim', 'clam', 'clark', 'class', 'classic', 'classroom', 'clayton', 'clearman', 'clearview', 'clf', 'clinic', 'clinics', 'clinton', 'clmql', 'clock', 'closet', 'clothing', 'cloud', 'clove', 'cloverfield', 'club', 'clv', 'cm', 'cmgh', 'cmjrds', 'cmnty', 'cmp', 'cmrl', 'cmt', 'cmuqo', 'cmzi', 'cn', 'cnb', 'cnd', 'cnpdov', 'cnq', 'co', 'coast', 'coastal', 'coastalstates', 'cobb', 'cobra', 'cocktail', 'code', 'codorus', 'cody', 'coffee', 'coffeebean', 'coffeeheaven', 'coffeehouse', 'coffees', 'coffeeshop', 'coffine', 'cofix', 'coh', 'coiali', 'coibel', 'coicha', 'coiche', 'coidav', 'coihas', 'coikan', 'coikia', 'coikod', 'coimbatore', 'coipan', 'coipay', 'coipon', 'coipud', 'coiput', 'coisag', 'coisec', 'coishi', 'coisri', 'cok', 'colby', 'cold', 'cole', 'colectivo', 'colin', 'collection', 'college', 'collin', 'collision', 'colorado', 'colton', 'columbus', 'com', 'comcast', 'comedia', 'comerica', 'coml', 'commeca', 'commerce', 'commonw', 'communitea', 'community', 'company', 'compass', 'complex', 'concession', 'condo', 'condominium', 'cones', 'coney', 'confectionery', 'conference', 'confirmed', 'confiteria', 'conjuring', 'connellys', 'conner', 'connor', 'conservation', 'consumer', 'contact', 'continuous', 'convenience', 'cooagu', 'cooali', 'cooben', 'coocha', 'coochi', 'cook', 'cookar', 'cookhouse', 'cookies', 'cookol', 'cookshack', 'cookum', 'coolidge', 'coomys', 'coonur', 'coop', 'cooper', 'coopud', 'coopun', 'cooput', 'coosag', 'cooshi', 'coosri', 'coothi', 'cootri', 'cootum', 'copa', 'copeland', 'coq', 'coral', 'corban', 'core', 'corey', 'corner', 'cornerstone', 'cornwall', 'corona', 'coronado', 'corp', 'corporate', 'corporation', 'corral', 'cos', 'cosi', 'costa', 'cottage', 'cotton', 'counter', 'country', 'county', 'courier', 'course', 'court', 'cove', 'covina', 'cows', 'coyote', 'cozumel', 'cozy', 'cq', 'cqsl', 'cr', 'crab', 'cracker', 'craig', 'cranks', 'crater', 'cream', 'creamery', 'creamparlour', 'creams', 'creative', 'credit', 'credito', 'creek', 'creole', 'crepaway', 'crepes', 'crescent', 'crib', 'cricket', 'criollo', 'cristian', 'cross', 'crown', 'crowns', 'crust', 'crystal', 'csb', 'csc', 'csi', 'csr', 'ct', 'ctm', 'ctpd', 'ctxu', 'cty', 'cu', 'cuartel', 'cucina', 'cue', 'cuexuo', 'cuisine', 'culinary', 'cultural', 'culver', 'cum', 'cunningham', 'cup', 'cupcakes', 'cupklo', 'cuppy', 'curtis', 'curwood', 'custard', 'customer', 'cut', 'cuwh', 'cuyaz', 'cvl', 'cw', 'cwls', 'cwrp', 'cx', 'cxuh', 'cxx', 'cycc', 'cygi', 'cza', 'czddd', 'czgy', 'czttno', 'da', 'daa', 'daaqt', 'dabq', 'daddy', 'dade', 'dae', 'dai', 'dairy', 'dairyland', 'dak', 'dakhla', 'dakota', 'dalton', 'dame', 'damian', 'damien', 'dan', 'dance', 'dandelion', 'daniel', 'daniels', 'daporijo', 'darshini', 'darwin', 'das', 'data', 'date', 'dated', 'daughters', 'davali', 'davanegere', 'davanw', 'dave', 'david', 'davis', 'davkol', 'davkot', 'davman', 'davmer', 'davpay', 'davsec', 'dawaar', 'dawn', 'dawpone', 'dawson', 'day', 'days', 'db', 'dbd', 'dbeeg', 'dbi', 'dc', 'dcm', 'dcnclk', 'dd', 'ddfuoy', 'ddg', 'ddgncm', 'ddr', 'ddvwg', 'de', 'dead', 'deadpool', 'deal', 'dear', 'debevic', 'ded', 'dedup', 'dee', 'deena', 'degrees', 'dei', 'del', 'delaware', 'delayed', 'deli', 'delicatessen', 'delifrance', 'delight', 'delivery', 'dell', 'della', 'delta', 'denino', 'denny', 'dep', 'deptime', 'derby', 'derek', 'derrick', 'desert', 'design', 'dessert', 'destefano', 'detective', 'deutsche', 'deux', 'devin', 'devon', 'dew', 'dewart', 'dewey', 'df', 'dfbsxa', 'dfdqos', 'dfuat', 'dg', 'dgiwrv', 'dgw', 'dh', 'dhaba', 'dhabel', 'dhacha', 'dhacoo', 'dhadgh', 'dhaern', 'dhahub', 'dhahyd', 'dhakan', 'dhaman', 'dhamys', 'dhaoot', 'dhapay', 'dharmastala', 'dhasag', 'dhashi', 'dhasri', 'dhathi', 'dhjd', 'dhjp', 'dhm', 'dhq', 'dhy', 'di', 'dial', 'dib', 'dick', 'dickey', 'dicos', 'diddy', 'diego', 'diest', 'digital', 'dillon', 'dimw', 'din', 'diner', 'dinerrestaurant', 'diners', 'dinette', 'dinges', 'dining', 'dinner', 'dinners', 'dinor', 'dinosaur', 'dipper', 'dirty', 'discount', 'discovery', 'disney', 'disneyquest', 'district', 'ditsch', 'diu', 'dixie', 'dixy', 'dj', 'djddpl', 'djgei', 'djp', 'djt', 'dk', 'dkgs', 'dkhb', 'dkk', 'dkp', 'dkvef', 'dlie', 'dlntus', 'dlwl', 'dmmm', 'dmu', 'dmv', 'dmxoky', 'dmy', 'dmz', 'dn', 'dnflye', 'doane', 'dob', 'dock', 'docomo', 'doctor', 'dog', 'doggie', 'dogs', 'doj', 'dolly', 'dolphin', 'dome', 'dominic', 'dominick', 'domino', 'dominoes', 'dominos', 'dominoz', 'donald', 'dong', 'donnelly', 'donovan', 'donut', 'donuts', 'door', 'dory', 'double', 'doubledave', 'doug', 'doughnut', 'doughnuts', 'douglass', 'doumar', 'doutor', 'douwe', 'downtown', 'dozen', 'dp', 'dpd', 'dq', 'dqr', 'dr', 'dragon', 'drake', 'drew', 'drewes', 'drive', 'drivein', 'drivethrough', 'drivethru', 'drsx', 'dry', 'drydock', 'ds', 'dsekyt', 'dshj', 'dt', 'dtp', 'dtpe', 'dtqsg', 'dtw', 'du', 'duck', 'due', 'duluth', 'dumbo', 'dume', 'dumser', 'dunkin', 'dunkindonut', 'dunkindonuts', 'dupar', 'duqp', 'dustin', 'dutch', 'dva', 'dvv', 'dw', 'dwlm', 'dx', 'dxda', 'dxdiz', 'dxw', 'dy', 'dycy', 'dye', 'dylan', 'dz', 'dzbi', 'dzjh', 'dzlduf', 'eads', 'eagle', 'eai', 'earls', 'east', 'easton', 'easyinternetcaf', 'eat', 'eataly', 'eatery', 'eatin', 'eating', 'eaton', 'eatzi', 'eb', 'ebe', 'ec', 'eci', 'ecpi', 'ecwarm', 'ed', 'edbfac', 'eddie', 'eddys', 'eden', 'edgar', 'edicks', 'edinburg', 'edison', 'ediya', 'edmc', 'edmonton', 'eds', 'eduardo', 'edun', 'edward', 'edwin', 'eex', 'efcohw', 'efey', 'effal', 'efle', 'efp', 'eg', 'egberts', 'eghm', 'ego', 'eguu', 'egvif', 'eh', 'ehge', 'ehzpjt', 'eigoev', 'ein', 'einstein', 'eix', 'ej', 'ejeaji', 'ejey', 'ejm', 'ejtfyl', 'ejubg', 'ekkc', 'ekl', 'eky', 'el', 'ela', 'elbagj', 'elbulli', 'ele', 'election', 'electric', 'element', 'elements', 'elephant', 'elevation', 'elf', 'elg', 'eli', 'elias', 'elijah', 'elk', 'elkins', 'ellen', 'elmo', 'elms', 'eloy', 'elsie', 'em', 'emack', 'embsuites', 'emergency', 'emilia', 'emka', 'emmanuel', 'emory', 'empire', 'en', 'enagas', 'enc', 'encounter', 'end', 'endem', 'energy', 'enf', 'enghelab', 'engineering', 'english', 'enjoy', 'enoteca', 'enrique', 'ent', 'enterprises', 'entertainment', 'envc', 'enzlif', 'enzo', 'enzxx', 'eo', 'eob', 'eoo', 'ep', 'epgbwo', 'epicure', 'eplohk', 'epn', 'epqi', 'epwl', 'eq', 'eqbstf', 'eqm', 'era', 'eric', 'erick', 'erie', 'erik', 'ernakulam', 'ernanw', 'erncha', 'erncoi', 'ernhir', 'ernie', 'ernkas', 'ernkia', 'ernkot', 'ernkum', 'ernmad', 'ernman', 'ernmys', 'ernoot', 'ernpal', 'ernthi', 'erntir', 'erntum', 'ernudu', 'erp', 'erst', 'erxbtc', 'es', 'escambia', 'escape', 'ese', 'esop', 'esot', 'espn', 'espresso', 'esquire', 'esquires', 'essex', 'essie', 'est', 'establishment', 'estates', 'estiatorio', 'esvxkl', 'eszs', 'etang', 'etd', 'ethan', 'etiotl', 'etj', 'etmevq', 'etnyca', 'etrade', 'eu', 'eum', 'europe', 'evan', 'evans', 'evb', 'eve', 'evening', 'evewfu', 'evlcwa', 'ew', 'ewdl', 'ex', 'exchange', 'exfag', 'exhibition', 'express', 'extreme', 'ey', 'eyg', 'eyms', 'ez', 'ezr', 'ezzdlf', 'fa', 'faaso', 'faasos', 'fables', 'fac', 'facial', 'factory', 'faculty', 'fair', 'fairwood', 'faisaliyah', 'fal', 'falafel', 'falak', 'fall', 'fallafel', 'falls', 'fame', 'family', 'famous', 'fan', 'fanar', 'fantastic', 'far', 'fare', 'fargo', 'farm', 'farmer', 'farms', 'farrell', 'fashion', 'fast', 'fat', 'fatburger', 'fatp', 'fatz', 'fauar', 'fayetteville', 'fayre', 'fbhz', 'fbmu', 'fc', 'fcea', 'fcv', 'fdrl', 'fdu', 'fe', 'feam', 'febo', 'fec', 'feg', 'felixes', 'fels', 'ferd', 'fergburger', 'fernando', 'fernmeldeturm', 'ferrara', 'ferrell', 'ferrells', 'ferrels', 'fette', 'ff', 'ffg', 'ffgp', 'ffkptj', 'fflr', 'ffoxn', 'ffw', 'fg', 'fge', 'fglfvw', 'fglt', 'fgnt', 'fh', 'fhlpb', 'fi', 'fibi', 'field', 'fif', 'figaro', 'figures', 'fillipe', 'fim', 'financial', 'find', 'finding', 'fink', 'fiorella', 'firehouse', 'first', 'fish', 'fishbox', 'fisher', 'fitchburg', 'fitness', 'five', 'fixedline', 'fj', 'fjjonh', 'fjords', 'fk', 'fklyrn', 'fkxg', 'fl', 'flj', 'floor', 'florence', 'florida', 'flqsm', 'flt', 'fluky', 'flunch', 'fluor', 'fm', 'fmje', 'fmnn', 'fmvg', 'fn', 'fnb', 'fncl', 'fnec', 'fnk', 'fo', 'fodero', 'fog', 'fogo', 'fokdj', 'folk', 'food', 'foods', 'foothill', 'ford', 'forest', 'fork', 'forsyth', 'fort', 'forum', 'fossil', 'fosters', 'fou', 'foundation', 'four', 'fp', 'fq', 'fr', 'franceklm', 'francescana', 'francisco', 'frank', 'frankie', 'franklin', 'franks', 'freddy', 'free', 'freeze', 'french', 'fresca', 'fresh', 'freshii', 'friday', 'fried', 'friedman', 'friendly', 'friendship', 'fries', 'frisby', 'frisch', 'frisco', 'fritto', 'frk', 'frobisher', 'frog', 'frosty', 'frozen', 'fruz', 'frysif', 'fs', 'fsds', 'fse', 'fsgbank', 'fsw', 'ft', 'fu', 'fucheng', 'fuel', 'fuj', 'full', 'fuller', 'fun', 'fung', 'funston', 'fuq', 'fusion', 'fv', 'fvf', 'fvfqk', 'fvj', 'fvrn', 'fvsw', 'fvv', 'fx', 'fxa', 'fxaqx', 'fxeu', 'fxhptn', 'fy', 'fyl', 'fyljgv', 'fyne', 'fyp', 'fyqe', 'fz', 'fzjlar', 'fzke', 'ga', 'gabriel', 'gage', 'gail', 'galadriels', 'galaxy', 'gallery', 'galt', 'gam', 'gama', 'gamble', 'gandhinagar', 'garden', 'gardens', 'garrett', 'garuda', 'garvanza', 'gas', 'gastroenterology', 'gate', 'gateway', 'gatlinburg', 'gatti', 'gattopardo', 'gau', 'gavin', 'gaxixp', 'gay', 'gaz', 'gb', 'gbogm', 'gbr', 'gc', 'gcb', 'gcu', 'gd', 'gdf', 'gdgefs', 'gdhknt', 'gdl', 'gdo', 'gdp', 'gdy', 'gdzq', 'ge', 'gehomb', 'gejkt', 'gelato', 'geliga', 'general', 'generated', 'genex', 'gennaro', 'geology', 'george', 'georgie', 'geq', 'gerardo', 'gerbasi', 'geri', 'german', 'gerry', 'get', 'gf', 'gfb', 'gfbuyn', 'gfw', 'ggagz', 'ggd', 'ggmnp', 'ggotji', 'ggqt', 'ggy', 'gh', 'ghabj', 'ghf', 'ghjkbf', 'ghobie', 'ghostbusters', 'gi', 'giant', 'gibeau', 'gifford', 'gimme', 'ginger', 'gino', 'ginza', 'giolitti', 'giovanni', 'gir', 'giraffas', 'giraffe', 'giratoria', 'giratorio', 'girder', 'girl', 'giuu', 'gizxhh', 'gj', 'gjt', 'gk', 'gkfi', 'gkg', 'gkiv', 'gktxaf', 'gl', 'glass', 'gleska', 'gloria', 'glyjp', 'gm', 'gmbzyw', 'gmdi', 'gmwgrm', 'gmwmd', 'go', 'goa', 'god', 'godfather', 'gold', 'golden', 'goli', 'gomes', 'gomez', 'good', 'goody', 'gop', 'gopalan', 'gordon', 'gorge', 'gotham', 'gourmet', 'government', 'gowl', 'gowrishankar', 'gp', 'gpb', 'gpfciw', 'gpogd', 'gq', 'gql', 'gqy', 'gr', 'grace', 'graeter', 'grand', 'grande', 'grant', 'gratitude', 'gray', 'great', 'greater', 'greco', 'greek', 'green', 'greenbrier', 'greenfield', 'greens', 'greggs', 'gregory', 'grenouille', 'griffin', 'grill', 'grilled', 'grimaldi', 'grocery', 'grodzinski', 'ground', 'grounds', 'group', 'grp', 'grupo', 'gsgu', 'gt', 'gtiq', 'gtnkdk', 'gto', 'gu', 'guest', 'gulf', 'guohsv', 'gupslq', 'guqak', 'gurunaru', 'gus', 'gustavus', 'gut', 'guys', 'guzman', 'gv', 'gvd', 'gvp', 'gvxplm', 'gw', 'gwang', 'gwbpyf', 'gwhrtk', 'gwinnett', 'gwl', 'gwmrbv', 'gwxvfr', 'gx', 'gxjzhe', 'gxwl', 'gy', 'gytn', 'gyukaku', 'gzeb', 'gzkkjm', 'gzl', 'ha', 'haberdashery', 'habib', 'habits', 'hac', 'hacienda', 'hacksaw', 'hague', 'hair', 'hall', 'halloween', 'halls', 'halo', 'hamborgarafabrikkan', 'hamburger', 'hamburgers', 'hamburguesas', 'hampshire', 'hampton', 'hanagasa', 'hancock', 'hand', 'handel', 'handles', 'hangar', 'hannibal', 'happy', 'harbor', 'harcourt', 'hard', 'hardin', 'hardware', 'harrison', 'harry', 'harrys', 'hartsfieldjackson', 'harvester', 'harvey', 'hasc', 'hascoo', 'hasern', 'hash', 'hashub', 'hashyd', 'haskia', 'hasmad', 'hasoot', 'haspan', 'haspay', 'haspud', 'hasput', 'hassan', 'hasshi', 'hassri', 'hastir', 'hastri', 'hasvij', 'hauraki', 'havana', 'hawaii', 'hawaiian', 'hayden', 'hayward', 'hazuu', 'hbi', 'hbjlu', 'hbuk', 'hbx', 'hc', 'hcbjcm', 'hce', 'hci', 'hd', 'hdv', 'headquarters', 'health', 'healthcare', 'healthy', 'heart', 'heaven', 'heavy', 'heb', 'hebron', 'hector', 'heifers', 'heights', 'heinrichhertzturm', 'helix', 'hell', 'helm', 'helsinkivantaa', 'henny', 'henry', 'hepatitis', 'heritage', 'hero', 'herrell', 'hesburger', 'hespn', 'hf', 'hfez', 'hff', 'hfg', 'hfjk', 'hfrxfb', 'hg', 'hgdc', 'hgdh', 'hgv', 'hh', 'hhusw', 'hi', 'hib', 'hidden', 'high', 'highland', 'highlands', 'highway', 'hikvk', 'hilejb', 'hill', 'hillbilly', 'hillel', 'hillister', 'hills', 'hillsdale', 'hilltop', 'hiltl', 'hind', 'hippopotamus', 'hiqg', 'hirbel', 'hirche', 'hirchi', 'hirdha', 'hirhas', 'hiriyur', 'hirkar', 'hirkot', 'hirkun', 'hiroot', 'hiroshima', 'hirpal', 'hirpan', 'hirsec', 'hirtan', 'hirthr', 'hirudu', 'hirvij', 'historic', 'history', 'hj', 'hjoqm', 'hjqykz', 'hjr', 'hjvw', 'hjzsm', 'hk', 'hklmd', 'hl', 'hlg', 'hlmx', 'hlsklp', 'hlt', 'hlzg', 'hmtr', 'hmv', 'hn', 'hnos', 'hnzxof', 'ho', 'hodkyq', 'hoe', 'hof', 'hofstra', 'hog', 'hogs', 'hoher', 'hoi', 'hoka', 'hokkoku', 'hokuetsu', 'hold', 'holding', 'holdings', 'hole', 'holiday', 'hollys', 'home', 'homeburgers', 'homedepot', 'homemade', 'hometrust', 'honey', 'honeybaked', 'hoogte', 'hooters', 'hopkins', 'horc', 'hortons', 'hosea', 'hospital', 'hoss', 'hot', 'hotdog', 'hotdogs', 'hotel', 'hotels', 'hothouse', 'hotto', 'houghton', 'house', 'houses', 'howard', 'hp', 'hpc', 'hpuv', 'hq', 'hqd', 'hqgzvu', 'hqmc', 'hqpctq', 'hr', 'hrbzv', 'hrgv', 'hro', 'hrqubo', 'hrrtux', 'hrs', 'hrz', 'hs', 'hsnh', 'hso', 'ht', 'htics', 'htr', 'htu', 'hu', 'hubben', 'hubcha', 'hubkar', 'hubkia', 'hubkod', 'hubkol', 'hubkun', 'hubli', 'hubmad', 'huboot', 'hubput', 'hubshi', 'hubtan', 'hubtri', 'hucrwa', 'hudson', 'hughes', 'huillier', 'human', 'humana', 'humphreys', 'hunanw', 'hunben', 'hunche', 'hunchi', 'hundimala', 'hunhas', 'hunhir', 'hunkod', 'hunkol', 'hunman', 'hunoot', 'hunpud', 'hunter', 'huntington', 'hunudu', 'hunvij', 'huqqaf', 'hurley', 'hurricane', 'hut', 'huuuhq', 'hv', 'hvcmag', 'hvhq', 'hvrtlq', 'hvss', 'hvt', 'hvw', 'hwo', 'hwood', 'hwqfqz', 'hwy', 'hx', 'hxapip', 'hxjaq', 'hy', 'hyangsan', 'hyatt', 'hyd', 'hydbel', 'hydcoi', 'hydel', 'hyderabad', 'hydhas', 'hydkar', 'hydkod', 'hydkum', 'hydmad', 'hydpal', 'hydpay', 'hydpun', 'hydshi', 'hydsri', 'hydthi', 'hydtir', 'hyperion', 'hyundai', 'hz', 'hza', 'hzb', 'hzeuz', 'hzk', 'hzl', 'iakdzx', 'ian', 'iav', 'ib', 'ibt', 'ic', 'icbj', 'ice', 'icecream', 'icecreamparlor', 'icecreamparlour', 'icepan', 'icfs', 'icg', 'ichbcs', 'icsqfv', 'id', 'idea', 'idemitsu', 'idl', 'idli', 'idr', 'idx', 'ie', 'iel', 'iemo', 'ieuzvg', 'ifdnyg', 'ifg', 'ifui', 'ig', 'igbj', 'igqvck', 'ihqkw', 'ihvdp', 'ii', 'iifnxw', 'ij', 'ijbbwb', 'ijci', 'ijr', 'ik', 'ikbdj', 'ike', 'il', 'ilander', 'ilf', 'ilheung', 'illinois', 'ilut', 'ilvbnu', 'ilx', 'ilxkj', 'image', 'imf', 'imwmcc', 'imx', 'inasal', 'inc', 'incas', 'incinerator', 'incredible', 'independence', 'independent', 'india', 'indian', 'indiana', 'indigo', 'inditex', 'indu', 'industries', 'infy', 'ingenal', 'inh', 'inj', 'inland', 'inn', 'innoko', 'innout', 'innovative', 'inox', 'inpoph', 'ins', 'insomnia', 'inspiral', 'instant', 'institute', 'insurance', 'integrity', 'intelligence', 'intercontinentalexchange', 'interculturels', 'internacional', 'international', 'inv', 'io', 'ip', 'ipcnp', 'ipj', 'ippudo', 'ipt', 'ipw', 'ipxdd', 'iq', 'iqa', 'iqp', 'iqs', 'ir', 'irgf', 'irish', 'irj', 'irs', 'isaac', 'isaiah', 'isbank', 'isjq', 'isk', 'island', 'islands', 'isle', 'isles', 'isoe', 'isow', 'israel', 'isto', 'italia', 'italian', 'itasca', 'itau', 'itdp', 'itjw', 'itrq', 'itwf', 'itys', 'itzqoi', 'iu', 'iulzo', 'iuz', 'iv', 'ivan', 'ivanhoe', 'ivar', 'ivk', 'ivn', 'ivnyr', 'ivp', 'ivs', 'iw', 'iwtpi', 'iwv', 'iww', 'iwywcq', 'ix', 'ixe', 'ixk', 'ixm', 'iy', 'iyiy', 'iz', 'izm', 'izs', 'izz', 'ja', 'jace', 'jack', 'jacks', 'jackson', 'jacob', 'jade', 'jaden', 'jai', 'jaiden', 'jaijr', 'jain', 'jake', 'jalen', 'jamba', 'james', 'japadog', 'jared', 'jason', 'java', 'javier', 'jaxon', 'jay', 'jayanagar', 'jayden', 'jaylen', 'jb', 'jbr', 'jbt', 'jc', 'jcfqpf', 'jcitzr', 'jclwht', 'jczu', 'jd', 'jda', 'jdh', 'jdm', 'jds', 'jdus', 'jdz', 'je', 'jean', 'jef', 'jeff', 'jefferson', 'jeffrey', 'jej', 'jeni', 'jensen', 'jeosbx', 'jeremiah', 'jeremy', 'jerry', 'jersey', 'jesse', 'jesus', 'jet', 'jetport', 'jewish', 'jf', 'jfeb', 'jfi', 'jfj', 'jfp', 'jfr', 'jg', 'jga', 'jgb', 'jgiruw', 'jgpw', 'jgtdjg', 'jgy', 'jh', 'jhf', 'ji', 'jicubs', 'jif', 'jigs', 'jim', 'jimmy', 'jinjiang', 'jio', 'jiro', 'jiso', 'jittery', 'jiw', 'jiz', 'jj', 'jjdup', 'jje', 'jjgtd', 'jjhgh', 'jjo', 'jjx', 'jka', 'jkm', 'jkv', 'jl', 'jlr', 'jm', 'jmoivd', 'jmq', 'jn', 'jnlkdi', 'jnn', 'jnydate', 'jo', 'joan', 'job', 'joe', 'joel', 'joes', 'john', 'johnathan', 'johnnie', 'johnny', 'johns', 'johnson', 'joint', 'joints', 'jonah', 'jonathan', 'jordan', 'jorge', 'jose', 'joseph', 'joshua', 'josiah', 'josue', 'jotl', 'journey', 'joy', 'jp', 'jpfnd', 'jpjwlm', 'jpmorgan', 'jq', 'jqkuw', 'jqz', 'jr', 'jrh', 'jrsw', 'js', 'jsa', 'jsf', 'jt', 'jtib', 'ju', 'juan', 'jubilee', 'jubili', 'jud', 'judson', 'jui', 'juice', 'jujf', 'jujx', 'julep', 'julian', 'juliana', 'juliette', 'julio', 'jumper', 'junction', 'jungle', 'juniors', 'junk', 'juoo', 'justice', 'justin', 'juwkut', 'jv', 'jvl', 'jvwtot', 'jw', 'jwbtyk', 'jwe', 'jwkpgf', 'jwp', 'jwwod', 'jwx', 'jwy', 'jwyx', 'jx', 'jxvk', 'jy', 'jykeiu', 'jyvjdp', 'jz', 'ka', 'kaas', 'kaatizone', 'kabab', 'kaden', 'kaffebrenneriet', 'kai', 'kaiden', 'kaiserliche', 'kalamazoo', 'kaleb', 'kaleida', 'kaleidoscoops', 'kalzone', 'kanchi', 'kandar', 'kanhun', 'kankod', 'kankot', 'kannur', 'kanpur', 'kansag', 'kansas', 'kanshi', 'kansri', 'kantri', 'karad', 'karaikudi', 'karbel', 'karben', 'karchi', 'kardomah', 'karhir', 'karkum', 'karmad', 'karman', 'karmer', 'karpud', 'karsri', 'kartir', 'kasali', 'kasanw', 'kasargod', 'kasche', 'kascoo', 'kashas', 'kashir', 'kashish', 'kashun', 'kaskia', 'kaskol', 'kasmys', 'kasoot', 'kaspal', 'kaspan', 'kasshi', 'kasten', 'kasthi', 'kasudu', 'kate', 'katz', 'kaya', 'kb', 'kbqdlp', 'kbu', 'kbyi', 'kbz', 'kc', 'kcawv', 'kckoms', 'kcnz', 'kct', 'kd', 'kdbtr', 'ke', 'kearny', 'kebab', 'kebabs', 'kee', 'keegan', 'keg', 'kegs', 'keith', 'kelsey', 'kem', 'kennedy', 'kennels', 'kenneth', 'kent', 'kentucky', 'kenyatta', 'keppel', 'ketchikan', 'kevin', 'kewpee', 'kf', 'kfc', 'kfw', 'kfy', 'kh', 'khaan', 'khh', 'khilanmarg', 'khn', 'khv', 'khyv', 'ki', 'kia', 'kiaanw', 'kiaben', 'kiacoi', 'kiakan', 'kiakar', 'kiakol', 'kial', 'kiaman', 'kiamys', 'kianti', 'kiatan', 'kiathi', 'kiathr', 'kibe', 'kidney', 'kids', 'killbuck', 'kinabalu', 'king', 'kingdom', 'kingfisher', 'kings', 'kingsley', 'kiosk', 'kirbys', 'kirk', 'kitchen', 'kj', 'kjb', 'kjels', 'kjg', 'kjiokw', 'kjmj', 'kjqtxt', 'kjzekc', 'kk', 'kkc', 'kkptbj', 'kks', 'kkucx', 'kl', 'kla', 'klagenfurt', 'klein', 'klenger', 'klesdx', 'klfh', 'klg', 'klh', 'klkz', 'kluo', 'klxncd', 'klz', 'km', 'kmefod', 'kmija', 'kmr', 'kmro', 'kmxx', 'kn', 'knncqo', 'knob', 'ko', 'koa', 'kodagu', 'kodaikanal', 'kodali', 'kodchi', 'kodern', 'kodhas', 'kodhyd', 'kodkar', 'kodkol', 'kodman', 'kodoot', 'kodpan', 'kodshi', 'kodtan', 'kodthi', 'kodtri', 'kodtum', 'kogi', 'koinot', 'kokusai', 'kokxkl', 'kolagu', 'kolali', 'kolar', 'kolbel', 'kolche', 'kolchi', 'koldha', 'kolhapur', 'kolhas', 'kolhir', 'kolhub', 'kolhun', 'kolhyd', 'kolkan', 'kolkas', 'kolkia', 'kolkol', 'kolkum', 'kolkun', 'kollam', 'kolman', 'kolmys', 'kolpay', 'kolpon', 'kolpud', 'kolpun', 'kolsag', 'kolshi', 'koltan', 'kolthi', 'kolthr', 'koltir', 'koni', 'koperen', 'kor', 'korea', 'koryo', 'kosan', 'kosher', 'kota', 'kotben', 'kotcha', 'kotcoo', 'kothas', 'kotipizza', 'kotkol', 'kotmad', 'kotmum', 'kotoot', 'kotpal', 'kotpud', 'kotshi', 'kotsri', 'kottayam', 'kotthi', 'kottum', 'kotudu', 'kotvij', 'kox', 'kozali', 'kozanw', 'kozche', 'kozchi', 'kozcoo', 'kozdav', 'kozhikode', 'kozhir', 'kozhun', 'kozkan', 'kozkar', 'kozkod', 'kozkol', 'kozkot', 'kozkum', 'kozman', 'kozmum', 'kozsag', 'kozthi', 'koztri', 'kp', 'kpn', 'kq', 'kqgpz', 'kreme', 'krf', 'krishna', 'krispy', 'kro', 'krou', 'ks', 'ksi', 'ksrtc', 'ksxcfm', 'kt', 'ktg', 'ktl', 'ktu', 'ku', 'kuala', 'kudu', 'kufrak', 'kullman', 'kum', 'kumali', 'kumbakonam', 'kumcha', 'kumhas', 'kumkan', 'kumkia', 'kumkol', 'kumman', 'kummum', 'kumnel', 'kumpal', 'kumpud', 'kumshi', 'kumudu', 'kun', 'kunben', 'kunchi', 'kundapura', 'kung', 'kunhas', 'kunhir', 'kunhub', 'kunhun', 'kunkia', 'kunkod', 'kunkol', 'kunkot', 'kunkum', 'kunpan', 'kunpon', 'kunshi', 'kuntum', 'kunvij', 'kuopio', 'kutako', 'kuu', 'kuwait', 'kv', 'kvt', 'kvz', 'kw', 'kwo', 'kx', 'kxp', 'kxzu', 'ky', 'kyamz', 'kybtbl', 'kyd', 'kyle', 'kyochon', 'kyst', 'kz', 'kzrw', 'la', 'lab', 'laduree', 'lafleur', 'lafv', 'lagoon', 'lagrange', 'lai', 'lake', 'lakeland', 'lakes', 'lakeside', 'lakme', 'lakq', 'lakshmi', 'lamar', 'lameirt', 'land', 'landen', 'landmark', 'landon', 'landry', 'lands', 'lane', 'lanes', 'laoh', 'lares', 'larpvk', 'laughing', 'laughner', 'laundry', 'laura', 'laurie', 'lavazza', 'lazz', 'lb', 'lbbg', 'lbdh', 'lbupr', 'lc', 'lcejm', 'lcp', 'lct', 'ld', 'lda', 'lde', 'ldixka', 'ldx', 'le', 'leaf', 'lee', 'leela', 'legend', 'lej', 'lennie', 'lenoir', 'leoltq', 'leon', 'leonard', 'leonardo', 'les', 'lesjhr', 'leslie', 'lettieri', 'lettuce', 'levi', 'lew', 'lewiston', 'lf', 'lg', 'lgb', 'lgfk', 'lgfx', 'lgpgc', 'lgr', 'lgrc', 'lh', 'lhwl', 'liam', 'lick', 'licken', 'lido', 'lieat', 'life', 'lifting', 'lights', 'lightstation', 'like', 'limited', 'lincoln', 'linfield', 'lingo', 'lipy', 'liquor', 'lisemco', 'lites', 'little', 'live', 'living', 'lj', 'ljb', 'ljlnuu', 'ljqt', 'ljxkh', 'lkdb', 'lko', 'lkvmee', 'lkvnbh', 'lkz', 'llc', 'llcqf', 'lle', 'lloyd', 'lm', 'lmbee', 'lmkk', 'lmlr', 'lmt', 'ln', 'lngfv', 'lnlyvu', 'lnri', 'lnro', 'lobster', 'loch', 'logan', 'lolwn', 'london', 'lone', 'long', 'longfellow', 'longhorn', 'longwood', 'looking', 'loop', 'lore', 'lorenzo', 'los', 'lostwood', 'lotus', 'lou', 'louie', 'louis', 'louisiana', 'louisville', 'lounge', 'loving', 'lp', 'lpo', 'lqcohy', 'lqlue', 'lr', 'lrf', 'lrh', 'lrhbb', 'lriep', 'ls', 'ltd', 'ltp', 'ltvbi', 'lu', 'luby', 'lucas', 'lucille', 'lucky', 'lugr', 'luh', 'luiqg', 'luis', 'luke', 'lul', 'lumpur', 'lunch', 'lv', 'lve', 'lvmdfd', 'lvz', 'lw', 'lwdejv', 'lwely', 'lwr', 'lwv', 'lx', 'lxb', 'ly', 'lym', 'lymhg', 'lyx', 'lyyj', 'lzbb', 'lznil', 'lztmdl', 'lzv', 'maa', 'mac', 'macalester', 'macaroni', 'macau', 'mackinac', 'mad', 'madali', 'madchi', 'maddha', 'madea', 'madikeri', 'madkia', 'madkun', 'madman', 'madmer', 'madonal', 'madpun', 'madras', 'madsec', 'madshi', 'madurai', 'madvij', 'magadi', 'maggiemoo', 'magic', 'magnificent', 'magnito', 'magnolia', 'magots', 'magpie', 'magrath', 'maha', 'mahadevapura', 'mahony', 'mail', 'main', 'maine', 'mainsource', 'maintenance', 'maison', 'maj', 'major', 'mak', 'makemytrip', 'malachi', 'mall', 'mambos', 'mamie', 'man', 'management', 'managu', 'mananw', 'mancha', 'manchac', 'manche', 'manchi', 'mancoi', 'mancoo', 'mandarin', 'mandav', 'mandha', 'mandya', 'manetta', 'mang', 'mangaluru', 'mango', 'manhas', 'manhir', 'manhyd', 'manipal', 'mankas', 'mankia', 'mankod', 'mankol', 'mankoz', 'mankum', 'mankun', 'manmad', 'manman', 'manmer', 'manmys', 'mannat', 'mannel', 'mannheim', 'manning', 'manoot', 'manpud', 'manpun', 'mansag', 'manshi', 'mansri', 'mantan', 'mantir', 'mantralaya', 'mantri', 'manuel', 'maoz', 'mar', 'maranjab', 'marathahalli', 'marathon', 'marble', 'marco', 'marcos', 'marcus', 'marea', 'margaritaville', 'margie', 'margo', 'maria', 'marie', 'marina', 'mario', 'mark', 'market', 'marriot', 'marriott', 'marry', 'marrybrown', 'marshall', 'mart', 'martha', 'martin', 'maruti', 'marwari', 'mary', 'marybrown', 'mascaron', 'mason', 'massage', 'masseria', 'massimo', 'massira', 'mat', 'matito', 'matsuhisa', 'matt', 'matthew', 'maud', 'mauds', 'max', 'maxcha', 'maxim', 'maximum', 'maxwell', 'mayo', 'maze', 'mb', 'mbaz', 'mc', 'mcallenmiller', 'mccaf', 'mccno', 'mccormick', 'mccoy', 'mcd', 'mcdonald', 'mcdonalds', 'mcguire', 'mckee', 'mckinney', 'mcl', 'mcn', 'mcz', 'md', 'mdi', 'mdtdfs', 'meadows', 'meatball', 'mec', 'mecca', 'medical', 'medicine', 'medieval', 'meditation', 'mediterranean', 'medival', 'meenakshi', 'mef', 'mel', 'memorial', 'memphis', 'men', 'menara', 'menchie', 'merben', 'mercara', 'merchants', 'merche', 'mercoi', 'merern', 'merhyd', 'meridian', 'meritus', 'merkas', 'merkia', 'mermad', 'merman', 'mermum', 'mermys', 'mershi', 'mersri', 'meru', 'mesquite', 'mess', 'methodist', 'metro', 'metroborgari', 'metropolis', 'mex', 'mexican', 'mexico', 'mexicozina', 'mezcal', 'mf', 'mfl', 'mfpbvv', 'mfu', 'mfwb', 'mg', 'mgq', 'mgqz', 'mh', 'mhfc', 'mhop', 'mi', 'miami', 'mib', 'micah', 'michael', 'michel', 'michie', 'michigan', 'mickey', 'middle', 'middleburg', 'middlebury', 'midland', 'midtown', 'midway', 'midwest', 'might', 'migratory', 'miguel', 'mike', 'mikel', 'mikes', 'milagros', 'mile', 'miles', 'milestones', 'military', 'mill', 'millenium', 'millie', 'milos', 'milwaukee', 'mimi', 'mina', 'mini', 'mining', 'miniplex', 'minneapolis', 'minnesota', 'minnwest', 'mins', 'mirrors', 'miss', 'missisquoi', 'misto', 'misty', 'mitchell', 'mj', 'mjb', 'mjg', 'mjt', 'mk', 'mkg', 'mki', 'ml', 'mleczny', 'mlm', 'mlnvx', 'mlqi', 'mmmuffins', 'mn', 'mnb', 'mndq', 'mne', 'mnp', 'mnw', 'mo', 'moali', 'moana', 'mobley', 'moc', 'mocpk', 'mod', 'modern', 'modoc', 'moe', 'mogador', 'momo', 'moms', 'monde', 'monginis', 'monical', 'montana', 'montgomery', 'montmorency', 'montreal', 'moo', 'moon', 'moondance', 'moosewood', 'morgan', 'morris', 'mos', 'mosala', 'moscoso', 'moshe', 'moshulu', 'motel', 'motor', 'motors', 'motto', 'mount', 'mountain', 'movie', 'movqty', 'mowgk', 'mp', 'mpaa', 'mppr', 'mppy', 'mpwwuu', 'mpy', 'mq', 'mqh', 'mqv', 'mr', 'mrad', 'mrarfz', 'mrkt', 'mrocfk', 'mrs', 'ms', 'mskbhc', 'msr', 'mt', 'mtfh', 'mto', 'mtqv', 'mtyd', 'mu', 'mub', 'mud', 'muddy', 'muffin', 'mufg', 'mugaritz', 'mugg', 'multi', 'multiplex', 'mumbai', 'mumbel', 'mumchi', 'mumern', 'mumkum', 'mumman', 'mummys', 'mumnel', 'mumpan', 'mumpud', 'mumpun', 'mumput', 'mumsec', 'mumshi', 'mumsri', 'munson', 'murder', 'murugan', 'museum', 'music', 'muskegon', 'muslim', 'mutant', 'mvdi', 'mvoui', 'mwjn', 'mwk', 'mwwk', 'mx', 'mxc', 'mxh', 'mxhrt', 'mxo', 'mxqbp', 'mycobacteriology', 'mykonos', 'myku', 'myq', 'mysanw', 'mysben', 'myscha', 'myschi', 'myscoo', 'myshun', 'myskan', 'myskol', 'myskot', 'myskoz', 'mysmum', 'mysnel', 'mysoot', 'mysore', 'myspal', 'myspun', 'myssag', 'myssec', 'mysshi', 'myssri', 'mystan', 'mystery', 'mysthi', 'mystic', 'mystir', 'mystum', 'mysuru', 'myw', 'myzod', 'mzk', 'mzkn', 'mzq', 'mzssbv', 'mzto', 'mzu', 'mzv', 'na', 'nag', 'nagar', 'nairobi', 'namma', 'nan', 'nandana', 'nando', 'naples', 'napoli', 'narayangonj', 'narmafzar', 'narnjestan', 'narrow', 'narrows', 'nash', 'nasi', 'nasinneula', 'nasmki', 'nat', 'nathan', 'nathaniel', 'nation', 'national', 'nations', 'natural', 'naturals', 'nature', 'naugles', 'navajo', 'naval', 'navale', 'navi', 'nawas', 'naypyidaw', 'nazarene', 'nb', 'nbj', 'nbt', 'nbu', 'nc', 'ncal', 'nce', 'nch', 'ncn', 'ncr', 'ncsu', 'nd', 'ndc', 'ndglc', 'ndsu', 'ndvg', 'ndvhm', 'ndzkwr', 'ne', 'nebraska', 'necedah', 'neck', 'nedick', 'neighbor', 'neighbourhood', 'nelagu', 'nelali', 'nelben', 'nelcoo', 'nelern', 'nelhun', 'nelkas', 'nelkum', 'nelkun', 'nellore', 'nelman', 'nelmum', 'nelpay', 'nelpon', 'nelpun', 'nelsec', 'nelsri', 'nelthi', 'neorion', 'neptune', 'nero', 'nest', 'net', 'neu', 'new', 'newark', 'newberry', 'newbridge', 'newk', 'newman', 'newport', 'newschool', 'next', 'nf', 'nfafjb', 'nfxgo', 'nfzlra', 'ngizex', 'ngr', 'nguyen', 'nh', 'nhcwi', 'nheneq', 'nib', 'nic', 'nicholas', 'nichols', 'nicolas', 'nightclub', 'ninja', 'nippon', 'nirala', 'nirula', 'nissequogue', 'nit', 'nitrkx', 'niy', 'nj', 'njhd', 'njo', 'nju', 'nkbe', 'nkpgkp', 'nkqi', 'nl', 'nlh', 'nlru', 'nlu', 'nm', 'nmb', 'nmpwzs', 'nn', 'nnkspo', 'nnrqs', 'nnvd', 'noah', 'nolan', 'nomad', 'non', 'none', 'noodle', 'nordisk', 'nordsee', 'nordstroms', 'norfolk', 'northampton', 'northern', 'northwoods', 'nosa', 'noshery', 'notre', 'novant', 'novo', 'np', 'nq', 'nqj', 'nqnxdg', 'nqr', 'nr', 'nrb', 'nrh', 'nrvk', 'nrybft', 'nsl', 'nsni', 'nt', 'nte', 'nthl', 'nthq', 'ntnzo', 'ntp', 'ntxtqc', 'nty', 'nu', 'nugget', 'nupt', 'nurnberger', 'nursing', 'nuts', 'nuway', 'nuxf', 'nv', 'nvds', 'nvj', 'nw', 'nx', 'nxhq', 'nxta', 'nxtx', 'ny', 'nyc', 'nye', 'nyit', 'nyrcni', 'nz', 'nzfr', 'nzyqie', 'oab', 'oadxv', 'oahl', 'oak', 'oaks', 'ob', 'ober', 'oberoi', 'obtv', 'obz', 'ocean', 'oceans', 'ocm', 'oconomowoc', 'ocsp', 'odk', 'odlljn', 'oeeqrk', 'oef', 'oelpzz', 'office', 'ofgc', 'ofkc', 'og', 'ogen', 'ogh', 'ogn', 'oh', 'ohcfwe', 'ohu', 'ohwhcz', 'ohy', 'oi', 'oicx', 'oige', 'oil', 'oilfield', 'oin', 'oiui', 'oj', 'ojal', 'ojcqc', 'ojok', 'ojp', 'ojw', 'ok', 'okn', 'ol', 'ola', 'olaf', 'old', 'olde', 'oldtown', 'olga', 'olive', 'oliver', 'olx', 'olyao', 'olympia', 'olz', 'om', 'omar', 'omklgy', 'ompklk', 'omxn', 'one', 'ongu', 'ontario', 'onwkv', 'onwz', 'onyd', 'oo', 'oogv', 'ook', 'oomassa', 'oor', 'ootanw', 'ootben', 'ootchi', 'ootcoo', 'ootdav', 'ootdha', 'oothas', 'ootkol', 'ootkoz', 'ootmys', 'ootshi', 'ooty', 'op', 'open', 'opened', 'opera', 'opk', 'oporto', 'opoylt', 'opq', 'optics', 'optometry', 'oq', 'oqbh', 'oqh', 'oqi', 'oqoil', 'orange', 'orbit', 'order', 'orient', 'oriental', 'origin', 'original', 'orion', 'orleans', 'oro', 'os', 'osa', 'oscar', 'ostendbruges', 'osteria', 'oswdcg', 'ot', 'ote', 'otfpw', 'otpj', 'ottawa', 'otzb', 'ou', 'outback', 'outlet', 'outlets', 'outside', 'ouvtsd', 'ouwvci', 'ov', 'ovation', 'oven', 'overflow', 'overseachinese', 'ovglzg', 'ovnyk', 'ovt', 'ovtv', 'ovyj', 'ovywr', 'ow', 'owd', 'oweji', 'owen', 'owx', 'ox', 'oxjvg', 'oxky', 'oxpsrp', 'oxwctq', 'oy', 'oydl', 'oygfit', 'oys', 'oyster', 'oyvd', 'oz', 'ozgxez', 'ozi', 'ozpw', 'ozvj', 'ozya', 'ozz', 'pa', 'pab', 'pace', 'pacific', 'packing', 'pagasa', 'pai', 'pain', 'paix', 'pakito', 'palace', 'palakkad', 'palchi', 'palern', 'palkum', 'pallavi', 'palman', 'palms', 'palmys', 'paloot', 'palpan', 'palpud', 'palput', 'palsag', 'palshi', 'palsri', 'paltir', 'paltri', 'paludu', 'pamela', 'panagu', 'panaji', 'pancake', 'panchi', 'pancho', 'panda', 'pandav', 'panera', 'panern', 'panhir', 'panhyd', 'panic', 'pankol', 'pankot', 'pankoz', 'panman', 'panmer', 'panoot', 'panorama', 'panoramic', 'panpud', 'pansec', 'panshi', 'panthi', 'pantnagar', 'pantry', 'panvij', 'panyawangan', 'papa', 'papalaua', 'papaya', 'paper', 'pappas', 'paradise', 'paris', 'park', 'parker', 'parlor', 'parlour', 'parton', 'party', 'parwat', 'pascucci', 'paseta', 'pasighat', 'pasqua', 'pasquale', 'pass', 'passengers', 'password', 'pasticceria', 'pasty', 'pat', 'patang', 'patch', 'patel', 'patesserie', 'pathology', 'patisserie', 'patrick', 'patrizia', 'patsy', 'pattaya', 'paul', 'pav', 'payali', 'payben', 'paycha', 'payman', 'paymys', 'paysri', 'paytir', 'payton', 'paytum', 'payyanur', 'pb', 'pbd', 'pbl', 'pcj', 'pcn', 'pcrsrk', 'pd', 'pddn', 'pdk', 'pdq', 'pdypkg', 'pe', 'peaberry', 'peachtree', 'peaks', 'pearl', 'pebble', 'peculiar', 'pedro', 'peet', 'peets', 'pegb', 'peh', 'pelita', 'pely', 'penguin', 'penn', 'penneys', 'pennsylvania', 'penny', 'people', 'peoples', 'pepper', 'peregrine', 'perini', 'perkins', 'perlan', 'peruvian', 'pesa', 'pete', 'peter', 'petite', 'petrol', 'pets', 'petting', 'peyton', 'pf', 'pfc', 'pff', 'pffxxy', 'pfisgi', 'pfl', 'pfpq', 'pg', 'pggham', 'pgh', 'pgu', 'pgvp', 'ph', 'pharmacare', 'phfflu', 'phil', 'philadelphia', 'philz', 'phm', 'photo', 'php', 'phulbani', 'piccadilly', 'pick', 'pickens', 'picnic', 'pie', 'pier', 'pig', 'pigi', 'pigmans', 'pilates', 'pilot', 'pind', 'pinkberry', 'pinnacle', 'pinto', 'pioneers', 'piper', 'pipo', 'pit', 'pita', 'pitch', 'pitfire', 'pitman', 'pits', 'pixieland', 'piz', 'pizza', 'pizzala', 'pizzarev', 'pizzaworks', 'pizzeria', 'pj', 'pja', 'pjfgpf', 'pjgd', 'pjktzs', 'pjq', 'pjr', 'pjrc', 'pjusnw', 'pjwq', 'pk', 'pl', 'place', 'plains', 'plainscapital', 'plan', 'planet', 'plant', 'plataforma', 'plateau', 'plateaus', 'platinum', 'plattsmouth', 'playhouse', 'plaza', 'please', 'pleurtuit', 'plex', 'pm', 'pmm', 'pmuaf', 'pn', 'pnal', 'pnq', 'pnr', 'pnrfeu', 'pnwec', 'pny', 'po', 'poca', 'poetry', 'point', 'poirier', 'polaris', 'pollo', 'pollos', 'polo', 'polytechnic', 'pomona', 'ponali', 'ponchi', 'pond', 'ponderosa', 'pondha', 'pondicherry', 'ponkas', 'ponkia', 'ponkol', 'ponkum', 'ponmer', 'ponmys', 'ponoot', 'ponpun', 'ponput', 'ponsri', 'pontan', 'ponthi', 'pontri', 'pontum', 'pool', 'poole', 'poolhall', 'popeyes', 'popup', 'porchetta', 'port', 'portillo', 'portland', 'portsmouth', 'post', 'postal', 'posto', 'pot', 'potbelly', 'potzollcalli', 'poubelle', 'povq', 'power', 'pp', 'ppeoay', 'ppl', 'ppnze', 'ppt', 'pq', 'pr', 'prairie', 'prczlv', 'prehistoric', 'premiere', 'presentation', 'preservation', 'preserve', 'presidente', 'preston', 'pretzels', 'prezzo', 'prima', 'prison', 'prn', 'procope', 'promedica', 'pruk', 'prxxog', 'przc', 'ps', 'psmitq', 'psngrname', 'psycho', 'ptfdja', 'pua', 'pub', 'pudagu', 'pudali', 'pudbel', 'pudche', 'pudcoi', 'pudhas', 'pudhun', 'pudhyd', 'pudkan', 'pudkar', 'pudkas', 'pudkod', 'pudkol', 'pudkot', 'pudkum', 'pudman', 'pudmer', 'pudmum', 'pudoot', 'pudpan', 'pudpon', 'pudpud', 'pudsag', 'pudshi', 'pudsri', 'pudtan', 'pudthi', 'pudthr', 'pudtir', 'puducherry', 'pudukotai', 'pudvdp', 'puerto', 'puhejy', 'pui', 'puijo', 'pujin', 'pumper', 'punagu', 'punbel', 'punben', 'punbfd', 'punch', 'puncoo', 'pundha', 'pune', 'punern', 'punhas', 'punhun', 'punkod', 'punkol', 'punmys', 'punput', 'punsec', 'punshi', 'pup', 'puppy', 'purchase', 'purdue', 'purge', 'putagu', 'putanw', 'putcoo', 'putdav', 'putdha', 'puthas', 'puthyd', 'putman', 'putmer', 'putpal', 'putpay', 'putsec', 'putshi', 'putsri', 'puttaparthi', 'puttir', 'putudu', 'putvij', 'pvr', 'pvrm', 'pvt', 'pw', 'pwmhwi', 'pwqrl', 'pwwv', 'px', 'pxhx', 'pxki', 'pxssvx', 'py', 'pyramid', 'pyu', 'pywqfm', 'pz', 'pzhyun', 'qa', 'qal', 'qb', 'qbfj', 'qc', 'qcmit', 'qcmsnp', 'qcved', 'qcvpcv', 'qcw', 'qd', 'qdd', 'qdhe', 'qdi', 'qdjdj', 'qdoba', 'qe', 'qeso', 'qetjf', 'qf', 'qfmb', 'qfmjrz', 'qft', 'qg', 'qgatua', 'qgb', 'qglshc', 'qgzvv', 'qh', 'qi', 'qicqba', 'qip', 'qjj', 'qk', 'qkbq', 'qkjs', 'qksg', 'ql', 'qlcs', 'qluc', 'qluv', 'qlz', 'qm', 'qmd', 'qn', 'qnbg', 'qns', 'qntahl', 'qo', 'qolpk', 'qova', 'qp', 'qpfaxt', 'qptwe', 'qqhwv', 'qqzaxu', 'qr', 'qro', 'qs', 'qswd', 'qt', 'qtu', 'qtur', 'qtuvnj', 'qu', 'quanzhou', 'quard', 'quarters', 'que', 'queen', 'queenston', 'queries', 'qugi', 'quizno', 'quiznos', 'quotidien', 'quvj', 'qv', 'qvgf', 'qvic', 'qvt', 'qw', 'qwgo', 'qwylz', 'qxadpa', 'qxctex', 'qxr', 'qy', 'qybwc', 'qycrt', 'qyqmn', 'qys', 'qz', 'raa', 'rabbit', 'radio', 'radiocabs', 'radiohead', 'radon', 'rafael', 'rafi', 'raheja', 'rail', 'railroad', 'rainbow', 'rainforest', 'raj', 'rajajinagar', 'rake', 'rally', 'ramakrishna', 'ramen', 'ramsay', 'ramsden', 'randy', 'range', 'raptor', 'rasmussen', 'ratner', 'raul', 'raxzn', 'ray', 'raymond', 'rb', 'rbol', 'rbpooh', 'rc', 'rcfske', 'rcj', 'rckdwa', 'rcojrv', 'rcwz', 'rd', 'rdd', 'rdg', 'rdhu', 'rdwx', 'rdx', 'reach', 'real', 'recipe', 'reclaim', 'red', 'reed', 'reef', 'ref', 'refreshment', 'refuge', 'reggiano', 'regina', 'regional', 'reilly', 'reinhardt', 'relationship', 'reliable', 'reliance', 'religious', 'remlinger', 'ren', 'rensselaer', 'repair', 'republic', 'rerykp', 'resaurant', 'research', 'reservation', 'reserve', 'residency', 'resort', 'restauant', 'restaurant', 'restaurante', 'restaurants', 'resto', 'resurgence', 'revolving', 'rex', 'rfbggt', 'rfh', 'rftc', 'rg', 'rgds', 'rgg', 'rgh', 'rh', 'rhddkn', 'rhea', 'rheinturm', 'rhsthi', 'rhyne', 'ri', 'rib', 'ribbon', 'ricardo', 'rice', 'richard', 'rickenbacker', 'ricky', 'rico', 'ride', 'ridge', 'riese', 'right', 'riley', 'rincon', 'ring', 'ripley', 'ristorante', 'ritazza', 'ritzy', 'river', 'riverfront', 'riverside', 'riy', 'rja', 'rjvyx', 'rjxh', 'rk', 'rkc', 'rksv', 'rl', 'rly', 'rm', 'rmjtgx', 'rmsk', 'rmy', 'rn', 'ro', 'road', 'roadhouse', 'roadside', 'roadster', 'roaster', 'roasters', 'robeks', 'robert', 'roberta', 'roberto', 'robichaux', 'robin', 'rock', 'rocket', 'rockies', 'rockline', 'rocks', 'rocky', 'rogers', 'rogue', 'rohlsen', 'rolling', 'rolls', 'rollsroyce', 'roma', 'roman', 'romano', 'ronde', 'rondeview', 'rondo', 'rooftop', 'room', 'rootbeer', 'ror', 'roragr', 'rosamond', 'rosarito', 'roscos', 'rosebud', 'roswfb', 'rotiboy', 'rotterdam', 'rotunda', 'rouge', 'round', 'rourke', 'rousse', 'rowyvm', 'roy', 'royal', 'rp', 'rpbxo', 'rpcn', 'rpr', 'rqo', 'rqvs', 'rqzf', 'rrb', 'rrk', 'rrq', 'rs', 'rsccf', 'rsiv', 'rsmtjf', 'rsq', 'rstelstand', 'rsxl', 'rtc', 'rtk', 'rtm', 'rtpnoq', 'rtsz', 'rtym', 'ru', 'ruben', 'rubios', 'rubo', 'ruby', 'rucker', 'rugby', 'runza', 'rup', 'russ', 'russo', 'rutgers', 'rv', 'rvdkxn', 'rvn', 'rvwcz', 'rw', 'rwfpag', 'rwq', 'rwr', 'rxdyux', 'rxl', 'rxm', 'rxs', 'rxwrzh', 'ryan', 'ryclcw', 'ryexru', 'rygv', 'ryokan', 'ryugyong', 'ryzyuu', 'rz', 'rzw', 'rzz', 'sa', 'saclay', 'sacred', 'sadra', 'saeedi', 'safari', 'sagar', 'sagben', 'sagcha', 'sagche', 'sagcoi', 'saghun', 'saginaw', 'sagkan', 'sagkun', 'sagmum', 'sagmys', 'sagoot', 'sagpan', 'sagpud', 'sagpun', 'sahib', 'saic', 'saigon', 'saint', 'sakae', 'salad', 'saladworks', 'salmon', 'salon', 'saloon', 'salt', 'salve', 'sam', 'sammy', 'sample', 'sampson', 'samsung', 'samuel', 'san', 'sanborns', 'sanctuary', 'sanders', 'sandwich', 'sandy', 'sankey', 'santa', 'santarpio', 'sapphire', 'saputo', 'saraghina', 'saravana', 'sarden', 'sarris', 'sasha', 'sau', 'sauces', 'sauder', 'sausage', 'saut', 'sb', 'sbc', 'sbekr', 'sbp', 'sbz', 'sc', 'scammel', 'scene', 'scf', 'scheduled', 'schlitterbahn', 'schlotzsky', 'schnitz', 'schofield', 'school', 'sciences', 'scores', 'scott', 'scr', 'scul', 'sczcgp', 'sd', 'sdbsnw', 'sdcb', 'sdn', 'sea', 'seacoast', 'sean', 'seaport', 'seas', 'seashore', 'seat', 'seatno', 'seats', 'sebastian', 'secali', 'secche', 'secchi', 'seckia', 'seckod', 'seckot', 'secmad', 'secman', 'second', 'secord', 'secpon', 'secpud', 'secret', 'secsag', 'sectan', 'section', 'sectri', 'secunderabad', 'security', 'see', 'segafredo', 'segyero', 'selmon', 'seminary', 'senior', 'seo', 'seoul', 'seqeuh', 'seqsyt', 'sergio', 'served', 'service', 'services', 'sessions', 'setar', 'seth', 'seto', 'seven', 'seward', 'sex', 'sf', 'sfaa', 'sfk', 'sftu', 'sg', 'sge', 'sgkpnq', 'sgp', 'sgsm', 'sgzo', 'sh', 'shack', 'shadows', 'shake', 'shakeaway', 'shakes', 'shale', 'shane', 'shangrila', 'shanter', 'shanty', 'shares', 'shawn', 'shenandoah', 'sherman', 'shezan', 'shi', 'shiali', 'shibel', 'shiben', 'shiche', 'shichi', 'shicoi', 'shield', 'shiern', 'shihas', 'shihub', 'shihyd', 'shijiazhuang', 'shikas', 'shikol', 'shikot', 'shimad', 'shiman', 'shimys', 'shioot', 'ship', 'shipal', 'shipan', 'shipay', 'shipbuilding', 'shipley', 'shipmarin', 'shipon', 'shiprepair', 'shipud', 'shiput', 'shipyard', 'shipyards', 'shirdi', 'shisec', 'shishi', 'shisri', 'shitan', 'shithr', 'shitir', 'shivamogga', 'shivij', 'shl', 'shoals', 'shoeless', 'shoney', 'shop', 'shoppe', 'shopping', 'shops', 'shopsy', 'shore', 'shots', 'show', 'showbiz', 'showroom', 'shreveport', 'si', 'sibylla', 'side', 'sidney', 'sierra', 'sigma', 'signature', 'silbw', 'silk', 'silver', 'silvertip', 'simmons', 'sims', 'sinai', 'sing', 'singapore', 'single', 'sinte', 'sirloin', 'sisters', 'sizzler', 'sizzlin', 'sj', 'sjd', 'sjis', 'sjivpj', 'sjz', 'sk', 'skakunok', 'ske', 'skf', 'skg', 'skies', 'skp', 'sky', 'skycity', 'skydome', 'skyler', 'skyline', 'skylon', 'skyway', 'sl', 'slab', 'sleeper', 'slipway', 'slough', 'slow', 'slug', 'slukyv', 'slv', 'smitty', 'smoke', 'smokehouse', 'smokin', 'smorgasbord', 'sn', 'sneaky', 'sni', 'sno', 'snow', 'soar', 'solutions', 'sonic', 'sonning', 'sonny', 'soul', 'soulongtang', 'sound', 'soup', 'souplantation', 'south', 'southcoast', 'southeast', 'southern', 'southwest', 'southwestern', 'sov', 'sp', 'spa', 'space', 'spago', 'span', 'spectacular', 'spencer', 'spgruh', 'spice', 'spices', 'spindletop', 'spinnakers', 'spiral', 'spirit', 'spizzico', 'splendid', 'split', 'spoleto', 'spoon', 'sports', 'spot', 'spr', 'spring', 'springs', 'sprinkles', 'spu', 'spud', 'spudbar', 'spudnut', 'spudulike', 'sq', 'sqjr', 'sqk', 'squad', 'squadron', 'square', 'squash', 'squid', 'squires', 'sr', 'srh', 'sriagu', 'sriali', 'srianw', 'sribel', 'sriche', 'sridav', 'sridha', 'sriharikota', 'srihir', 'srihub', 'srihun', 'srikalahasti', 'srikar', 'srikas', 'srikol', 'srikoz', 'srikum', 'srikun', 'srimad', 'sriman', 'srinel', 'sringeri', 'srinivasa', 'srioot', 'sripraphai', 'sripud', 'sripun', 'srishi', 'srisri', 'srithr', 'sritri', 'sritum', 'srivij', 'srz', 'ss', 'sse', 'sseldorf', 'ssfp', 'st', 'stack', 'stadium', 'staff', 'stage', 'stagedoor', 'stall', 'stampede', 'stand', 'standard', 'stanserhorn', 'star', 'starbucks', 'stardust', 'starion', 'starlight', 'state', 'staten', 'station', 'status', 'stbccd', 'steak', 'steakburgers', 'steakhouse', 'steel', 'steers', 'steiny', 'stephen', 'stetson', 'steve', 'steven', 'stewart', 'sthhrm', 'sthubert', 'stick', 'stillman', 'stinging', 'stix', 'stmrju', 'stockade', 'stone', 'store', 'storey', 'storks', 'strange', 'stray', 'street', 'strickland', 'studies', 'stumptown', 'stv', 'stxe', 'style', 'su', 'submarine', 'submarines', 'subs', 'subterranean', 'sugam', 'suicide', 'sukiya', 'sully', 'summit', 'sumo', 'sun', 'sundaes', 'sunsphere', 'supa', 'superdawg', 'supermac', 'superman', 'sur', 'surat', 'surgery', 'susan', 'sushi', 'susy', 'sutra', 'sv', 'svc', 'svfss', 'svg', 'svgs', 'sw', 'swagath', 'swagman', 'swamp', 'swan', 'sweet', 'sweets', 'sweetwater', 'swensen', 'swensons', 'swg', 'swi', 'swift', 'swiss', 'swpbav', 'sxgwpn', 'sxhbxd', 'sxr', 'sxtxo', 'sxv', 'sy', 'syah', 'syavl', 'sydney', 'synergy', 'syp', 'system', 'systems', 'syw', 'syyn', 'sz', 'szd', 'szfb', 'szo', 'szpuya', 'szvfnp', 'table', 'tabriz', 'taco', 'tai', 'tail', 'taim', 'taj', 'tajmre', 'takeaway', 'takeout', 'talbot', 'talcher', 'taller', 'tam', 'tananw', 'tanbel', 'tancoo', 'tandav', 'tandha', 'tanern', 'tanjavoor', 'tankas', 'tankum', 'tanmys', 'tannel', 'tanner', 'tanpun', 'tanshi', 'tantalizers', 'tanvij', 'tapas', 'taqueria', 'tar', 'tarzan', 'tastee', 'tasteefreez', 'tastet', 'tastte', 'tasty', 'taub', 'taurino', 'tavarekere', 'tavern', 'taverns', 'taxet', 'taxiforsure', 'taxiway', 'taylor', 'taziki', 'tb', 'tbip', 'tbipo', 'tbo', 'tc', 'tcby', 'tchibo', 'tcn', 'tcr', 'tcxxkn', 'td', 'tdj', 'tea', 'teahouse', 'tearoom', 'teatro', 'technology', 'ted', 'teenage', 'tei', 'telecaf', 'telecommunications', 'telepizza', 'teler', 'television', 'temple', 'ten', 'teng', 'tennessee', 'tennis', 'teodoro', 'teppanyaki', 'teqf', 'terceira', 'teremok', 'teresa', 'terminal', 'terrace', 'tewi', 'texas', 'texmex', 'tez', 'tf', 'tfegwx', 'tfhf', 'tfi', 'tflvxc', 'tg', 'tgbku', 'tghh', 'tgi', 'tgif', 'th', 'thai', 'thaiboom', 'thani', 'thank', 'thanks', 'thbfk', 'thdn', 'theater', 'theatre', 'theatres', 'theological', 'theology', 'thiben', 'thicoo', 'thidha', 'thihas', 'thihir', 'thikan', 'thikot', 'thikoz', 'thimad', 'thiman', 'thimum', 'thioot', 'thipal', 'thipon', 'thipud', 'thipun', 'third', 'thirunallar', 'thiruvananthapuram', 'thishi', 'thisri', 'thitan', 'thithr', 'thiudu', 'thivij', 'thkci', 'thomas', 'thompson', 'thought', 'thrchi', 'thrcoi', 'thrdha', 'three', 'thrissur', 'thrive', 'thrkod', 'thrkum', 'thrmer', 'throot', 'throwball', 'thrpud', 'thrpun', 'thrput', 'thrshi', 'thrsri', 'thrthi', 'thrvij', 'ths', 'thundercloud', 'thwns', 'ti', 'tibits', 'ticket', 'tickets', 'tico', 'tidelands', 'tif', 'till', 'tim', 'time', 'times', 'timothy', 'tino', 'tip', 'tir', 'tirchi', 'tirdav', 'tirhyd', 'tirkar', 'tirkot', 'tirman', 'tirmys', 'tiroot', 'tirpay', 'tirshi', 'tirsri', 'tirthi', 'tirupathi', 'tirupati', 'tisserie', 'tit', 'titanic', 'tj', 'tje', 'tjxvf', 'tk', 'tkk', 'tkp', 'tkzlxd', 'tl', 'tlfm', 'tlk', 'tlwo', 'tm', 'tmq', 'tmqcpw', 'tmr', 'tmtm', 'tne', 'tni', 'toast', 'tobw', 'toddle', 'tog', 'tokoin', 'tokyo', 'toledo', 'toloache', 'tom', 'tommy', 'toms', 'tong', 'tonto', 'tony', 'top', 'toppers', 'torrefazione', 'tortugas', 'tote', 'totten', 'toul', 'tour', 'touro', 'tower', 'towers', 'town', 'toy', 'toyohashi', 'tp', 'tpn', 'tpx', 'tq', 'tqm', 'tr', 'trackways', 'trafalga', 'train', 'tram', 'transplant', 'trattoria', 'travis', 'trbdgv', 'treacher', 'treat', 'treatery', 'treating', 'trek', 'trenton', 'trevor', 'trey', 'tri', 'triagu', 'trianw', 'trichy', 'trick', 'trieste', 'trikas', 'trikoz', 'triman', 'trimys', 'tripcode', 'triple', 'tripon', 'trisag', 'trisri', 'tristan', 'tritum', 'triveni', 'trju', 'trolls', 'tropical', 'trowbridge', 'troy', 'trswtg', 'truck', 'true', 'trung', 'truss', 'trust', 'trustmark', 'trv', 'trx', 'trxkzg', 'trz', 'ts', 'tskl', 'tsu', 'tsuneishi', 'tt', 'ttlbl', 'tu', 'tuck', 'tulip', 'tully', 'tulsa', 'tumakuru', 'tumali', 'tumkar', 'tumkas', 'tumkod', 'tumkol', 'tumkum', 'tummum', 'tumpay', 'tumpun', 'tumshi', 'tumsri', 'tumthr', 'tumtri', 'tunxy', 'turbat', 'turki', 'turku', 'turtle', 'turtles', 'tuxcnb', 'tv', 'tvc', 'tvf', 'tvg', 'tvh', 'tvjcpd', 'tvyl', 'tw', 'twal', 'twi', 'twin', 'twistee', 'twnaec', 'twosome', 'twrq', 'twucm', 'tx', 'txn', 'txuywa', 'txz', 'ty', 'tyler', 'types', 'tyrrhenian', 'tyvjux', 'tz', 'tzcrs', 'tzejnr', 'tzn', 'ua', 'uatd', 'uber', 'ubfahm', 'uc', 'uca', 'ucabs', 'ucc', 'ucco', 'ucfez', 'ucoqjb', 'ucq', 'ucu', 'ucwwfu', 'ucxr', 'ud', 'udj', 'udl', 'udqg', 'udr', 'uduali', 'uduche', 'uduchi', 'ududha', 'uduern', 'uduhub', 'udukum', 'udukun', 'uduman', 'udunel', 'udupal', 'udupan', 'udupi', 'udusag', 'udushi', 'udusri', 'udzavn', 'ue', 'ueed', 'ueipi', 'uej', 'ueshima', 'uf', 'ufm', 'ufo', 'ufoysb', 'uhclqs', 'uhq', 'ui', 'uis', 'uith', 'uiuqm', 'uj', 'ujeo', 'ujhn', 'uk', 'ukhl', 'ul', 'uld', 'uljanik', 'ulo', 'ulr', 'ulsoor', 'um', 'umami', 'umb', 'umh', 'umpqua', 'unb', 'uncle', 'underground', 'underwater', 'une', 'unemto', 'ungava', 'unh', 'union', 'united', 'unitrin', 'universal', 'university', 'unkd', 'uo', 'uol', 'upper', 'upxs', 'uq', 'uqr', 'uqyyq', 'ur', 'urge', 'url', 'urod', 'us', 'uscd', 'usecbe', 'used', 'usej', 'usetw', 'usg', 'usgxj', 'using', 'ut', 'ute', 'uticbg', 'utopkx', 'uty', 'utz', 'uunhup', 'uurhwq', 'uuw', 'uv', 'uvo', 'uvp', 'uw', 'uwqa', 'ux', 'uxe', 'uxqfk', 'uy', 'uz', 'uzmar', 'uzoopj', 'uzxang', 'va', 'vaa', 'vaccination', 'vada', 'vadilal', 'vaishnavi', 'valdez', 'valentino', 'valley', 'valtellinese', 'value', 'van', 'vancouver', 'vanderbilt', 'vapiano', 'varsity', 'varv', 'vasanta', 'vasco', 'vay', 'vbites', 'vbl', 'vbly', 'vbsk', 'vbvbqv', 'vc', 'vcdjuz', 'vch', 'vcvb', 'vd', 'vdcdu', 'vde', 'vdh', 'vdn', 'vdpu', 'veedu', 'veer', 'vegan', 'veganburg', 'vegetarian', 'veggie', 'venice', 'veniero', 'ventana', 'veq', 'veqotc', 'verona', 'verrazano', 'verve', 'vewccp', 'vfip', 'vfwnxv', 'vg', 'vga', 'vgq', 'vgv', 'vh', 'vha', 'vhnm', 'vhu', 'vi', 'via', 'viaduct', 'vic', 'victor', 'victoria', 'victory', 'vid', 'vida', 'videocon', 'vienna', 'view', 'vihar', 'vijaya', 'vijayawada', 'vijchi', 'vijkar', 'vijkum', 'vijmad', 'vijmys', 'vijsri', 'vijtan', 'vijtum', 'vijudu', 'village', 'ville', 'vimi', 'vincennes', 'vincent', 'vip', 'virginia', 'visentini', 'vision', 'visit', 'vista', 'vivace', 'vj', 'vjbcyw', 'vjf', 'vjiynl', 'vjj', 'vjo', 'vjv', 'vk', 'vkyng', 'vl', 'vlbvkc', 'vln', 'vlp', 'vm', 'vmkf', 'vmugh', 'vn', 'vnf', 'vnk', 'vnnf', 'vns', 'vnu', 'vnypnl', 'vo', 'vocelli', 'vodafone', 'vok', 'volcanic', 'vons', 'voodoo', 'voslta', 'vovspf', 'vox', 'voxjlk', 'vozpqk', 'vp', 'vpo', 'vqc', 'vqirx', 'vqjhgc', 'vqk', 'vqpkf', 'vqr', 'vr', 'vst', 'vsu', 'vt', 'vtm', 'vtom', 'vu', 'vud', 'vueq', 'vui', 'vuk', 'vuli', 'vuxoum', 'vv', 'vw', 'vwu', 'vwv', 'vx', 'vxbvbd', 'vxdipn', 'vy', 'vybn', 'vyirp', 'vyjg', 'vytopna', 'vz', 'vzd', 'vzf', 'vzhc', 'wa', 'waatua', 'wac', 'wacker', 'wadr', 'waf', 'wafels', 'waffle', 'waffles', 'wagamama', 'wagbdrd', 'wagner', 'wagon', 'wagtngw', 'wahotw', 'waikiki', 'wairere', 'waj', 'wajbkzy', 'wak', 'wakfguw', 'wakis', 'walker', 'walsh', 'walt', 'walter', 'wamipfk', 'wan', 'wanxud', 'waokjkj', 'wapx', 'waq', 'waqu', 'war', 'ward', 'warehouse', 'warluoa', 'warner', 'warren', 'wasaekj', 'washington', 'water', 'wave', 'wavjc', 'wavkrsu', 'way', 'wayaq', 'wayne', 'wayside', 'wazic', 'wb', 'wbajs', 'wbfxti', 'wbgcsu', 'wbhlfea', 'wbiizsz', 'wbl', 'wblo', 'wbo', 'wbpi', 'wbpybbe', 'wbrb', 'wbssn', 'wbtegw', 'wbtxndv', 'wbv', 'wbxq', 'wbyejp', 'wc', 'wca', 'wcaa', 'wcbfrt', 'wcbh', 'wcbkz', 'wcdh', 'wcdl', 'wcg', 'wcgmdk', 'wchg', 'wchlpmm', 'wchqffd', 'wcix', 'wcj', 'wck', 'wckjins', 'wcldx', 'wclqjua', 'wcmhm', 'wcophyf', 'wcoxui', 'wcp', 'wcpwjqn', 'wcqg', 'wcr', 'wct', 'wctjji', 'wctojt', 'wcuntb', 'wcuwlwm', 'wcwf', 'wcwv', 'wcx', 'wcxp', 'wcxwyux', 'wcz', 'wd', 'wdboj', 'wdbtp', 'wddab', 'wdierqe', 'wdix', 'wdjib', 'wdk', 'wdkn', 'wdl', 'wdn', 'wdnta', 'wdo', 'wdonlpt', 'wdpfaje', 'wdpvd', 'wds', 'wduhmjf', 'wdva', 'wdx', 'wdxv', 'wdy', 'wdyvoe', 'wdzfxh', 'wdzg', 'webb', 'webers', 'webster', 'wechestor', 'wecywl', 'wedcvfi', 'weebdtw', 'weekends', 'weenie', 'wefk', 'weh', 'wehmrg', 'weiners', 'weinerschnitzel', 'weizm', 'wel', 'welcome', 'weld', 'wells', 'wemple', 'wemu', 'wendy', 'wentworth', 'weome', 'wepked', 'werft', 'wesk', 'wesley', 'wesleyan', 'west', 'western', 'westsea', 'wetherspoon', 'wetland', 'wetryr', 'wetzel', 'weu', 'weut', 'wev', 'wew', 'wewflu', 'wewg', 'wey', 'wf', 'wfanwt', 'wfau', 'wfbs', 'wfccpsf', 'wfg', 'wfgbrmk', 'wfi', 'wfkdhil', 'wfl', 'wfmb', 'wfofggh', 'wfoxtc', 'wfq', 'wfrg', 'wfsxl', 'wfulbko', 'wfwb', 'wfwh', 'wfxezlg', 'wfy', 'wfycsib', 'wg', 'wga', 'wgadf', 'wgbbxft', 'wgc', 'wgclaiz', 'wgdoq', 'wge', 'wgetz', 'wggxvov', 'wgj', 'wgnk', 'wgnm', 'wgo', 'wgrgz', 'wgrytni', 'wgs', 'wgschd', 'wgtb', 'wguwlf', 'wgwyx', 'wgz', 'wgzenyo', 'wgzz', 'wgzzksf', 'wh', 'whataburger', 'whatsapp', 'whdo', 'wheeler', 'wheelock', 'wheels', 'whhmlda', 'whippy', 'whit', 'white', 'whitefield', 'whitestone', 'whittlesey', 'whjbsej', 'whjq', 'whjxp', 'whko', 'whml', 'whn', 'whnj', 'whnr', 'whoe', 'whole', 'whozmpg', 'whp', 'whpk', 'whqtpuj', 'whu', 'whwxiv', 'whx', 'whydd', 'wi', 'wianktu', 'wib', 'wic', 'wicehi', 'wicvftb', 'widfgob', 'wie', 'wieners', 'wienerschnitzel', 'wienerwald', 'wiesddz', 'wif', 'wifin', 'wift', 'wight', 'wihzdfa', 'wii', 'wiiqke', 'wiivu', 'wijdypv', 'wijn', 'wild', 'wilderness', 'wildlife', 'wilhelmshaven', 'william', 'williams', 'willy', 'wilmington', 'wilson', 'wim', 'wimpy', 'wimrrsx', 'windhoek', 'winds', 'wine', 'winehouse', 'wineshop', 'wing', 'wingstop', 'wingstreet', 'winky', 'winner', 'winterbrook', 'wintwo', 'wio', 'wippmi', 'wirth', 'wisapz', 'wisgvfw', 'wisziz', 'witches', 'wiu', 'wiwn', 'wiwxu', 'wix', 'wixewoy', 'wiyph', 'wj', 'wjb', 'wjcbzgg', 'wjffb', 'wjh', 'wjhy', 'wji', 'wjj', 'wjkjhfq', 'wjlsj', 'wjmf', 'wjnf', 'wjpg', 'wjq', 'wjrhlhj', 'wjrsafo', 'wjrw', 'wjuue', 'wjuy', 'wjv', 'wjvgyr', 'wjwx', 'wjxfd', 'wjy', 'wjyjfzw', 'wjzfkaj', 'wk', 'wkcv', 'wkdtu', 'wke', 'wkf', 'wkgi', 'wkhir', 'wkifi', 'wkj', 'wkk', 'wkke', 'wkkqwu', 'wkm', 'wkq', 'wkrcx', 'wkuf', 'wkupxg', 'wkvkt', 'wkvzqnq', 'wky', 'wkzpn', 'wl', 'wlbtra', 'wlc', 'wlckfrl', 'wld', 'wlda', 'wlestxg', 'wlii', 'wlit', 'wlk', 'wlkmvba', 'wllmbes', 'wlne', 'wlod', 'wlooby', 'wlqrscy', 'wlrwqd', 'wls', 'wlw', 'wlwt', 'wlxskfo', 'wly', 'wlymmos', 'wlzlvqi', 'wm', 'wmaszqu', 'wmawv', 'wmbned', 'wmcsh', 'wmd', 'wmeitqc', 'wmgwreg', 'wmh', 'wmhdt', 'wmhpg', 'wmm', 'wmnz', 'wmptu', 'wmvel', 'wmvxkk', 'wmw', 'wmy', 'wmzlejv', 'wmzzt', 'wn', 'wndmmo', 'wnfyccn', 'wnh', 'wni', 'wnjbpxv', 'wnm', 'wnnhlzc', 'wnpd', 'wnq', 'wnqnjnk', 'wnqxxld', 'wnqz', 'wnrm', 'wnse', 'wnvfyds', 'wnvggne', 'wnw', 'wnwxv', 'wnxamms', 'wnxxiev', 'wo', 'woa', 'wobpw', 'wochnv', 'wofzs', 'wogkrj', 'woh', 'wohrtp', 'woiu', 'woj', 'woju', 'wokrl', 'wol', 'wollershiem', 'woln', 'wombluj', 'women', 'wonderland', 'wondrb', 'wonh', 'wonqvss', 'wonrkb', 'woodforest', 'woodlands', 'woodstock', 'woodstocks', 'woody', 'woqrp', 'woqwnil', 'worcester', 'workplace', 'works', 'world', 'wouvzsl', 'wovvh', 'wovzyz', 'wow', 'wowfa', 'woxgavm', 'woy', 'woyw', 'wp', 'wpa', 'wpbc', 'wpe', 'wpexjb', 'wpezm', 'wpfrhof', 'wpfv', 'wphh', 'wpjmzyn', 'wpk', 'wpki', 'wpky', 'wpl', 'wpmfdc', 'wpmtnt', 'wpnfsp', 'wpq', 'wpqgroe', 'wprnlls', 'wprup', 'wpt', 'wptnof', 'wptp', 'wpuansi', 'wpucn', 'wpvmq', 'wpwelok', 'wpxqjm', 'wpzbvpq', 'wpzlgz', 'wpzvrth', 'wq', 'wqan', 'wqcqq', 'wqcz', 'wqerdrj', 'wqfewxv', 'wqff', 'wqgh', 'wqgubt', 'wqhf', 'wqicgcx', 'wqjenj', 'wqjwh', 'wqmgpyn', 'wqmtl', 'wqodrk', 'wqoxepp', 'wqq', 'wqrl', 'wqsdkfr', 'wqsiht', 'wqsxahf', 'wqtxrsr', 'wquru', 'wqwavan', 'wqytwh', 'wqz', 'wr', 'wra', 'wralojf', 'wrbjwy', 'wrbyotq', 'wrdv', 'wrh', 'wrhh', 'wrj', 'wrk', 'wrl', 'wrmf', 'wrmxt', 'wrmz', 'wrnd', 'wrp', 'wrpjxap', 'wrrf', 'wrseqak', 'wrw', 'wrwblsu', 'wrwd', 'wrwl', 'wrwus', 'wrzjqru', 'wrzyti', 'ws', 'wsax', 'wscc', 'wsfj', 'wsifs', 'wsj', 'wsjh', 'wskm', 'wsnk', 'wsoi', 'wsphgjq', 'wsv', 'wsvm', 'wsxi', 'wsy', 'wsyielb', 'wsz', 'wt', 'wtb', 'wtbevw', 'wtbz', 'wthjuj', 'wtjwzs', 'wtkxf', 'wtmlg', 'wtmn', 'wtoqjbe', 'wtphsri', 'wtu', 'wtubjg', 'wtxhjje', 'wtxqswy', 'wtxwgkj', 'wu', 'wua', 'wuarlm', 'wuc', 'wuecw', 'wufwgg', 'wugej', 'wuglqve', 'wuh', 'wuhvr', 'wuinbbn', 'wuivm', 'wuke', 'wulfb', 'wuoi', 'wuop', 'wup', 'wupb', 'wut', 'wuta', 'wutucoc', 'wuuvbxl', 'wuv', 'wuwhrhg', 'wuwnf', 'wuyqra', 'wuzk', 'wv', 'wva', 'wvau', 'wvb', 'wvbm', 'wvbyfcw', 'wvdmrqv', 'wvf', 'wvickyw', 'wvj', 'wvlfovy', 'wvlr', 'wvmp', 'wvp', 'wvqzar', 'wvrfwfv', 'wvsmzsj', 'wvv', 'wvy', 'wvyoatk', 'wvyz', 'wvz', 'ww', 'wwbolzb', 'wwdpnk', 'wwegshb', 'wwelj', 'wwfi', 'wwgi', 'wwh', 'wwhkde', 'wwk', 'wwkt', 'wwmtpp', 'wwn', 'wwnfxcj', 'wwnul', 'wwq', 'wwqsv', 'wwsjl', 'wwtljy', 'wwu', 'www', 'wwwbkfk', 'wwzwwau', 'wx', 'wxa', 'wxaa', 'wxaq', 'wxbzi', 'wxc', 'wxcnfdp', 'wxcudd', 'wxe', 'wxghbwp', 'wxies', 'wxixkn', 'wxjy', 'wxkp', 'wxoeupn', 'wxr', 'wxsxckw', 'wxvbl', 'wxvsg', 'wxw', 'wxwwkyb', 'wxyrdn', 'wxzziov', 'wy', 'wyaej', 'wyatt', 'wyb', 'wycoet', 'wye', 'wyev', 'wyexm', 'wyhdjax', 'wyir', 'wyitygv', 'wyj', 'wyk', 'wylf', 'wyluwyl', 'wylx', 'wymkin', 'wymu', 'wyo', 'wypppop', 'wyq', 'wysm', 'wysx', 'wytusjv', 'wyvpiqy', 'wyvyfvr', 'wywy', 'wyxi', 'wyxl', 'wyxurxi', 'wyydku', 'wyyer', 'wyyujmk', 'wz', 'wzb', 'wzc', 'wzf', 'wzflxa', 'wzgju', 'wzho', 'wzi', 'wzicntq', 'wzicxa', 'wziic', 'wziih', 'wzjnr', 'wzlsdp', 'wzm', 'wzp', 'wzpu', 'wzr', 'wzrv', 'wzsbj', 'wzspz', 'wzsvw', 'wztnmzk', 'wzuv', 'wzvwm', 'wzy', 'wzycj', 'wzyok', 'wzz', 'xa', 'xaa', 'xanjrg', 'xatk', 'xatobv', 'xavier', 'xb', 'xbuf', 'xcaret', 'xce', 'xck', 'xcnc', 'xd', 'xdgwj', 'xdiwh', 'xdwv', 'xe', 'xeb', 'xelv', 'xf', 'xfl', 'xg', 'xgccs', 'xgme', 'xhewzd', 'xhx', 'xhyde', 'xi', 'xiang', 'xiangyang', 'xiao', 'xieagz', 'xift', 'xig', 'xil', 'xinzheng', 'xjbi', 'xjjc', 'xjsbxt', 'xk', 'xkdc', 'xkjtpr', 'xku', 'xkxyws', 'xl', 'xld', 'xlodf', 'xm', 'xmcn', 'xmi', 'xmm', 'xmv', 'xmwnwa', 'xn', 'xnvxwq', 'xp', 'xq', 'xqblbc', 'xqg', 'xr', 'xra', 'xrj', 'xs', 'xswc', 'xt', 'xti', 'xtsxcw', 'xtv', 'xu', 'xue', 'xv', 'xva', 'xvd', 'xvf', 'xvycr', 'xw', 'xwep', 'xwk', 'xwuysu', 'xx', 'xxn', 'xxwm', 'xxx', 'xy', 'xybc', 'xyp', 'xyql', 'xyuskl', 'xz', 'xza', 'xzcmm', 'xzfh', 'xzhtgh', 'xzp', 'xztr', 'ya', 'yab', 'yademen', 'yale', 'yanggakdo', 'yankee', 'yap', 'yaquina', 'yard', 'yardhouse', 'yards', 'yates', 'yb', 'ybe', 'ybumlu', 'ybztls', 'yc', 'ycic', 'ycm', 'ycwy', 'yd', 'ydb', 'yddgwk', 'yddh', 'ydzam', 'ye', 'year', 'yellow', 'yellowstone', 'yesterdog', 'yew', 'yf', 'yff', 'yg', 'ygfejc', 'ygpgg', 'ygr', 'ygthwl', 'yh', 'yharmd', 'yhh', 'yi', 'yj', 'yjbbd', 'yjfd', 'yjgv', 'yjo', 'yjsa', 'yjsgn', 'yjvfn', 'yk', 'yl', 'ylj', 'yloxx', 'ylpcke', 'ym', 'yma', 'ymg', 'ymi', 'ymzgeg', 'yn', 'yne', 'ynv', 'ynw', 'yny', 'yo', 'yogen', 'yogoberry', 'yogurt', 'yolo', 'york', 'young', 'yoyi', 'yp', 'ypd', 'ypj', 'ypofzh', 'yqa', 'yqe', 'yqg', 'yr', 'yra', 'yrj', 'yrjl', 'yrsd', 'ys', 'yt', 'ytemb', 'ytv', 'yu', 'yuk', 'yumyum', 'yv', 'yw', 'ywbavg', 'ywi', 'ywz', 'yxmhle', 'yxr', 'yxyji', 'yy', 'yyeltg', 'yyk', 'yypa', 'yz', 'yzd', 'za', 'zaaffran', 'zachary', 'zaj', 'zambrero', 'zane', 'zanetti', 'zarraffas', 'zaxby', 'zbcz', 'zbk', 'zcgd', 'zcofal', 'zd', 'zdpx', 'ze', 'zealand', 'zec', 'zehc', 'zer', 'zero', 'zesto', 'zf', 'zfckpp', 'zfewda', 'zg', 'zgi', 'zgy', 'zgz', 'zh', 'zhadr', 'zhb', 'zhengding', 'zhengzhou', 'zhxo', 'zi', 'ziferblat', 'zil', 'zimp', 'zinzanni', 'zivv', 'zizt', 'zjkjxz', 'zk', 'zkiozn', 'zkn', 'zl', 'zlfiud', 'zljtwt', 'zlrcg', 'zlww', 'zm', 'zmk', 'zmw', 'zmwtc', 'zn', 'znjeh', 'znkjhf', 'znlup', 'znt', 'znyvvj', 'znze', 'zo', 'zocy', 'zoj', 'zoka', 'zone', 'zoo', 'zoological', 'zootopia', 'zp', 'zpkop', 'zpqy', 'zq', 'zqc', 'zqfldd', 'zqi', 'zqmakh', 'zr', 'zrox', 'zrv', 'zs', 'zsakog', 'zsihhv', 'zt', 'zte', 'ztj', 'ztq', 'ztv', 'ztx', 'zu', 'zub', 'zun', 'zupas', 'zupq', 'zupx', 'zusere', 'zv', 'zvrohu', 'zw', 'zwlr', 'zwqw', 'zwt', 'zx', 'zxog', 'zxvk', 'zy', 'zys', 'zyz', 'zzzz']\n",
            "(12000, 7715)\n"
          ],
          "name": "stdout"
        }
      ]
    },
    {
      "cell_type": "code",
      "metadata": {
        "id": "nRGWP0xlRkx7",
        "colab_type": "code",
        "colab": {
          "base_uri": "https://localhost:8080/",
          "height": 72
        },
        "outputId": "aebc10d4-7231-4dbd-c2e1-09269d0ba1a2"
      },
      "source": [
        "vectorizer = TfidfVectorizer()\n",
        "X = vectorizer.fit_transform(Message[:1400])\n",
        "print(vectorizer.get_feature_names())\n",
        "print(X.shape)"
      ],
      "execution_count": 106,
      "outputs": [
        {
          "output_type": "stream",
          "text": [
            "['aag', 'aas', 'abadgaran', 'abh', 'abi', 'abka', 'abraham', 'absa', 'abu', 'ac', 'accountant', 'ad', 'adam', 'adf', 'admin', 'adq', 'adt', 'advi', 'aen', 'aero', 'af', 'afr', 'aga', 'agd', 'age', 'agency', 'agi', 'agr', 'agumbe', 'agx', 'agz', 'ah', 'aidan', 'aiden', 'aii', 'air', 'airasia', 'aircel', 'airport', 'airporttaxi', 'airtel', 'airways', 'ait', 'ajj', 'ajl', 'ajp', 'ak', 'akd', 'akemi', 'akn', 'akor', 'al', 'alan', 'alejandro', 'aler', 'alex', 'alexis', 'alfateh', 'alhawar', 'alice', 'alidav', 'alikar', 'alike', 'alithr', 'aljn', 'allegiant', 'alm', 'almr', 'alni', 'along', 'altvsu', 'amd', 'ameche', 'america', 'american', 'amerigroup', 'aml', 'amla', 'amli', 'amp', 'amt', 'amzv', 'anas', 'anb', 'anceg', 'anchialine', 'anderson', 'andre', 'andres', 'andrew', 'andy', 'angel', 'angry', 'angus', 'anjan', 'ankl', 'anr', 'antica', 'antonio', 'anv', 'anwatti', 'anwern', 'ao', 'aoni', 'api', 'apocalypse', 'app', 'apply', 'appointment', 'appt', 'aqh', 'arb', 'arcade', 'arclight', 'arena', 'argd', 'arq', 'arrival', 'art', 'arv', 'arw', 'aryan', 'asaf', 'ashton', 'asl', 'asn', 'assigned', 'assistance', 'ast', 'asv', 'atakule', 'atl', 'atlanta', 'atq', 'atrium', 'attending', 'attraction', 'au', 'aub', 'aung', 'austin', 'auto', 'avery', 'avn', 'aw', 'awr', 'axk', 'axr', 'ay', 'ayden', 'az', 'ba', 'bad', 'bagels', 'baguette', 'bai', 'bakery', 'banaswadi', 'bandelier', 'bank', 'bankfirst', 'banking', 'bannerghatta', 'baptist', 'bar', 'barbeque', 'barbque', 'barburrito', 'barl', 'barn', 'baskinrobbins', 'batjys', 'batman', 'bay', 'bbi', 'bbq', 'bbu', 'bby', 'bc', 'bch', 'bco', 'bcob', 'bdc', 'bdcr', 'bdh', 'bdnp', 'bdq', 'bdts', 'bdvjus', 'bdvt', 'bdwl', 'beach', 'beacon', 'beanery', 'beasts', 'beb', 'beef', 'beerhouse', 'beg', 'behs', 'beihai', 'beitou', 'bek', 'bela', 'belagavi', 'belgorod', 'believe', 'bellandur', 'belshi', 'ben', 'bengaluru', 'benjamin', 'benmad', 'bentan', 'beo', 'bep', 'bertucci', 'bethany', 'bew', 'bey', 'beyond', 'bf', 'bfm', 'bgg', 'bgh', 'bgkt', 'bgm', 'bgpr', 'bgq', 'bgvn', 'bh', 'bhavan', 'bhbk', 'bhd', 'bhj', 'bhja', 'bhlk', 'bhme', 'bhne', 'bhrl', 'bht', 'bhta', 'bhtk', 'bhtr', 'bhu', 'bi', 'bia', 'bickford', 'bierhaus', 'big', 'bik', 'bikanervala', 'bild', 'bill', 'bimal', 'binnypet', 'bintang', 'biq', 'bir', 'bird', 'birds', 'biu', 'bj', 'bjd', 'bje', 'bjk', 'bjnr', 'bjo', 'bk', 'bkb', 'bkn', 'bko', 'bkp', 'bktl', 'bku', 'bl', 'black', 'blake', 'bld', 'blk', 'bll', 'blo', 'block', 'blor', 'blqr', 'blr', 'bltr', 'blu', 'blue', 'bmc', 'bmf', 'bmkj', 'bmu', 'bn', 'bnda', 'bnl', 'bnn', 'bno', 'bnr', 'bnt', 'bnw', 'bnwc', 'bnws', 'boardingpt', 'bof', 'boke', 'bokr', 'bom', 'bon', 'book', 'booking', 'boost', 'boston', 'boti', 'boudin', 'bourne', 'boy', 'bpc', 'bpf', 'bphb', 'bpk', 'bpr', 'bq', 'bqn', 'bqu', 'br', 'braden', 'bradley', 'brady', 'brandon', 'brasileira', 'brayden', 'brazil', 'break', 'breathe', 'brendan', 'brett', 'brian', 'bridge', 'brigade', 'brna', 'broadband', 'brody', 'bronx', 'brookefield', 'brown', 'brs', 'brtk', 'brussels', 'brya', 'bryan', 'bryce', 'bryson', 'bs', 'bsdp', 'bshrs', 'bskh', 'bsl', 'bsnl', 'bsp', 'bstn', 'bsya', 'bta', 'btkp', 'bto', 'btsd', 'btsr', 'btt', 'bttr', 'bu', 'bucks', 'bud', 'buffet', 'buffett', 'bul', 'bup', 'buph', 'buq', 'burger', 'burj', 'burrito', 'bus', 'butlers', 'bvl', 'bvn', 'bvnr', 'bvp', 'bvs', 'bwh', 'bwip', 'bwl', 'bwr', 'bwsn', 'bww', 'bxn', 'byc', 'byha', 'byt', 'bzg', 'bzh', 'bzm', 'bzn', 'bzr', 'bzy', 'cab', 'caden', 'caf', 'cafe', 'cafeteria', 'caleb', 'california', 'call', 'calvin', 'camden', 'cameron', 'candies', 'cantiere', 'canvas', 'captain', 'car', 'card', 'carleton', 'carnival', 'carousel', 'carrabba', 'carry', 'carson', 'carter', 'case', 'casual', 'cauvery', 'cave', 'cc', 'ccj', 'ccr', 'cdp', 'cefiore', 'cell', 'center', 'central', 'cerealicious', 'cesar', 'cg', 'ch', 'chachi', 'chair', 'chakoz', 'cham', 'chamer', 'channarayapatna', 'charleroi', 'charles', 'charley', 'chase', 'chaudu', 'chauffer', 'check', 'cheddar', 'chedha', 'chef', 'chekoz', 'chennai', 'chiagu', 'chicago', 'chicken', 'chikas', 'chikia', 'chikkamagaluru', 'children', 'chinese', 'chipan', 'chiquito', 'chitir', 'chitradurga', 'chitri', 'cholo', 'choosing', 'chowking', 'chw', 'ciaiy', 'cider', 'cinema', 'cinemas', 'cinepolis', 'cinnzeo', 'circa', 'citizens', 'city', 'civil', 'cjb', 'class', 'clayton', 'clock', 'clove', 'cloverfield', 'cmgh', 'cmzi', 'cnb', 'co', 'coastalstates', 'code', 'cody', 'coffee', 'coh', 'coimbatore', 'coipay', 'coiput', 'cok', 'colby', 'cole', 'colin', 'collection', 'college', 'collin', 'collision', 'colton', 'com', 'communitea', 'company', 'compass', 'confirmed', 'conjuring', 'conner', 'contact', 'convenience', 'cooagu', 'cookies', 'coonur', 'cooper', 'copeland', 'corner', 'corona', 'corp', 'corporation', 'corral', 'cos', 'cottage', 'course', 'cows', 'cream', 'creamery', 'creamparlour', 'credit', 'crepes', 'crust', 'custard', 'customer', 'cw', 'da', 'dae', 'dakota', 'damian', 'damien', 'dandelion', 'daniel', 'darshini', 'das', 'date', 'dated', 'davali', 'davanegere', 'david', 'davis', 'dawn', 'dawson', 'day', 'days', 'dc', 'dcm', 'de', 'deadpool', 'dear', 'debevic', 'ded', 'degrees', 'del', 'delayed', 'deli', 'delivery', 'dep', 'deptime', 'derby', 'derek', 'derrick', 'desert', 'deutsche', 'devon', 'dhakan', 'dharmastala', 'dhjd', 'dhjp', 'dib', 'diego', 'digital', 'dillon', 'diner', 'dinette', 'dinner', 'discount', 'diu', 'djt', 'dkgs', 'dmu', 'dob', 'docomo', 'doctor', 'doj', 'dominic', 'dominick', 'donut', 'donuts', 'dory', 'doughnut', 'dp', 'dqr', 'dr', 'dragon', 'drake', 'drive', 'drivein', 'drivethru', 'ds', 'du', 'due', 'dumbo', 'dunkin', 'dupar', 'dustin', 'dx', 'dxdiz', 'dxw', 'dylan', 'dzlduf', 'east', 'easyinternetcaf', 'eatery', 'eating', 'ed', 'edgar', 'edison', 'eduardo', 'edward', 'edwin', 'efle', 'el', 'ela', 'election', 'elements', 'eli', 'elias', 'elijah', 'elkins', 'elmo', 'embsuites', 'emergency', 'emmanuel', 'enjoy', 'enoteca', 'ent', 'ep', 'eq', 'eqbstf', 'era', 'eric', 'erik', 'ernakulam', 'ernanw', 'erxbtc', 'es', 'est', 'etang', 'etd', 'ethan', 'evan', 'express', 'extreme', 'eyg', 'faasos', 'fallafel', 'falls', 'family', 'famous', 'fantastic', 'fare', 'fauar', 'fayetteville', 'fc', 'fdrl', 'febo', 'feg', 'fernando', 'fette', 'ffw', 'fgnt', 'fhlpb', 'fi', 'field', 'figures', 'financial', 'find', 'finding', 'first', 'fixedline', 'fk', 'fkxg', 'fl', 'florence', 'flt', 'fn', 'fncl', 'food', 'foods', 'ford', 'fort', 'forum', 'fosters', 'fr', 'francisco', 'frank', 'franklin', 'freeze', 'fried', 'fries', 'frosty', 'frozen', 'fu', 'fucheng', 'fuj', 'fun', 'funston', 'fv', 'fx', 'fxaqx', 'fxeu', 'fy', 'fyl', 'gamble', 'gandhinagar', 'garrett', 'garuda', 'gate', 'gatti', 'gau', 'gavin', 'gay', 'gb', 'gc', 'gcb', 'geliga', 'generated', 'george', 'gerardo', 'geri', 'get', 'gh', 'ghf', 'ghostbusters', 'giovanni', 'giraffas', 'girl', 'glass', 'goa', 'gold', 'gop', 'gopalan', 'gourmet', 'gql', 'grand', 'grant', 'green', 'greenfield', 'gregory', 'grenouille', 'griffin', 'grill', 'grimaldi', 'grodzinski', 'group', 'gt', 'gtnkdk', 'guest', 'gvd', 'gwhrtk', 'gwl', 'gx', 'gzl', 'ha', 'hac', 'hacksaw', 'hamborgarafabrikkan', 'hamburger', 'hamburgers', 'hamburguesas', 'hand', 'happy', 'harrison', 'harrys', 'hartsfieldjackson', 'hasoot', 'hassan', 'hayden', 'hazuu', 'hbx', 'headquarters', 'heart', 'heaven', 'heavy', 'hector', 'heights', 'hell', 'henry', 'hf', 'hfg', 'hgv', 'hi', 'hib', 'hidden', 'highway', 'hillbilly', 'hillister', 'hippopotamus', 'hirbel', 'hiriyur', 'hirkot', 'hiroshima', 'hjoqm', 'hjr', 'hn', 'hoher', 'hold', 'holding', 'home', 'horc', 'hoss', 'hot', 'hotel', 'house', 'hq', 'hqmc', 'hr', 'hrgv', 'hro', 'hrrtux', 'hrs', 'hubli', 'hubput', 'humphreys', 'hundimala', 'hunhas', 'hunudu', 'hurley', 'hx', 'hy', 'hyderabad', 'hyundai', 'iakdzx', 'ian', 'ib', 'ice', 'icecreamparlor', 'id', 'idea', 'idemitsu', 'idli', 'idr', 'iel', 'iemo', 'ifui', 'ig', 'ii', 'ij', 'il', 'ilut', 'imf', 'inc', 'incinerator', 'incredible', 'independence', 'india', 'indian', 'indigo', 'industries', 'inn', 'innovative', 'inox', 'ins', 'insomnia', 'integrity', 'intelligence', 'international', 'ip', 'ipcnp', 'ipt', 'irj', 'isaac', 'isaiah', 'isk', 'island', 'islands', 'israel', 'italia', 'italian', 'itrq', 'itys', 'ivan', 'ivnyr', 'iw', 'ixe', 'iy', 'iz', 'izm', 'jace', 'jacks', 'jackson', 'jacob', 'jaden', 'jai', 'jaiden', 'jake', 'jalen', 'jamba', 'james', 'jared', 'jason', 'javier', 'jaxon', 'jayanagar', 'jayden', 'jaylen', 'jc', 'jclwht', 'jdh', 'jef', 'jeffrey', 'jej', 'jeremiah', 'jeremy', 'jersey', 'jesse', 'jesus', 'jet', 'jetport', 'jf', 'jfi', 'jg', 'jga', 'jgb', 'jgiruw', 'jimmy', 'jio', 'jlr', 'jm', 'jmoivd', 'jn', 'jnydate', 'jo', 'joan', 'joel', 'joes', 'john', 'johnathan', 'jonah', 'jonathan', 'jordan', 'jorge', 'jose', 'joshua', 'josiah', 'josue', 'journey', 'joy', 'jp', 'jq', 'jqz', 'jrh', 'js', 'jsa', 'jt', 'juan', 'jubili', 'juice', 'julian', 'julio', 'junction', 'jungle', 'junk', 'justice', 'justin', 'jv', 'jx', 'jz', 'ka', 'kaden', 'kai', 'kaiden', 'kaleb', 'kandar', 'kannur', 'karaikudi', 'karben', 'kasargod', 'kashun', 'kaspal', 'kasten', 'kate', 'kbz', 'kd', 'kearny', 'kebabs', 'keegan', 'keg', 'kent', 'kevin', 'kf', 'ki', 'kiacoi', 'kial', 'kiaman', 'kiathr', 'king', 'kings', 'kitchen', 'kjqtxt', 'klein', 'klh', 'kn', 'knncqo', 'ko', 'kodagu', 'kodaikanal', 'kodkol', 'kodoot', 'kogi', 'kokusai', 'kolagu', 'kolar', 'kolhapur', 'kolhir', 'kolkan', 'kolmys', 'kolpon', 'kosan', 'kottayam', 'kotthi', 'kozali', 'kozhikode', 'kozkol', 'kozkum', 'kpn', 'kreme', 'krispy', 'ksrtc', 'kumali', 'kumbakonam', 'kumshi', 'kundapura', 'kung', 'kunhir', 'kuntum', 'kyle', 'la', 'laduree', 'lake', 'lakes', 'lakshmi', 'land', 'landen', 'landon', 'lane', 'lanes', 'laughing', 'lavazza', 'lct', 'ld', 'lda', 'le', 'lee', 'legend', 'leonardo', 'levi', 'lgr', 'lh', 'liam', 'lido', 'life', 'lights', 'lipy', 'little', 'lj', 'lko', 'lkvnbh', 'lm', 'lobster', 'logan', 'longfellow', 'looking', 'loop', 'lounge', 'lucas', 'lugr', 'luh', 'luis', 'luke', 'maa', 'macalester', 'maddha', 'madikeri', 'madkia', 'madpun', 'madras', 'madurai', 'magadi', 'magic', 'magnificent', 'magrath', 'maha', 'mahadevapura', 'makemytrip', 'malachi', 'mall', 'mandya', 'mangaluru', 'manipal', 'mankod', 'mankol', 'manman', 'mansag', 'mantralaya', 'mantri', 'mar', 'marathahalli', 'marco', 'marcus', 'margaritaville', 'maria', 'mario', 'mark', 'market', 'marriot', 'marry', 'martin', 'maruti', 'mason', 'massage', 'massimo', 'mat', 'matt', 'matthew', 'max', 'maximum', 'maxwell', 'mcallenmiller', 'mcdonalds', 'md', 'meenakshi', 'memorial', 'men', 'mercara', 'meridian', 'meru', 'mesquite', 'mexican', 'mexicozina', 'mf', 'mfpbvv', 'mfu', 'mg', 'mi', 'micah', 'michael', 'michigan', 'mickey', 'midway', 'might', 'miguel', 'mike', 'mikel', 'miles', 'mill', 'mimi', 'miniplex', 'mins', 'miss', 'mitchell', 'mjb', 'mleczny', 'mnb', 'mo', 'moana', 'moe', 'moms', 'moo', 'mos', 'motor', 'mountain', 'movie', 'mpaa', 'mppr', 'mpwwuu', 'mr', 'mrkt', 'ms', 'msr', 'mud', 'muffin', 'multiplex', 'mumbai', 'mumkum', 'murder', 'murugan', 'museum', 'mutant', 'mvoui', 'mwwk', 'myq', 'mysben', 'mysoot', 'mysore', 'myspun', 'myssri', 'mystan', 'mysuru', 'mzssbv', 'mzu', 'na', 'nag', 'nagar', 'nando', 'narnjestan', 'narrow', 'nasi', 'nathan', 'nathaniel', 'national', 'naugles', 'navale', 'nawas', 'naypyidaw', 'nb', 'ndc', 'neck', 'neighbourhood', 'nellore', 'nelpay', 'new', 'newk', 'newport', 'next', 'nicholas', 'nicolas', 'ninja', 'nkqi', 'nl', 'nmb', 'noah', 'nolan', 'non', 'norfolk', 'northern', 'nqr', 'nthq', 'nu', 'nurnberger', 'nuway', 'nw', 'nx', 'nxhq', 'ocm', 'ohcfwe', 'ohu', 'ol', 'ola', 'old', 'oliver', 'omar', 'one', 'onwz', 'ook', 'ootben', 'ooty', 'opened', 'order', 'original', 'orion', 'oscar', 'outside', 'ouwvci', 'ov', 'overseachinese', 'ovywr', 'owen', 'oxwctq', 'oygfit', 'ozgxez', 'ozz', 'pab', 'pacific', 'pain', 'palace', 'palakkad', 'panaji', 'panda', 'panmer', 'panoot', 'panvij', 'papaya', 'pappas', 'paradise', 'paris', 'park', 'parker', 'parlor', 'party', 'passengers', 'password', 'pat', 'patrick', 'patsy', 'pattaya', 'paul', 'payman', 'payyanur', 'pbd', 'peculiar', 'pedro', 'pelita', 'penny', 'people', 'peregrine', 'perkins', 'pesa', 'pete', 'peter', 'pets', 'peyton', 'pf', 'pg', 'pgh', 'pgu', 'phfflu', 'phil', 'photo', 'picnic', 'pigmans', 'pilates', 'pita', 'pizza', 'pizzala', 'pizzeria', 'pjusnw', 'pl', 'plan', 'plant', 'plateau', 'platinum', 'playhouse', 'plaza', 'please', 'pnq', 'pnr', 'pnwec', 'pny', 'po', 'poca', 'ponderosa', 'pondicherry', 'portland', 'povq', 'pr', 'prczlv', 'preston', 'prima', 'pruk', 'psngrname', 'pub', 'pudagu', 'pudche', 'pudmer', 'pudoot', 'pudthi', 'puducherry', 'pudukotai', 'pui', 'punbel', 'punbfd', 'pune', 'punhas', 'purchase', 'purge', 'puttaparthi', 'pvr', 'pxki', 'qdoba', 'qgzvv', 'ql', 'qr', 'qs', 'queries', 'qv', 'qvgf', 'qy', 'qybwc', 'qys', 'radiocabs', 'raj', 'rajajinagar', 'rake', 'raul', 'raymond', 'rd', 'reach', 'ref', 'refuge', 'relationship', 'reliance', 'religious', 'repair', 'reservation', 'residency', 'resort', 'restaurant', 'restaurants', 'resurgence', 'revolving', 'rex', 'rgds', 'rgh', 'rh', 'rhddkn', 'ri', 'ricardo', 'richard', 'ride', 'ridge', 'riley', 'rja', 'rkc', 'rly', 'road', 'roadhouse', 'roadside', 'robert', 'roberto', 'robichaux', 'rock', 'rockline', 'rogue', 'roma', 'roman', 'room', 'rootbeer', 'rosebud', 'round', 'royal', 'rpr', 'rrk', 'rrq', 'rs', 'rsccf', 'ruben', 'rubo', 'rup', 'rxl', 'rxs', 'ryan', 'sacred', 'safari', 'sagar', 'sagpud', 'saic', 'saigon', 'sakae', 'salon', 'sample', 'samuel', 'san', 'sankey', 'santarpio', 'sapphire', 'saravana', 'sarden', 'sarris', 'sau', 'sausage', 'sbz', 'sc', 'scheduled', 'schofield', 'school', 'scott', 'scr', 'sd', 'sdcb', 'sdn', 'sea', 'sean', 'seat', 'seatno', 'seats', 'sebastian', 'secchi', 'secman', 'second', 'secret', 'secunderabad', 'see', 'seminary', 'seoul', 'sergio', 'service', 'sessions', 'seth', 'seven', 'sg', 'sgkpnq', 'sgsm', 'shack', 'shadows', 'shake', 'shane', 'shares', 'shibel', 'shiche', 'shichi', 'shikas', 'shikol', 'shipal', 'shipay', 'shipmarin', 'shipon', 'shipud', 'shipyards', 'shirdi', 'shivamogga', 'shl', 'shop', 'shore', 'shreveport', 'si', 'sierra', 'sigma', 'signature', 'silver', 'sing', 'sirloin', 'skydome', 'skyler', 'sl', 'sleeper', 'slipway', 'slukyv', 'slv', 'smitty', 'smoke', 'smokehouse', 'sn', 'sneaky', 'soar', 'soul', 'soulongtang', 'sound', 'south', 'southern', 'southwest', 'spice', 'spirit', 'split', 'spot', 'sqk', 'squad', 'squadron', 'squid', 'sriharikota', 'srikalahasti', 'srikum', 'sriman', 'sringeri', 'sripun', 'sse', 'stagedoor', 'stall', 'stand', 'standard', 'stanserhorn', 'star', 'starbucks', 'station', 'status', 'steak', 'steakhouse', 'steiny', 'steven', 'stockade', 'stone', 'store', 'strange', 'street', 'strickland', 'stv', 'style', 'su', 'subs', 'suicide', 'sully', 'summit', 'superman', 'sushi', 'svc', 'sw', 'swagath', 'swagman', 'swift', 'sy', 'szfb', 'table', 'takeout', 'tanbel', 'tanern', 'tanjavoor', 'tanner', 'tantalizers', 'taqueria', 'tarzan', 'tavarekere', 'taxiforsure', 'taylor', 'tc', 'tcr', 'teahouse', 'teenage', 'tei', 'telecaf', 'teler', 'terminal', 'texas', 'tez', 'tflvxc', 'tgi', 'th', 'thai', 'thank', 'thanks', 'thbfk', 'thdn', 'theatre', 'theatres', 'theological', 'theology', 'thiben', 'thipal', 'thipud', 'third', 'thiruvananthapuram', 'thomas', 'thompson', 'thrcoi', 'thrissur', 'thrive', 'thrthi', 'tibits', 'ticket', 'tickets', 'tif', 'timothy', 'tip', 'tir', 'tirsri', 'tirupathi', 'tit', 'tj', 'tk', 'tkk', 'tkzlxd', 'tm', 'tmr', 'tni', 'tony', 'top', 'torrefazione', 'tower', 'toy', 'tpx', 'tr', 'train', 'travis', 'trek', 'trenton', 'trevor', 'trey', 'trichy', 'tripcode', 'triple', 'tristan', 'triveni', 'trolls', 'troy', 'truck', 'true', 'trv', 'trz', 'tsuneishi', 'tuck', 'tumakuru', 'turbat', 'turtles', 'tvyl', 'tx', 'txn', 'ty', 'tyler', 'tzcrs', 'tzejnr', 'uber', 'ucabs', 'ucxr', 'udl', 'uduchi', 'uduern', 'udupi', 'udusri', 'ue', 'ueed', 'ufo', 'ujhn', 'ulo', 'ulsoor', 'um', 'uncle', 'underground', 'union', 'university', 'unkd', 'uo', 'upper', 'uq', 'urod', 'us', 'used', 'usgxj', 'using', 'ut', 'ute', 'ux', 'vaa', 'vaishnavi', 'valdez', 'valentino', 'valley', 'value', 'vbvbqv', 'vd', 'veer', 'veganburg', 'veniero', 'ventana', 'vfip', 'vga', 'vgq', 'vh', 'vhnm', 'victor', 'vienna', 'vijayawada', 'village', 'vincent', 'virginia', 'visentini', 'visit', 'vjj', 'vkyng', 'vmugh', 'vn', 'vns', 'vocelli', 'vodafone', 'vpo', 'vr', 'vsu', 'vtm', 'vv', 'vx', 'vytopna', 'wa', 'waffles', 'wagamama', 'waj', 'walker', 'wan', 'war', 'wavkrsu', 'way', 'wayside', 'wb', 'wcbh', 'wcbkz', 'wcldx', 'wd', 'wdbtp', 'webster', 'weebdtw', 'weekends', 'wefk', 'weiners', 'wel', 'welcome', 'wesley', 'west', 'western', 'wew', 'wewflu', 'wfau', 'wfccpsf', 'wfi', 'wg', 'wgc', 'wgetz', 'wggxvov', 'wgrytni', 'wh', 'whatsapp', 'white', 'whitefield', 'whitestone', 'whjq', 'whnj', 'whwxiv', 'wi', 'wib', 'wienerwald', 'wif', 'wild', 'wilderness', 'wildlife', 'william', 'winehouse', 'wj', 'wjcbzgg', 'wji', 'wjrsafo', 'wkcv', 'wkj', 'wkvzqnq', 'wky', 'wkzpn', 'wl', 'wlc', 'wlod', 'wlxskfo', 'wly', 'wmaszqu', 'wmnz', 'wn', 'wnpd', 'wnq', 'wnqz', 'wnxxiev', 'wo', 'woiu', 'wonh', 'wonqvss', 'woodlands', 'woodstocks', 'woody', 'world', 'wovvh', 'wovzyz', 'wpe', 'wphh', 'wpk', 'wpxqjm', 'wq', 'wqgubt', 'wquru', 'wqwavan', 'wr', 'wrp', 'wrwus', 'wsoi', 'wt', 'wtmn', 'wtu', 'wu', 'wua', 'wuecw', 'wutucoc', 'wuwhrhg', 'wuzk', 'wv', 'wvmp', 'ww', 'wwhkde', 'wwmtpp', 'wwn', 'www', 'wwzwwau', 'wx', 'wxa', 'wxixkn', 'wxkp', 'wxr', 'wy', 'wyaej', 'wyatt', 'wyj', 'wylx', 'wypppop', 'wytusjv', 'wyvpiqy', 'wywy', 'wz', 'wzho', 'xavier', 'xbuf', 'xhx', 'xkjtpr', 'xmwnwa', 'xp', 'xrj', 'xv', 'xxx', 'xzfh', 'xzp', 'yap', 'yaquina', 'yc', 'yddgwk', 'year', 'yg', 'ygfejc', 'yjbbd', 'yk', 'ylpcke', 'yn', 'yogurt', 'york', 'yqa', 'yr', 'yt', 'yw', 'yy', 'yz', 'yzd', 'zaaffran', 'zachary', 'zane', 'zanetti', 'zaxby', 'zer', 'zf', 'zh', 'zivv', 'zl', 'zmwtc', 'zo', 'zootopia', 'zq', 'zt', 'ztj', 'zub', 'zupq', 'zvrohu', 'zw', 'zx', 'zys']\n",
            "(1400, 1964)\n"
          ],
          "name": "stdout"
        }
      ]
    },
    {
      "cell_type": "code",
      "metadata": {
        "id": "KjlzUnfJSEpE",
        "colab_type": "code",
        "colab": {
          "base_uri": "https://localhost:8080/",
          "height": 17610
        },
        "outputId": "d4d831a1-fdf5-48d3-9abe-2dd5dc255a64"
      },
      "source": [
        "from sklearn.feature_extraction.text import CountVectorizer\n",
        "\n",
        "vectorizer = CountVectorizer(analyzer = \"word\", \\\n",
        "                            tokenizer = None, \\\n",
        "                            preprocessor = None,\n",
        "                            ngram_range = (1,1),\n",
        "                            max_features = 1400,\n",
        "                            stop_words = None)\n",
        "\n",
        "data_features = vectorizer.fit_transform(Message)\n",
        "type(data_features)\n",
        "vectorizer.get_feature_names()\n",
        "\n",
        "# print(data_features)"
      ],
      "execution_count": 111,
      "outputs": [
        {
          "output_type": "execute_result",
          "data": {
            "text/plain": [
              "['aag',\n",
              " 'aal',\n",
              " 'aaron',\n",
              " 'ab',\n",
              " 'abka',\n",
              " 'abkp',\n",
              " 'abraham',\n",
              " 'ac',\n",
              " 'accountant',\n",
              " 'ad',\n",
              " 'adam',\n",
              " 'add',\n",
              " 'adf',\n",
              " 'adrian',\n",
              " 'adt',\n",
              " 'adventure',\n",
              " 'advi',\n",
              " 'af',\n",
              " 'afr',\n",
              " 'agb',\n",
              " 'age',\n",
              " 'agency',\n",
              " 'agr',\n",
              " 'agumbe',\n",
              " 'agx',\n",
              " 'ah',\n",
              " 'aidan',\n",
              " 'aiden',\n",
              " 'air',\n",
              " 'airasia',\n",
              " 'aircel',\n",
              " 'airport',\n",
              " 'airporttaxi',\n",
              " 'airtel',\n",
              " 'airways',\n",
              " 'aj',\n",
              " 'ajl',\n",
              " 'ak',\n",
              " 'akd',\n",
              " 'akn',\n",
              " 'akv',\n",
              " 'akvd',\n",
              " 'al',\n",
              " 'alan',\n",
              " 'alb',\n",
              " 'alejandro',\n",
              " 'alex',\n",
              " 'alexander',\n",
              " 'alexis',\n",
              " 'alice',\n",
              " 'alike',\n",
              " 'allegiant',\n",
              " 'alni',\n",
              " 'along',\n",
              " 'amd',\n",
              " 'america',\n",
              " 'american',\n",
              " 'amg',\n",
              " 'amh',\n",
              " 'aml',\n",
              " 'amla',\n",
              " 'amt',\n",
              " 'anb',\n",
              " 'andre',\n",
              " 'andres',\n",
              " 'andrew',\n",
              " 'andy',\n",
              " 'angel',\n",
              " 'angry',\n",
              " 'angus',\n",
              " 'ani',\n",
              " 'anjan',\n",
              " 'antonio',\n",
              " 'anv',\n",
              " 'anvr',\n",
              " 'anwatti',\n",
              " 'anwman',\n",
              " 'ao',\n",
              " 'apa',\n",
              " 'api',\n",
              " 'apk',\n",
              " 'apocalypse',\n",
              " 'app',\n",
              " 'apply',\n",
              " 'appointment',\n",
              " 'appt',\n",
              " 'aq',\n",
              " 'aqg',\n",
              " 'arcade',\n",
              " 'arena',\n",
              " 'arrival',\n",
              " 'art',\n",
              " 'arthur',\n",
              " 'aryan',\n",
              " 'ashton',\n",
              " 'asn',\n",
              " 'assigned',\n",
              " 'assistance',\n",
              " 'ast',\n",
              " 'atmo',\n",
              " 'atp',\n",
              " 'atq',\n",
              " 'atru',\n",
              " 'attending',\n",
              " 'austin',\n",
              " 'auto',\n",
              " 'avenue',\n",
              " 'avery',\n",
              " 'avk',\n",
              " 'avs',\n",
              " 'awr',\n",
              " 'axk',\n",
              " 'axr',\n",
              " 'ayden',\n",
              " 'az',\n",
              " 'bad',\n",
              " 'bagd',\n",
              " 'bagels',\n",
              " 'bah',\n",
              " 'bakery',\n",
              " 'bama',\n",
              " 'banaswadi',\n",
              " 'bank',\n",
              " 'bannerghatta',\n",
              " 'bano',\n",
              " 'bao',\n",
              " 'bap',\n",
              " 'bar',\n",
              " 'barbecue',\n",
              " 'barbeque',\n",
              " 'barbque',\n",
              " 'batman',\n",
              " 'bay',\n",
              " 'baz',\n",
              " 'bbai',\n",
              " 'bbgn',\n",
              " 'bbi',\n",
              " 'bbk',\n",
              " 'bbq',\n",
              " 'bbs',\n",
              " 'bbtr',\n",
              " 'bbu',\n",
              " 'bc',\n",
              " 'bco',\n",
              " 'bcob',\n",
              " 'bcq',\n",
              " 'bcu',\n",
              " 'bdcr',\n",
              " 'bdh',\n",
              " 'bdi',\n",
              " 'bdm',\n",
              " 'bdn',\n",
              " 'bdq',\n",
              " 'bdts',\n",
              " 'bdvt',\n",
              " 'bdwl',\n",
              " 'beach',\n",
              " 'beanery',\n",
              " 'beasts',\n",
              " 'beb',\n",
              " 'behr',\n",
              " 'bek',\n",
              " 'bela',\n",
              " 'belagavi',\n",
              " 'bellandur',\n",
              " 'ben',\n",
              " 'bengaluru',\n",
              " 'benjamin',\n",
              " 'beo',\n",
              " 'bep',\n",
              " 'best',\n",
              " 'bew',\n",
              " 'beyond',\n",
              " 'bf',\n",
              " 'bfm',\n",
              " 'bft',\n",
              " 'bfy',\n",
              " 'bg',\n",
              " 'bgm',\n",
              " 'bgmr',\n",
              " 'bgp',\n",
              " 'bgpr',\n",
              " 'bgq',\n",
              " 'bgsf',\n",
              " 'bgu',\n",
              " 'bgvn',\n",
              " 'bh',\n",
              " 'bhbk',\n",
              " 'bhd',\n",
              " 'bhet',\n",
              " 'bhg',\n",
              " 'bhj',\n",
              " 'bhja',\n",
              " 'bhkd',\n",
              " 'bhle',\n",
              " 'bhlk',\n",
              " 'bhlp',\n",
              " 'bhme',\n",
              " 'bhne',\n",
              " 'bhns',\n",
              " 'bho',\n",
              " 'bhrl',\n",
              " 'bht',\n",
              " 'bhta',\n",
              " 'bhtk',\n",
              " 'bhtn',\n",
              " 'bhtr',\n",
              " 'bhu',\n",
              " 'bhuj',\n",
              " 'bhy',\n",
              " 'bhz',\n",
              " 'bia',\n",
              " 'bid',\n",
              " 'big',\n",
              " 'bijr',\n",
              " 'bik',\n",
              " 'bila',\n",
              " 'bild',\n",
              " 'bill',\n",
              " 'bim',\n",
              " 'bimal',\n",
              " 'binnypet',\n",
              " 'bir',\n",
              " 'bird',\n",
              " 'birds',\n",
              " 'biu',\n",
              " 'biwk',\n",
              " 'bix',\n",
              " 'bj',\n",
              " 'bje',\n",
              " 'bji',\n",
              " 'bjih',\n",
              " 'bjk',\n",
              " 'bjmd',\n",
              " 'bjo',\n",
              " 'bjq',\n",
              " 'bjr',\n",
              " 'bjri',\n",
              " 'bjw',\n",
              " 'bk',\n",
              " 'bkb',\n",
              " 'bkle',\n",
              " 'bksl',\n",
              " 'bkth',\n",
              " 'bku',\n",
              " 'bl',\n",
              " 'blake',\n",
              " 'bld',\n",
              " 'blda',\n",
              " 'bldi',\n",
              " 'blg',\n",
              " 'blh',\n",
              " 'bll',\n",
              " 'blmk',\n",
              " 'blni',\n",
              " 'blnr',\n",
              " 'blo',\n",
              " 'blor',\n",
              " 'blqr',\n",
              " 'blr',\n",
              " 'blsn',\n",
              " 'blsr',\n",
              " 'bltr',\n",
              " 'blu',\n",
              " 'blue',\n",
              " 'bmck',\n",
              " 'bmd',\n",
              " 'bmga',\n",
              " 'bmh',\n",
              " 'bmkd',\n",
              " 'bmkj',\n",
              " 'bmr',\n",
              " 'bmsb',\n",
              " 'bn',\n",
              " 'bnbh',\n",
              " 'bnhl',\n",
              " 'bnl',\n",
              " 'bno',\n",
              " 'bnr',\n",
              " 'bnsa',\n",
              " 'bnv',\n",
              " 'bnvd',\n",
              " 'bnw',\n",
              " 'bnwc',\n",
              " 'boardingpt',\n",
              " 'bob',\n",
              " 'bod',\n",
              " 'bof',\n",
              " 'boke',\n",
              " 'bokr',\n",
              " 'bom',\n",
              " 'bon',\n",
              " 'boo',\n",
              " 'book',\n",
              " 'booking',\n",
              " 'boston',\n",
              " 'boti',\n",
              " 'bourne',\n",
              " 'boy',\n",
              " 'boys',\n",
              " 'bp',\n",
              " 'bpd',\n",
              " 'bph',\n",
              " 'bphb',\n",
              " 'bpl',\n",
              " 'bpo',\n",
              " 'bpr',\n",
              " 'bprs',\n",
              " 'bqg',\n",
              " 'bqn',\n",
              " 'bqu',\n",
              " 'braden',\n",
              " 'bradley',\n",
              " 'brady',\n",
              " 'brandon',\n",
              " 'brayden',\n",
              " 'brd',\n",
              " 'bre',\n",
              " 'bread',\n",
              " 'breathe',\n",
              " 'brendan',\n",
              " 'brett',\n",
              " 'brgt',\n",
              " 'brian',\n",
              " 'bridge',\n",
              " 'brigade',\n",
              " 'brkh',\n",
              " 'brly',\n",
              " 'brmo',\n",
              " 'brna',\n",
              " 'broadband',\n",
              " 'brody',\n",
              " 'brookefield',\n",
              " 'bros',\n",
              " 'brown',\n",
              " 'brpl',\n",
              " 'brs',\n",
              " 'brtk',\n",
              " 'bru',\n",
              " 'bryan',\n",
              " 'bryce',\n",
              " 'bryson',\n",
              " 'bs',\n",
              " 'bsdp',\n",
              " 'bshrs',\n",
              " 'bsi',\n",
              " 'bsl',\n",
              " 'bsnl',\n",
              " 'bsp',\n",
              " 'bspr',\n",
              " 'bsqp',\n",
              " 'bte',\n",
              " 'btkl',\n",
              " 'btkp',\n",
              " 'bto',\n",
              " 'btsd',\n",
              " 'btsr',\n",
              " 'btt',\n",
              " 'bttr',\n",
              " 'bua',\n",
              " 'buffet',\n",
              " 'bul',\n",
              " 'bup',\n",
              " 'buph',\n",
              " 'buq',\n",
              " 'burger',\n",
              " 'burgers',\n",
              " 'burrito',\n",
              " 'bus',\n",
              " 'bux',\n",
              " 'bv',\n",
              " 'bvc',\n",
              " 'bvl',\n",
              " 'bvrm',\n",
              " 'bvs',\n",
              " 'bwd',\n",
              " 'bwh',\n",
              " 'bwip',\n",
              " 'bwl',\n",
              " 'bwn',\n",
              " 'bwr',\n",
              " 'bx',\n",
              " 'byc',\n",
              " 'byha',\n",
              " 'byl',\n",
              " 'byr',\n",
              " 'bys',\n",
              " 'byt',\n",
              " 'bzm',\n",
              " 'cab',\n",
              " 'caden',\n",
              " 'caf',\n",
              " 'cafe',\n",
              " 'cafes',\n",
              " 'cafeteria',\n",
              " 'cafeterias',\n",
              " 'caffe',\n",
              " 'caleb',\n",
              " 'california',\n",
              " 'call',\n",
              " 'calvin',\n",
              " 'camden',\n",
              " 'cameron',\n",
              " 'camp',\n",
              " 'canada',\n",
              " 'captain',\n",
              " 'car',\n",
              " 'card',\n",
              " 'carlos',\n",
              " 'carnival',\n",
              " 'carry',\n",
              " 'carson',\n",
              " 'carter',\n",
              " 'case',\n",
              " 'cauvery',\n",
              " 'cayden',\n",
              " 'cc',\n",
              " 'ccj',\n",
              " 'ccu',\n",
              " 'cdp',\n",
              " 'cell',\n",
              " 'center',\n",
              " 'central',\n",
              " 'cesar',\n",
              " 'ch',\n",
              " 'chair',\n",
              " 'channarayapatna',\n",
              " 'charles',\n",
              " 'charley',\n",
              " 'chase',\n",
              " 'chauffer',\n",
              " 'check',\n",
              " 'chef',\n",
              " 'chennai',\n",
              " 'chicken',\n",
              " 'chikkamagaluru',\n",
              " 'children',\n",
              " 'chili',\n",
              " 'chinese',\n",
              " 'chitradurga',\n",
              " 'choosing',\n",
              " 'christian',\n",
              " 'cinema',\n",
              " 'cinemas',\n",
              " 'cinepolis',\n",
              " 'circle',\n",
              " 'city',\n",
              " 'civil',\n",
              " 'cjb',\n",
              " 'class',\n",
              " 'clayton',\n",
              " 'cloud',\n",
              " 'cloverfield',\n",
              " 'club',\n",
              " 'cmnty',\n",
              " 'co',\n",
              " 'coast',\n",
              " 'code',\n",
              " 'cody',\n",
              " 'coffee',\n",
              " 'coh',\n",
              " 'coimbatore',\n",
              " 'cok',\n",
              " 'colby',\n",
              " 'cole',\n",
              " 'colin',\n",
              " 'collection',\n",
              " 'college',\n",
              " 'collin',\n",
              " 'collision',\n",
              " 'colorado',\n",
              " 'colton',\n",
              " 'com',\n",
              " 'community',\n",
              " 'company',\n",
              " 'coney',\n",
              " 'confectionery',\n",
              " 'confirmed',\n",
              " 'conjuring',\n",
              " 'conner',\n",
              " 'connor',\n",
              " 'contact',\n",
              " 'cook',\n",
              " 'cookies',\n",
              " 'coonur',\n",
              " 'cooper',\n",
              " 'copa',\n",
              " 'corey',\n",
              " 'corner',\n",
              " 'corp',\n",
              " 'corporation',\n",
              " 'counter',\n",
              " 'country',\n",
              " 'county',\n",
              " 'course',\n",
              " 'cream',\n",
              " 'creamery',\n",
              " 'creek',\n",
              " 'cristian',\n",
              " 'cty',\n",
              " 'custard',\n",
              " 'customer',\n",
              " 'dae',\n",
              " 'dakota',\n",
              " 'dalton',\n",
              " 'damian',\n",
              " 'damien',\n",
              " 'daniel',\n",
              " 'date',\n",
              " 'dated',\n",
              " 'davanegere',\n",
              " 'dave',\n",
              " 'david',\n",
              " 'dawn',\n",
              " 'dawson',\n",
              " 'day',\n",
              " 'days',\n",
              " 'dc',\n",
              " 'de',\n",
              " 'deadpool',\n",
              " 'dear',\n",
              " 'ded',\n",
              " 'del',\n",
              " 'delayed',\n",
              " 'deli',\n",
              " 'delicatessen',\n",
              " 'delivery',\n",
              " 'dep',\n",
              " 'deptime',\n",
              " 'derek',\n",
              " 'derrick',\n",
              " 'desert',\n",
              " 'devin',\n",
              " 'devon',\n",
              " 'dharmastala',\n",
              " 'dhm',\n",
              " 'dib',\n",
              " 'diego',\n",
              " 'digital',\n",
              " 'dillon',\n",
              " 'diner',\n",
              " 'dining',\n",
              " 'dinner',\n",
              " 'discount',\n",
              " 'diu',\n",
              " 'dj',\n",
              " 'dkgs',\n",
              " 'dmu',\n",
              " 'docomo',\n",
              " 'doctor',\n",
              " 'dog',\n",
              " 'doj',\n",
              " 'dome',\n",
              " 'dominic',\n",
              " 'dominick',\n",
              " 'dominoes',\n",
              " 'dominos',\n",
              " 'dominoz',\n",
              " 'donovan',\n",
              " 'donut',\n",
              " 'donuts',\n",
              " 'dory',\n",
              " 'doughnut',\n",
              " 'downtown',\n",
              " 'dp',\n",
              " 'dr',\n",
              " 'dragon',\n",
              " 'drake',\n",
              " 'drew',\n",
              " 'drive',\n",
              " 'drivein',\n",
              " 'du',\n",
              " 'due',\n",
              " 'dunkin',\n",
              " 'dustin',\n",
              " 'dw',\n",
              " 'dylan',\n",
              " 'eagle',\n",
              " 'east',\n",
              " 'eatery',\n",
              " 'edgar',\n",
              " 'eduardo',\n",
              " 'edward',\n",
              " 'edwin',\n",
              " 'el',\n",
              " 'election',\n",
              " 'elements',\n",
              " 'eli',\n",
              " 'elias',\n",
              " 'elijah',\n",
              " 'emergency',\n",
              " 'emmanuel',\n",
              " 'enjoy',\n",
              " 'eric',\n",
              " 'erick',\n",
              " 'erik',\n",
              " 'ernakulam',\n",
              " 'espresso',\n",
              " 'est',\n",
              " 'etd',\n",
              " 'ethan',\n",
              " 'evan',\n",
              " 'express',\n",
              " 'factory',\n",
              " 'fair',\n",
              " 'falls',\n",
              " 'famous',\n",
              " 'fantastic',\n",
              " 'fare',\n",
              " 'fc',\n",
              " 'fernando',\n",
              " 'fernmeldeturm',\n",
              " 'ff',\n",
              " 'field',\n",
              " 'figures',\n",
              " 'find',\n",
              " 'finding',\n",
              " 'first',\n",
              " 'fixedline',\n",
              " 'fj',\n",
              " 'flt',\n",
              " 'fn',\n",
              " 'fncl',\n",
              " 'food',\n",
              " 'foods',\n",
              " 'forest',\n",
              " 'fort',\n",
              " 'forum',\n",
              " 'four',\n",
              " 'fr',\n",
              " 'francisco',\n",
              " 'frank',\n",
              " 'frankie',\n",
              " 'franklin',\n",
              " 'fresh',\n",
              " 'friday',\n",
              " 'fried',\n",
              " 'frozen',\n",
              " 'fs',\n",
              " 'fu',\n",
              " 'fun',\n",
              " 'fv',\n",
              " 'gabriel',\n",
              " 'gage',\n",
              " 'gallery',\n",
              " 'gandhinagar',\n",
              " 'garden',\n",
              " 'garrett',\n",
              " 'garuda',\n",
              " 'gau',\n",
              " 'gavin',\n",
              " 'gay',\n",
              " 'gb',\n",
              " 'gc',\n",
              " 'generated',\n",
              " 'george',\n",
              " 'gerardo',\n",
              " 'get',\n",
              " 'ghostbusters',\n",
              " 'giovanni',\n",
              " 'giratorio',\n",
              " 'girl',\n",
              " 'glass',\n",
              " 'gloria',\n",
              " 'go',\n",
              " 'goa',\n",
              " 'gold',\n",
              " 'golden',\n",
              " 'gop',\n",
              " 'gopalan',\n",
              " 'grand',\n",
              " 'grant',\n",
              " 'gregory',\n",
              " 'griffin',\n",
              " 'grill',\n",
              " 'group',\n",
              " 'gt',\n",
              " 'guest',\n",
              " 'gv',\n",
              " 'gwl',\n",
              " 'hacksaw',\n",
              " 'hall',\n",
              " 'halloween',\n",
              " 'hamburger',\n",
              " 'hamburgers',\n",
              " 'hard',\n",
              " 'harrison',\n",
              " 'hassan',\n",
              " 'hayden',\n",
              " 'hbx',\n",
              " 'health',\n",
              " 'hector',\n",
              " 'henry',\n",
              " 'heritage',\n",
              " 'hi',\n",
              " 'hidden',\n",
              " 'hiriyur',\n",
              " 'hjr',\n",
              " 'hn',\n",
              " 'hoka',\n",
              " 'hold',\n",
              " 'holdings',\n",
              " 'holiday',\n",
              " 'home',\n",
              " 'hospital',\n",
              " 'hot',\n",
              " 'hotel',\n",
              " 'house',\n",
              " 'hrs',\n",
              " 'ht',\n",
              " 'hubli',\n",
              " 'hudson',\n",
              " 'hundimala',\n",
              " 'hunter',\n",
              " 'hut',\n",
              " 'hx',\n",
              " 'hy',\n",
              " 'hyd',\n",
              " 'hyderabad',\n",
              " 'hyundai',\n",
              " 'ian',\n",
              " 'ib',\n",
              " 'ice',\n",
              " 'icecream',\n",
              " 'id',\n",
              " 'idea',\n",
              " 'idr',\n",
              " 'ie',\n",
              " 'il',\n",
              " 'imf',\n",
              " 'independence',\n",
              " 'india',\n",
              " 'indigo',\n",
              " 'industries',\n",
              " 'inn',\n",
              " 'innovative',\n",
              " 'inox',\n",
              " 'ins',\n",
              " 'institute',\n",
              " 'intelligence',\n",
              " 'international',\n",
              " 'io',\n",
              " 'isaac',\n",
              " 'isaiah',\n",
              " 'isk',\n",
              " 'island',\n",
              " 'islands',\n",
              " 'israel',\n",
              " 'italian',\n",
              " 'ivan',\n",
              " 'ixe',\n",
              " 'ixm',\n",
              " 'jace',\n",
              " 'jack',\n",
              " 'jacks',\n",
              " 'jackson',\n",
              " 'jacob',\n",
              " 'jaden',\n",
              " 'jai',\n",
              " 'jaiden',\n",
              " 'jake',\n",
              " 'jalen',\n",
              " 'james',\n",
              " 'jared',\n",
              " 'jason',\n",
              " 'javier',\n",
              " 'jaxon',\n",
              " 'jayanagar',\n",
              " 'jayden',\n",
              " 'jaylen',\n",
              " 'jc',\n",
              " 'jdh',\n",
              " 'jeffrey',\n",
              " 'jeremiah',\n",
              " 'jeremy',\n",
              " 'jerry',\n",
              " 'jesse',\n",
              " 'jesus',\n",
              " 'jet',\n",
              " 'jga',\n",
              " 'jgb',\n",
              " 'jh',\n",
              " 'jimmy',\n",
              " 'jio',\n",
              " 'jlr',\n",
              " 'jnydate',\n",
              " 'joe',\n",
              " 'joel',\n",
              " 'john',\n",
              " 'johnathan',\n",
              " 'johnny',\n",
              " 'jonah',\n",
              " 'jonathan',\n",
              " 'jordan',\n",
              " 'jorge',\n",
              " 'jose',\n",
              " 'joseph',\n",
              " 'joshua',\n",
              " 'josiah',\n",
              " 'josue',\n",
              " 'journey',\n",
              " 'joy',\n",
              " 'jp',\n",
              " 'jrh',\n",
              " 'js',\n",
              " 'jsa',\n",
              " 'juan',\n",
              " 'juice',\n",
              " 'julian',\n",
              " 'julio',\n",
              " 'junction',\n",
              " 'jungle',\n",
              " 'junk',\n",
              " 'justice',\n",
              " 'justin',\n",
              " 'jv',\n",
              " 'jw',\n",
              " 'jx',\n",
              " 'ka',\n",
              " 'kaden',\n",
              " 'kai',\n",
              " 'kaiden',\n",
              " 'kaleb',\n",
              " 'kannur',\n",
              " 'karaikudi',\n",
              " 'kasargod',\n",
              " 'keegan',\n",
              " 'kenneth',\n",
              " 'kevin',\n",
              " 'kewpee',\n",
              " 'kf',\n",
              " 'kial',\n",
              " 'king',\n",
              " 'kitchen',\n",
              " 'klh',\n",
              " 'kodaikanal',\n",
              " 'kogi',\n",
              " 'kolar',\n",
              " 'kolhapur',\n",
              " 'kolpud',\n",
              " 'kolshi',\n",
              " 'kottayam',\n",
              " 'kozhikode',\n",
              " 'ksrtc',\n",
              " 'ktu',\n",
              " 'kumbakonam',\n",
              " 'kundapura',\n",
              " 'kung',\n",
              " 'kuu',\n",
              " 'kyle',\n",
              " 'la',\n",
              " 'lake',\n",
              " 'lakshmi',\n",
              " 'land',\n",
              " 'landen',\n",
              " 'landon',\n",
              " 'lane',\n",
              " 'ld',\n",
              " 'lda',\n",
              " 'le',\n",
              " 'leaf',\n",
              " 'lee',\n",
              " 'legend',\n",
              " 'leonardo',\n",
              " 'levi',\n",
              " 'lh',\n",
              " 'liam',\n",
              " 'lido',\n",
              " 'life',\n",
              " 'lights',\n",
              " 'limited',\n",
              " 'little',\n",
              " 'lj',\n",
              " 'lko',\n",
              " 'lmt',\n",
              " 'lobster',\n",
              " 'logan',\n",
              " 'london',\n",
              " 'long',\n",
              " 'looking',\n",
              " 'los',\n",
              " 'lounge',\n",
              " 'ltd',\n",
              " 'lucas',\n",
              " 'luh',\n",
              " 'luis',\n",
              " 'luke',\n",
              " 'lunch',\n",
              " 'maa',\n",
              " 'madea',\n",
              " 'madikeri',\n",
              " 'madras',\n",
              " 'madurai',\n",
              " 'magadi',\n",
              " 'magnificent',\n",
              " 'magrath',\n",
              " 'maha',\n",
              " 'mahadevapura',\n",
              " 'makemytrip',\n",
              " 'malachi',\n",
              " 'mall',\n",
              " 'mandya',\n",
              " 'mangaluru',\n",
              " 'manipal',\n",
              " 'mantralaya',\n",
              " 'mantri',\n",
              " 'manuel',\n",
              " 'marathahalli',\n",
              " 'marco',\n",
              " 'marcos',\n",
              " 'marcus',\n",
              " 'mario',\n",
              " 'mark',\n",
              " 'market',\n",
              " 'marriot',\n",
              " 'marriott',\n",
              " 'martin',\n",
              " 'maruti',\n",
              " 'mason',\n",
              " 'massage',\n",
              " 'matt',\n",
              " 'matthew',\n",
              " 'max',\n",
              " 'maximum',\n",
              " 'maxwell',\n",
              " 'mcdonald',\n",
              " 'medical',\n",
              " 'meenakshi',\n",
              " 'memorial',\n",
              " 'men',\n",
              " 'menara',\n",
              " 'mercara',\n",
              " 'meru',\n",
              " 'mexican',\n",
              " 'mg',\n",
              " 'mi',\n",
              " 'micah',\n",
              " 'michael',\n",
              " 'might',\n",
              " 'miguel',\n",
              " 'mike',\n",
              " 'miles',\n",
              " 'mill',\n",
              " 'mining',\n",
              " 'miniplex',\n",
              " 'mins',\n",
              " 'miss',\n",
              " 'mitchell',\n",
              " 'mo',\n",
              " 'moana',\n",
              " 'moms',\n",
              " 'montreal',\n",
              " 'mountain',\n",
              " 'movie',\n",
              " 'mr',\n",
              " 'msr',\n",
              " 'multiplex',\n",
              " 'mumbai',\n",
              " 'murder',\n",
              " 'museum',\n",
              " 'mutant',\n",
              " 'myq',\n",
              " 'mysore',\n",
              " 'mysuru',\n",
              " 'mzu',\n",
              " 'na',\n",
              " 'nag',\n",
              " 'nagar',\n",
              " 'nat',\n",
              " 'nathan',\n",
              " 'nathaniel',\n",
              " 'nation',\n",
              " 'national',\n",
              " 'nature',\n",
              " 'nb',\n",
              " 'ndc',\n",
              " 'neighbourhood',\n",
              " 'nellore',\n",
              " 'new',\n",
              " 'next',\n",
              " 'nf',\n",
              " 'ngr',\n",
              " 'nicholas',\n",
              " 'nicolas',\n",
              " 'ninja',\n",
              " 'nmb',\n",
              " 'nn',\n",
              " 'noah',\n",
              " 'nolan',\n",
              " 'non',\n",
              " 'nu',\n",
              " 'ny',\n",
              " 'ola',\n",
              " 'old',\n",
              " 'oliver',\n",
              " 'om',\n",
              " 'omar',\n",
              " 'one',\n",
              " 'ooty',\n",
              " 'opened',\n",
              " ...]"
            ]
          },
          "metadata": {
            "tags": []
          },
          "execution_count": 111
        }
      ]
    },
    {
      "cell_type": "code",
      "metadata": {
        "id": "-WmrYWlnWuB5",
        "colab_type": "code",
        "colab": {
          "base_uri": "https://localhost:8080/",
          "height": 34
        },
        "outputId": "3a6abd5a-b2b3-4f2b-cac5-33cbf312ee33"
      },
      "source": [
        "print(len(Message), len(Label))"
      ],
      "execution_count": 112,
      "outputs": [
        {
          "output_type": "stream",
          "text": [
            "12000 12000\n"
          ],
          "name": "stdout"
        }
      ]
    },
    {
      "cell_type": "code",
      "metadata": {
        "id": "V8K5wO5uW2kw",
        "colab_type": "code",
        "colab": {}
      },
      "source": [
        "# conver the data_features to array\n",
        "\n",
        "# data features for categories\n",
        "data_features = data_features.toarray()\n",
        "# data_features = pd.DataFrame(data_features)\n",
        "# data_features[\"Label\"] = train[\"Label\"]\n",
        "# data_features = data_features.sample(frac = 1)\n",
        "\n",
        "\n"
      ],
      "execution_count": 0,
      "outputs": []
    },
    {
      "cell_type": "code",
      "metadata": {
        "id": "kcWm309vZCpU",
        "colab_type": "code",
        "colab": {
          "base_uri": "https://localhost:8080/",
          "height": 650
        },
        "outputId": "973c5b4a-502c-4240-e0ad-d0d1f3c1dbb0"
      },
      "source": [
        "# Simple Naive Bayes Model\n",
        "\n",
        "from sklearn.naive_bayes import MultinomialNB\n",
        "\n",
        "Y = train['Label'].map({'Delivery' : 0,\n",
        "'Hotel': 1,\n",
        "'Payment': 2,\n",
        "'Appointment' : 3,\n",
        "'Train': 4,\n",
        "'PickUp': 5,\n",
        "'Flight': 6,\n",
        "'Bus' : 7,\n",
        "'Movie' :8, \n",
        "'Reservation' : 9,\n",
        "'Expiry': 10,\n",
        "'Cab': 11})\n",
        "\n",
        "\n",
        "Mub = MultinomialNB()\n",
        "Mub.fit(X, Y)\n",
        "# Mub.fit(train.x, train.y)\n",
        "preds_NB = Mub.predict(X)\n",
        "confusion_matrix(Y, preds_NB)"
      ],
      "execution_count": 121,
      "outputs": [
        {
          "output_type": "error",
          "ename": "ValueError",
          "evalue": "ignored",
          "traceback": [
            "\u001b[0;31m---------------------------------------------------------------------------\u001b[0m",
            "\u001b[0;31mValueError\u001b[0m                                Traceback (most recent call last)",
            "\u001b[0;32m<ipython-input-121-2b58d43ba4f1>\u001b[0m in \u001b[0;36m<module>\u001b[0;34m()\u001b[0m\n\u001b[1;32m     17\u001b[0m \u001b[0;34m\u001b[0m\u001b[0m\n\u001b[1;32m     18\u001b[0m \u001b[0mMub\u001b[0m \u001b[0;34m=\u001b[0m \u001b[0mMultinomialNB\u001b[0m\u001b[0;34m(\u001b[0m\u001b[0;34m)\u001b[0m\u001b[0;34m\u001b[0m\u001b[0;34m\u001b[0m\u001b[0m\n\u001b[0;32m---> 19\u001b[0;31m \u001b[0mMub\u001b[0m\u001b[0;34m.\u001b[0m\u001b[0mfit\u001b[0m\u001b[0;34m(\u001b[0m\u001b[0mX\u001b[0m\u001b[0;34m,\u001b[0m \u001b[0mY\u001b[0m\u001b[0;34m)\u001b[0m\u001b[0;34m\u001b[0m\u001b[0;34m\u001b[0m\u001b[0m\n\u001b[0m\u001b[1;32m     20\u001b[0m \u001b[0;31m# Mub.fit(train.x, train.y)\u001b[0m\u001b[0;34m\u001b[0m\u001b[0;34m\u001b[0m\u001b[0;34m\u001b[0m\u001b[0m\n\u001b[1;32m     21\u001b[0m \u001b[0mpreds_NB\u001b[0m \u001b[0;34m=\u001b[0m \u001b[0mMub\u001b[0m\u001b[0;34m.\u001b[0m\u001b[0mpredict\u001b[0m\u001b[0;34m(\u001b[0m\u001b[0mX\u001b[0m\u001b[0;34m)\u001b[0m\u001b[0;34m\u001b[0m\u001b[0;34m\u001b[0m\u001b[0m\n",
            "\u001b[0;32m/usr/local/lib/python3.6/dist-packages/sklearn/naive_bayes.py\u001b[0m in \u001b[0;36mfit\u001b[0;34m(self, X, y, sample_weight)\u001b[0m\n\u001b[1;32m    583\u001b[0m         \u001b[0mself\u001b[0m \u001b[0;34m:\u001b[0m \u001b[0mobject\u001b[0m\u001b[0;34m\u001b[0m\u001b[0;34m\u001b[0m\u001b[0m\n\u001b[1;32m    584\u001b[0m         \"\"\"\n\u001b[0;32m--> 585\u001b[0;31m         \u001b[0mX\u001b[0m\u001b[0;34m,\u001b[0m \u001b[0my\u001b[0m \u001b[0;34m=\u001b[0m \u001b[0mcheck_X_y\u001b[0m\u001b[0;34m(\u001b[0m\u001b[0mX\u001b[0m\u001b[0;34m,\u001b[0m \u001b[0my\u001b[0m\u001b[0;34m,\u001b[0m \u001b[0;34m'csr'\u001b[0m\u001b[0;34m)\u001b[0m\u001b[0;34m\u001b[0m\u001b[0;34m\u001b[0m\u001b[0m\n\u001b[0m\u001b[1;32m    586\u001b[0m         \u001b[0m_\u001b[0m\u001b[0;34m,\u001b[0m \u001b[0mn_features\u001b[0m \u001b[0;34m=\u001b[0m \u001b[0mX\u001b[0m\u001b[0;34m.\u001b[0m\u001b[0mshape\u001b[0m\u001b[0;34m\u001b[0m\u001b[0;34m\u001b[0m\u001b[0m\n\u001b[1;32m    587\u001b[0m \u001b[0;34m\u001b[0m\u001b[0m\n",
            "\u001b[0;32m/usr/local/lib/python3.6/dist-packages/sklearn/utils/validation.py\u001b[0m in \u001b[0;36mcheck_X_y\u001b[0;34m(X, y, accept_sparse, accept_large_sparse, dtype, order, copy, force_all_finite, ensure_2d, allow_nd, multi_output, ensure_min_samples, ensure_min_features, y_numeric, warn_on_dtype, estimator)\u001b[0m\n\u001b[1;32m    764\u001b[0m         \u001b[0my\u001b[0m \u001b[0;34m=\u001b[0m \u001b[0my\u001b[0m\u001b[0;34m.\u001b[0m\u001b[0mastype\u001b[0m\u001b[0;34m(\u001b[0m\u001b[0mnp\u001b[0m\u001b[0;34m.\u001b[0m\u001b[0mfloat64\u001b[0m\u001b[0;34m)\u001b[0m\u001b[0;34m\u001b[0m\u001b[0;34m\u001b[0m\u001b[0m\n\u001b[1;32m    765\u001b[0m \u001b[0;34m\u001b[0m\u001b[0m\n\u001b[0;32m--> 766\u001b[0;31m     \u001b[0mcheck_consistent_length\u001b[0m\u001b[0;34m(\u001b[0m\u001b[0mX\u001b[0m\u001b[0;34m,\u001b[0m \u001b[0my\u001b[0m\u001b[0;34m)\u001b[0m\u001b[0;34m\u001b[0m\u001b[0;34m\u001b[0m\u001b[0m\n\u001b[0m\u001b[1;32m    767\u001b[0m \u001b[0;34m\u001b[0m\u001b[0m\n\u001b[1;32m    768\u001b[0m     \u001b[0;32mreturn\u001b[0m \u001b[0mX\u001b[0m\u001b[0;34m,\u001b[0m \u001b[0my\u001b[0m\u001b[0;34m\u001b[0m\u001b[0;34m\u001b[0m\u001b[0m\n",
            "\u001b[0;32m/usr/local/lib/python3.6/dist-packages/sklearn/utils/validation.py\u001b[0m in \u001b[0;36mcheck_consistent_length\u001b[0;34m(*arrays)\u001b[0m\n\u001b[1;32m    233\u001b[0m     \u001b[0;32mif\u001b[0m \u001b[0mlen\u001b[0m\u001b[0;34m(\u001b[0m\u001b[0muniques\u001b[0m\u001b[0;34m)\u001b[0m \u001b[0;34m>\u001b[0m \u001b[0;36m1\u001b[0m\u001b[0;34m:\u001b[0m\u001b[0;34m\u001b[0m\u001b[0;34m\u001b[0m\u001b[0m\n\u001b[1;32m    234\u001b[0m         raise ValueError(\"Found input variables with inconsistent numbers of\"\n\u001b[0;32m--> 235\u001b[0;31m                          \" samples: %r\" % [int(l) for l in lengths])\n\u001b[0m\u001b[1;32m    236\u001b[0m \u001b[0;34m\u001b[0m\u001b[0m\n\u001b[1;32m    237\u001b[0m \u001b[0;34m\u001b[0m\u001b[0m\n",
            "\u001b[0;31mValueError\u001b[0m: Found input variables with inconsistent numbers of samples: [1400, 12000]"
          ]
        }
      ]
    }
  ]
}