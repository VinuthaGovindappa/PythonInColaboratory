{
  "nbformat": 4,
  "nbformat_minor": 0,
  "metadata": {
    "colab": {
      "name": "Python Day2 Training.ipynb",
      "version": "0.3.2",
      "provenance": [],
      "collapsed_sections": [],
      "include_colab_link": true
    },
    "kernelspec": {
      "name": "python3",
      "display_name": "Python 3"
    }
  },
  "cells": [
    {
      "cell_type": "markdown",
      "metadata": {
        "id": "view-in-github",
        "colab_type": "text"
      },
      "source": [
        "<a href=\"https://colab.research.google.com/github/VinuthaGovindappa/PythonInColaboratory/blob/master/Python_Day2_Training.ipynb\" target=\"_parent\"><img src=\"https://colab.research.google.com/assets/colab-badge.svg\" alt=\"Open In Colab\"/></a>"
      ]
    },
    {
      "cell_type": "code",
      "metadata": {
        "id": "wHs7V4YEfcjG",
        "colab_type": "code",
        "outputId": "e0d199e7-b8c9-4903-a3b0-baa1955779ee",
        "colab": {
          "base_uri": "https://localhost:8080/",
          "height": 69
        }
      },
      "source": [
        "# For Loops \n",
        "\n",
        "rad_angles = []\n",
        "\n",
        "for a in [30, 60, 90]:\n",
        "#   Calculate radian with given degree\n",
        "  rad_angles = a * (22 / 7 / 180)\n",
        "  print(rad_angles)\n",
        "  \n",
        "#   rad_angles.append(r)"
      ],
      "execution_count": 0,
      "outputs": [
        {
          "output_type": "stream",
          "text": [
            "0.5238095238095238\n",
            "1.0476190476190477\n",
            "1.5714285714285714\n"
          ],
          "name": "stdout"
        }
      ]
    },
    {
      "cell_type": "code",
      "metadata": {
        "id": "KF8VN9HpgIV2",
        "colab_type": "code",
        "outputId": "d5f6fa8a-fddf-40b5-a0db-831c44faa189",
        "colab": {
          "base_uri": "https://localhost:8080/",
          "height": 131
        }
      },
      "source": [
        "# print Qudrant 2 degree's\n",
        "\n",
        "# q2_angles = []\n",
        "# for a in [30, 60, 90, 120, 180]:\n",
        "#   #   Calculate radian with given degree\n",
        "#   q2_angles = a * (22 / 7 / 180)\n",
        "#   print(q2_angles)\n",
        "  \n",
        "q2_angles = [] \n",
        "\n",
        "for a in [30, 60, 90, 120, 180]:\n",
        "  if((a>=90) & (a<180)):\n",
        "    q2_angles.append(a)\n",
        "    \n",
        "print(q2_angles)\n",
        "    "
      ],
      "execution_count": 0,
      "outputs": [
        {
          "output_type": "error",
          "ename": "IndentationError",
          "evalue": "ignored",
          "traceback": [
            "\u001b[0;36m  File \u001b[0;32m\"<ipython-input-24-b740910a93ec>\"\u001b[0;36m, line \u001b[0;32m5\u001b[0m\n\u001b[0;31m    if((a>=90) & (a<180)):\u001b[0m\n\u001b[0m     ^\u001b[0m\n\u001b[0;31mIndentationError\u001b[0m\u001b[0;31m:\u001b[0m expected an indented block\n"
          ]
        }
      ]
    },
    {
      "cell_type": "markdown",
      "metadata": {
        "id": "_Rxd5DDeoDLJ",
        "colab_type": "text"
      },
      "source": [
        "Numpy\n"
      ]
    },
    {
      "cell_type": "code",
      "metadata": {
        "id": "yAS3h_JEoHxG",
        "colab_type": "code",
        "outputId": "863d8c56-c46d-4245-df27-1bad3334ca27",
        "colab": {
          "base_uri": "https://localhost:8080/",
          "height": 173
        }
      },
      "source": [
        "# numpy array\n",
        "\n",
        "import numpy as np\n",
        "\n",
        "# one D array\n",
        "# 2 D array\n",
        "# Zero matrix\n",
        "# crate identical matrix\n",
        "\n",
        "a = np.array([1, 2, 3])  \n",
        "b = np.array([[1, 2, 3], [4, 5, 6]], dtype=float)\n",
        "c = np.zeros((3, 4))\n",
        "d = np.eye(3)\n",
        "\n",
        "print(a)\n",
        "print(b)\n",
        "print(c)\n",
        "print(d)"
      ],
      "execution_count": 0,
      "outputs": [
        {
          "output_type": "stream",
          "text": [
            "[1 2 3]\n",
            "[[1 2 3]\n",
            " [4 5 6]]\n",
            "[[0. 0. 0. 0.]\n",
            " [0. 0. 0. 0.]\n",
            " [0. 0. 0. 0.]]\n",
            "[[1. 0. 0.]\n",
            " [0. 1. 0.]\n",
            " [0. 0. 1.]]\n"
          ],
          "name": "stdout"
        }
      ]
    },
    {
      "cell_type": "code",
      "metadata": {
        "id": "8f9cpe7rrX3C",
        "colab_type": "code",
        "outputId": "0ce75956-bd95-4225-a359-90fda371b7f3",
        "colab": {
          "base_uri": "https://localhost:8080/",
          "height": 121
        }
      },
      "source": [
        "# Basic inspecting operations\n",
        "\n",
        "# shape, len, ndim, size, dtype\n",
        "\n",
        "print(b.shape)\n",
        "print(len(a))\n",
        "print(b.ndim)\n",
        "print(b.size)\n",
        "print(b.dtype)\n",
        "\n",
        "b = b.astype(int)\n",
        "b.dtype\n",
        "\n"
      ],
      "execution_count": 0,
      "outputs": [
        {
          "output_type": "stream",
          "text": [
            "(2, 3)\n",
            "3\n",
            "2\n",
            "6\n",
            "int64\n"
          ],
          "name": "stdout"
        },
        {
          "output_type": "execute_result",
          "data": {
            "text/plain": [
              "dtype('int64')"
            ]
          },
          "metadata": {
            "tags": []
          },
          "execution_count": 31
        }
      ]
    },
    {
      "cell_type": "code",
      "metadata": {
        "id": "ASm8X0mKsjp4",
        "colab_type": "code",
        "outputId": "46165ce4-65d5-4764-bac7-b89df5f4edad",
        "colab": {
          "base_uri": "https://localhost:8080/",
          "height": 1439
        }
      },
      "source": [
        "# Student Activity\n",
        "\n",
        "from sklearn import datasets\n",
        "iris = datasets.load_iris()\n",
        "\n",
        "x = iris.data\n",
        "\n",
        "# print(x)\n",
        "\n",
        "# 1. print shape and dimension of this array x\n",
        "\n",
        "print(x.shape)\n",
        "\n",
        "# print(x)\n",
        "\n",
        "# 2. Sub-array with only petal data and measurements from (100 to 140 rows)\n",
        "print(x[100:140, 2:4 ])\n",
        "\n",
        "# 3. assign Sub-array to Xsub and print cellblock\n",
        "\n",
        "Xsub = x[100:140, 2:4]\n",
        "\n",
        "print(Xsub)\n",
        "\n",
        "# 4. print explcitly shape of Xsub\n",
        "\n",
        "print(Xsub.shape)\n",
        "\n",
        "\n"
      ],
      "execution_count": 0,
      "outputs": [
        {
          "output_type": "stream",
          "text": [
            "(150, 4)\n",
            "[[6.  2.5]\n",
            " [5.1 1.9]\n",
            " [5.9 2.1]\n",
            " [5.6 1.8]\n",
            " [5.8 2.2]\n",
            " [6.6 2.1]\n",
            " [4.5 1.7]\n",
            " [6.3 1.8]\n",
            " [5.8 1.8]\n",
            " [6.1 2.5]\n",
            " [5.1 2. ]\n",
            " [5.3 1.9]\n",
            " [5.5 2.1]\n",
            " [5.  2. ]\n",
            " [5.1 2.4]\n",
            " [5.3 2.3]\n",
            " [5.5 1.8]\n",
            " [6.7 2.2]\n",
            " [6.9 2.3]\n",
            " [5.  1.5]\n",
            " [5.7 2.3]\n",
            " [4.9 2. ]\n",
            " [6.7 2. ]\n",
            " [4.9 1.8]\n",
            " [5.7 2.1]\n",
            " [6.  1.8]\n",
            " [4.8 1.8]\n",
            " [4.9 1.8]\n",
            " [5.6 2.1]\n",
            " [5.8 1.6]\n",
            " [6.1 1.9]\n",
            " [6.4 2. ]\n",
            " [5.6 2.2]\n",
            " [5.1 1.5]\n",
            " [5.6 1.4]\n",
            " [6.1 2.3]\n",
            " [5.6 2.4]\n",
            " [5.5 1.8]\n",
            " [4.8 1.8]\n",
            " [5.4 2.1]]\n",
            "[[6.  2.5]\n",
            " [5.1 1.9]\n",
            " [5.9 2.1]\n",
            " [5.6 1.8]\n",
            " [5.8 2.2]\n",
            " [6.6 2.1]\n",
            " [4.5 1.7]\n",
            " [6.3 1.8]\n",
            " [5.8 1.8]\n",
            " [6.1 2.5]\n",
            " [5.1 2. ]\n",
            " [5.3 1.9]\n",
            " [5.5 2.1]\n",
            " [5.  2. ]\n",
            " [5.1 2.4]\n",
            " [5.3 2.3]\n",
            " [5.5 1.8]\n",
            " [6.7 2.2]\n",
            " [6.9 2.3]\n",
            " [5.  1.5]\n",
            " [5.7 2.3]\n",
            " [4.9 2. ]\n",
            " [6.7 2. ]\n",
            " [4.9 1.8]\n",
            " [5.7 2.1]\n",
            " [6.  1.8]\n",
            " [4.8 1.8]\n",
            " [4.9 1.8]\n",
            " [5.6 2.1]\n",
            " [5.8 1.6]\n",
            " [6.1 1.9]\n",
            " [6.4 2. ]\n",
            " [5.6 2.2]\n",
            " [5.1 1.5]\n",
            " [5.6 1.4]\n",
            " [6.1 2.3]\n",
            " [5.6 2.4]\n",
            " [5.5 1.8]\n",
            " [4.8 1.8]\n",
            " [5.4 2.1]]\n",
            "(40, 2)\n"
          ],
          "name": "stdout"
        }
      ]
    },
    {
      "cell_type": "code",
      "metadata": {
        "id": "HZnZWSvE4kWY",
        "colab_type": "code",
        "outputId": "dfad5792-5b53-411e-dbc2-9403145c1492",
        "colab": {
          "resources": {
            "http://localhost:8080/nbextensions/google.colab/files.js": {
              "data": "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",
              "ok": true,
              "headers": [
                [
                  "content-type",
                  "application/javascript"
                ]
              ],
              "status": 200,
              "status_text": ""
            }
          },
          "base_uri": "https://localhost:8080/",
          "height": 75
        }
      },
      "source": [
        "\n",
        "# Upload file to colab \n",
        "# \n",
        "from google.colab import files\n",
        "uploaded = files.upload()\n",
        "\n"
      ],
      "execution_count": 0,
      "outputs": [
        {
          "output_type": "display_data",
          "data": {
            "text/html": [
              "\n",
              "     <input type=\"file\" id=\"files-7fd555ed-a367-4fd9-808f-512cfb5ff8d2\" name=\"files[]\" multiple disabled />\n",
              "     <output id=\"result-7fd555ed-a367-4fd9-808f-512cfb5ff8d2\">\n",
              "      Upload widget is only available when the cell has been executed in the\n",
              "      current browser session. Please rerun this cell to enable.\n",
              "      </output>\n",
              "      <script src=\"/nbextensions/google.colab/files.js\"></script> "
            ],
            "text/plain": [
              "<IPython.core.display.HTML object>"
            ]
          },
          "metadata": {
            "tags": []
          }
        },
        {
          "output_type": "stream",
          "text": [
            "Saving matches.csv to matches.csv\n"
          ],
          "name": "stdout"
        }
      ]
    },
    {
      "cell_type": "code",
      "metadata": {
        "id": "G7I13QNq1f-L",
        "colab_type": "code",
        "outputId": "38f53e8c-fc94-41a5-ee25-d85d4d71a515",
        "colab": {
          "base_uri": "https://localhost:8080/",
          "height": 369
        }
      },
      "source": [
        "# Pandas DataFrame\n",
        "# help tabular data \"Python data analysis Library\"\n",
        "\n",
        "# read data from matches.csv from data folder\n",
        "#\n",
        "\n",
        "import pandas as pd\n",
        "\n",
        "df = pd.read_csv('matches.csv')\n",
        "\n",
        "print(df.shape)\n",
        "print(df.columns)\n",
        "print(list(df.index)[:10])\n",
        "df.head()\n",
        "df.head(2)\n",
        "df.tail(3)"
      ],
      "execution_count": 0,
      "outputs": [
        {
          "output_type": "stream",
          "text": [
            "(577, 18)\n",
            "Index(['id', 'season', 'city', 'date', 'team1', 'team2', 'toss_winner',\n",
            "       'toss_decision', 'result', 'dl_applied', 'winner', 'win_by_runs',\n",
            "       'win_by_wickets', 'player_of_match', 'venue', 'umpire1', 'umpire2',\n",
            "       'umpire3'],\n",
            "      dtype='object')\n",
            "[0, 1, 2, 3, 4, 5, 6, 7, 8, 9]\n"
          ],
          "name": "stdout"
        },
        {
          "output_type": "execute_result",
          "data": {
            "text/html": [
              "<div>\n",
              "<style scoped>\n",
              "    .dataframe tbody tr th:only-of-type {\n",
              "        vertical-align: middle;\n",
              "    }\n",
              "\n",
              "    .dataframe tbody tr th {\n",
              "        vertical-align: top;\n",
              "    }\n",
              "\n",
              "    .dataframe thead th {\n",
              "        text-align: right;\n",
              "    }\n",
              "</style>\n",
              "<table border=\"1\" class=\"dataframe\">\n",
              "  <thead>\n",
              "    <tr style=\"text-align: right;\">\n",
              "      <th></th>\n",
              "      <th>id</th>\n",
              "      <th>season</th>\n",
              "      <th>city</th>\n",
              "      <th>date</th>\n",
              "      <th>team1</th>\n",
              "      <th>team2</th>\n",
              "      <th>toss_winner</th>\n",
              "      <th>toss_decision</th>\n",
              "      <th>result</th>\n",
              "      <th>dl_applied</th>\n",
              "      <th>winner</th>\n",
              "      <th>win_by_runs</th>\n",
              "      <th>win_by_wickets</th>\n",
              "      <th>player_of_match</th>\n",
              "      <th>venue</th>\n",
              "      <th>umpire1</th>\n",
              "      <th>umpire2</th>\n",
              "      <th>umpire3</th>\n",
              "    </tr>\n",
              "  </thead>\n",
              "  <tbody>\n",
              "    <tr>\n",
              "      <th>574</th>\n",
              "      <td>575</td>\n",
              "      <td>2016</td>\n",
              "      <td>Delhi</td>\n",
              "      <td>2016-05-25</td>\n",
              "      <td>Sunrisers Hyderabad</td>\n",
              "      <td>Kolkata Knight Riders</td>\n",
              "      <td>Kolkata Knight Riders</td>\n",
              "      <td>field</td>\n",
              "      <td>normal</td>\n",
              "      <td>0</td>\n",
              "      <td>Sunrisers Hyderabad</td>\n",
              "      <td>22</td>\n",
              "      <td>0</td>\n",
              "      <td>MC Henriques</td>\n",
              "      <td>Feroz Shah Kotla</td>\n",
              "      <td>M Erasmus</td>\n",
              "      <td>C Shamshuddin</td>\n",
              "      <td>NaN</td>\n",
              "    </tr>\n",
              "    <tr>\n",
              "      <th>575</th>\n",
              "      <td>576</td>\n",
              "      <td>2016</td>\n",
              "      <td>Delhi</td>\n",
              "      <td>2016-05-27</td>\n",
              "      <td>Gujarat Lions</td>\n",
              "      <td>Sunrisers Hyderabad</td>\n",
              "      <td>Sunrisers Hyderabad</td>\n",
              "      <td>field</td>\n",
              "      <td>normal</td>\n",
              "      <td>0</td>\n",
              "      <td>Sunrisers Hyderabad</td>\n",
              "      <td>0</td>\n",
              "      <td>4</td>\n",
              "      <td>DA Warner</td>\n",
              "      <td>Feroz Shah Kotla</td>\n",
              "      <td>M Erasmus</td>\n",
              "      <td>CK Nandan</td>\n",
              "      <td>NaN</td>\n",
              "    </tr>\n",
              "    <tr>\n",
              "      <th>576</th>\n",
              "      <td>577</td>\n",
              "      <td>2016</td>\n",
              "      <td>Bangalore</td>\n",
              "      <td>2016-05-29</td>\n",
              "      <td>Sunrisers Hyderabad</td>\n",
              "      <td>Royal Challengers Bangalore</td>\n",
              "      <td>Sunrisers Hyderabad</td>\n",
              "      <td>bat</td>\n",
              "      <td>normal</td>\n",
              "      <td>0</td>\n",
              "      <td>Sunrisers Hyderabad</td>\n",
              "      <td>8</td>\n",
              "      <td>0</td>\n",
              "      <td>BCJ Cutting</td>\n",
              "      <td>M Chinnaswamy Stadium</td>\n",
              "      <td>HDPK Dharmasena</td>\n",
              "      <td>BNJ Oxenford</td>\n",
              "      <td>NaN</td>\n",
              "    </tr>\n",
              "  </tbody>\n",
              "</table>\n",
              "</div>"
            ],
            "text/plain": [
              "      id  season       city        date                team1  \\\n",
              "574  575    2016      Delhi  2016-05-25  Sunrisers Hyderabad   \n",
              "575  576    2016      Delhi  2016-05-27        Gujarat Lions   \n",
              "576  577    2016  Bangalore  2016-05-29  Sunrisers Hyderabad   \n",
              "\n",
              "                           team2            toss_winner toss_decision  result  \\\n",
              "574        Kolkata Knight Riders  Kolkata Knight Riders         field  normal   \n",
              "575          Sunrisers Hyderabad    Sunrisers Hyderabad         field  normal   \n",
              "576  Royal Challengers Bangalore    Sunrisers Hyderabad           bat  normal   \n",
              "\n",
              "     dl_applied               winner  win_by_runs  win_by_wickets  \\\n",
              "574           0  Sunrisers Hyderabad           22               0   \n",
              "575           0  Sunrisers Hyderabad            0               4   \n",
              "576           0  Sunrisers Hyderabad            8               0   \n",
              "\n",
              "    player_of_match                  venue          umpire1        umpire2  \\\n",
              "574    MC Henriques       Feroz Shah Kotla        M Erasmus  C Shamshuddin   \n",
              "575       DA Warner       Feroz Shah Kotla        M Erasmus      CK Nandan   \n",
              "576     BCJ Cutting  M Chinnaswamy Stadium  HDPK Dharmasena   BNJ Oxenford   \n",
              "\n",
              "     umpire3  \n",
              "574      NaN  \n",
              "575      NaN  \n",
              "576      NaN  "
            ]
          },
          "metadata": {
            "tags": []
          },
          "execution_count": 69
        }
      ]
    },
    {
      "cell_type": "code",
      "metadata": {
        "id": "fYCkoR1j6XVT",
        "colab_type": "code",
        "outputId": "c3e84b5b-82a8-4c80-9412-50e8e6c56a8c",
        "colab": {
          "base_uri": "https://localhost:8080/",
          "height": 35
        }
      },
      "source": [
        "# Subsetting DataFrames\n",
        "\n",
        "# Only Bangalore games\n",
        "# Subset data frame where city is bangalore\n",
        "\n",
        "df[df['city']=='Bangalore']\n",
        "\n",
        "# on above subset get only winners\n",
        "df[df['city']=='Bangalore']['winner']\n",
        "\n",
        "# use isin function to subset season is 2008,2015\n",
        "df[df['season'].isin([2008,2015])]\n",
        "\n",
        "# get only season and toss_winner from above subset\n",
        "df[df['season'].isin([2008,2015])][['season','toss_winner']]\n",
        "\n",
        "# use valuse_counts for winners\n",
        "\n",
        "df['winner'].value_counts()\n",
        "\n",
        "# use isnull().sum() get total of NAs\n",
        "\n",
        "df['winner'].isnull().sum()\n"
      ],
      "execution_count": 0,
      "outputs": [
        {
          "output_type": "execute_result",
          "data": {
            "text/plain": [
              "3"
            ]
          },
          "metadata": {
            "tags": []
          },
          "execution_count": 83
        }
      ]
    },
    {
      "cell_type": "code",
      "metadata": {
        "id": "GwWta9WzCKg7",
        "colab_type": "code",
        "outputId": "10ce0362-a473-4fca-c2c0-c2c505511567",
        "colab": {
          "base_uri": "https://localhost:8080/",
          "height": 4270
        }
      },
      "source": [
        "# index, ix, loc, iloc\n",
        "# ix id depricated \n",
        "\n",
        "df.reset_index(inplace=True)\n",
        "df.set_index('season',inplace=True)\n",
        "\n",
        "df.iloc[0:10]\n",
        "df.loc['2008']"
      ],
      "execution_count": 0,
      "outputs": [
        {
          "output_type": "execute_result",
          "data": {
            "text/html": [
              "<div>\n",
              "<style scoped>\n",
              "    .dataframe tbody tr th:only-of-type {\n",
              "        vertical-align: middle;\n",
              "    }\n",
              "\n",
              "    .dataframe tbody tr th {\n",
              "        vertical-align: top;\n",
              "    }\n",
              "\n",
              "    .dataframe thead th {\n",
              "        text-align: right;\n",
              "    }\n",
              "</style>\n",
              "<table border=\"1\" class=\"dataframe\">\n",
              "  <thead>\n",
              "    <tr style=\"text-align: right;\">\n",
              "      <th></th>\n",
              "      <th>date</th>\n",
              "      <th>level_0</th>\n",
              "      <th>index</th>\n",
              "      <th>id</th>\n",
              "      <th>city</th>\n",
              "      <th>team1</th>\n",
              "      <th>team2</th>\n",
              "      <th>toss_winner</th>\n",
              "      <th>toss_decision</th>\n",
              "      <th>result</th>\n",
              "      <th>dl_applied</th>\n",
              "      <th>winner</th>\n",
              "      <th>win_by_runs</th>\n",
              "      <th>win_by_wickets</th>\n",
              "      <th>player_of_match</th>\n",
              "      <th>venue</th>\n",
              "      <th>umpire1</th>\n",
              "      <th>umpire2</th>\n",
              "      <th>umpire3</th>\n",
              "    </tr>\n",
              "    <tr>\n",
              "      <th>season</th>\n",
              "      <th></th>\n",
              "      <th></th>\n",
              "      <th></th>\n",
              "      <th></th>\n",
              "      <th></th>\n",
              "      <th></th>\n",
              "      <th></th>\n",
              "      <th></th>\n",
              "      <th></th>\n",
              "      <th></th>\n",
              "      <th></th>\n",
              "      <th></th>\n",
              "      <th></th>\n",
              "      <th></th>\n",
              "      <th></th>\n",
              "      <th></th>\n",
              "      <th></th>\n",
              "      <th></th>\n",
              "      <th></th>\n",
              "    </tr>\n",
              "  </thead>\n",
              "  <tbody>\n",
              "    <tr>\n",
              "      <th>2008</th>\n",
              "      <td>2008-04-18</td>\n",
              "      <td>0</td>\n",
              "      <td>0</td>\n",
              "      <td>1</td>\n",
              "      <td>Bangalore</td>\n",
              "      <td>Kolkata Knight Riders</td>\n",
              "      <td>Royal Challengers Bangalore</td>\n",
              "      <td>Royal Challengers Bangalore</td>\n",
              "      <td>field</td>\n",
              "      <td>normal</td>\n",
              "      <td>0</td>\n",
              "      <td>Kolkata Knight Riders</td>\n",
              "      <td>140</td>\n",
              "      <td>0</td>\n",
              "      <td>BB McCullum</td>\n",
              "      <td>M Chinnaswamy Stadium</td>\n",
              "      <td>Asad Rauf</td>\n",
              "      <td>RE Koertzen</td>\n",
              "      <td>NaN</td>\n",
              "    </tr>\n",
              "    <tr>\n",
              "      <th>2008</th>\n",
              "      <td>2008-04-19</td>\n",
              "      <td>1</td>\n",
              "      <td>1</td>\n",
              "      <td>2</td>\n",
              "      <td>Chandigarh</td>\n",
              "      <td>Chennai Super Kings</td>\n",
              "      <td>Kings XI Punjab</td>\n",
              "      <td>Chennai Super Kings</td>\n",
              "      <td>bat</td>\n",
              "      <td>normal</td>\n",
              "      <td>0</td>\n",
              "      <td>Chennai Super Kings</td>\n",
              "      <td>33</td>\n",
              "      <td>0</td>\n",
              "      <td>MEK Hussey</td>\n",
              "      <td>Punjab Cricket Association Stadium, Mohali</td>\n",
              "      <td>MR Benson</td>\n",
              "      <td>SL Shastri</td>\n",
              "      <td>NaN</td>\n",
              "    </tr>\n",
              "    <tr>\n",
              "      <th>2008</th>\n",
              "      <td>2008-04-19</td>\n",
              "      <td>2</td>\n",
              "      <td>2</td>\n",
              "      <td>3</td>\n",
              "      <td>Delhi</td>\n",
              "      <td>Rajasthan Royals</td>\n",
              "      <td>Delhi Daredevils</td>\n",
              "      <td>Rajasthan Royals</td>\n",
              "      <td>bat</td>\n",
              "      <td>normal</td>\n",
              "      <td>0</td>\n",
              "      <td>Delhi Daredevils</td>\n",
              "      <td>0</td>\n",
              "      <td>9</td>\n",
              "      <td>MF Maharoof</td>\n",
              "      <td>Feroz Shah Kotla</td>\n",
              "      <td>Aleem Dar</td>\n",
              "      <td>GA Pratapkumar</td>\n",
              "      <td>NaN</td>\n",
              "    </tr>\n",
              "    <tr>\n",
              "      <th>2008</th>\n",
              "      <td>2008-04-20</td>\n",
              "      <td>3</td>\n",
              "      <td>3</td>\n",
              "      <td>4</td>\n",
              "      <td>Mumbai</td>\n",
              "      <td>Mumbai Indians</td>\n",
              "      <td>Royal Challengers Bangalore</td>\n",
              "      <td>Mumbai Indians</td>\n",
              "      <td>bat</td>\n",
              "      <td>normal</td>\n",
              "      <td>0</td>\n",
              "      <td>Royal Challengers Bangalore</td>\n",
              "      <td>0</td>\n",
              "      <td>5</td>\n",
              "      <td>MV Boucher</td>\n",
              "      <td>Wankhede Stadium</td>\n",
              "      <td>SJ Davis</td>\n",
              "      <td>DJ Harper</td>\n",
              "      <td>NaN</td>\n",
              "    </tr>\n",
              "    <tr>\n",
              "      <th>2008</th>\n",
              "      <td>2008-04-20</td>\n",
              "      <td>4</td>\n",
              "      <td>4</td>\n",
              "      <td>5</td>\n",
              "      <td>Kolkata</td>\n",
              "      <td>Deccan Chargers</td>\n",
              "      <td>Kolkata Knight Riders</td>\n",
              "      <td>Deccan Chargers</td>\n",
              "      <td>bat</td>\n",
              "      <td>normal</td>\n",
              "      <td>0</td>\n",
              "      <td>Kolkata Knight Riders</td>\n",
              "      <td>0</td>\n",
              "      <td>5</td>\n",
              "      <td>DJ Hussey</td>\n",
              "      <td>Eden Gardens</td>\n",
              "      <td>BF Bowden</td>\n",
              "      <td>K Hariharan</td>\n",
              "      <td>NaN</td>\n",
              "    </tr>\n",
              "    <tr>\n",
              "      <th>2008</th>\n",
              "      <td>2008-04-21</td>\n",
              "      <td>5</td>\n",
              "      <td>5</td>\n",
              "      <td>6</td>\n",
              "      <td>Jaipur</td>\n",
              "      <td>Kings XI Punjab</td>\n",
              "      <td>Rajasthan Royals</td>\n",
              "      <td>Kings XI Punjab</td>\n",
              "      <td>bat</td>\n",
              "      <td>normal</td>\n",
              "      <td>0</td>\n",
              "      <td>Rajasthan Royals</td>\n",
              "      <td>0</td>\n",
              "      <td>6</td>\n",
              "      <td>SR Watson</td>\n",
              "      <td>Sawai Mansingh Stadium</td>\n",
              "      <td>Aleem Dar</td>\n",
              "      <td>RB Tiffin</td>\n",
              "      <td>NaN</td>\n",
              "    </tr>\n",
              "    <tr>\n",
              "      <th>2008</th>\n",
              "      <td>2008-04-22</td>\n",
              "      <td>6</td>\n",
              "      <td>6</td>\n",
              "      <td>7</td>\n",
              "      <td>Hyderabad</td>\n",
              "      <td>Deccan Chargers</td>\n",
              "      <td>Delhi Daredevils</td>\n",
              "      <td>Deccan Chargers</td>\n",
              "      <td>bat</td>\n",
              "      <td>normal</td>\n",
              "      <td>0</td>\n",
              "      <td>Delhi Daredevils</td>\n",
              "      <td>0</td>\n",
              "      <td>9</td>\n",
              "      <td>V Sehwag</td>\n",
              "      <td>Rajiv Gandhi International Stadium, Uppal</td>\n",
              "      <td>IL Howell</td>\n",
              "      <td>AM Saheba</td>\n",
              "      <td>NaN</td>\n",
              "    </tr>\n",
              "    <tr>\n",
              "      <th>2008</th>\n",
              "      <td>2008-04-23</td>\n",
              "      <td>7</td>\n",
              "      <td>7</td>\n",
              "      <td>8</td>\n",
              "      <td>Chennai</td>\n",
              "      <td>Chennai Super Kings</td>\n",
              "      <td>Mumbai Indians</td>\n",
              "      <td>Mumbai Indians</td>\n",
              "      <td>field</td>\n",
              "      <td>normal</td>\n",
              "      <td>0</td>\n",
              "      <td>Chennai Super Kings</td>\n",
              "      <td>6</td>\n",
              "      <td>0</td>\n",
              "      <td>ML Hayden</td>\n",
              "      <td>MA Chidambaram Stadium, Chepauk</td>\n",
              "      <td>DJ Harper</td>\n",
              "      <td>GA Pratapkumar</td>\n",
              "      <td>NaN</td>\n",
              "    </tr>\n",
              "    <tr>\n",
              "      <th>2008</th>\n",
              "      <td>2008-04-24</td>\n",
              "      <td>8</td>\n",
              "      <td>8</td>\n",
              "      <td>9</td>\n",
              "      <td>Hyderabad</td>\n",
              "      <td>Deccan Chargers</td>\n",
              "      <td>Rajasthan Royals</td>\n",
              "      <td>Rajasthan Royals</td>\n",
              "      <td>field</td>\n",
              "      <td>normal</td>\n",
              "      <td>0</td>\n",
              "      <td>Rajasthan Royals</td>\n",
              "      <td>0</td>\n",
              "      <td>3</td>\n",
              "      <td>YK Pathan</td>\n",
              "      <td>Rajiv Gandhi International Stadium, Uppal</td>\n",
              "      <td>Asad Rauf</td>\n",
              "      <td>MR Benson</td>\n",
              "      <td>NaN</td>\n",
              "    </tr>\n",
              "    <tr>\n",
              "      <th>2008</th>\n",
              "      <td>2008-04-25</td>\n",
              "      <td>9</td>\n",
              "      <td>9</td>\n",
              "      <td>10</td>\n",
              "      <td>Chandigarh</td>\n",
              "      <td>Kings XI Punjab</td>\n",
              "      <td>Mumbai Indians</td>\n",
              "      <td>Mumbai Indians</td>\n",
              "      <td>field</td>\n",
              "      <td>normal</td>\n",
              "      <td>0</td>\n",
              "      <td>Kings XI Punjab</td>\n",
              "      <td>66</td>\n",
              "      <td>0</td>\n",
              "      <td>KC Sangakkara</td>\n",
              "      <td>Punjab Cricket Association Stadium, Mohali</td>\n",
              "      <td>Aleem Dar</td>\n",
              "      <td>AM Saheba</td>\n",
              "      <td>NaN</td>\n",
              "    </tr>\n",
              "    <tr>\n",
              "      <th>2008</th>\n",
              "      <td>2008-04-26</td>\n",
              "      <td>10</td>\n",
              "      <td>10</td>\n",
              "      <td>11</td>\n",
              "      <td>Bangalore</td>\n",
              "      <td>Royal Challengers Bangalore</td>\n",
              "      <td>Rajasthan Royals</td>\n",
              "      <td>Rajasthan Royals</td>\n",
              "      <td>field</td>\n",
              "      <td>normal</td>\n",
              "      <td>0</td>\n",
              "      <td>Rajasthan Royals</td>\n",
              "      <td>0</td>\n",
              "      <td>7</td>\n",
              "      <td>SR Watson</td>\n",
              "      <td>M Chinnaswamy Stadium</td>\n",
              "      <td>MR Benson</td>\n",
              "      <td>IL Howell</td>\n",
              "      <td>NaN</td>\n",
              "    </tr>\n",
              "    <tr>\n",
              "      <th>2008</th>\n",
              "      <td>2008-04-26</td>\n",
              "      <td>11</td>\n",
              "      <td>11</td>\n",
              "      <td>12</td>\n",
              "      <td>Chennai</td>\n",
              "      <td>Kolkata Knight Riders</td>\n",
              "      <td>Chennai Super Kings</td>\n",
              "      <td>Kolkata Knight Riders</td>\n",
              "      <td>bat</td>\n",
              "      <td>normal</td>\n",
              "      <td>0</td>\n",
              "      <td>Chennai Super Kings</td>\n",
              "      <td>0</td>\n",
              "      <td>9</td>\n",
              "      <td>JDP Oram</td>\n",
              "      <td>MA Chidambaram Stadium, Chepauk</td>\n",
              "      <td>BF Bowden</td>\n",
              "      <td>AV Jayaprakash</td>\n",
              "      <td>NaN</td>\n",
              "    </tr>\n",
              "    <tr>\n",
              "      <th>2008</th>\n",
              "      <td>2008-04-27</td>\n",
              "      <td>12</td>\n",
              "      <td>12</td>\n",
              "      <td>13</td>\n",
              "      <td>Mumbai</td>\n",
              "      <td>Mumbai Indians</td>\n",
              "      <td>Deccan Chargers</td>\n",
              "      <td>Deccan Chargers</td>\n",
              "      <td>field</td>\n",
              "      <td>normal</td>\n",
              "      <td>0</td>\n",
              "      <td>Deccan Chargers</td>\n",
              "      <td>0</td>\n",
              "      <td>10</td>\n",
              "      <td>AC Gilchrist</td>\n",
              "      <td>Dr DY Patil Sports Academy</td>\n",
              "      <td>Asad Rauf</td>\n",
              "      <td>SL Shastri</td>\n",
              "      <td>NaN</td>\n",
              "    </tr>\n",
              "    <tr>\n",
              "      <th>2008</th>\n",
              "      <td>2008-04-27</td>\n",
              "      <td>13</td>\n",
              "      <td>13</td>\n",
              "      <td>14</td>\n",
              "      <td>Chandigarh</td>\n",
              "      <td>Delhi Daredevils</td>\n",
              "      <td>Kings XI Punjab</td>\n",
              "      <td>Delhi Daredevils</td>\n",
              "      <td>bat</td>\n",
              "      <td>normal</td>\n",
              "      <td>0</td>\n",
              "      <td>Kings XI Punjab</td>\n",
              "      <td>0</td>\n",
              "      <td>4</td>\n",
              "      <td>SM Katich</td>\n",
              "      <td>Punjab Cricket Association Stadium, Mohali</td>\n",
              "      <td>RE Koertzen</td>\n",
              "      <td>I Shivram</td>\n",
              "      <td>NaN</td>\n",
              "    </tr>\n",
              "    <tr>\n",
              "      <th>2008</th>\n",
              "      <td>2008-04-28</td>\n",
              "      <td>14</td>\n",
              "      <td>14</td>\n",
              "      <td>15</td>\n",
              "      <td>Bangalore</td>\n",
              "      <td>Chennai Super Kings</td>\n",
              "      <td>Royal Challengers Bangalore</td>\n",
              "      <td>Chennai Super Kings</td>\n",
              "      <td>bat</td>\n",
              "      <td>normal</td>\n",
              "      <td>0</td>\n",
              "      <td>Chennai Super Kings</td>\n",
              "      <td>13</td>\n",
              "      <td>0</td>\n",
              "      <td>MS Dhoni</td>\n",
              "      <td>M Chinnaswamy Stadium</td>\n",
              "      <td>BR Doctrove</td>\n",
              "      <td>RB Tiffin</td>\n",
              "      <td>NaN</td>\n",
              "    </tr>\n",
              "    <tr>\n",
              "      <th>2008</th>\n",
              "      <td>2008-04-29</td>\n",
              "      <td>15</td>\n",
              "      <td>15</td>\n",
              "      <td>16</td>\n",
              "      <td>Kolkata</td>\n",
              "      <td>Kolkata Knight Riders</td>\n",
              "      <td>Mumbai Indians</td>\n",
              "      <td>Kolkata Knight Riders</td>\n",
              "      <td>bat</td>\n",
              "      <td>normal</td>\n",
              "      <td>0</td>\n",
              "      <td>Mumbai Indians</td>\n",
              "      <td>0</td>\n",
              "      <td>7</td>\n",
              "      <td>ST Jayasuriya</td>\n",
              "      <td>Eden Gardens</td>\n",
              "      <td>BF Bowden</td>\n",
              "      <td>AV Jayaprakash</td>\n",
              "      <td>NaN</td>\n",
              "    </tr>\n",
              "    <tr>\n",
              "      <th>2008</th>\n",
              "      <td>2008-04-30</td>\n",
              "      <td>16</td>\n",
              "      <td>16</td>\n",
              "      <td>17</td>\n",
              "      <td>Delhi</td>\n",
              "      <td>Delhi Daredevils</td>\n",
              "      <td>Royal Challengers Bangalore</td>\n",
              "      <td>Royal Challengers Bangalore</td>\n",
              "      <td>field</td>\n",
              "      <td>normal</td>\n",
              "      <td>0</td>\n",
              "      <td>Delhi Daredevils</td>\n",
              "      <td>10</td>\n",
              "      <td>0</td>\n",
              "      <td>GD McGrath</td>\n",
              "      <td>Feroz Shah Kotla</td>\n",
              "      <td>Aleem Dar</td>\n",
              "      <td>I Shivram</td>\n",
              "      <td>NaN</td>\n",
              "    </tr>\n",
              "    <tr>\n",
              "      <th>2008</th>\n",
              "      <td>2008-05-01</td>\n",
              "      <td>17</td>\n",
              "      <td>17</td>\n",
              "      <td>18</td>\n",
              "      <td>Hyderabad</td>\n",
              "      <td>Deccan Chargers</td>\n",
              "      <td>Kings XI Punjab</td>\n",
              "      <td>Kings XI Punjab</td>\n",
              "      <td>field</td>\n",
              "      <td>normal</td>\n",
              "      <td>0</td>\n",
              "      <td>Kings XI Punjab</td>\n",
              "      <td>0</td>\n",
              "      <td>7</td>\n",
              "      <td>SE Marsh</td>\n",
              "      <td>Rajiv Gandhi International Stadium, Uppal</td>\n",
              "      <td>BR Doctrove</td>\n",
              "      <td>RB Tiffin</td>\n",
              "      <td>NaN</td>\n",
              "    </tr>\n",
              "    <tr>\n",
              "      <th>2008</th>\n",
              "      <td>2008-05-01</td>\n",
              "      <td>18</td>\n",
              "      <td>18</td>\n",
              "      <td>19</td>\n",
              "      <td>Jaipur</td>\n",
              "      <td>Rajasthan Royals</td>\n",
              "      <td>Kolkata Knight Riders</td>\n",
              "      <td>Rajasthan Royals</td>\n",
              "      <td>bat</td>\n",
              "      <td>normal</td>\n",
              "      <td>0</td>\n",
              "      <td>Rajasthan Royals</td>\n",
              "      <td>45</td>\n",
              "      <td>0</td>\n",
              "      <td>SA Asnodkar</td>\n",
              "      <td>Sawai Mansingh Stadium</td>\n",
              "      <td>RE Koertzen</td>\n",
              "      <td>GA Pratapkumar</td>\n",
              "      <td>NaN</td>\n",
              "    </tr>\n",
              "    <tr>\n",
              "      <th>2008</th>\n",
              "      <td>2008-05-02</td>\n",
              "      <td>19</td>\n",
              "      <td>19</td>\n",
              "      <td>20</td>\n",
              "      <td>Chennai</td>\n",
              "      <td>Chennai Super Kings</td>\n",
              "      <td>Delhi Daredevils</td>\n",
              "      <td>Chennai Super Kings</td>\n",
              "      <td>bat</td>\n",
              "      <td>normal</td>\n",
              "      <td>0</td>\n",
              "      <td>Delhi Daredevils</td>\n",
              "      <td>0</td>\n",
              "      <td>8</td>\n",
              "      <td>V Sehwag</td>\n",
              "      <td>MA Chidambaram Stadium, Chepauk</td>\n",
              "      <td>BF Bowden</td>\n",
              "      <td>K Hariharan</td>\n",
              "      <td>NaN</td>\n",
              "    </tr>\n",
              "    <tr>\n",
              "      <th>2008</th>\n",
              "      <td>2008-05-25</td>\n",
              "      <td>20</td>\n",
              "      <td>20</td>\n",
              "      <td>21</td>\n",
              "      <td>Hyderabad</td>\n",
              "      <td>Deccan Chargers</td>\n",
              "      <td>Royal Challengers Bangalore</td>\n",
              "      <td>Deccan Chargers</td>\n",
              "      <td>bat</td>\n",
              "      <td>normal</td>\n",
              "      <td>0</td>\n",
              "      <td>Royal Challengers Bangalore</td>\n",
              "      <td>0</td>\n",
              "      <td>5</td>\n",
              "      <td>R Vinay Kumar</td>\n",
              "      <td>Rajiv Gandhi International Stadium, Uppal</td>\n",
              "      <td>Asad Rauf</td>\n",
              "      <td>RE Koertzen</td>\n",
              "      <td>NaN</td>\n",
              "    </tr>\n",
              "    <tr>\n",
              "      <th>2008</th>\n",
              "      <td>2008-05-03</td>\n",
              "      <td>21</td>\n",
              "      <td>21</td>\n",
              "      <td>22</td>\n",
              "      <td>Chandigarh</td>\n",
              "      <td>Kings XI Punjab</td>\n",
              "      <td>Kolkata Knight Riders</td>\n",
              "      <td>Kings XI Punjab</td>\n",
              "      <td>bat</td>\n",
              "      <td>normal</td>\n",
              "      <td>0</td>\n",
              "      <td>Kings XI Punjab</td>\n",
              "      <td>9</td>\n",
              "      <td>0</td>\n",
              "      <td>IK Pathan</td>\n",
              "      <td>Punjab Cricket Association Stadium, Mohali</td>\n",
              "      <td>DJ Harper</td>\n",
              "      <td>I Shivram</td>\n",
              "      <td>NaN</td>\n",
              "    </tr>\n",
              "    <tr>\n",
              "      <th>2008</th>\n",
              "      <td>2008-05-04</td>\n",
              "      <td>22</td>\n",
              "      <td>22</td>\n",
              "      <td>23</td>\n",
              "      <td>Mumbai</td>\n",
              "      <td>Mumbai Indians</td>\n",
              "      <td>Delhi Daredevils</td>\n",
              "      <td>Delhi Daredevils</td>\n",
              "      <td>field</td>\n",
              "      <td>normal</td>\n",
              "      <td>0</td>\n",
              "      <td>Mumbai Indians</td>\n",
              "      <td>29</td>\n",
              "      <td>0</td>\n",
              "      <td>SM Pollock</td>\n",
              "      <td>Dr DY Patil Sports Academy</td>\n",
              "      <td>IL Howell</td>\n",
              "      <td>RE Koertzen</td>\n",
              "      <td>NaN</td>\n",
              "    </tr>\n",
              "    <tr>\n",
              "      <th>2008</th>\n",
              "      <td>2008-05-04</td>\n",
              "      <td>23</td>\n",
              "      <td>23</td>\n",
              "      <td>24</td>\n",
              "      <td>Jaipur</td>\n",
              "      <td>Chennai Super Kings</td>\n",
              "      <td>Rajasthan Royals</td>\n",
              "      <td>Chennai Super Kings</td>\n",
              "      <td>bat</td>\n",
              "      <td>normal</td>\n",
              "      <td>0</td>\n",
              "      <td>Rajasthan Royals</td>\n",
              "      <td>0</td>\n",
              "      <td>8</td>\n",
              "      <td>Sohail Tanvir</td>\n",
              "      <td>Sawai Mansingh Stadium</td>\n",
              "      <td>Asad Rauf</td>\n",
              "      <td>AV Jayaprakash</td>\n",
              "      <td>NaN</td>\n",
              "    </tr>\n",
              "    <tr>\n",
              "      <th>2008</th>\n",
              "      <td>2008-05-05</td>\n",
              "      <td>24</td>\n",
              "      <td>24</td>\n",
              "      <td>25</td>\n",
              "      <td>Bangalore</td>\n",
              "      <td>Royal Challengers Bangalore</td>\n",
              "      <td>Kings XI Punjab</td>\n",
              "      <td>Kings XI Punjab</td>\n",
              "      <td>field</td>\n",
              "      <td>normal</td>\n",
              "      <td>0</td>\n",
              "      <td>Kings XI Punjab</td>\n",
              "      <td>0</td>\n",
              "      <td>6</td>\n",
              "      <td>S Sreesanth</td>\n",
              "      <td>M Chinnaswamy Stadium</td>\n",
              "      <td>SJ Davis</td>\n",
              "      <td>BR Doctrove</td>\n",
              "      <td>NaN</td>\n",
              "    </tr>\n",
              "    <tr>\n",
              "      <th>2008</th>\n",
              "      <td>2008-05-06</td>\n",
              "      <td>25</td>\n",
              "      <td>25</td>\n",
              "      <td>26</td>\n",
              "      <td>Chennai</td>\n",
              "      <td>Chennai Super Kings</td>\n",
              "      <td>Deccan Chargers</td>\n",
              "      <td>Deccan Chargers</td>\n",
              "      <td>field</td>\n",
              "      <td>normal</td>\n",
              "      <td>0</td>\n",
              "      <td>Deccan Chargers</td>\n",
              "      <td>0</td>\n",
              "      <td>7</td>\n",
              "      <td>AC Gilchrist</td>\n",
              "      <td>MA Chidambaram Stadium, Chepauk</td>\n",
              "      <td>MR Benson</td>\n",
              "      <td>RB Tiffin</td>\n",
              "      <td>NaN</td>\n",
              "    </tr>\n",
              "    <tr>\n",
              "      <th>2008</th>\n",
              "      <td>2008-05-07</td>\n",
              "      <td>26</td>\n",
              "      <td>26</td>\n",
              "      <td>27</td>\n",
              "      <td>Mumbai</td>\n",
              "      <td>Rajasthan Royals</td>\n",
              "      <td>Mumbai Indians</td>\n",
              "      <td>Mumbai Indians</td>\n",
              "      <td>field</td>\n",
              "      <td>normal</td>\n",
              "      <td>0</td>\n",
              "      <td>Mumbai Indians</td>\n",
              "      <td>0</td>\n",
              "      <td>7</td>\n",
              "      <td>A Nehra</td>\n",
              "      <td>Dr DY Patil Sports Academy</td>\n",
              "      <td>DJ Harper</td>\n",
              "      <td>RE Koertzen</td>\n",
              "      <td>NaN</td>\n",
              "    </tr>\n",
              "    <tr>\n",
              "      <th>2008</th>\n",
              "      <td>2008-05-08</td>\n",
              "      <td>27</td>\n",
              "      <td>27</td>\n",
              "      <td>28</td>\n",
              "      <td>Delhi</td>\n",
              "      <td>Delhi Daredevils</td>\n",
              "      <td>Chennai Super Kings</td>\n",
              "      <td>Chennai Super Kings</td>\n",
              "      <td>field</td>\n",
              "      <td>normal</td>\n",
              "      <td>0</td>\n",
              "      <td>Chennai Super Kings</td>\n",
              "      <td>0</td>\n",
              "      <td>4</td>\n",
              "      <td>MS Dhoni</td>\n",
              "      <td>Feroz Shah Kotla</td>\n",
              "      <td>Aleem Dar</td>\n",
              "      <td>RB Tiffin</td>\n",
              "      <td>NaN</td>\n",
              "    </tr>\n",
              "    <tr>\n",
              "      <th>2008</th>\n",
              "      <td>2008-05-08</td>\n",
              "      <td>28</td>\n",
              "      <td>28</td>\n",
              "      <td>29</td>\n",
              "      <td>Kolkata</td>\n",
              "      <td>Kolkata Knight Riders</td>\n",
              "      <td>Royal Challengers Bangalore</td>\n",
              "      <td>Kolkata Knight Riders</td>\n",
              "      <td>bat</td>\n",
              "      <td>normal</td>\n",
              "      <td>0</td>\n",
              "      <td>Kolkata Knight Riders</td>\n",
              "      <td>5</td>\n",
              "      <td>0</td>\n",
              "      <td>SC Ganguly</td>\n",
              "      <td>Eden Gardens</td>\n",
              "      <td>Asad Rauf</td>\n",
              "      <td>IL Howell</td>\n",
              "      <td>NaN</td>\n",
              "    </tr>\n",
              "    <tr>\n",
              "      <th>2008</th>\n",
              "      <td>2008-05-09</td>\n",
              "      <td>29</td>\n",
              "      <td>29</td>\n",
              "      <td>30</td>\n",
              "      <td>Jaipur</td>\n",
              "      <td>Deccan Chargers</td>\n",
              "      <td>Rajasthan Royals</td>\n",
              "      <td>Rajasthan Royals</td>\n",
              "      <td>field</td>\n",
              "      <td>normal</td>\n",
              "      <td>0</td>\n",
              "      <td>Rajasthan Royals</td>\n",
              "      <td>0</td>\n",
              "      <td>8</td>\n",
              "      <td>YK Pathan</td>\n",
              "      <td>Sawai Mansingh Stadium</td>\n",
              "      <td>MR Benson</td>\n",
              "      <td>AM Saheba</td>\n",
              "      <td>NaN</td>\n",
              "    </tr>\n",
              "    <tr>\n",
              "      <th>2008</th>\n",
              "      <td>2008-05-28</td>\n",
              "      <td>30</td>\n",
              "      <td>30</td>\n",
              "      <td>31</td>\n",
              "      <td>Bangalore</td>\n",
              "      <td>Royal Challengers Bangalore</td>\n",
              "      <td>Mumbai Indians</td>\n",
              "      <td>Mumbai Indians</td>\n",
              "      <td>field</td>\n",
              "      <td>normal</td>\n",
              "      <td>0</td>\n",
              "      <td>Mumbai Indians</td>\n",
              "      <td>0</td>\n",
              "      <td>9</td>\n",
              "      <td>CRD Fernando</td>\n",
              "      <td>M Chinnaswamy Stadium</td>\n",
              "      <td>BF Bowden</td>\n",
              "      <td>AV Jayaprakash</td>\n",
              "      <td>NaN</td>\n",
              "    </tr>\n",
              "    <tr>\n",
              "      <th>2008</th>\n",
              "      <td>2008-05-10</td>\n",
              "      <td>31</td>\n",
              "      <td>31</td>\n",
              "      <td>32</td>\n",
              "      <td>Chennai</td>\n",
              "      <td>Chennai Super Kings</td>\n",
              "      <td>Kings XI Punjab</td>\n",
              "      <td>Kings XI Punjab</td>\n",
              "      <td>field</td>\n",
              "      <td>normal</td>\n",
              "      <td>0</td>\n",
              "      <td>Chennai Super Kings</td>\n",
              "      <td>18</td>\n",
              "      <td>0</td>\n",
              "      <td>L Balaji</td>\n",
              "      <td>MA Chidambaram Stadium, Chepauk</td>\n",
              "      <td>AV Jayaprakash</td>\n",
              "      <td>BG Jerling</td>\n",
              "      <td>NaN</td>\n",
              "    </tr>\n",
              "    <tr>\n",
              "      <th>2008</th>\n",
              "      <td>2008-05-11</td>\n",
              "      <td>32</td>\n",
              "      <td>32</td>\n",
              "      <td>33</td>\n",
              "      <td>Hyderabad</td>\n",
              "      <td>Kolkata Knight Riders</td>\n",
              "      <td>Deccan Chargers</td>\n",
              "      <td>Kolkata Knight Riders</td>\n",
              "      <td>bat</td>\n",
              "      <td>normal</td>\n",
              "      <td>0</td>\n",
              "      <td>Kolkata Knight Riders</td>\n",
              "      <td>23</td>\n",
              "      <td>0</td>\n",
              "      <td>SC Ganguly</td>\n",
              "      <td>Rajiv Gandhi International Stadium, Uppal</td>\n",
              "      <td>IL Howell</td>\n",
              "      <td>AM Saheba</td>\n",
              "      <td>NaN</td>\n",
              "    </tr>\n",
              "    <tr>\n",
              "      <th>2008</th>\n",
              "      <td>2008-05-11</td>\n",
              "      <td>33</td>\n",
              "      <td>33</td>\n",
              "      <td>34</td>\n",
              "      <td>Jaipur</td>\n",
              "      <td>Delhi Daredevils</td>\n",
              "      <td>Rajasthan Royals</td>\n",
              "      <td>Rajasthan Royals</td>\n",
              "      <td>field</td>\n",
              "      <td>normal</td>\n",
              "      <td>0</td>\n",
              "      <td>Rajasthan Royals</td>\n",
              "      <td>0</td>\n",
              "      <td>3</td>\n",
              "      <td>SR Watson</td>\n",
              "      <td>Sawai Mansingh Stadium</td>\n",
              "      <td>SJ Davis</td>\n",
              "      <td>RE Koertzen</td>\n",
              "      <td>NaN</td>\n",
              "    </tr>\n",
              "    <tr>\n",
              "      <th>2008</th>\n",
              "      <td>2008-05-12</td>\n",
              "      <td>34</td>\n",
              "      <td>34</td>\n",
              "      <td>35</td>\n",
              "      <td>Chandigarh</td>\n",
              "      <td>Royal Challengers Bangalore</td>\n",
              "      <td>Kings XI Punjab</td>\n",
              "      <td>Royal Challengers Bangalore</td>\n",
              "      <td>bat</td>\n",
              "      <td>normal</td>\n",
              "      <td>0</td>\n",
              "      <td>Kings XI Punjab</td>\n",
              "      <td>0</td>\n",
              "      <td>9</td>\n",
              "      <td>SE Marsh</td>\n",
              "      <td>Punjab Cricket Association Stadium, Mohali</td>\n",
              "      <td>BR Doctrove</td>\n",
              "      <td>I Shivram</td>\n",
              "      <td>NaN</td>\n",
              "    </tr>\n",
              "    <tr>\n",
              "      <th>2008</th>\n",
              "      <td>2008-05-13</td>\n",
              "      <td>35</td>\n",
              "      <td>35</td>\n",
              "      <td>36</td>\n",
              "      <td>Kolkata</td>\n",
              "      <td>Kolkata Knight Riders</td>\n",
              "      <td>Delhi Daredevils</td>\n",
              "      <td>Kolkata Knight Riders</td>\n",
              "      <td>bat</td>\n",
              "      <td>normal</td>\n",
              "      <td>0</td>\n",
              "      <td>Kolkata Knight Riders</td>\n",
              "      <td>23</td>\n",
              "      <td>0</td>\n",
              "      <td>Shoaib Akhtar</td>\n",
              "      <td>Eden Gardens</td>\n",
              "      <td>Asad Rauf</td>\n",
              "      <td>IL Howell</td>\n",
              "      <td>NaN</td>\n",
              "    </tr>\n",
              "    <tr>\n",
              "      <th>2008</th>\n",
              "      <td>2008-05-14</td>\n",
              "      <td>36</td>\n",
              "      <td>36</td>\n",
              "      <td>37</td>\n",
              "      <td>Mumbai</td>\n",
              "      <td>Chennai Super Kings</td>\n",
              "      <td>Mumbai Indians</td>\n",
              "      <td>Mumbai Indians</td>\n",
              "      <td>field</td>\n",
              "      <td>normal</td>\n",
              "      <td>0</td>\n",
              "      <td>Mumbai Indians</td>\n",
              "      <td>0</td>\n",
              "      <td>9</td>\n",
              "      <td>ST Jayasuriya</td>\n",
              "      <td>Wankhede Stadium</td>\n",
              "      <td>BR Doctrove</td>\n",
              "      <td>AM Saheba</td>\n",
              "      <td>NaN</td>\n",
              "    </tr>\n",
              "    <tr>\n",
              "      <th>2008</th>\n",
              "      <td>2008-05-28</td>\n",
              "      <td>37</td>\n",
              "      <td>37</td>\n",
              "      <td>38</td>\n",
              "      <td>Chandigarh</td>\n",
              "      <td>Kings XI Punjab</td>\n",
              "      <td>Rajasthan Royals</td>\n",
              "      <td>Rajasthan Royals</td>\n",
              "      <td>field</td>\n",
              "      <td>normal</td>\n",
              "      <td>0</td>\n",
              "      <td>Kings XI Punjab</td>\n",
              "      <td>41</td>\n",
              "      <td>0</td>\n",
              "      <td>SE Marsh</td>\n",
              "      <td>Punjab Cricket Association Stadium, Mohali</td>\n",
              "      <td>SJ Davis</td>\n",
              "      <td>K Hariharan</td>\n",
              "      <td>NaN</td>\n",
              "    </tr>\n",
              "    <tr>\n",
              "      <th>2008</th>\n",
              "      <td>2008-05-15</td>\n",
              "      <td>38</td>\n",
              "      <td>38</td>\n",
              "      <td>39</td>\n",
              "      <td>Delhi</td>\n",
              "      <td>Delhi Daredevils</td>\n",
              "      <td>Deccan Chargers</td>\n",
              "      <td>Deccan Chargers</td>\n",
              "      <td>field</td>\n",
              "      <td>normal</td>\n",
              "      <td>0</td>\n",
              "      <td>Delhi Daredevils</td>\n",
              "      <td>12</td>\n",
              "      <td>0</td>\n",
              "      <td>A Mishra</td>\n",
              "      <td>Feroz Shah Kotla</td>\n",
              "      <td>BG Jerling</td>\n",
              "      <td>GA Pratapkumar</td>\n",
              "      <td>NaN</td>\n",
              "    </tr>\n",
              "    <tr>\n",
              "      <th>2008</th>\n",
              "      <td>2008-05-16</td>\n",
              "      <td>39</td>\n",
              "      <td>39</td>\n",
              "      <td>40</td>\n",
              "      <td>Mumbai</td>\n",
              "      <td>Kolkata Knight Riders</td>\n",
              "      <td>Mumbai Indians</td>\n",
              "      <td>Mumbai Indians</td>\n",
              "      <td>field</td>\n",
              "      <td>normal</td>\n",
              "      <td>0</td>\n",
              "      <td>Mumbai Indians</td>\n",
              "      <td>0</td>\n",
              "      <td>8</td>\n",
              "      <td>SM Pollock</td>\n",
              "      <td>Wankhede Stadium</td>\n",
              "      <td>BR Doctrove</td>\n",
              "      <td>DJ Harper</td>\n",
              "      <td>NaN</td>\n",
              "    </tr>\n",
              "    <tr>\n",
              "      <th>2008</th>\n",
              "      <td>2008-05-17</td>\n",
              "      <td>40</td>\n",
              "      <td>40</td>\n",
              "      <td>41</td>\n",
              "      <td>Delhi</td>\n",
              "      <td>Delhi Daredevils</td>\n",
              "      <td>Kings XI Punjab</td>\n",
              "      <td>Delhi Daredevils</td>\n",
              "      <td>bat</td>\n",
              "      <td>normal</td>\n",
              "      <td>1</td>\n",
              "      <td>Kings XI Punjab</td>\n",
              "      <td>6</td>\n",
              "      <td>0</td>\n",
              "      <td>DPMD Jayawardene</td>\n",
              "      <td>Feroz Shah Kotla</td>\n",
              "      <td>AV Jayaprakash</td>\n",
              "      <td>RE Koertzen</td>\n",
              "      <td>NaN</td>\n",
              "    </tr>\n",
              "    <tr>\n",
              "      <th>2008</th>\n",
              "      <td>2008-05-17</td>\n",
              "      <td>41</td>\n",
              "      <td>41</td>\n",
              "      <td>42</td>\n",
              "      <td>Jaipur</td>\n",
              "      <td>Rajasthan Royals</td>\n",
              "      <td>Royal Challengers Bangalore</td>\n",
              "      <td>Royal Challengers Bangalore</td>\n",
              "      <td>field</td>\n",
              "      <td>normal</td>\n",
              "      <td>0</td>\n",
              "      <td>Rajasthan Royals</td>\n",
              "      <td>65</td>\n",
              "      <td>0</td>\n",
              "      <td>GC Smith</td>\n",
              "      <td>Sawai Mansingh Stadium</td>\n",
              "      <td>BF Bowden</td>\n",
              "      <td>SL Shastri</td>\n",
              "      <td>NaN</td>\n",
              "    </tr>\n",
              "    <tr>\n",
              "      <th>2008</th>\n",
              "      <td>2008-05-18</td>\n",
              "      <td>42</td>\n",
              "      <td>42</td>\n",
              "      <td>43</td>\n",
              "      <td>Hyderabad</td>\n",
              "      <td>Mumbai Indians</td>\n",
              "      <td>Deccan Chargers</td>\n",
              "      <td>Deccan Chargers</td>\n",
              "      <td>field</td>\n",
              "      <td>normal</td>\n",
              "      <td>0</td>\n",
              "      <td>Mumbai Indians</td>\n",
              "      <td>25</td>\n",
              "      <td>0</td>\n",
              "      <td>DJ Bravo</td>\n",
              "      <td>Rajiv Gandhi International Stadium, Uppal</td>\n",
              "      <td>BR Doctrove</td>\n",
              "      <td>DJ Harper</td>\n",
              "      <td>NaN</td>\n",
              "    </tr>\n",
              "    <tr>\n",
              "      <th>2008</th>\n",
              "      <td>2008-05-18</td>\n",
              "      <td>43</td>\n",
              "      <td>43</td>\n",
              "      <td>44</td>\n",
              "      <td>Kolkata</td>\n",
              "      <td>Kolkata Knight Riders</td>\n",
              "      <td>Chennai Super Kings</td>\n",
              "      <td>Kolkata Knight Riders</td>\n",
              "      <td>bat</td>\n",
              "      <td>normal</td>\n",
              "      <td>1</td>\n",
              "      <td>Chennai Super Kings</td>\n",
              "      <td>3</td>\n",
              "      <td>0</td>\n",
              "      <td>M Ntini</td>\n",
              "      <td>Eden Gardens</td>\n",
              "      <td>Asad Rauf</td>\n",
              "      <td>K Hariharan</td>\n",
              "      <td>NaN</td>\n",
              "    </tr>\n",
              "    <tr>\n",
              "      <th>2008</th>\n",
              "      <td>2008-05-19</td>\n",
              "      <td>44</td>\n",
              "      <td>44</td>\n",
              "      <td>45</td>\n",
              "      <td>Bangalore</td>\n",
              "      <td>Royal Challengers Bangalore</td>\n",
              "      <td>Delhi Daredevils</td>\n",
              "      <td>Delhi Daredevils</td>\n",
              "      <td>field</td>\n",
              "      <td>normal</td>\n",
              "      <td>0</td>\n",
              "      <td>Delhi Daredevils</td>\n",
              "      <td>0</td>\n",
              "      <td>5</td>\n",
              "      <td>SP Goswami</td>\n",
              "      <td>M Chinnaswamy Stadium</td>\n",
              "      <td>SJ Davis</td>\n",
              "      <td>GA Pratapkumar</td>\n",
              "      <td>NaN</td>\n",
              "    </tr>\n",
              "    <tr>\n",
              "      <th>2008</th>\n",
              "      <td>2008-05-20</td>\n",
              "      <td>45</td>\n",
              "      <td>45</td>\n",
              "      <td>46</td>\n",
              "      <td>Kolkata</td>\n",
              "      <td>Kolkata Knight Riders</td>\n",
              "      <td>Rajasthan Royals</td>\n",
              "      <td>Rajasthan Royals</td>\n",
              "      <td>field</td>\n",
              "      <td>normal</td>\n",
              "      <td>0</td>\n",
              "      <td>Rajasthan Royals</td>\n",
              "      <td>0</td>\n",
              "      <td>6</td>\n",
              "      <td>YK Pathan</td>\n",
              "      <td>Eden Gardens</td>\n",
              "      <td>BG Jerling</td>\n",
              "      <td>RE Koertzen</td>\n",
              "      <td>NaN</td>\n",
              "    </tr>\n",
              "    <tr>\n",
              "      <th>2008</th>\n",
              "      <td>2008-05-21</td>\n",
              "      <td>46</td>\n",
              "      <td>46</td>\n",
              "      <td>47</td>\n",
              "      <td>Mumbai</td>\n",
              "      <td>Kings XI Punjab</td>\n",
              "      <td>Mumbai Indians</td>\n",
              "      <td>Mumbai Indians</td>\n",
              "      <td>field</td>\n",
              "      <td>normal</td>\n",
              "      <td>0</td>\n",
              "      <td>Kings XI Punjab</td>\n",
              "      <td>1</td>\n",
              "      <td>0</td>\n",
              "      <td>SE Marsh</td>\n",
              "      <td>Wankhede Stadium</td>\n",
              "      <td>BF Bowden</td>\n",
              "      <td>GA Pratapkumar</td>\n",
              "      <td>NaN</td>\n",
              "    </tr>\n",
              "    <tr>\n",
              "      <th>2008</th>\n",
              "      <td>2008-05-21</td>\n",
              "      <td>47</td>\n",
              "      <td>47</td>\n",
              "      <td>48</td>\n",
              "      <td>Chennai</td>\n",
              "      <td>Royal Challengers Bangalore</td>\n",
              "      <td>Chennai Super Kings</td>\n",
              "      <td>Royal Challengers Bangalore</td>\n",
              "      <td>bat</td>\n",
              "      <td>normal</td>\n",
              "      <td>0</td>\n",
              "      <td>Royal Challengers Bangalore</td>\n",
              "      <td>14</td>\n",
              "      <td>0</td>\n",
              "      <td>A Kumble</td>\n",
              "      <td>MA Chidambaram Stadium, Chepauk</td>\n",
              "      <td>DJ Harper</td>\n",
              "      <td>I Shivram</td>\n",
              "      <td>NaN</td>\n",
              "    </tr>\n",
              "    <tr>\n",
              "      <th>2008</th>\n",
              "      <td>2008-05-23</td>\n",
              "      <td>48</td>\n",
              "      <td>48</td>\n",
              "      <td>49</td>\n",
              "      <td>Chandigarh</td>\n",
              "      <td>Deccan Chargers</td>\n",
              "      <td>Kings XI Punjab</td>\n",
              "      <td>Kings XI Punjab</td>\n",
              "      <td>field</td>\n",
              "      <td>normal</td>\n",
              "      <td>0</td>\n",
              "      <td>Kings XI Punjab</td>\n",
              "      <td>0</td>\n",
              "      <td>6</td>\n",
              "      <td>SE Marsh</td>\n",
              "      <td>Punjab Cricket Association Stadium, Mohali</td>\n",
              "      <td>Asad Rauf</td>\n",
              "      <td>SJ Davis</td>\n",
              "      <td>NaN</td>\n",
              "    </tr>\n",
              "    <tr>\n",
              "      <th>2008</th>\n",
              "      <td>2008-05-24</td>\n",
              "      <td>49</td>\n",
              "      <td>49</td>\n",
              "      <td>50</td>\n",
              "      <td>Delhi</td>\n",
              "      <td>Mumbai Indians</td>\n",
              "      <td>Delhi Daredevils</td>\n",
              "      <td>Delhi Daredevils</td>\n",
              "      <td>field</td>\n",
              "      <td>normal</td>\n",
              "      <td>0</td>\n",
              "      <td>Delhi Daredevils</td>\n",
              "      <td>0</td>\n",
              "      <td>5</td>\n",
              "      <td>KD Karthik</td>\n",
              "      <td>Feroz Shah Kotla</td>\n",
              "      <td>BF Bowden</td>\n",
              "      <td>K Hariharan</td>\n",
              "      <td>NaN</td>\n",
              "    </tr>\n",
              "    <tr>\n",
              "      <th>2008</th>\n",
              "      <td>2008-05-24</td>\n",
              "      <td>50</td>\n",
              "      <td>50</td>\n",
              "      <td>51</td>\n",
              "      <td>Chennai</td>\n",
              "      <td>Rajasthan Royals</td>\n",
              "      <td>Chennai Super Kings</td>\n",
              "      <td>Rajasthan Royals</td>\n",
              "      <td>bat</td>\n",
              "      <td>normal</td>\n",
              "      <td>0</td>\n",
              "      <td>Rajasthan Royals</td>\n",
              "      <td>10</td>\n",
              "      <td>0</td>\n",
              "      <td>JA Morkel</td>\n",
              "      <td>MA Chidambaram Stadium, Chepauk</td>\n",
              "      <td>DJ Harper</td>\n",
              "      <td>SL Shastri</td>\n",
              "      <td>NaN</td>\n",
              "    </tr>\n",
              "    <tr>\n",
              "      <th>2008</th>\n",
              "      <td>2008-05-03</td>\n",
              "      <td>51</td>\n",
              "      <td>51</td>\n",
              "      <td>52</td>\n",
              "      <td>Bangalore</td>\n",
              "      <td>Royal Challengers Bangalore</td>\n",
              "      <td>Deccan Chargers</td>\n",
              "      <td>Deccan Chargers</td>\n",
              "      <td>field</td>\n",
              "      <td>normal</td>\n",
              "      <td>0</td>\n",
              "      <td>Royal Challengers Bangalore</td>\n",
              "      <td>3</td>\n",
              "      <td>0</td>\n",
              "      <td>P Kumar</td>\n",
              "      <td>M Chinnaswamy Stadium</td>\n",
              "      <td>BR Doctrove</td>\n",
              "      <td>SL Shastri</td>\n",
              "      <td>NaN</td>\n",
              "    </tr>\n",
              "    <tr>\n",
              "      <th>2008</th>\n",
              "      <td>2008-05-25</td>\n",
              "      <td>52</td>\n",
              "      <td>52</td>\n",
              "      <td>53</td>\n",
              "      <td>Kolkata</td>\n",
              "      <td>Kings XI Punjab</td>\n",
              "      <td>Kolkata Knight Riders</td>\n",
              "      <td>Kings XI Punjab</td>\n",
              "      <td>bat</td>\n",
              "      <td>normal</td>\n",
              "      <td>0</td>\n",
              "      <td>Kolkata Knight Riders</td>\n",
              "      <td>0</td>\n",
              "      <td>3</td>\n",
              "      <td>Umar Gul</td>\n",
              "      <td>Eden Gardens</td>\n",
              "      <td>SJ Davis</td>\n",
              "      <td>I Shivram</td>\n",
              "      <td>NaN</td>\n",
              "    </tr>\n",
              "    <tr>\n",
              "      <th>2008</th>\n",
              "      <td>2008-05-26</td>\n",
              "      <td>53</td>\n",
              "      <td>53</td>\n",
              "      <td>54</td>\n",
              "      <td>Jaipur</td>\n",
              "      <td>Mumbai Indians</td>\n",
              "      <td>Rajasthan Royals</td>\n",
              "      <td>Rajasthan Royals</td>\n",
              "      <td>field</td>\n",
              "      <td>normal</td>\n",
              "      <td>0</td>\n",
              "      <td>Rajasthan Royals</td>\n",
              "      <td>0</td>\n",
              "      <td>5</td>\n",
              "      <td>Sohail Tanvir</td>\n",
              "      <td>Sawai Mansingh Stadium</td>\n",
              "      <td>BF Bowden</td>\n",
              "      <td>K Hariharan</td>\n",
              "      <td>NaN</td>\n",
              "    </tr>\n",
              "    <tr>\n",
              "      <th>2008</th>\n",
              "      <td>2008-05-27</td>\n",
              "      <td>54</td>\n",
              "      <td>54</td>\n",
              "      <td>55</td>\n",
              "      <td>Hyderabad</td>\n",
              "      <td>Deccan Chargers</td>\n",
              "      <td>Chennai Super Kings</td>\n",
              "      <td>Deccan Chargers</td>\n",
              "      <td>bat</td>\n",
              "      <td>normal</td>\n",
              "      <td>0</td>\n",
              "      <td>Chennai Super Kings</td>\n",
              "      <td>0</td>\n",
              "      <td>7</td>\n",
              "      <td>SK Raina</td>\n",
              "      <td>Rajiv Gandhi International Stadium, Uppal</td>\n",
              "      <td>BG Jerling</td>\n",
              "      <td>AM Saheba</td>\n",
              "      <td>NaN</td>\n",
              "    </tr>\n",
              "    <tr>\n",
              "      <th>2008</th>\n",
              "      <td>2008-05-30</td>\n",
              "      <td>55</td>\n",
              "      <td>55</td>\n",
              "      <td>56</td>\n",
              "      <td>Mumbai</td>\n",
              "      <td>Rajasthan Royals</td>\n",
              "      <td>Delhi Daredevils</td>\n",
              "      <td>Delhi Daredevils</td>\n",
              "      <td>field</td>\n",
              "      <td>normal</td>\n",
              "      <td>0</td>\n",
              "      <td>Rajasthan Royals</td>\n",
              "      <td>105</td>\n",
              "      <td>0</td>\n",
              "      <td>SR Watson</td>\n",
              "      <td>Wankhede Stadium</td>\n",
              "      <td>BF Bowden</td>\n",
              "      <td>RE Koertzen</td>\n",
              "      <td>NaN</td>\n",
              "    </tr>\n",
              "    <tr>\n",
              "      <th>2008</th>\n",
              "      <td>2008-05-31</td>\n",
              "      <td>56</td>\n",
              "      <td>56</td>\n",
              "      <td>57</td>\n",
              "      <td>Mumbai</td>\n",
              "      <td>Kings XI Punjab</td>\n",
              "      <td>Chennai Super Kings</td>\n",
              "      <td>Kings XI Punjab</td>\n",
              "      <td>bat</td>\n",
              "      <td>normal</td>\n",
              "      <td>0</td>\n",
              "      <td>Chennai Super Kings</td>\n",
              "      <td>0</td>\n",
              "      <td>9</td>\n",
              "      <td>M Ntini</td>\n",
              "      <td>Wankhede Stadium</td>\n",
              "      <td>Asad Rauf</td>\n",
              "      <td>DJ Harper</td>\n",
              "      <td>NaN</td>\n",
              "    </tr>\n",
              "    <tr>\n",
              "      <th>2008</th>\n",
              "      <td>2008-06-01</td>\n",
              "      <td>57</td>\n",
              "      <td>57</td>\n",
              "      <td>58</td>\n",
              "      <td>Mumbai</td>\n",
              "      <td>Chennai Super Kings</td>\n",
              "      <td>Rajasthan Royals</td>\n",
              "      <td>Rajasthan Royals</td>\n",
              "      <td>field</td>\n",
              "      <td>normal</td>\n",
              "      <td>0</td>\n",
              "      <td>Rajasthan Royals</td>\n",
              "      <td>0</td>\n",
              "      <td>3</td>\n",
              "      <td>YK Pathan</td>\n",
              "      <td>Dr DY Patil Sports Academy</td>\n",
              "      <td>BF Bowden</td>\n",
              "      <td>RE Koertzen</td>\n",
              "      <td>NaN</td>\n",
              "    </tr>\n",
              "  </tbody>\n",
              "</table>\n",
              "</div>"
            ],
            "text/plain": [
              "              date  level_0  index  id        city  \\\n",
              "season                                               \n",
              "2008    2008-04-18        0      0   1   Bangalore   \n",
              "2008    2008-04-19        1      1   2  Chandigarh   \n",
              "2008    2008-04-19        2      2   3       Delhi   \n",
              "2008    2008-04-20        3      3   4      Mumbai   \n",
              "2008    2008-04-20        4      4   5     Kolkata   \n",
              "2008    2008-04-21        5      5   6      Jaipur   \n",
              "2008    2008-04-22        6      6   7   Hyderabad   \n",
              "2008    2008-04-23        7      7   8     Chennai   \n",
              "2008    2008-04-24        8      8   9   Hyderabad   \n",
              "2008    2008-04-25        9      9  10  Chandigarh   \n",
              "2008    2008-04-26       10     10  11   Bangalore   \n",
              "2008    2008-04-26       11     11  12     Chennai   \n",
              "2008    2008-04-27       12     12  13      Mumbai   \n",
              "2008    2008-04-27       13     13  14  Chandigarh   \n",
              "2008    2008-04-28       14     14  15   Bangalore   \n",
              "2008    2008-04-29       15     15  16     Kolkata   \n",
              "2008    2008-04-30       16     16  17       Delhi   \n",
              "2008    2008-05-01       17     17  18   Hyderabad   \n",
              "2008    2008-05-01       18     18  19      Jaipur   \n",
              "2008    2008-05-02       19     19  20     Chennai   \n",
              "2008    2008-05-25       20     20  21   Hyderabad   \n",
              "2008    2008-05-03       21     21  22  Chandigarh   \n",
              "2008    2008-05-04       22     22  23      Mumbai   \n",
              "2008    2008-05-04       23     23  24      Jaipur   \n",
              "2008    2008-05-05       24     24  25   Bangalore   \n",
              "2008    2008-05-06       25     25  26     Chennai   \n",
              "2008    2008-05-07       26     26  27      Mumbai   \n",
              "2008    2008-05-08       27     27  28       Delhi   \n",
              "2008    2008-05-08       28     28  29     Kolkata   \n",
              "2008    2008-05-09       29     29  30      Jaipur   \n",
              "2008    2008-05-28       30     30  31   Bangalore   \n",
              "2008    2008-05-10       31     31  32     Chennai   \n",
              "2008    2008-05-11       32     32  33   Hyderabad   \n",
              "2008    2008-05-11       33     33  34      Jaipur   \n",
              "2008    2008-05-12       34     34  35  Chandigarh   \n",
              "2008    2008-05-13       35     35  36     Kolkata   \n",
              "2008    2008-05-14       36     36  37      Mumbai   \n",
              "2008    2008-05-28       37     37  38  Chandigarh   \n",
              "2008    2008-05-15       38     38  39       Delhi   \n",
              "2008    2008-05-16       39     39  40      Mumbai   \n",
              "2008    2008-05-17       40     40  41       Delhi   \n",
              "2008    2008-05-17       41     41  42      Jaipur   \n",
              "2008    2008-05-18       42     42  43   Hyderabad   \n",
              "2008    2008-05-18       43     43  44     Kolkata   \n",
              "2008    2008-05-19       44     44  45   Bangalore   \n",
              "2008    2008-05-20       45     45  46     Kolkata   \n",
              "2008    2008-05-21       46     46  47      Mumbai   \n",
              "2008    2008-05-21       47     47  48     Chennai   \n",
              "2008    2008-05-23       48     48  49  Chandigarh   \n",
              "2008    2008-05-24       49     49  50       Delhi   \n",
              "2008    2008-05-24       50     50  51     Chennai   \n",
              "2008    2008-05-03       51     51  52   Bangalore   \n",
              "2008    2008-05-25       52     52  53     Kolkata   \n",
              "2008    2008-05-26       53     53  54      Jaipur   \n",
              "2008    2008-05-27       54     54  55   Hyderabad   \n",
              "2008    2008-05-30       55     55  56      Mumbai   \n",
              "2008    2008-05-31       56     56  57      Mumbai   \n",
              "2008    2008-06-01       57     57  58      Mumbai   \n",
              "\n",
              "                              team1                        team2  \\\n",
              "season                                                             \n",
              "2008          Kolkata Knight Riders  Royal Challengers Bangalore   \n",
              "2008            Chennai Super Kings              Kings XI Punjab   \n",
              "2008               Rajasthan Royals             Delhi Daredevils   \n",
              "2008                 Mumbai Indians  Royal Challengers Bangalore   \n",
              "2008                Deccan Chargers        Kolkata Knight Riders   \n",
              "2008                Kings XI Punjab             Rajasthan Royals   \n",
              "2008                Deccan Chargers             Delhi Daredevils   \n",
              "2008            Chennai Super Kings               Mumbai Indians   \n",
              "2008                Deccan Chargers             Rajasthan Royals   \n",
              "2008                Kings XI Punjab               Mumbai Indians   \n",
              "2008    Royal Challengers Bangalore             Rajasthan Royals   \n",
              "2008          Kolkata Knight Riders          Chennai Super Kings   \n",
              "2008                 Mumbai Indians              Deccan Chargers   \n",
              "2008               Delhi Daredevils              Kings XI Punjab   \n",
              "2008            Chennai Super Kings  Royal Challengers Bangalore   \n",
              "2008          Kolkata Knight Riders               Mumbai Indians   \n",
              "2008               Delhi Daredevils  Royal Challengers Bangalore   \n",
              "2008                Deccan Chargers              Kings XI Punjab   \n",
              "2008               Rajasthan Royals        Kolkata Knight Riders   \n",
              "2008            Chennai Super Kings             Delhi Daredevils   \n",
              "2008                Deccan Chargers  Royal Challengers Bangalore   \n",
              "2008                Kings XI Punjab        Kolkata Knight Riders   \n",
              "2008                 Mumbai Indians             Delhi Daredevils   \n",
              "2008            Chennai Super Kings             Rajasthan Royals   \n",
              "2008    Royal Challengers Bangalore              Kings XI Punjab   \n",
              "2008            Chennai Super Kings              Deccan Chargers   \n",
              "2008               Rajasthan Royals               Mumbai Indians   \n",
              "2008               Delhi Daredevils          Chennai Super Kings   \n",
              "2008          Kolkata Knight Riders  Royal Challengers Bangalore   \n",
              "2008                Deccan Chargers             Rajasthan Royals   \n",
              "2008    Royal Challengers Bangalore               Mumbai Indians   \n",
              "2008            Chennai Super Kings              Kings XI Punjab   \n",
              "2008          Kolkata Knight Riders              Deccan Chargers   \n",
              "2008               Delhi Daredevils             Rajasthan Royals   \n",
              "2008    Royal Challengers Bangalore              Kings XI Punjab   \n",
              "2008          Kolkata Knight Riders             Delhi Daredevils   \n",
              "2008            Chennai Super Kings               Mumbai Indians   \n",
              "2008                Kings XI Punjab             Rajasthan Royals   \n",
              "2008               Delhi Daredevils              Deccan Chargers   \n",
              "2008          Kolkata Knight Riders               Mumbai Indians   \n",
              "2008               Delhi Daredevils              Kings XI Punjab   \n",
              "2008               Rajasthan Royals  Royal Challengers Bangalore   \n",
              "2008                 Mumbai Indians              Deccan Chargers   \n",
              "2008          Kolkata Knight Riders          Chennai Super Kings   \n",
              "2008    Royal Challengers Bangalore             Delhi Daredevils   \n",
              "2008          Kolkata Knight Riders             Rajasthan Royals   \n",
              "2008                Kings XI Punjab               Mumbai Indians   \n",
              "2008    Royal Challengers Bangalore          Chennai Super Kings   \n",
              "2008                Deccan Chargers              Kings XI Punjab   \n",
              "2008                 Mumbai Indians             Delhi Daredevils   \n",
              "2008               Rajasthan Royals          Chennai Super Kings   \n",
              "2008    Royal Challengers Bangalore              Deccan Chargers   \n",
              "2008                Kings XI Punjab        Kolkata Knight Riders   \n",
              "2008                 Mumbai Indians             Rajasthan Royals   \n",
              "2008                Deccan Chargers          Chennai Super Kings   \n",
              "2008               Rajasthan Royals             Delhi Daredevils   \n",
              "2008                Kings XI Punjab          Chennai Super Kings   \n",
              "2008            Chennai Super Kings             Rajasthan Royals   \n",
              "\n",
              "                        toss_winner toss_decision  result  dl_applied  \\\n",
              "season                                                                  \n",
              "2008    Royal Challengers Bangalore         field  normal           0   \n",
              "2008            Chennai Super Kings           bat  normal           0   \n",
              "2008               Rajasthan Royals           bat  normal           0   \n",
              "2008                 Mumbai Indians           bat  normal           0   \n",
              "2008                Deccan Chargers           bat  normal           0   \n",
              "2008                Kings XI Punjab           bat  normal           0   \n",
              "2008                Deccan Chargers           bat  normal           0   \n",
              "2008                 Mumbai Indians         field  normal           0   \n",
              "2008               Rajasthan Royals         field  normal           0   \n",
              "2008                 Mumbai Indians         field  normal           0   \n",
              "2008               Rajasthan Royals         field  normal           0   \n",
              "2008          Kolkata Knight Riders           bat  normal           0   \n",
              "2008                Deccan Chargers         field  normal           0   \n",
              "2008               Delhi Daredevils           bat  normal           0   \n",
              "2008            Chennai Super Kings           bat  normal           0   \n",
              "2008          Kolkata Knight Riders           bat  normal           0   \n",
              "2008    Royal Challengers Bangalore         field  normal           0   \n",
              "2008                Kings XI Punjab         field  normal           0   \n",
              "2008               Rajasthan Royals           bat  normal           0   \n",
              "2008            Chennai Super Kings           bat  normal           0   \n",
              "2008                Deccan Chargers           bat  normal           0   \n",
              "2008                Kings XI Punjab           bat  normal           0   \n",
              "2008               Delhi Daredevils         field  normal           0   \n",
              "2008            Chennai Super Kings           bat  normal           0   \n",
              "2008                Kings XI Punjab         field  normal           0   \n",
              "2008                Deccan Chargers         field  normal           0   \n",
              "2008                 Mumbai Indians         field  normal           0   \n",
              "2008            Chennai Super Kings         field  normal           0   \n",
              "2008          Kolkata Knight Riders           bat  normal           0   \n",
              "2008               Rajasthan Royals         field  normal           0   \n",
              "2008                 Mumbai Indians         field  normal           0   \n",
              "2008                Kings XI Punjab         field  normal           0   \n",
              "2008          Kolkata Knight Riders           bat  normal           0   \n",
              "2008               Rajasthan Royals         field  normal           0   \n",
              "2008    Royal Challengers Bangalore           bat  normal           0   \n",
              "2008          Kolkata Knight Riders           bat  normal           0   \n",
              "2008                 Mumbai Indians         field  normal           0   \n",
              "2008               Rajasthan Royals         field  normal           0   \n",
              "2008                Deccan Chargers         field  normal           0   \n",
              "2008                 Mumbai Indians         field  normal           0   \n",
              "2008               Delhi Daredevils           bat  normal           1   \n",
              "2008    Royal Challengers Bangalore         field  normal           0   \n",
              "2008                Deccan Chargers         field  normal           0   \n",
              "2008          Kolkata Knight Riders           bat  normal           1   \n",
              "2008               Delhi Daredevils         field  normal           0   \n",
              "2008               Rajasthan Royals         field  normal           0   \n",
              "2008                 Mumbai Indians         field  normal           0   \n",
              "2008    Royal Challengers Bangalore           bat  normal           0   \n",
              "2008                Kings XI Punjab         field  normal           0   \n",
              "2008               Delhi Daredevils         field  normal           0   \n",
              "2008               Rajasthan Royals           bat  normal           0   \n",
              "2008                Deccan Chargers         field  normal           0   \n",
              "2008                Kings XI Punjab           bat  normal           0   \n",
              "2008               Rajasthan Royals         field  normal           0   \n",
              "2008                Deccan Chargers           bat  normal           0   \n",
              "2008               Delhi Daredevils         field  normal           0   \n",
              "2008                Kings XI Punjab           bat  normal           0   \n",
              "2008               Rajasthan Royals         field  normal           0   \n",
              "\n",
              "                             winner  win_by_runs  win_by_wickets  \\\n",
              "season                                                             \n",
              "2008          Kolkata Knight Riders          140               0   \n",
              "2008            Chennai Super Kings           33               0   \n",
              "2008               Delhi Daredevils            0               9   \n",
              "2008    Royal Challengers Bangalore            0               5   \n",
              "2008          Kolkata Knight Riders            0               5   \n",
              "2008               Rajasthan Royals            0               6   \n",
              "2008               Delhi Daredevils            0               9   \n",
              "2008            Chennai Super Kings            6               0   \n",
              "2008               Rajasthan Royals            0               3   \n",
              "2008                Kings XI Punjab           66               0   \n",
              "2008               Rajasthan Royals            0               7   \n",
              "2008            Chennai Super Kings            0               9   \n",
              "2008                Deccan Chargers            0              10   \n",
              "2008                Kings XI Punjab            0               4   \n",
              "2008            Chennai Super Kings           13               0   \n",
              "2008                 Mumbai Indians            0               7   \n",
              "2008               Delhi Daredevils           10               0   \n",
              "2008                Kings XI Punjab            0               7   \n",
              "2008               Rajasthan Royals           45               0   \n",
              "2008               Delhi Daredevils            0               8   \n",
              "2008    Royal Challengers Bangalore            0               5   \n",
              "2008                Kings XI Punjab            9               0   \n",
              "2008                 Mumbai Indians           29               0   \n",
              "2008               Rajasthan Royals            0               8   \n",
              "2008                Kings XI Punjab            0               6   \n",
              "2008                Deccan Chargers            0               7   \n",
              "2008                 Mumbai Indians            0               7   \n",
              "2008            Chennai Super Kings            0               4   \n",
              "2008          Kolkata Knight Riders            5               0   \n",
              "2008               Rajasthan Royals            0               8   \n",
              "2008                 Mumbai Indians            0               9   \n",
              "2008            Chennai Super Kings           18               0   \n",
              "2008          Kolkata Knight Riders           23               0   \n",
              "2008               Rajasthan Royals            0               3   \n",
              "2008                Kings XI Punjab            0               9   \n",
              "2008          Kolkata Knight Riders           23               0   \n",
              "2008                 Mumbai Indians            0               9   \n",
              "2008                Kings XI Punjab           41               0   \n",
              "2008               Delhi Daredevils           12               0   \n",
              "2008                 Mumbai Indians            0               8   \n",
              "2008                Kings XI Punjab            6               0   \n",
              "2008               Rajasthan Royals           65               0   \n",
              "2008                 Mumbai Indians           25               0   \n",
              "2008            Chennai Super Kings            3               0   \n",
              "2008               Delhi Daredevils            0               5   \n",
              "2008               Rajasthan Royals            0               6   \n",
              "2008                Kings XI Punjab            1               0   \n",
              "2008    Royal Challengers Bangalore           14               0   \n",
              "2008                Kings XI Punjab            0               6   \n",
              "2008               Delhi Daredevils            0               5   \n",
              "2008               Rajasthan Royals           10               0   \n",
              "2008    Royal Challengers Bangalore            3               0   \n",
              "2008          Kolkata Knight Riders            0               3   \n",
              "2008               Rajasthan Royals            0               5   \n",
              "2008            Chennai Super Kings            0               7   \n",
              "2008               Rajasthan Royals          105               0   \n",
              "2008            Chennai Super Kings            0               9   \n",
              "2008               Rajasthan Royals            0               3   \n",
              "\n",
              "         player_of_match                                       venue  \\\n",
              "season                                                                 \n",
              "2008         BB McCullum                       M Chinnaswamy Stadium   \n",
              "2008          MEK Hussey  Punjab Cricket Association Stadium, Mohali   \n",
              "2008         MF Maharoof                            Feroz Shah Kotla   \n",
              "2008          MV Boucher                            Wankhede Stadium   \n",
              "2008           DJ Hussey                                Eden Gardens   \n",
              "2008           SR Watson                      Sawai Mansingh Stadium   \n",
              "2008            V Sehwag   Rajiv Gandhi International Stadium, Uppal   \n",
              "2008           ML Hayden             MA Chidambaram Stadium, Chepauk   \n",
              "2008           YK Pathan   Rajiv Gandhi International Stadium, Uppal   \n",
              "2008       KC Sangakkara  Punjab Cricket Association Stadium, Mohali   \n",
              "2008           SR Watson                       M Chinnaswamy Stadium   \n",
              "2008            JDP Oram             MA Chidambaram Stadium, Chepauk   \n",
              "2008        AC Gilchrist                  Dr DY Patil Sports Academy   \n",
              "2008           SM Katich  Punjab Cricket Association Stadium, Mohali   \n",
              "2008            MS Dhoni                       M Chinnaswamy Stadium   \n",
              "2008       ST Jayasuriya                                Eden Gardens   \n",
              "2008          GD McGrath                            Feroz Shah Kotla   \n",
              "2008            SE Marsh   Rajiv Gandhi International Stadium, Uppal   \n",
              "2008         SA Asnodkar                      Sawai Mansingh Stadium   \n",
              "2008            V Sehwag             MA Chidambaram Stadium, Chepauk   \n",
              "2008       R Vinay Kumar   Rajiv Gandhi International Stadium, Uppal   \n",
              "2008           IK Pathan  Punjab Cricket Association Stadium, Mohali   \n",
              "2008          SM Pollock                  Dr DY Patil Sports Academy   \n",
              "2008       Sohail Tanvir                      Sawai Mansingh Stadium   \n",
              "2008         S Sreesanth                       M Chinnaswamy Stadium   \n",
              "2008        AC Gilchrist             MA Chidambaram Stadium, Chepauk   \n",
              "2008             A Nehra                  Dr DY Patil Sports Academy   \n",
              "2008            MS Dhoni                            Feroz Shah Kotla   \n",
              "2008          SC Ganguly                                Eden Gardens   \n",
              "2008           YK Pathan                      Sawai Mansingh Stadium   \n",
              "2008        CRD Fernando                       M Chinnaswamy Stadium   \n",
              "2008            L Balaji             MA Chidambaram Stadium, Chepauk   \n",
              "2008          SC Ganguly   Rajiv Gandhi International Stadium, Uppal   \n",
              "2008           SR Watson                      Sawai Mansingh Stadium   \n",
              "2008            SE Marsh  Punjab Cricket Association Stadium, Mohali   \n",
              "2008       Shoaib Akhtar                                Eden Gardens   \n",
              "2008       ST Jayasuriya                            Wankhede Stadium   \n",
              "2008            SE Marsh  Punjab Cricket Association Stadium, Mohali   \n",
              "2008            A Mishra                            Feroz Shah Kotla   \n",
              "2008          SM Pollock                            Wankhede Stadium   \n",
              "2008    DPMD Jayawardene                            Feroz Shah Kotla   \n",
              "2008            GC Smith                      Sawai Mansingh Stadium   \n",
              "2008            DJ Bravo   Rajiv Gandhi International Stadium, Uppal   \n",
              "2008             M Ntini                                Eden Gardens   \n",
              "2008          SP Goswami                       M Chinnaswamy Stadium   \n",
              "2008           YK Pathan                                Eden Gardens   \n",
              "2008            SE Marsh                            Wankhede Stadium   \n",
              "2008            A Kumble             MA Chidambaram Stadium, Chepauk   \n",
              "2008            SE Marsh  Punjab Cricket Association Stadium, Mohali   \n",
              "2008          KD Karthik                            Feroz Shah Kotla   \n",
              "2008           JA Morkel             MA Chidambaram Stadium, Chepauk   \n",
              "2008             P Kumar                       M Chinnaswamy Stadium   \n",
              "2008            Umar Gul                                Eden Gardens   \n",
              "2008       Sohail Tanvir                      Sawai Mansingh Stadium   \n",
              "2008            SK Raina   Rajiv Gandhi International Stadium, Uppal   \n",
              "2008           SR Watson                            Wankhede Stadium   \n",
              "2008             M Ntini                            Wankhede Stadium   \n",
              "2008           YK Pathan                  Dr DY Patil Sports Academy   \n",
              "\n",
              "               umpire1         umpire2  umpire3  \n",
              "season                                           \n",
              "2008         Asad Rauf     RE Koertzen      NaN  \n",
              "2008         MR Benson      SL Shastri      NaN  \n",
              "2008         Aleem Dar  GA Pratapkumar      NaN  \n",
              "2008          SJ Davis       DJ Harper      NaN  \n",
              "2008         BF Bowden     K Hariharan      NaN  \n",
              "2008         Aleem Dar       RB Tiffin      NaN  \n",
              "2008         IL Howell       AM Saheba      NaN  \n",
              "2008         DJ Harper  GA Pratapkumar      NaN  \n",
              "2008         Asad Rauf       MR Benson      NaN  \n",
              "2008         Aleem Dar       AM Saheba      NaN  \n",
              "2008         MR Benson       IL Howell      NaN  \n",
              "2008         BF Bowden  AV Jayaprakash      NaN  \n",
              "2008         Asad Rauf      SL Shastri      NaN  \n",
              "2008       RE Koertzen       I Shivram      NaN  \n",
              "2008       BR Doctrove       RB Tiffin      NaN  \n",
              "2008         BF Bowden  AV Jayaprakash      NaN  \n",
              "2008         Aleem Dar       I Shivram      NaN  \n",
              "2008       BR Doctrove       RB Tiffin      NaN  \n",
              "2008       RE Koertzen  GA Pratapkumar      NaN  \n",
              "2008         BF Bowden     K Hariharan      NaN  \n",
              "2008         Asad Rauf     RE Koertzen      NaN  \n",
              "2008         DJ Harper       I Shivram      NaN  \n",
              "2008         IL Howell     RE Koertzen      NaN  \n",
              "2008         Asad Rauf  AV Jayaprakash      NaN  \n",
              "2008          SJ Davis     BR Doctrove      NaN  \n",
              "2008         MR Benson       RB Tiffin      NaN  \n",
              "2008         DJ Harper     RE Koertzen      NaN  \n",
              "2008         Aleem Dar       RB Tiffin      NaN  \n",
              "2008         Asad Rauf       IL Howell      NaN  \n",
              "2008         MR Benson       AM Saheba      NaN  \n",
              "2008         BF Bowden  AV Jayaprakash      NaN  \n",
              "2008    AV Jayaprakash      BG Jerling      NaN  \n",
              "2008         IL Howell       AM Saheba      NaN  \n",
              "2008          SJ Davis     RE Koertzen      NaN  \n",
              "2008       BR Doctrove       I Shivram      NaN  \n",
              "2008         Asad Rauf       IL Howell      NaN  \n",
              "2008       BR Doctrove       AM Saheba      NaN  \n",
              "2008          SJ Davis     K Hariharan      NaN  \n",
              "2008        BG Jerling  GA Pratapkumar      NaN  \n",
              "2008       BR Doctrove       DJ Harper      NaN  \n",
              "2008    AV Jayaprakash     RE Koertzen      NaN  \n",
              "2008         BF Bowden      SL Shastri      NaN  \n",
              "2008       BR Doctrove       DJ Harper      NaN  \n",
              "2008         Asad Rauf     K Hariharan      NaN  \n",
              "2008          SJ Davis  GA Pratapkumar      NaN  \n",
              "2008        BG Jerling     RE Koertzen      NaN  \n",
              "2008         BF Bowden  GA Pratapkumar      NaN  \n",
              "2008         DJ Harper       I Shivram      NaN  \n",
              "2008         Asad Rauf        SJ Davis      NaN  \n",
              "2008         BF Bowden     K Hariharan      NaN  \n",
              "2008         DJ Harper      SL Shastri      NaN  \n",
              "2008       BR Doctrove      SL Shastri      NaN  \n",
              "2008          SJ Davis       I Shivram      NaN  \n",
              "2008         BF Bowden     K Hariharan      NaN  \n",
              "2008        BG Jerling       AM Saheba      NaN  \n",
              "2008         BF Bowden     RE Koertzen      NaN  \n",
              "2008         Asad Rauf       DJ Harper      NaN  \n",
              "2008         BF Bowden     RE Koertzen      NaN  "
            ]
          },
          "metadata": {
            "tags": []
          },
          "execution_count": 103
        }
      ]
    },
    {
      "cell_type": "code",
      "metadata": {
        "id": "I6_Q5oRAFo6E",
        "colab_type": "code",
        "outputId": "3f673289-6457-447a-90be-01c1cabd68f6",
        "colab": {
          "base_uri": "https://localhost:8080/",
          "height": 364
        }
      },
      "source": [
        "# fillna attribute\n",
        "\n",
        "df['winner'].fillna('bfill', inplace=True)\n",
        "df.isnull().sum()"
      ],
      "execution_count": 0,
      "outputs": [
        {
          "output_type": "execute_result",
          "data": {
            "text/plain": [
              "date                 0\n",
              "level_0              0\n",
              "index                0\n",
              "id                   0\n",
              "city                 7\n",
              "team1                0\n",
              "team2                0\n",
              "toss_winner          0\n",
              "toss_decision        0\n",
              "result               0\n",
              "dl_applied           0\n",
              "winner               0\n",
              "win_by_runs          0\n",
              "win_by_wickets       0\n",
              "player_of_match      3\n",
              "venue                0\n",
              "umpire1              0\n",
              "umpire2              0\n",
              "umpire3            577\n",
              "dtype: int64"
            ]
          },
          "metadata": {
            "tags": []
          },
          "execution_count": 104
        }
      ]
    },
    {
      "cell_type": "code",
      "metadata": {
        "id": "TJrkUm2DWPcf",
        "colab_type": "code",
        "outputId": "01e4ad3d-a123-48e3-c4ec-98b1fe4b6c31",
        "colab": {
          "base_uri": "https://localhost:8080/",
          "height": 141
        }
      },
      "source": [
        "# Create DataFrames\n",
        "\n",
        "df1 = pd.DataFrame({'metal':['steel', 'copper', 'wood'], 'YM': [200, 100, 50], 'Ductile': [True, True, False]})\n",
        "df1\n",
        "\n",
        "# Add row\n",
        "# df1.ix[3:0] = 'cement'\n",
        "# [{'cement', 150, False}]\n",
        "\n",
        "df1.loc[3] = {'metal': 'cement', 'YM': 150, 'Ductile': False}\n",
        "# df1.ix[3] = {'metal': 'cement', 'YM': 150, 'Ductile': False}\n",
        "df1\n",
        "\n",
        "# df2 = df1.drop([3, 3], axis=0)\n",
        "df2 = df1.drop(3, axis=0)\n",
        "\n",
        "# df2 = df1.drop(['YM'], axis=1)\n",
        "df2"
      ],
      "execution_count": 0,
      "outputs": [
        {
          "output_type": "execute_result",
          "data": {
            "text/html": [
              "<div>\n",
              "<style scoped>\n",
              "    .dataframe tbody tr th:only-of-type {\n",
              "        vertical-align: middle;\n",
              "    }\n",
              "\n",
              "    .dataframe tbody tr th {\n",
              "        vertical-align: top;\n",
              "    }\n",
              "\n",
              "    .dataframe thead th {\n",
              "        text-align: right;\n",
              "    }\n",
              "</style>\n",
              "<table border=\"1\" class=\"dataframe\">\n",
              "  <thead>\n",
              "    <tr style=\"text-align: right;\">\n",
              "      <th></th>\n",
              "      <th>metal</th>\n",
              "      <th>YM</th>\n",
              "      <th>Ductile</th>\n",
              "    </tr>\n",
              "  </thead>\n",
              "  <tbody>\n",
              "    <tr>\n",
              "      <th>0</th>\n",
              "      <td>steel</td>\n",
              "      <td>200</td>\n",
              "      <td>True</td>\n",
              "    </tr>\n",
              "    <tr>\n",
              "      <th>1</th>\n",
              "      <td>copper</td>\n",
              "      <td>100</td>\n",
              "      <td>True</td>\n",
              "    </tr>\n",
              "    <tr>\n",
              "      <th>2</th>\n",
              "      <td>wood</td>\n",
              "      <td>50</td>\n",
              "      <td>False</td>\n",
              "    </tr>\n",
              "  </tbody>\n",
              "</table>\n",
              "</div>"
            ],
            "text/plain": [
              "    metal   YM  Ductile\n",
              "0   steel  200     True\n",
              "1  copper  100     True\n",
              "2    wood   50    False"
            ]
          },
          "metadata": {
            "tags": []
          },
          "execution_count": 145
        }
      ]
    },
    {
      "cell_type": "code",
      "metadata": {
        "id": "hC2-IuYcioLd",
        "colab_type": "code",
        "outputId": "eff8225c-e433-4d66-9552-2bf74940c51b",
        "colab": {
          "base_uri": "https://localhost:8080/",
          "height": 486
        }
      },
      "source": [
        "# Merging Dataframes\n",
        "\n",
        "df2 = pd.DataFrame({'metal':['steel', 'copper', 'wood'],'UTS (Mpa)': [400, 300, 40], 'YM': [200, 100, 50]}, index=['me1', 'me2', 'me3'])\n",
        "\n",
        "df2\n",
        "\n",
        "pd.concat([df1,df2])\n",
        "\n",
        "# merge df1 and df2 on metal outer right and left index true\n",
        "\n",
        "print(df1)\n",
        "print(df2)\n",
        "\n",
        "pd.merge(df1, df2,on='metal', how='outer')"
      ],
      "execution_count": 0,
      "outputs": [
        {
          "output_type": "stream",
          "text": [
            "    metal   YM  Ductile\n",
            "0   steel  200     True\n",
            "1  copper  100     True\n",
            "2    wood   50    False\n",
            "3  cement  150    False\n",
            "      metal  UTS (Mpa)   YM\n",
            "me1   steel        400  200\n",
            "me2  copper        300  100\n",
            "me3    wood         40   50\n"
          ],
          "name": "stdout"
        },
        {
          "output_type": "stream",
          "text": [
            "/usr/local/lib/python3.6/dist-packages/ipykernel_launcher.py:6: FutureWarning: Sorting because non-concatenation axis is not aligned. A future version\n",
            "of pandas will change to not sort by default.\n",
            "\n",
            "To accept the future behavior, pass 'sort=False'.\n",
            "\n",
            "To retain the current behavior and silence the warning, pass 'sort=True'.\n",
            "\n",
            "  \n"
          ],
          "name": "stderr"
        },
        {
          "output_type": "execute_result",
          "data": {
            "text/html": [
              "<div>\n",
              "<style scoped>\n",
              "    .dataframe tbody tr th:only-of-type {\n",
              "        vertical-align: middle;\n",
              "    }\n",
              "\n",
              "    .dataframe tbody tr th {\n",
              "        vertical-align: top;\n",
              "    }\n",
              "\n",
              "    .dataframe thead th {\n",
              "        text-align: right;\n",
              "    }\n",
              "</style>\n",
              "<table border=\"1\" class=\"dataframe\">\n",
              "  <thead>\n",
              "    <tr style=\"text-align: right;\">\n",
              "      <th></th>\n",
              "      <th>metal</th>\n",
              "      <th>YM_x</th>\n",
              "      <th>Ductile</th>\n",
              "      <th>UTS (Mpa)</th>\n",
              "      <th>YM_y</th>\n",
              "    </tr>\n",
              "  </thead>\n",
              "  <tbody>\n",
              "    <tr>\n",
              "      <th>0</th>\n",
              "      <td>steel</td>\n",
              "      <td>200</td>\n",
              "      <td>True</td>\n",
              "      <td>400.0</td>\n",
              "      <td>200.0</td>\n",
              "    </tr>\n",
              "    <tr>\n",
              "      <th>1</th>\n",
              "      <td>copper</td>\n",
              "      <td>100</td>\n",
              "      <td>True</td>\n",
              "      <td>300.0</td>\n",
              "      <td>100.0</td>\n",
              "    </tr>\n",
              "    <tr>\n",
              "      <th>2</th>\n",
              "      <td>wood</td>\n",
              "      <td>50</td>\n",
              "      <td>False</td>\n",
              "      <td>40.0</td>\n",
              "      <td>50.0</td>\n",
              "    </tr>\n",
              "    <tr>\n",
              "      <th>3</th>\n",
              "      <td>cement</td>\n",
              "      <td>150</td>\n",
              "      <td>False</td>\n",
              "      <td>NaN</td>\n",
              "      <td>NaN</td>\n",
              "    </tr>\n",
              "  </tbody>\n",
              "</table>\n",
              "</div>"
            ],
            "text/plain": [
              "    metal  YM_x  Ductile  UTS (Mpa)   YM_y\n",
              "0   steel   200     True      400.0  200.0\n",
              "1  copper   100     True      300.0  100.0\n",
              "2    wood    50    False       40.0   50.0\n",
              "3  cement   150    False        NaN    NaN"
            ]
          },
          "metadata": {
            "tags": []
          },
          "execution_count": 153
        }
      ]
    },
    {
      "cell_type": "code",
      "metadata": {
        "id": "2cu4b71cmKKp",
        "colab_type": "code",
        "outputId": "38c79365-bd28-4512-d79c-7c38ba47cc68",
        "colab": {
          "resources": {
            "http://localhost:8080/nbextensions/google.colab/files.js": {
              "data": "Ly8gQ29weXJpZ2h0IDIwMTcgR29vZ2xlIExMQwovLwovLyBMaWNlbnNlZCB1bmRlciB0aGUgQXBhY2hlIExpY2Vuc2UsIFZlcnNpb24gMi4wICh0aGUgIkxpY2Vuc2UiKTsKLy8geW91IG1heSBub3QgdXNlIHRoaXMgZmlsZSBleGNlcHQgaW4gY29tcGxpYW5jZSB3aXRoIHRoZSBMaWNlbnNlLgovLyBZb3UgbWF5IG9idGFpbiBhIGNvcHkgb2YgdGhlIExpY2Vuc2UgYXQKLy8KLy8gICAgICBodHRwOi8vd3d3LmFwYWNoZS5vcmcvbGljZW5zZXMvTElDRU5TRS0yLjAKLy8KLy8gVW5sZXNzIHJlcXVpcmVkIGJ5IGFwcGxpY2FibGUgbGF3IG9yIGFncmVlZCB0byBpbiB3cml0aW5nLCBzb2Z0d2FyZQovLyBkaXN0cmlidXRlZCB1bmRlciB0aGUgTGljZW5zZSBpcyBkaXN0cmlidXRlZCBvbiBhbiAiQVMgSVMiIEJBU0lTLAovLyBXSVRIT1VUIFdBUlJBTlRJRVMgT1IgQ09ORElUSU9OUyBPRiBBTlkgS0lORCwgZWl0aGVyIGV4cHJlc3Mgb3IgaW1wbGllZC4KLy8gU2VlIHRoZSBMaWNlbnNlIGZvciB0aGUgc3BlY2lmaWMgbGFuZ3VhZ2UgZ292ZXJuaW5nIHBlcm1pc3Npb25zIGFuZAovLyBsaW1pdGF0aW9ucyB1bmRlciB0aGUgTGljZW5zZS4KCi8qKgogKiBAZmlsZW92ZXJ2aWV3IEhlbHBlcnMgZm9yIGdvb2dsZS5jb2xhYiBQeXRob24gbW9kdWxlLgogKi8KKGZ1bmN0aW9uKHNjb3BlKSB7CmZ1bmN0aW9uIHNwYW4odGV4dCwgc3R5bGVBdHRyaWJ1dGVzID0ge30pIHsKICBjb25zdCBlbGVtZW50ID0gZG9jdW1lbnQuY3JlYXRlRWxlbWVudCgnc3BhbicpOwogIGVsZW1lbnQudGV4dENvbnRlbnQgPSB0ZXh0OwogIGZvciAoY29uc3Qga2V5IG9mIE9iamVjdC5rZXlzKHN0eWxlQXR0cmlidXRlcykpIHsKICAgIGVsZW1lbnQuc3R5bGVba2V5XSA9IHN0eWxlQXR0cmlidXRlc1trZXldOwogIH0KICByZXR1cm4gZWxlbWVudDsKfQoKLy8gTWF4IG51bWJlciBvZiBieXRlcyB3aGljaCB3aWxsIGJlIHVwbG9hZGVkIGF0IGEgdGltZS4KY29uc3QgTUFYX1BBWUxPQURfU0laRSA9IDEwMCAqIDEwMjQ7Ci8vIE1heCBhbW91bnQgb2YgdGltZSB0byBibG9jayB3YWl0aW5nIGZvciB0aGUgdXNlci4KY29uc3QgRklMRV9DSEFOR0VfVElNRU9VVF9NUyA9IDMwICogMTAwMDsKCmZ1bmN0aW9uIF91cGxvYWRGaWxlcyhpbnB1dElkLCBvdXRwdXRJZCkgewogIGNvbnN0IHN0ZXBzID0gdXBsb2FkRmlsZXNTdGVwKGlucHV0SWQsIG91dHB1dElkKTsKICBjb25zdCBvdXRwdXRFbGVtZW50ID0gZG9jdW1lbnQuZ2V0RWxlbWVudEJ5SWQob3V0cHV0SWQpOwogIC8vIENhY2hlIHN0ZXBzIG9uIHRoZSBvdXRwdXRFbGVtZW50IHRvIG1ha2UgaXQgYXZhaWxhYmxlIGZvciB0aGUgbmV4dCBjYWxsCiAgLy8gdG8gdXBsb2FkRmlsZXNDb250aW51ZSBmcm9tIFB5dGhvbi4KICBvdXRwdXRFbGVtZW50LnN0ZXBzID0gc3RlcHM7CgogIHJldHVybiBfdXBsb2FkRmlsZXNDb250aW51ZShvdXRwdXRJZCk7Cn0KCi8vIFRoaXMgaXMgcm91Z2hseSBhbiBhc3luYyBnZW5lcmF0b3IgKG5vdCBzdXBwb3J0ZWQgaW4gdGhlIGJyb3dzZXIgeWV0KSwKLy8gd2hlcmUgdGhlcmUgYXJlIG11bHRpcGxlIGFzeW5jaHJvbm91cyBzdGVwcyBhbmQgdGhlIFB5dGhvbiBzaWRlIGlzIGdvaW5nCi8vIHRvIHBvbGwgZm9yIGNvbXBsZXRpb24gb2YgZWFjaCBzdGVwLgovLyBUaGlzIHVzZXMgYSBQcm9taXNlIHRvIGJsb2NrIHRoZSBweXRob24gc2lkZSBvbiBjb21wbGV0aW9uIG9mIGVhY2ggc3RlcCwKLy8gdGhlbiBwYXNzZXMgdGhlIHJlc3VsdCBvZiB0aGUgcHJldmlvdXMgc3RlcCBhcyB0aGUgaW5wdXQgdG8gdGhlIG5leHQgc3RlcC4KZnVuY3Rpb24gX3VwbG9hZEZpbGVzQ29udGludWUob3V0cHV0SWQpIHsKICBjb25zdCBvdXRwdXRFbGVtZW50ID0gZG9jdW1lbnQuZ2V0RWxlbWVudEJ5SWQob3V0cHV0SWQpOwogIGNvbnN0IHN0ZXBzID0gb3V0cHV0RWxlbWVudC5zdGVwczsKCiAgY29uc3QgbmV4dCA9IHN0ZXBzLm5leHQob3V0cHV0RWxlbWVudC5sYXN0UHJvbWlzZVZhbHVlKTsKICByZXR1cm4gUHJvbWlzZS5yZXNvbHZlKG5leHQudmFsdWUucHJvbWlzZSkudGhlbigodmFsdWUpID0+IHsKICAgIC8vIENhY2hlIHRoZSBsYXN0IHByb21pc2UgdmFsdWUgdG8gbWFrZSBpdCBhdmFpbGFibGUgdG8gdGhlIG5leHQKICAgIC8vIHN0ZXAgb2YgdGhlIGdlbmVyYXRvci4KICAgIG91dHB1dEVsZW1lbnQubGFzdFByb21pc2VWYWx1ZSA9IHZhbHVlOwogICAgcmV0dXJuIG5leHQudmFsdWUucmVzcG9uc2U7CiAgfSk7Cn0KCi8qKgogKiBHZW5lcmF0b3IgZnVuY3Rpb24gd2hpY2ggaXMgY2FsbGVkIGJldHdlZW4gZWFjaCBhc3luYyBzdGVwIG9mIHRoZSB1cGxvYWQKICogcHJvY2Vzcy4KICogQHBhcmFtIHtzdHJpbmd9IGlucHV0SWQgRWxlbWVudCBJRCBvZiB0aGUgaW5wdXQgZmlsZSBwaWNrZXIgZWxlbWVudC4KICogQHBhcmFtIHtzdHJpbmd9IG91dHB1dElkIEVsZW1lbnQgSUQgb2YgdGhlIG91dHB1dCBkaXNwbGF5LgogKiBAcmV0dXJuIHshSXRlcmFibGU8IU9iamVjdD59IEl0ZXJhYmxlIG9mIG5leHQgc3RlcHMuCiAqLwpmdW5jdGlvbiogdXBsb2FkRmlsZXNTdGVwKGlucHV0SWQsIG91dHB1dElkKSB7CiAgY29uc3QgaW5wdXRFbGVtZW50ID0gZG9jdW1lbnQuZ2V0RWxlbWVudEJ5SWQoaW5wdXRJZCk7CiAgaW5wdXRFbGVtZW50LmRpc2FibGVkID0gZmFsc2U7CgogIGNvbnN0IG91dHB1dEVsZW1lbnQgPSBkb2N1bWVudC5nZXRFbGVtZW50QnlJZChvdXRwdXRJZCk7CiAgb3V0cHV0RWxlbWVudC5pbm5lckhUTUwgPSAnJzsKCiAgY29uc3QgcGlja2VkUHJvbWlzZSA9IG5ldyBQcm9taXNlKChyZXNvbHZlKSA9PiB7CiAgICBpbnB1dEVsZW1lbnQuYWRkRXZlbnRMaXN0ZW5lcignY2hhbmdlJywgKGUpID0+IHsKICAgICAgcmVzb2x2ZShlLnRhcmdldC5maWxlcyk7CiAgICB9KTsKICB9KTsKCiAgY29uc3QgY2FuY2VsID0gZG9jdW1lbnQuY3JlYXRlRWxlbWVudCgnYnV0dG9uJyk7CiAgaW5wdXRFbGVtZW50LnBhcmVudEVsZW1lbnQuYXBwZW5kQ2hpbGQoY2FuY2VsKTsKICBjYW5jZWwudGV4dENvbnRlbnQgPSAnQ2FuY2VsIHVwbG9hZCc7CiAgY29uc3QgY2FuY2VsUHJvbWlzZSA9IG5ldyBQcm9taXNlKChyZXNvbHZlKSA9PiB7CiAgICBjYW5jZWwub25jbGljayA9ICgpID0+IHsKICAgICAgcmVzb2x2ZShudWxsKTsKICAgIH07CiAgfSk7CgogIC8vIENhbmNlbCB1cGxvYWQgaWYgdXNlciBoYXNuJ3QgcGlja2VkIGFueXRoaW5nIGluIHRpbWVvdXQuCiAgY29uc3QgdGltZW91dFByb21pc2UgPSBuZXcgUHJvbWlzZSgocmVzb2x2ZSkgPT4gewogICAgc2V0VGltZW91dCgoKSA9PiB7CiAgICAgIHJlc29sdmUobnVsbCk7CiAgICB9LCBGSUxFX0NIQU5HRV9USU1FT1VUX01TKTsKICB9KTsKCiAgLy8gV2FpdCBmb3IgdGhlIHVzZXIgdG8gcGljayB0aGUgZmlsZXMuCiAgY29uc3QgZmlsZXMgPSB5aWVsZCB7CiAgICBwcm9taXNlOiBQcm9taXNlLnJhY2UoW3BpY2tlZFByb21pc2UsIHRpbWVvdXRQcm9taXNlLCBjYW5jZWxQcm9taXNlXSksCiAgICByZXNwb25zZTogewogICAgICBhY3Rpb246ICdzdGFydGluZycsCiAgICB9CiAgfTsKCiAgaWYgKCFmaWxlcykgewogICAgcmV0dXJuIHsKICAgICAgcmVzcG9uc2U6IHsKICAgICAgICBhY3Rpb246ICdjb21wbGV0ZScsCiAgICAgIH0KICAgIH07CiAgfQoKICBjYW5jZWwucmVtb3ZlKCk7CgogIC8vIERpc2FibGUgdGhlIGlucHV0IGVsZW1lbnQgc2luY2UgZnVydGhlciBwaWNrcyBhcmUgbm90IGFsbG93ZWQuCiAgaW5wdXRFbGVtZW50LmRpc2FibGVkID0gdHJ1ZTsKCiAgZm9yIChjb25zdCBmaWxlIG9mIGZpbGVzKSB7CiAgICBjb25zdCBsaSA9IGRvY3VtZW50LmNyZWF0ZUVsZW1lbnQoJ2xpJyk7CiAgICBsaS5hcHBlbmQoc3BhbihmaWxlLm5hbWUsIHtmb250V2VpZ2h0OiAnYm9sZCd9KSk7CiAgICBsaS5hcHBlbmQoc3BhbigKICAgICAgICBgKCR7ZmlsZS50eXBlIHx8ICduL2EnfSkgLSAke2ZpbGUuc2l6ZX0gYnl0ZXMsIGAgKwogICAgICAgIGBsYXN0IG1vZGlmaWVkOiAkewogICAgICAgICAgICBmaWxlLmxhc3RNb2RpZmllZERhdGUgPyBmaWxlLmxhc3RNb2RpZmllZERhdGUudG9Mb2NhbGVEYXRlU3RyaW5nKCkgOgogICAgICAgICAgICAgICAgICAgICAgICAgICAgICAgICAgICAnbi9hJ30gLSBgKSk7CiAgICBjb25zdCBwZXJjZW50ID0gc3BhbignMCUgZG9uZScpOwogICAgbGkuYXBwZW5kQ2hpbGQocGVyY2VudCk7CgogICAgb3V0cHV0RWxlbWVudC5hcHBlbmRDaGlsZChsaSk7CgogICAgY29uc3QgZmlsZURhdGFQcm9taXNlID0gbmV3IFByb21pc2UoKHJlc29sdmUpID0+IHsKICAgICAgY29uc3QgcmVhZGVyID0gbmV3IEZpbGVSZWFkZXIoKTsKICAgICAgcmVhZGVyLm9ubG9hZCA9IChlKSA9PiB7CiAgICAgICAgcmVzb2x2ZShlLnRhcmdldC5yZXN1bHQpOwogICAgICB9OwogICAgICByZWFkZXIucmVhZEFzQXJyYXlCdWZmZXIoZmlsZSk7CiAgICB9KTsKICAgIC8vIFdhaXQgZm9yIHRoZSBkYXRhIHRvIGJlIHJlYWR5LgogICAgbGV0IGZpbGVEYXRhID0geWllbGQgewogICAgICBwcm9taXNlOiBmaWxlRGF0YVByb21pc2UsCiAgICAgIHJlc3BvbnNlOiB7CiAgICAgICAgYWN0aW9uOiAnY29udGludWUnLAogICAgICB9CiAgICB9OwoKICAgIC8vIFVzZSBhIGNodW5rZWQgc2VuZGluZyB0byBhdm9pZCBtZXNzYWdlIHNpemUgbGltaXRzLiBTZWUgYi82MjExNTY2MC4KICAgIGxldCBwb3NpdGlvbiA9IDA7CiAgICB3aGlsZSAocG9zaXRpb24gPCBmaWxlRGF0YS5ieXRlTGVuZ3RoKSB7CiAgICAgIGNvbnN0IGxlbmd0aCA9IE1hdGgubWluKGZpbGVEYXRhLmJ5dGVMZW5ndGggLSBwb3NpdGlvbiwgTUFYX1BBWUxPQURfU0laRSk7CiAgICAgIGNvbnN0IGNodW5rID0gbmV3IFVpbnQ4QXJyYXkoZmlsZURhdGEsIHBvc2l0aW9uLCBsZW5ndGgpOwogICAgICBwb3NpdGlvbiArPSBsZW5ndGg7CgogICAgICBjb25zdCBiYXNlNjQgPSBidG9hKFN0cmluZy5mcm9tQ2hhckNvZGUuYXBwbHkobnVsbCwgY2h1bmspKTsKICAgICAgeWllbGQgewogICAgICAgIHJlc3BvbnNlOiB7CiAgICAgICAgICBhY3Rpb246ICdhcHBlbmQnLAogICAgICAgICAgZmlsZTogZmlsZS5uYW1lLAogICAgICAgICAgZGF0YTogYmFzZTY0LAogICAgICAgIH0sCiAgICAgIH07CiAgICAgIHBlcmNlbnQudGV4dENvbnRlbnQgPQogICAgICAgICAgYCR7TWF0aC5yb3VuZCgocG9zaXRpb24gLyBmaWxlRGF0YS5ieXRlTGVuZ3RoKSAqIDEwMCl9JSBkb25lYDsKICAgIH0KICB9CgogIC8vIEFsbCBkb25lLgogIHlpZWxkIHsKICAgIHJlc3BvbnNlOiB7CiAgICAgIGFjdGlvbjogJ2NvbXBsZXRlJywKICAgIH0KICB9Owp9CgpzY29wZS5nb29nbGUgPSBzY29wZS5nb29nbGUgfHwge307CnNjb3BlLmdvb2dsZS5jb2xhYiA9IHNjb3BlLmdvb2dsZS5jb2xhYiB8fCB7fTsKc2NvcGUuZ29vZ2xlLmNvbGFiLl9maWxlcyA9IHsKICBfdXBsb2FkRmlsZXMsCiAgX3VwbG9hZEZpbGVzQ29udGludWUsCn07Cn0pKHNlbGYpOwo=",
              "ok": true,
              "headers": [
                [
                  "content-type",
                  "application/javascript"
                ]
              ],
              "status": 200,
              "status_text": ""
            }
          },
          "base_uri": "https://localhost:8080/",
          "height": 110
        }
      },
      "source": [
        "# Stuadent Activity\n",
        "from google.colab import files\n",
        "uploaded = files.upload()"
      ],
      "execution_count": 0,
      "outputs": [
        {
          "output_type": "display_data",
          "data": {
            "text/html": [
              "\n",
              "     <input type=\"file\" id=\"files-d4148397-93b4-435b-993f-85e9e28d9436\" name=\"files[]\" multiple disabled />\n",
              "     <output id=\"result-d4148397-93b4-435b-993f-85e9e28d9436\">\n",
              "      Upload widget is only available when the cell has been executed in the\n",
              "      current browser session. Please rerun this cell to enable.\n",
              "      </output>\n",
              "      <script src=\"/nbextensions/google.colab/files.js\"></script> "
            ],
            "text/plain": [
              "<IPython.core.display.HTML object>"
            ]
          },
          "metadata": {
            "tags": []
          }
        },
        {
          "output_type": "stream",
          "text": [
            "Saving roads.csv to roads.csv\n",
            "Saving road_accidents.csv to road_accidents.csv\n"
          ],
          "name": "stdout"
        }
      ]
    },
    {
      "cell_type": "code",
      "metadata": {
        "id": "d92VZ_0znbGs",
        "colab_type": "code",
        "outputId": "f356d7dd-9e1c-4774-fbf1-06c1ca78d323",
        "colab": {
          "base_uri": "https://localhost:8080/",
          "height": 999
        }
      },
      "source": [
        "roads = pd.read_csv('roads.csv')\n",
        "accidents = pd.read_csv('road_accidents.csv')\n",
        "\n",
        "# print(roads.shape)\n",
        "# print(accidents.shape)\n",
        "\n",
        "# print(roads.head())\n",
        "# print(accidents.head())\n",
        "\n",
        "# drop_roads = roads.drop(['Category','Total'], axis=1)\n",
        "drop_roads = roads.drop(['Category','Total'],axis=1, inplace=True)\n",
        "\n",
        "# print(roads)\n",
        "\n",
        "acc = accidents[['States/UTs', '2012', '2013', '2014']]\n",
        "\n",
        "# print(acc)\n",
        "\n",
        "# print(acc.head())\n",
        "\n",
        "pd.merge(roads, accidents, on='States/UTs', how='inner')"
      ],
      "execution_count": 0,
      "outputs": [
        {
          "output_type": "execute_result",
          "data": {
            "text/html": [
              "<div>\n",
              "<style scoped>\n",
              "    .dataframe tbody tr th:only-of-type {\n",
              "        vertical-align: middle;\n",
              "    }\n",
              "\n",
              "    .dataframe tbody tr th {\n",
              "        vertical-align: top;\n",
              "    }\n",
              "\n",
              "    .dataframe thead th {\n",
              "        text-align: right;\n",
              "    }\n",
              "</style>\n",
              "<table border=\"1\" class=\"dataframe\">\n",
              "  <thead>\n",
              "    <tr style=\"text-align: right;\">\n",
              "      <th></th>\n",
              "      <th>States/UTs</th>\n",
              "      <th>Surfaced</th>\n",
              "      <th>2006</th>\n",
              "      <th>2007</th>\n",
              "      <th>2008</th>\n",
              "      <th>2009</th>\n",
              "      <th>2010</th>\n",
              "      <th>2011</th>\n",
              "      <th>2012</th>\n",
              "      <th>2013</th>\n",
              "      <th>2014</th>\n",
              "      <th>2015</th>\n",
              "    </tr>\n",
              "  </thead>\n",
              "  <tbody>\n",
              "    <tr>\n",
              "      <th>0</th>\n",
              "      <td>Andhra Pradesh</td>\n",
              "      <td>93573</td>\n",
              "      <td>17468.0</td>\n",
              "      <td>18859.0</td>\n",
              "      <td>15320.0</td>\n",
              "      <td>17465.0</td>\n",
              "      <td>17996.0</td>\n",
              "      <td>19081.0</td>\n",
              "      <td>14578.0</td>\n",
              "      <td>17355.0</td>\n",
              "      <td>7815</td>\n",
              "      <td>7263</td>\n",
              "    </tr>\n",
              "    <tr>\n",
              "      <th>1</th>\n",
              "      <td>Arunachal Pradesh</td>\n",
              "      <td>5262</td>\n",
              "      <td>177.0</td>\n",
              "      <td>110.0</td>\n",
              "      <td>212.0</td>\n",
              "      <td>138.0</td>\n",
              "      <td>165.0</td>\n",
              "      <td>140.0</td>\n",
              "      <td>147.0</td>\n",
              "      <td>242.0</td>\n",
              "      <td>149</td>\n",
              "      <td>184</td>\n",
              "    </tr>\n",
              "    <tr>\n",
              "      <th>2</th>\n",
              "      <td>Assam</td>\n",
              "      <td>27622</td>\n",
              "      <td>2575.0</td>\n",
              "      <td>2579.0</td>\n",
              "      <td>2776.0</td>\n",
              "      <td>2938.0</td>\n",
              "      <td>3741.0</td>\n",
              "      <td>3951.0</td>\n",
              "      <td>4174.0</td>\n",
              "      <td>4112.0</td>\n",
              "      <td>4186</td>\n",
              "      <td>4121</td>\n",
              "    </tr>\n",
              "    <tr>\n",
              "      <th>3</th>\n",
              "      <td>Bihar</td>\n",
              "      <td>94421</td>\n",
              "      <td>2048.0</td>\n",
              "      <td>2677.0</td>\n",
              "      <td>3661.0</td>\n",
              "      <td>3968.0</td>\n",
              "      <td>3908.0</td>\n",
              "      <td>4746.0</td>\n",
              "      <td>5124.0</td>\n",
              "      <td>4470.0</td>\n",
              "      <td>4580</td>\n",
              "      <td>4250</td>\n",
              "    </tr>\n",
              "    <tr>\n",
              "      <th>4</th>\n",
              "      <td>Chhattisgarh</td>\n",
              "      <td>30295</td>\n",
              "      <td>5883.0</td>\n",
              "      <td>5492.0</td>\n",
              "      <td>5849.0</td>\n",
              "      <td>5616.0</td>\n",
              "      <td>6341.0</td>\n",
              "      <td>6402.0</td>\n",
              "      <td>6183.0</td>\n",
              "      <td>5824.0</td>\n",
              "      <td>6049</td>\n",
              "      <td>6072</td>\n",
              "    </tr>\n",
              "    <tr>\n",
              "      <th>5</th>\n",
              "      <td>Goa</td>\n",
              "      <td>3221</td>\n",
              "      <td>1507.0</td>\n",
              "      <td>1582.0</td>\n",
              "      <td>1935.0</td>\n",
              "      <td>1841.0</td>\n",
              "      <td>2334.0</td>\n",
              "      <td>1906.0</td>\n",
              "      <td>1752.0</td>\n",
              "      <td>1920.0</td>\n",
              "      <td>1904</td>\n",
              "      <td>2019</td>\n",
              "    </tr>\n",
              "    <tr>\n",
              "      <th>6</th>\n",
              "      <td>Gujarat</td>\n",
              "      <td>50621</td>\n",
              "      <td>11893.0</td>\n",
              "      <td>12755.0</td>\n",
              "      <td>14500.0</td>\n",
              "      <td>11845.0</td>\n",
              "      <td>11287.0</td>\n",
              "      <td>10797.0</td>\n",
              "      <td>10382.0</td>\n",
              "      <td>9434.0</td>\n",
              "      <td>8597</td>\n",
              "      <td>9101</td>\n",
              "    </tr>\n",
              "    <tr>\n",
              "      <th>7</th>\n",
              "      <td>Haryana</td>\n",
              "      <td>4622</td>\n",
              "      <td>3182.0</td>\n",
              "      <td>4214.0</td>\n",
              "      <td>4043.0</td>\n",
              "      <td>4199.0</td>\n",
              "      <td>3898.0</td>\n",
              "      <td>3907.0</td>\n",
              "      <td>3221.0</td>\n",
              "      <td>3485.0</td>\n",
              "      <td>3628</td>\n",
              "      <td>3892</td>\n",
              "    </tr>\n",
              "    <tr>\n",
              "      <th>8</th>\n",
              "      <td>Himachal Pradesh</td>\n",
              "      <td>14714</td>\n",
              "      <td>993.0</td>\n",
              "      <td>960.0</td>\n",
              "      <td>1077.0</td>\n",
              "      <td>1116.0</td>\n",
              "      <td>1198.0</td>\n",
              "      <td>1153.0</td>\n",
              "      <td>1012.0</td>\n",
              "      <td>1093.0</td>\n",
              "      <td>1138</td>\n",
              "      <td>796</td>\n",
              "    </tr>\n",
              "    <tr>\n",
              "      <th>9</th>\n",
              "      <td>Jammu &amp; Kashmir</td>\n",
              "      <td>12404</td>\n",
              "      <td>1885.0</td>\n",
              "      <td>2191.0</td>\n",
              "      <td>2874.0</td>\n",
              "      <td>2745.0</td>\n",
              "      <td>1982.0</td>\n",
              "      <td>2738.0</td>\n",
              "      <td>2540.0</td>\n",
              "      <td>2601.0</td>\n",
              "      <td>2421</td>\n",
              "      <td>2385</td>\n",
              "    </tr>\n",
              "    <tr>\n",
              "      <th>10</th>\n",
              "      <td>Jharkhand</td>\n",
              "      <td>17097</td>\n",
              "      <td>2221.0</td>\n",
              "      <td>1909.0</td>\n",
              "      <td>2044.0</td>\n",
              "      <td>2027.0</td>\n",
              "      <td>2367.0</td>\n",
              "      <td>2378.0</td>\n",
              "      <td>2496.0</td>\n",
              "      <td>2546.0</td>\n",
              "      <td>2547</td>\n",
              "      <td>2464</td>\n",
              "    </tr>\n",
              "    <tr>\n",
              "      <th>11</th>\n",
              "      <td>Karnataka</td>\n",
              "      <td>90260</td>\n",
              "      <td>21683.0</td>\n",
              "      <td>22236.0</td>\n",
              "      <td>21713.0</td>\n",
              "      <td>20433.0</td>\n",
              "      <td>21841.0</td>\n",
              "      <td>18159.0</td>\n",
              "      <td>17797.0</td>\n",
              "      <td>18541.0</td>\n",
              "      <td>16617</td>\n",
              "      <td>17923</td>\n",
              "    </tr>\n",
              "    <tr>\n",
              "      <th>12</th>\n",
              "      <td>Kerala</td>\n",
              "      <td>79354</td>\n",
              "      <td>14234.0</td>\n",
              "      <td>15629.0</td>\n",
              "      <td>14561.0</td>\n",
              "      <td>13851.0</td>\n",
              "      <td>13712.0</td>\n",
              "      <td>13765.0</td>\n",
              "      <td>14147.0</td>\n",
              "      <td>13775.0</td>\n",
              "      <td>14171</td>\n",
              "      <td>15216</td>\n",
              "    </tr>\n",
              "    <tr>\n",
              "      <th>13</th>\n",
              "      <td>Madhya Pradesh</td>\n",
              "      <td>75718</td>\n",
              "      <td>19515.0</td>\n",
              "      <td>23033.0</td>\n",
              "      <td>22927.0</td>\n",
              "      <td>23591.0</td>\n",
              "      <td>25596.0</td>\n",
              "      <td>25937.0</td>\n",
              "      <td>26726.0</td>\n",
              "      <td>26253.0</td>\n",
              "      <td>27474</td>\n",
              "      <td>27397</td>\n",
              "    </tr>\n",
              "    <tr>\n",
              "      <th>14</th>\n",
              "      <td>Maharashtra</td>\n",
              "      <td>193806</td>\n",
              "      <td>47843.0</td>\n",
              "      <td>47329.0</td>\n",
              "      <td>46895.0</td>\n",
              "      <td>46520.0</td>\n",
              "      <td>41409.0</td>\n",
              "      <td>39676.0</td>\n",
              "      <td>38227.0</td>\n",
              "      <td>36069.0</td>\n",
              "      <td>36473</td>\n",
              "      <td>37506</td>\n",
              "    </tr>\n",
              "    <tr>\n",
              "      <th>15</th>\n",
              "      <td>Manipur</td>\n",
              "      <td>3919</td>\n",
              "      <td>326.0</td>\n",
              "      <td>378.0</td>\n",
              "      <td>409.0</td>\n",
              "      <td>154.0</td>\n",
              "      <td>238.0</td>\n",
              "      <td>245.0</td>\n",
              "      <td>502.0</td>\n",
              "      <td>246.0</td>\n",
              "      <td>166</td>\n",
              "      <td>188</td>\n",
              "    </tr>\n",
              "    <tr>\n",
              "      <th>16</th>\n",
              "      <td>Meghalaya</td>\n",
              "      <td>1194</td>\n",
              "      <td>270.0</td>\n",
              "      <td>122.0</td>\n",
              "      <td>117.0</td>\n",
              "      <td>140.0</td>\n",
              "      <td>221.0</td>\n",
              "      <td>305.0</td>\n",
              "      <td>354.0</td>\n",
              "      <td>346.0</td>\n",
              "      <td>311</td>\n",
              "      <td>265</td>\n",
              "    </tr>\n",
              "    <tr>\n",
              "      <th>17</th>\n",
              "      <td>Mizoram</td>\n",
              "      <td>2561</td>\n",
              "      <td>51.0</td>\n",
              "      <td>46.0</td>\n",
              "      <td>67.0</td>\n",
              "      <td>51.0</td>\n",
              "      <td>77.0</td>\n",
              "      <td>39.0</td>\n",
              "      <td>47.0</td>\n",
              "      <td>46.0</td>\n",
              "      <td>70</td>\n",
              "      <td>36</td>\n",
              "    </tr>\n",
              "    <tr>\n",
              "      <th>18</th>\n",
              "      <td>Nagaland</td>\n",
              "      <td>10930</td>\n",
              "      <td>137.0</td>\n",
              "      <td>159.0</td>\n",
              "      <td>54.0</td>\n",
              "      <td>42.0</td>\n",
              "      <td>35.0</td>\n",
              "      <td>39.0</td>\n",
              "      <td>32.0</td>\n",
              "      <td>50.0</td>\n",
              "      <td>248</td>\n",
              "      <td>17</td>\n",
              "    </tr>\n",
              "    <tr>\n",
              "      <th>19</th>\n",
              "      <td>Odisha</td>\n",
              "      <td>213446</td>\n",
              "      <td>3642.0</td>\n",
              "      <td>3594.0</td>\n",
              "      <td>3820.0</td>\n",
              "      <td>3980.0</td>\n",
              "      <td>4397.0</td>\n",
              "      <td>4550.0</td>\n",
              "      <td>4378.0</td>\n",
              "      <td>4500.0</td>\n",
              "      <td>4405</td>\n",
              "      <td>5054</td>\n",
              "    </tr>\n",
              "    <tr>\n",
              "      <th>20</th>\n",
              "      <td>Punjab</td>\n",
              "      <td>62900</td>\n",
              "      <td>1633.0</td>\n",
              "      <td>2181.0</td>\n",
              "      <td>1942.0</td>\n",
              "      <td>2059.0</td>\n",
              "      <td>2247.0</td>\n",
              "      <td>2255.0</td>\n",
              "      <td>2175.0</td>\n",
              "      <td>2404.0</td>\n",
              "      <td>2641</td>\n",
              "      <td>2443</td>\n",
              "    </tr>\n",
              "    <tr>\n",
              "      <th>21</th>\n",
              "      <td>Rajasthan</td>\n",
              "      <td>67313</td>\n",
              "      <td>10838.0</td>\n",
              "      <td>8728.0</td>\n",
              "      <td>8582.0</td>\n",
              "      <td>8865.0</td>\n",
              "      <td>8880.0</td>\n",
              "      <td>8923.0</td>\n",
              "      <td>8407.0</td>\n",
              "      <td>8653.0</td>\n",
              "      <td>8964</td>\n",
              "      <td>8648</td>\n",
              "    </tr>\n",
              "    <tr>\n",
              "      <th>22</th>\n",
              "      <td>Sikkim</td>\n",
              "      <td>3343</td>\n",
              "      <td>51.0</td>\n",
              "      <td>47.0</td>\n",
              "      <td>68.0</td>\n",
              "      <td>160.0</td>\n",
              "      <td>72.0</td>\n",
              "      <td>127.0</td>\n",
              "      <td>53.0</td>\n",
              "      <td>80.0</td>\n",
              "      <td>146</td>\n",
              "      <td>99</td>\n",
              "    </tr>\n",
              "    <tr>\n",
              "      <th>23</th>\n",
              "      <td>Tamil Nadu</td>\n",
              "      <td>107803</td>\n",
              "      <td>22301.0</td>\n",
              "      <td>24319.0</td>\n",
              "      <td>24302.0</td>\n",
              "      <td>29076.0</td>\n",
              "      <td>26955.0</td>\n",
              "      <td>28387.0</td>\n",
              "      <td>28224.0</td>\n",
              "      <td>27333.0</td>\n",
              "      <td>24869</td>\n",
              "      <td>28533</td>\n",
              "    </tr>\n",
              "    <tr>\n",
              "      <th>24</th>\n",
              "      <td>Tripura</td>\n",
              "      <td>8976</td>\n",
              "      <td>292.0</td>\n",
              "      <td>287.0</td>\n",
              "      <td>218.0</td>\n",
              "      <td>173.0</td>\n",
              "      <td>205.0</td>\n",
              "      <td>292.0</td>\n",
              "      <td>377.0</td>\n",
              "      <td>398.0</td>\n",
              "      <td>325</td>\n",
              "      <td>310</td>\n",
              "    </tr>\n",
              "    <tr>\n",
              "      <th>25</th>\n",
              "      <td>Uttarakhand</td>\n",
              "      <td>6933</td>\n",
              "      <td>689.0</td>\n",
              "      <td>711.0</td>\n",
              "      <td>704.0</td>\n",
              "      <td>823.0</td>\n",
              "      <td>790.0</td>\n",
              "      <td>729.0</td>\n",
              "      <td>796.0</td>\n",
              "      <td>649.0</td>\n",
              "      <td>735</td>\n",
              "      <td>801</td>\n",
              "    </tr>\n",
              "    <tr>\n",
              "      <th>26</th>\n",
              "      <td>Uttar Pradesh</td>\n",
              "      <td>79446</td>\n",
              "      <td>8357.0</td>\n",
              "      <td>10182.0</td>\n",
              "      <td>11611.0</td>\n",
              "      <td>12665.0</td>\n",
              "      <td>14453.0</td>\n",
              "      <td>13801.0</td>\n",
              "      <td>15715.0</td>\n",
              "      <td>15964.0</td>\n",
              "      <td>18605</td>\n",
              "      <td>17918</td>\n",
              "    </tr>\n",
              "    <tr>\n",
              "      <th>27</th>\n",
              "      <td>West Bengal</td>\n",
              "      <td>38156</td>\n",
              "      <td>5569.0</td>\n",
              "      <td>5308.0</td>\n",
              "      <td>5813.0</td>\n",
              "      <td>5163.0</td>\n",
              "      <td>8694.0</td>\n",
              "      <td>8550.0</td>\n",
              "      <td>6025.0</td>\n",
              "      <td>5694.0</td>\n",
              "      <td>6892</td>\n",
              "      <td>6372</td>\n",
              "    </tr>\n",
              "    <tr>\n",
              "      <th>28</th>\n",
              "      <td>Andaman &amp; Nicobar Islands</td>\n",
              "      <td>111</td>\n",
              "      <td>80.0</td>\n",
              "      <td>110.0</td>\n",
              "      <td>120.0</td>\n",
              "      <td>175.0</td>\n",
              "      <td>149.0</td>\n",
              "      <td>53.0</td>\n",
              "      <td>74.0</td>\n",
              "      <td>61.0</td>\n",
              "      <td>131</td>\n",
              "      <td>153</td>\n",
              "    </tr>\n",
              "    <tr>\n",
              "      <th>29</th>\n",
              "      <td>Chandigarh</td>\n",
              "      <td>967</td>\n",
              "      <td>480.0</td>\n",
              "      <td>486.0</td>\n",
              "      <td>416.0</td>\n",
              "      <td>392.0</td>\n",
              "      <td>398.0</td>\n",
              "      <td>367.0</td>\n",
              "      <td>367.0</td>\n",
              "      <td>327.0</td>\n",
              "      <td>336</td>\n",
              "      <td>388</td>\n",
              "    </tr>\n",
              "    <tr>\n",
              "      <th>30</th>\n",
              "      <td>All India</td>\n",
              "      <td>1400988</td>\n",
              "      <td>217062.0</td>\n",
              "      <td>227212.0</td>\n",
              "      <td>228009.0</td>\n",
              "      <td>230687.0</td>\n",
              "      <td>233757.0</td>\n",
              "      <td>231455.0</td>\n",
              "      <td>223933.0</td>\n",
              "      <td>222883.0</td>\n",
              "      <td>226415</td>\n",
              "      <td>231894</td>\n",
              "    </tr>\n",
              "  </tbody>\n",
              "</table>\n",
              "</div>"
            ],
            "text/plain": [
              "                   States/UTs  Surfaced      2006      2007      2008  \\\n",
              "0              Andhra Pradesh     93573   17468.0   18859.0   15320.0   \n",
              "1           Arunachal Pradesh      5262     177.0     110.0     212.0   \n",
              "2                       Assam     27622    2575.0    2579.0    2776.0   \n",
              "3                       Bihar     94421    2048.0    2677.0    3661.0   \n",
              "4                Chhattisgarh     30295    5883.0    5492.0    5849.0   \n",
              "5                         Goa      3221    1507.0    1582.0    1935.0   \n",
              "6                     Gujarat     50621   11893.0   12755.0   14500.0   \n",
              "7                     Haryana      4622    3182.0    4214.0    4043.0   \n",
              "8            Himachal Pradesh     14714     993.0     960.0    1077.0   \n",
              "9             Jammu & Kashmir     12404    1885.0    2191.0    2874.0   \n",
              "10                  Jharkhand     17097    2221.0    1909.0    2044.0   \n",
              "11                  Karnataka     90260   21683.0   22236.0   21713.0   \n",
              "12                     Kerala     79354   14234.0   15629.0   14561.0   \n",
              "13             Madhya Pradesh     75718   19515.0   23033.0   22927.0   \n",
              "14                Maharashtra    193806   47843.0   47329.0   46895.0   \n",
              "15                    Manipur      3919     326.0     378.0     409.0   \n",
              "16                  Meghalaya      1194     270.0     122.0     117.0   \n",
              "17                    Mizoram      2561      51.0      46.0      67.0   \n",
              "18                   Nagaland     10930     137.0     159.0      54.0   \n",
              "19                     Odisha    213446    3642.0    3594.0    3820.0   \n",
              "20                     Punjab     62900    1633.0    2181.0    1942.0   \n",
              "21                  Rajasthan     67313   10838.0    8728.0    8582.0   \n",
              "22                     Sikkim      3343      51.0      47.0      68.0   \n",
              "23                 Tamil Nadu    107803   22301.0   24319.0   24302.0   \n",
              "24                    Tripura      8976     292.0     287.0     218.0   \n",
              "25                Uttarakhand      6933     689.0     711.0     704.0   \n",
              "26              Uttar Pradesh     79446    8357.0   10182.0   11611.0   \n",
              "27                West Bengal     38156    5569.0    5308.0    5813.0   \n",
              "28  Andaman & Nicobar Islands       111      80.0     110.0     120.0   \n",
              "29                 Chandigarh       967     480.0     486.0     416.0   \n",
              "30                  All India   1400988  217062.0  227212.0  228009.0   \n",
              "\n",
              "        2009      2010      2011      2012      2013    2014    2015  \n",
              "0    17465.0   17996.0   19081.0   14578.0   17355.0    7815    7263  \n",
              "1      138.0     165.0     140.0     147.0     242.0     149     184  \n",
              "2     2938.0    3741.0    3951.0    4174.0    4112.0    4186    4121  \n",
              "3     3968.0    3908.0    4746.0    5124.0    4470.0    4580    4250  \n",
              "4     5616.0    6341.0    6402.0    6183.0    5824.0    6049    6072  \n",
              "5     1841.0    2334.0    1906.0    1752.0    1920.0    1904    2019  \n",
              "6    11845.0   11287.0   10797.0   10382.0    9434.0    8597    9101  \n",
              "7     4199.0    3898.0    3907.0    3221.0    3485.0    3628    3892  \n",
              "8     1116.0    1198.0    1153.0    1012.0    1093.0    1138     796  \n",
              "9     2745.0    1982.0    2738.0    2540.0    2601.0    2421    2385  \n",
              "10    2027.0    2367.0    2378.0    2496.0    2546.0    2547    2464  \n",
              "11   20433.0   21841.0   18159.0   17797.0   18541.0   16617   17923  \n",
              "12   13851.0   13712.0   13765.0   14147.0   13775.0   14171   15216  \n",
              "13   23591.0   25596.0   25937.0   26726.0   26253.0   27474   27397  \n",
              "14   46520.0   41409.0   39676.0   38227.0   36069.0   36473   37506  \n",
              "15     154.0     238.0     245.0     502.0     246.0     166     188  \n",
              "16     140.0     221.0     305.0     354.0     346.0     311     265  \n",
              "17      51.0      77.0      39.0      47.0      46.0      70      36  \n",
              "18      42.0      35.0      39.0      32.0      50.0     248      17  \n",
              "19    3980.0    4397.0    4550.0    4378.0    4500.0    4405    5054  \n",
              "20    2059.0    2247.0    2255.0    2175.0    2404.0    2641    2443  \n",
              "21    8865.0    8880.0    8923.0    8407.0    8653.0    8964    8648  \n",
              "22     160.0      72.0     127.0      53.0      80.0     146      99  \n",
              "23   29076.0   26955.0   28387.0   28224.0   27333.0   24869   28533  \n",
              "24     173.0     205.0     292.0     377.0     398.0     325     310  \n",
              "25     823.0     790.0     729.0     796.0     649.0     735     801  \n",
              "26   12665.0   14453.0   13801.0   15715.0   15964.0   18605   17918  \n",
              "27    5163.0    8694.0    8550.0    6025.0    5694.0    6892    6372  \n",
              "28     175.0     149.0      53.0      74.0      61.0     131     153  \n",
              "29     392.0     398.0     367.0     367.0     327.0     336     388  \n",
              "30  230687.0  233757.0  231455.0  223933.0  222883.0  226415  231894  "
            ]
          },
          "metadata": {
            "tags": []
          },
          "execution_count": 187
        }
      ]
    },
    {
      "cell_type": "code",
      "metadata": {
        "id": "22qo7HQqwyUI",
        "colab_type": "code",
        "outputId": "7e7a30f1-2e81-40fa-916c-cf72f3a6f78c",
        "colab": {
          "base_uri": "https://localhost:8080/",
          "height": 303
        }
      },
      "source": [
        "# Regression ML\n",
        "\n",
        "import numpy as np\n",
        "import pandas as pd\n",
        "import matplotlib.pyplot as plt\n",
        "import seaborn as sns\n",
        "import statsmodels.api as sm\n",
        "\n",
        "cars = sm.datasets.get_rdataset('mtcars').data\n",
        "# print(cars.head(4).T)\n",
        "# print(cars.head())\n",
        "\n",
        "# print(cars.info())\n",
        "\n",
        "\n",
        "sns.regplot(x=cars.mpg, y=cars.wt, ci=95)\n",
        "\n",
        "corcoef = np.corrcoef(cars.mpg, cars.wt)[0,1]\n",
        "\n",
        "text_cc = '\\n\\n\\n\\nCorrelation coefficient is %1.4f'%corcoef\n",
        "plt.title('Scatter plot MPG Vs Weight')\n",
        "plt.suptitle(text_cc)\n",
        "plt.gcf().tight_layout()\n",
        "# plt.text(15,6.5,text_cc)\n",
        "\n",
        "plt.show()"
      ],
      "execution_count": 0,
      "outputs": [
        {
          "output_type": "display_data",
          "data": {
            "image/png": "[encoded data removed]",
            "text/plain": [
              "<Figure size 432x288 with 1 Axes>"
            ]
          },
          "metadata": {
            "tags": []
          }
        }
      ]
    },
    {
      "cell_type": "code",
      "metadata": {
        "id": "gCw-UHhq5CaM",
        "colab_type": "code",
        "outputId": "ea2bd8b4-f791-4cfb-e55a-0a3553d67922",
        "colab": {
          "base_uri": "https://localhost:8080/",
          "height": 269
        }
      },
      "source": [
        "sns.heatmap(cars.corr(), cmap='BuGn')\n",
        "plt.show()"
      ],
      "execution_count": 0,
      "outputs": [
        {
          "output_type": "display_data",
          "data": {
            "image/png": "[encoded data removed]",
            "text/plain": [
              "<Figure size 432x288 with 2 Axes>"
            ]
          },
          "metadata": {
            "tags": []
          }
        }
      ]
    },
    {
      "cell_type": "code",
      "metadata": {
        "id": "3E1aKYkB_I1-",
        "colab_type": "code",
        "outputId": "616c5f75-5cf5-4533-9bb6-df2923572492",
        "colab": {
          "base_uri": "https://localhost:8080/",
          "height": 495
        }
      },
      "source": [
        "import statsmodels.api as sm\n",
        "X  = cars.wt\n",
        "y = cars.mpg\n",
        "\n",
        "X = sm.add_constant(X)\n",
        "\n",
        "model = sm.OLS(y, X).fit()\n",
        "predections = model.predict(X)\n",
        "\n",
        "model.summary()"
      ],
      "execution_count": 0,
      "outputs": [
        {
          "output_type": "stream",
          "text": [
            "/usr/local/lib/python3.6/dist-packages/numpy/core/fromnumeric.py:2389: FutureWarning: Method .ptp is deprecated and will be removed in a future version. Use numpy.ptp instead.\n",
            "  return ptp(axis=axis, out=out, **kwargs)\n"
          ],
          "name": "stderr"
        },
        {
          "output_type": "execute_result",
          "data": {
            "text/html": [
              "<table class=\"simpletable\">\n",
              "<caption>OLS Regression Results</caption>\n",
              "<tr>\n",
              "  <th>Dep. Variable:</th>           <td>mpg</td>       <th>  R-squared:         </th> <td>   0.753</td>\n",
              "</tr>\n",
              "<tr>\n",
              "  <th>Model:</th>                   <td>OLS</td>       <th>  Adj. R-squared:    </th> <td>   0.745</td>\n",
              "</tr>\n",
              "<tr>\n",
              "  <th>Method:</th>             <td>Least Squares</td>  <th>  F-statistic:       </th> <td>   91.38</td>\n",
              "</tr>\n",
              "<tr>\n",
              "  <th>Date:</th>             <td>Tue, 07 May 2019</td> <th>  Prob (F-statistic):</th> <td>1.29e-10</td>\n",
              "</tr>\n",
              "<tr>\n",
              "  <th>Time:</th>                 <td>11:13:35</td>     <th>  Log-Likelihood:    </th> <td> -80.015</td>\n",
              "</tr>\n",
              "<tr>\n",
              "  <th>No. Observations:</th>      <td>    32</td>      <th>  AIC:               </th> <td>   164.0</td>\n",
              "</tr>\n",
              "<tr>\n",
              "  <th>Df Residuals:</th>          <td>    30</td>      <th>  BIC:               </th> <td>   167.0</td>\n",
              "</tr>\n",
              "<tr>\n",
              "  <th>Df Model:</th>              <td>     1</td>      <th>                     </th>     <td> </td>   \n",
              "</tr>\n",
              "<tr>\n",
              "  <th>Covariance Type:</th>      <td>nonrobust</td>    <th>                     </th>     <td> </td>   \n",
              "</tr>\n",
              "</table>\n",
              "<table class=\"simpletable\">\n",
              "<tr>\n",
              "    <td></td>       <th>coef</th>     <th>std err</th>      <th>t</th>      <th>P>|t|</th>  <th>[0.025</th>    <th>0.975]</th>  \n",
              "</tr>\n",
              "<tr>\n",
              "  <th>const</th> <td>   37.2851</td> <td>    1.878</td> <td>   19.858</td> <td> 0.000</td> <td>   33.450</td> <td>   41.120</td>\n",
              "</tr>\n",
              "<tr>\n",
              "  <th>wt</th>    <td>   -5.3445</td> <td>    0.559</td> <td>   -9.559</td> <td> 0.000</td> <td>   -6.486</td> <td>   -4.203</td>\n",
              "</tr>\n",
              "</table>\n",
              "<table class=\"simpletable\">\n",
              "<tr>\n",
              "  <th>Omnibus:</th>       <td> 2.988</td> <th>  Durbin-Watson:     </th> <td>   1.252</td>\n",
              "</tr>\n",
              "<tr>\n",
              "  <th>Prob(Omnibus):</th> <td> 0.225</td> <th>  Jarque-Bera (JB):  </th> <td>   2.399</td>\n",
              "</tr>\n",
              "<tr>\n",
              "  <th>Skew:</th>          <td> 0.668</td> <th>  Prob(JB):          </th> <td>   0.301</td>\n",
              "</tr>\n",
              "<tr>\n",
              "  <th>Kurtosis:</th>      <td> 2.877</td> <th>  Cond. No.          </th> <td>    12.7</td>\n",
              "</tr>\n",
              "</table><br/><br/>Warnings:<br/>[1] Standard Errors assume that the covariance matrix of the errors is correctly specified."
            ],
            "text/plain": [
              "<class 'statsmodels.iolib.summary.Summary'>\n",
              "\"\"\"\n",
              "                            OLS Regression Results                            \n",
              "==============================================================================\n",
              "Dep. Variable:                    mpg   R-squared:                       0.753\n",
              "Model:                            OLS   Adj. R-squared:                  0.745\n",
              "Method:                 Least Squares   F-statistic:                     91.38\n",
              "Date:                Tue, 07 May 2019   Prob (F-statistic):           1.29e-10\n",
              "Time:                        11:13:35   Log-Likelihood:                -80.015\n",
              "No. Observations:                  32   AIC:                             164.0\n",
              "Df Residuals:                      30   BIC:                             167.0\n",
              "Df Model:                           1                                         \n",
              "Covariance Type:            nonrobust                                         \n",
              "==============================================================================\n",
              "                 coef    std err          t      P>|t|      [0.025      0.975]\n",
              "------------------------------------------------------------------------------\n",
              "const         37.2851      1.878     19.858      0.000      33.450      41.120\n",
              "wt            -5.3445      0.559     -9.559      0.000      -6.486      -4.203\n",
              "==============================================================================\n",
              "Omnibus:                        2.988   Durbin-Watson:                   1.252\n",
              "Prob(Omnibus):                  0.225   Jarque-Bera (JB):                2.399\n",
              "Skew:                           0.668   Prob(JB):                        0.301\n",
              "Kurtosis:                       2.877   Cond. No.                         12.7\n",
              "==============================================================================\n",
              "\n",
              "Warnings:\n",
              "[1] Standard Errors assume that the covariance matrix of the errors is correctly specified.\n",
              "\"\"\""
            ]
          },
          "metadata": {
            "tags": []
          },
          "execution_count": 208
        }
      ]
    },
    {
      "cell_type": "code",
      "metadata": {
        "id": "HgmnLIriE_lI",
        "colab_type": "code",
        "outputId": "2fa49cb8-b1d3-40d3-d06d-a24074fe072c",
        "colab": {
          "base_uri": "https://localhost:8080/",
          "height": 35
        }
      },
      "source": [
        "new_X = [1, 3.0]\n",
        "\n",
        "predections = model.predict(new_X)\n",
        "\n",
        "print('Predicted mpg of the car with weight %d(000 lbs) is %2.2f' %(3.0, np.round(predections,3)))"
      ],
      "execution_count": 0,
      "outputs": [
        {
          "output_type": "stream",
          "text": [
            "Predicted mpg of the car with weight 3(000 lbs) is 21.25\n"
          ],
          "name": "stdout"
        }
      ]
    },
    {
      "cell_type": "code",
      "metadata": {
        "id": "juK5RZvNGgQQ",
        "colab_type": "code",
        "outputId": "3ed71142-6561-4cfe-e495-cccb1c412029",
        "colab": {
          "base_uri": "https://localhost:8080/",
          "height": 156
        }
      },
      "source": [
        "from sklearn import linear_model\n",
        "\n",
        "X = np.array(cars.wt).reshape(-1, 1)\n",
        "y = cars.mpg\n",
        "lm = linear_model.LinearRegression()\n",
        "model = lm.fit(X, y)\n",
        "\n",
        "\n",
        "predictions = lm.predict(X)\n",
        "# predictions = model.predict(X)\n",
        "print(predictions)\n",
        "\n",
        "# get the R2 score of the model\n",
        "print('R square is %1.3f' %lm.score(X, y))\n",
        "\n",
        "new_X = np.array([3.0]).reshape(-1,1)\n",
        "predictions = lm.predict(new_X)\n",
        "print(predictions)"
      ],
      "execution_count": 0,
      "outputs": [
        {
          "output_type": "stream",
          "text": [
            "[23.28261065 21.9197704  24.88595212 20.10265006 18.90014396 18.79325453\n",
            " 18.20536265 20.23626185 20.45004071 18.90014396 18.90014396 15.53312687\n",
            " 17.3502472  17.08302362  9.22665041  8.29671236  8.71892561 25.52728871\n",
            " 28.65380458 27.47802083 24.11100374 18.47258623 18.92686632 16.76235533\n",
            " 16.73563297 26.94357367 25.847957   29.19894068 20.34315128 22.48093991\n",
            " 18.20536265 22.4274952 ]\n",
            "R square is 0.753\n",
            "[21.25171145]\n"
          ],
          "name": "stdout"
        }
      ]
    },
    {
      "cell_type": "code",
      "metadata": {
        "id": "jRHTC3QsrQtC",
        "colab_type": "code",
        "outputId": "40c4254c-8902-4d99-845c-7588135a561d",
        "colab": {
          "base_uri": "https://localhost:8080/",
          "height": 302
        }
      },
      "source": [
        "# Redo the ex 1 : by using the variables, cars.mpg and cars.qsec\n",
        "\n",
        "import numpy as np\n",
        "import pandas as pd\n",
        "import matplotlib.pyplot as plt\n",
        "import seaborn as sns\n",
        "import statsmodels.api as sm\n",
        "\n",
        "cars = sm.datasets.get_rdataset('mtcars').data\n",
        "# print(cars.head(4).T)\n",
        "# print(cars.head())\n",
        "\n",
        "# print(cars.info())\n",
        "\n",
        "\n",
        "sns.regplot(x=cars.mpg, y=cars.qsec, ci=95)\n",
        "\n",
        "corcoef = np.corrcoef(cars.mpg, cars.qsec)[0,1]\n",
        "\n",
        "text_cc = '\\n\\n\\n\\nCorrelation coefficient is %1.4f'%corcoef\n",
        "plt.title('Scatter plot MPG Vs Qsec')\n",
        "plt.suptitle(text_cc)\n",
        "plt.gcf().tight_layout()\n",
        "# plt.text(15,6.5,text_cc)\n",
        "\n",
        "plt.show()"
      ],
      "execution_count": 0,
      "outputs": [
        {
          "output_type": "display_data",
          "data": {
            "image/png": "[encoded data removed]",
            "text/plain": [
              "<Figure size 432x288 with 1 Axes>"
            ]
          },
          "metadata": {
            "tags": []
          }
        }
      ]
    },
    {
      "cell_type": "code",
      "metadata": {
        "id": "F4NpcXZlsOtw",
        "colab_type": "code",
        "outputId": "938165b5-e755-445b-fa81-c2bcfab56b77",
        "colab": {
          "base_uri": "https://localhost:8080/",
          "height": 482
        }
      },
      "source": [
        "import statsmodels.api as sm\n",
        "X  = cars.wt\n",
        "y = cars.qsec\n",
        "\n",
        "X = sm.add_constant(X)\n",
        "\n",
        "model = sm.OLS(y, X).fit()\n",
        "predections = model.predict(X)\n",
        "\n",
        "# print(predections)\n",
        "\n",
        "model.summary()"
      ],
      "execution_count": 0,
      "outputs": [
        {
          "output_type": "stream",
          "text": [
            "/usr/local/lib/python3.6/dist-packages/numpy/core/fromnumeric.py:2389: FutureWarning: Method .ptp is deprecated and will be removed in a future version. Use numpy.ptp instead.\n",
            "  return ptp(axis=axis, out=out, **kwargs)\n"
          ],
          "name": "stderr"
        },
        {
          "output_type": "execute_result",
          "data": {
            "text/html": [
              "<table class=\"simpletable\">\n",
              "<caption>OLS Regression Results</caption>\n",
              "<tr>\n",
              "  <th>Dep. Variable:</th>          <td>qsec</td>       <th>  R-squared:         </th> <td>   0.031</td>\n",
              "</tr>\n",
              "<tr>\n",
              "  <th>Model:</th>                   <td>OLS</td>       <th>  Adj. R-squared:    </th> <td>  -0.002</td>\n",
              "</tr>\n",
              "<tr>\n",
              "  <th>Method:</th>             <td>Least Squares</td>  <th>  F-statistic:       </th> <td>  0.9446</td>\n",
              "</tr>\n",
              "<tr>\n",
              "  <th>Date:</th>             <td>Wed, 08 May 2019</td> <th>  Prob (F-statistic):</th>  <td> 0.339</td> \n",
              "</tr>\n",
              "<tr>\n",
              "  <th>Time:</th>                 <td>04:31:53</td>     <th>  Log-Likelihood:    </th> <td> -62.978</td>\n",
              "</tr>\n",
              "<tr>\n",
              "  <th>No. Observations:</th>      <td>    32</td>      <th>  AIC:               </th> <td>   130.0</td>\n",
              "</tr>\n",
              "<tr>\n",
              "  <th>Df Residuals:</th>          <td>    30</td>      <th>  BIC:               </th> <td>   132.9</td>\n",
              "</tr>\n",
              "<tr>\n",
              "  <th>Df Model:</th>              <td>     1</td>      <th>                     </th>     <td> </td>   \n",
              "</tr>\n",
              "<tr>\n",
              "  <th>Covariance Type:</th>      <td>nonrobust</td>    <th>                     </th>     <td> </td>   \n",
              "</tr>\n",
              "</table>\n",
              "<table class=\"simpletable\">\n",
              "<tr>\n",
              "    <td></td>       <th>coef</th>     <th>std err</th>      <th>t</th>      <th>P>|t|</th>  <th>[0.025</th>    <th>0.975]</th>  \n",
              "</tr>\n",
              "<tr>\n",
              "  <th>const</th> <td>   18.8753</td> <td>    1.103</td> <td>   17.120</td> <td> 0.000</td> <td>   16.624</td> <td>   21.127</td>\n",
              "</tr>\n",
              "<tr>\n",
              "  <th>wt</th>    <td>   -0.3191</td> <td>    0.328</td> <td>   -0.972</td> <td> 0.339</td> <td>   -0.990</td> <td>    0.351</td>\n",
              "</tr>\n",
              "</table>\n",
              "<table class=\"simpletable\">\n",
              "<tr>\n",
              "  <th>Omnibus:</th>       <td> 2.374</td> <th>  Durbin-Watson:     </th> <td>   1.346</td>\n",
              "</tr>\n",
              "<tr>\n",
              "  <th>Prob(Omnibus):</th> <td> 0.305</td> <th>  Jarque-Bera (JB):  </th> <td>   1.179</td>\n",
              "</tr>\n",
              "<tr>\n",
              "  <th>Skew:</th>          <td> 0.343</td> <th>  Prob(JB):          </th> <td>   0.555</td>\n",
              "</tr>\n",
              "<tr>\n",
              "  <th>Kurtosis:</th>      <td> 3.644</td> <th>  Cond. No.          </th> <td>    12.7</td>\n",
              "</tr>\n",
              "</table><br/><br/>Warnings:<br/>[1] Standard Errors assume that the covariance matrix of the errors is correctly specified."
            ],
            "text/plain": [
              "<class 'statsmodels.iolib.summary.Summary'>\n",
              "\"\"\"\n",
              "                            OLS Regression Results                            \n",
              "==============================================================================\n",
              "Dep. Variable:                   qsec   R-squared:                       0.031\n",
              "Model:                            OLS   Adj. R-squared:                 -0.002\n",
              "Method:                 Least Squares   F-statistic:                    0.9446\n",
              "Date:                Wed, 08 May 2019   Prob (F-statistic):              0.339\n",
              "Time:                        04:31:53   Log-Likelihood:                -62.978\n",
              "No. Observations:                  32   AIC:                             130.0\n",
              "Df Residuals:                      30   BIC:                             132.9\n",
              "Df Model:                           1                                         \n",
              "Covariance Type:            nonrobust                                         \n",
              "==============================================================================\n",
              "                 coef    std err          t      P>|t|      [0.025      0.975]\n",
              "------------------------------------------------------------------------------\n",
              "const         18.8753      1.103     17.120      0.000      16.624      21.127\n",
              "wt            -0.3191      0.328     -0.972      0.339      -0.990       0.351\n",
              "==============================================================================\n",
              "Omnibus:                        2.374   Durbin-Watson:                   1.346\n",
              "Prob(Omnibus):                  0.305   Jarque-Bera (JB):                1.179\n",
              "Skew:                           0.343   Prob(JB):                        0.555\n",
              "Kurtosis:                       3.644   Cond. No.                         12.7\n",
              "==============================================================================\n",
              "\n",
              "Warnings:\n",
              "[1] Standard Errors assume that the covariance matrix of the errors is correctly specified.\n",
              "\"\"\""
            ]
          },
          "metadata": {
            "tags": []
          },
          "execution_count": 5
        }
      ]
    },
    {
      "cell_type": "code",
      "metadata": {
        "id": "OSt9KdBftozK",
        "colab_type": "code",
        "outputId": "a111a30b-ac11-4ea4-9aa3-03dbabf424f8",
        "colab": {
          "base_uri": "https://localhost:8080/",
          "height": 140
        }
      },
      "source": [
        "from sklearn import linear_model\n",
        "\n",
        "X = np.array(cars.wt).reshape(-1, 1)\n",
        "y = cars.qsec\n",
        "lm = linear_model.LinearRegression()\n",
        "model = lm.fit(X, y)\n",
        "\n",
        "\n",
        "predictions = lm.predict(X)\n",
        "# predictions = model.predict(X)\n",
        "print(predictions)\n",
        "\n",
        "# get the R2 score of the model\n",
        "print('R square is %1.3f' %lm.score(X, y))\n"
      ],
      "execution_count": 0,
      "outputs": [
        {
          "output_type": "stream",
          "text": [
            "[18.03932124 17.95795553 18.13504559 17.84946793 17.77767467 17.77129304\n",
            " 17.73619411 17.85744496 17.87020821 17.77767467 17.77767467 17.57665352\n",
            " 17.68514112 17.66918706 17.20013773 17.1446176  17.16982501 18.17333533\n",
            " 18.35999782 18.28979996 18.08877882 17.75214817 17.77927007 17.65004219\n",
            " 17.64844679 18.25789185 18.1924802  18.3925441  17.86382659 17.99145906\n",
            " 17.73619411 17.98826825]\n",
            "R square is 0.031\n"
          ],
          "name": "stdout"
        }
      ]
    },
    {
      "cell_type": "code",
      "metadata": {
        "id": "yPPEbwDLr5AX",
        "colab_type": "code",
        "outputId": "db92474f-6625-4960-dd71-008893bacced",
        "colab": {
          "base_uri": "https://localhost:8080/",
          "height": 175
        }
      },
      "source": [
        "# Redo the ex 1: by using the variables cars.mpg and cars.disp\n",
        "\n",
        "from sklearn import linear_model\n",
        "\n",
        "X = np.array(cars.wt).reshape(-1, 1)\n",
        "y = cars.disp\n",
        "lm = linear_model.LinearRegression()\n",
        "model = lm.fit(X, y)\n",
        "\n",
        "\n",
        "predictions = lm.predict(X)\n",
        "# predictions = model.predict(X)\n",
        "print(predictions)\n",
        "\n",
        "# get the R2 score of the model\n",
        "print('R square is %1.3f' %lm.score(X, y))\n",
        "\n",
        "new_X = np.array([3.0]).reshape(-1,1)\n",
        "predictions = lm.predict(new_X)\n",
        "print(predictions)"
      ],
      "execution_count": 0,
      "outputs": [
        {
          "output_type": "stream",
          "text": [
            "[163.54430684 192.22623213 129.80086532 230.46879919 255.77638033\n",
            " 258.0259431  270.39853832 227.65684573 223.15772019 255.77638033\n",
            " 255.77638033 326.63760752 288.39504046 294.01894738 459.36181083\n",
            " 478.93300691 470.04723397 116.30348872  50.50377775  75.2489682\n",
            " 146.11019539 264.7746314  255.21398964 300.76763569 301.33002638\n",
            "  86.49678204 109.55480041  39.03100764 225.40728296 180.4160276\n",
            " 270.39853832 181.54080899]\n",
            "R square is 0.789\n",
            "[206.28599943]\n"
          ],
          "name": "stdout"
        }
      ]
    },
    {
      "cell_type": "code",
      "metadata": {
        "id": "Q0XxMgUstETZ",
        "colab_type": "code",
        "outputId": "c272a494-1d94-4065-f576-5567abbd5221",
        "colab": {
          "base_uri": "https://localhost:8080/",
          "height": 775
        }
      },
      "source": [
        "# Example 5:\n",
        "  \n",
        "#   Let us try with two predictions for the ex 1:\n",
        "\n",
        "import statsmodels.api as sm\n",
        "import scipy.stats as state\n",
        "import matplotlib.pyplot as plt\n",
        "import sklearn as lm\n",
        "\n",
        "X = cars[[\"wt\", \"disp\"]]\n",
        "y = cars.mpg\n",
        "\n",
        "X = sm.add_constant(X)\n",
        "print(X)\n",
        "\n",
        "model = sm.OLS(y, X).fit()\n",
        "predections = model.predict(X)\n",
        "\n",
        "model.summary()\n",
        "\n",
        "\n",
        "# sklearn\n",
        "\n",
        "lm = linear_model.LinearRegression()\n",
        "model = lm.fit(X, y)\n",
        "\n",
        "\n",
        "predictions = lm.predict(X)\n",
        "# predictions = model.predict(X)\n",
        "print(predictions)\n",
        "\n",
        "# get the R2 score of the model\n",
        "print('R square is %1.3f' %lm.score(X, y))\n"
      ],
      "execution_count": 0,
      "outputs": [
        {
          "output_type": "stream",
          "text": [
            "                     const     wt   disp\n",
            "Mazda RX4              1.0  2.620  160.0\n",
            "Mazda RX4 Wag          1.0  2.875  160.0\n",
            "Datsun 710             1.0  2.320  108.0\n",
            "Hornet 4 Drive         1.0  3.215  258.0\n",
            "Hornet Sportabout      1.0  3.440  360.0\n",
            "Valiant                1.0  3.460  225.0\n",
            "Duster 360             1.0  3.570  360.0\n",
            "Merc 240D              1.0  3.190  146.7\n",
            "Merc 230               1.0  3.150  140.8\n",
            "Merc 280               1.0  3.440  167.6\n",
            "Merc 280C              1.0  3.440  167.6\n",
            "Merc 450SE             1.0  4.070  275.8\n",
            "Merc 450SL             1.0  3.730  275.8\n",
            "Merc 450SLC            1.0  3.780  275.8\n",
            "Cadillac Fleetwood     1.0  5.250  472.0\n",
            "Lincoln Continental    1.0  5.424  460.0\n",
            "Chrysler Imperial      1.0  5.345  440.0\n",
            "Fiat 128               1.0  2.200   78.7\n",
            "Honda Civic            1.0  1.615   75.7\n",
            "Toyota Corolla         1.0  1.835   71.1\n",
            "Toyota Corona          1.0  2.465  120.1\n",
            "Dodge Challenger       1.0  3.520  318.0\n",
            "AMC Javelin            1.0  3.435  304.0\n",
            "Camaro Z28             1.0  3.840  350.0\n",
            "Pontiac Firebird       1.0  3.845  400.0\n",
            "Fiat X1-9              1.0  1.935   79.0\n",
            "Porsche 914-2          1.0  2.140  120.3\n",
            "Lotus Europa           1.0  1.513   95.1\n",
            "Ford Pantera L         1.0  3.170  351.0\n",
            "Ferrari Dino           1.0  2.770  145.0\n",
            "Maserati Bora          1.0  3.570  301.0\n",
            "Volvo 142E             1.0  2.780  121.0\n",
            "[23.34543258 22.49097212 25.27236688 19.61466657 17.05280695 19.37863092\n",
            " 16.61719966 21.67120124 21.90981024 20.46304775 20.46304775 16.43421046\n",
            " 17.57349107 17.40594981  9.00264174  8.63229506  9.25150515 26.19380093\n",
            " 28.20720798 27.55156023 24.5720278  17.52918018 18.06214676 15.88972426\n",
            " 14.98673292 27.07645222 25.65750109 28.20513213 18.11705249 23.10867994\n",
            " 17.66295957 23.50056555]\n",
            "R square is 0.781\n"
          ],
          "name": "stdout"
        },
        {
          "output_type": "stream",
          "text": [
            "/usr/local/lib/python3.6/dist-packages/numpy/core/fromnumeric.py:2389: FutureWarning: Method .ptp is deprecated and will be removed in a future version. Use numpy.ptp instead.\n",
            "  return ptp(axis=axis, out=out, **kwargs)\n"
          ],
          "name": "stderr"
        }
      ]
    },
    {
      "cell_type": "code",
      "metadata": {
        "id": "Mv9mvdQfusxA",
        "colab_type": "code",
        "outputId": "0dcab375-d452-463c-e277-ccd65824a057",
        "colab": {
          "base_uri": "https://localhost:8080/",
          "height": 705
        }
      },
      "source": [
        "X = cars.iloc[:,1:11]\n",
        "\n",
        "y = cars.mpg\n",
        "\n",
        "X = sm.add_constant(X)\n",
        "# print(X)\n",
        "\n",
        "model = sm.OLS(y, X).fit()\n",
        "predections = model.predict(X)\n",
        "\n",
        "print(model.summary())\n"
      ],
      "execution_count": 0,
      "outputs": [
        {
          "output_type": "stream",
          "text": [
            "                            OLS Regression Results                            \n",
            "==============================================================================\n",
            "Dep. Variable:                    mpg   R-squared:                       0.869\n",
            "Model:                            OLS   Adj. R-squared:                  0.807\n",
            "Method:                 Least Squares   F-statistic:                     13.93\n",
            "Date:                Wed, 08 May 2019   Prob (F-statistic):           3.79e-07\n",
            "Time:                        05:36:55   Log-Likelihood:                -69.855\n",
            "No. Observations:                  32   AIC:                             161.7\n",
            "Df Residuals:                      21   BIC:                             177.8\n",
            "Df Model:                          10                                         \n",
            "Covariance Type:            nonrobust                                         \n",
            "==============================================================================\n",
            "                 coef    std err          t      P>|t|      [0.025      0.975]\n",
            "------------------------------------------------------------------------------\n",
            "const         12.3034     18.718      0.657      0.518     -26.623      51.229\n",
            "cyl           -0.1114      1.045     -0.107      0.916      -2.285       2.062\n",
            "disp           0.0133      0.018      0.747      0.463      -0.024       0.050\n",
            "hp            -0.0215      0.022     -0.987      0.335      -0.067       0.024\n",
            "drat           0.7871      1.635      0.481      0.635      -2.614       4.188\n",
            "wt            -3.7153      1.894     -1.961      0.063      -7.655       0.224\n",
            "qsec           0.8210      0.731      1.123      0.274      -0.699       2.341\n",
            "vs             0.3178      2.105      0.151      0.881      -4.059       4.694\n",
            "am             2.5202      2.057      1.225      0.234      -1.757       6.797\n",
            "gear           0.6554      1.493      0.439      0.665      -2.450       3.761\n",
            "carb          -0.1994      0.829     -0.241      0.812      -1.923       1.524\n",
            "==============================================================================\n",
            "Omnibus:                        1.907   Durbin-Watson:                   1.861\n",
            "Prob(Omnibus):                  0.385   Jarque-Bera (JB):                1.747\n",
            "Skew:                           0.521   Prob(JB):                        0.418\n",
            "Kurtosis:                       2.526   Cond. No.                     1.22e+04\n",
            "==============================================================================\n",
            "\n",
            "Warnings:\n",
            "[1] Standard Errors assume that the covariance matrix of the errors is correctly specified.\n",
            "[2] The condition number is large, 1.22e+04. This might indicate that there are\n",
            "strong multicollinearity or other numerical problems.\n"
          ],
          "name": "stdout"
        },
        {
          "output_type": "stream",
          "text": [
            "/usr/local/lib/python3.6/dist-packages/numpy/core/fromnumeric.py:2389: FutureWarning: Method .ptp is deprecated and will be removed in a future version. Use numpy.ptp instead.\n",
            "  return ptp(axis=axis, out=out, **kwargs)\n"
          ],
          "name": "stderr"
        }
      ]
    },
    {
      "cell_type": "code",
      "metadata": {
        "id": "TrXEBxlX3gta",
        "colab_type": "code",
        "outputId": "34c8a5ac-c5b6-446b-864c-9d7cdd8ae530",
        "colab": {
          "base_uri": "https://localhost:8080/",
          "height": 652
        }
      },
      "source": [
        "X = X.drop(['cyl', 'vs', 'carb'], axis=1)\n",
        "\n",
        "# print(X)\n",
        "\n",
        "y = cars.mpg\n",
        "\n",
        "X = sm.add_constant(X)\n",
        "# print(X)\n",
        "\n",
        "model = sm.OLS(y, X).fit()\n",
        "predections = model.predict(X)\n",
        "\n",
        "print(model.summary())\n"
      ],
      "execution_count": 0,
      "outputs": [
        {
          "output_type": "stream",
          "text": [
            "                            OLS Regression Results                            \n",
            "==============================================================================\n",
            "Dep. Variable:                    mpg   R-squared:                       0.868\n",
            "Model:                            OLS   Adj. R-squared:                  0.830\n",
            "Method:                 Least Squares   F-statistic:                     22.56\n",
            "Date:                Wed, 08 May 2019   Prob (F-statistic):           4.22e-09\n",
            "Time:                        05:37:02   Log-Likelihood:                -69.967\n",
            "No. Observations:                  32   AIC:                             155.9\n",
            "Df Residuals:                      24   BIC:                             167.7\n",
            "Df Model:                           7                                         \n",
            "Covariance Type:            nonrobust                                         \n",
            "==============================================================================\n",
            "                 coef    std err          t      P>|t|      [0.025      0.975]\n",
            "------------------------------------------------------------------------------\n",
            "const          9.1976     11.542      0.797      0.433     -14.624      33.020\n",
            "disp           0.0155      0.012      1.278      0.213      -0.010       0.041\n",
            "hp            -0.0247      0.016     -1.548      0.135      -0.058       0.008\n",
            "drat           0.8102      1.450      0.559      0.582      -2.183       3.803\n",
            "wt            -4.1307      1.236     -3.342      0.003      -6.681      -1.580\n",
            "qsec           1.0098      0.489      2.066      0.050       0.001       2.019\n",
            "am             2.5898      1.835      1.411      0.171      -1.198       6.378\n",
            "gear           0.6064      1.206      0.503      0.620      -1.883       3.095\n",
            "==============================================================================\n",
            "Omnibus:                        2.570   Durbin-Watson:                   1.840\n",
            "Prob(Omnibus):                  0.277   Jarque-Bera (JB):                2.325\n",
            "Skew:                           0.613   Prob(JB):                        0.313\n",
            "Kurtosis:                       2.508   Cond. No.                     8.02e+03\n",
            "==============================================================================\n",
            "\n",
            "Warnings:\n",
            "[1] Standard Errors assume that the covariance matrix of the errors is correctly specified.\n",
            "[2] The condition number is large, 8.02e+03. This might indicate that there are\n",
            "strong multicollinearity or other numerical problems.\n"
          ],
          "name": "stdout"
        },
        {
          "output_type": "stream",
          "text": [
            "/usr/local/lib/python3.6/dist-packages/numpy/core/fromnumeric.py:2389: FutureWarning: Method .ptp is deprecated and will be removed in a future version. Use numpy.ptp instead.\n",
            "  return ptp(axis=axis, out=out, **kwargs)\n"
          ],
          "name": "stderr"
        }
      ]
    },
    {
      "cell_type": "code",
      "metadata": {
        "id": "uAH4_LUQA9Ej",
        "colab_type": "code",
        "outputId": "20f59f23-1af6-4b61-f087-9fad8521141d",
        "colab": {
          "resources": {
            "http://localhost:8080/nbextensions/google.colab/files.js": {
              "data": "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",
              "ok": true,
              "headers": [
                [
                  "content-type",
                  "application/javascript"
                ]
              ],
              "status": 200,
              "status_text": ""
            }
          },
          "base_uri": "https://localhost:8080/",
          "height": 75
        }
      },
      "source": [
        "from google.colab import files\n",
        "uploaded = files.upload()"
      ],
      "execution_count": 0,
      "outputs": [
        {
          "output_type": "display_data",
          "data": {
            "text/html": [
              "\n",
              "     <input type=\"file\" id=\"files-48ee0cd5-a426-473f-9603-565f8791c9a3\" name=\"files[]\" multiple disabled />\n",
              "     <output id=\"result-48ee0cd5-a426-473f-9603-565f8791c9a3\">\n",
              "      Upload widget is only available when the cell has been executed in the\n",
              "      current browser session. Please rerun this cell to enable.\n",
              "      </output>\n",
              "      <script src=\"/nbextensions/google.colab/files.js\"></script> "
            ],
            "text/plain": [
              "<IPython.core.display.HTML object>"
            ]
          },
          "metadata": {
            "tags": []
          }
        },
        {
          "output_type": "stream",
          "text": [
            "Saving concrete.csv to concrete.csv\n"
          ],
          "name": "stdout"
        }
      ]
    },
    {
      "cell_type": "code",
      "metadata": {
        "id": "l_nRWV9o4BJM",
        "colab_type": "code",
        "outputId": "d23fea53-189e-4b93-c928-6dc6172647cd",
        "colab": {
          "base_uri": "https://localhost:8080/",
          "height": 2407
        }
      },
      "source": [
        "# Automatic model building \n",
        "# coleniearity\n",
        "# variance inflation factor\n",
        "\n",
        "cement = pd.read_csv('concrete.csv')\n",
        "\n",
        "print(cement.shape)\n",
        "print(cement.head)\n",
        "\n",
        "\n",
        "\n",
        "from statsmodels.stats.outliers_influence import variance_inflation_factor\n",
        "\n",
        "[variance_inflation_factor(cement.values, j) for j in range(1, cement.shape[1])]"
      ],
      "execution_count": 0,
      "outputs": [
        {
          "output_type": "stream",
          "text": [
            "(1030, 9)\n",
            "<bound method NDFrame.head of       cement   slag    ash  water  superplastic  coarseagg  fineagg  age  \\\n",
            "0      141.3  212.0    0.0  203.5           0.0      971.8    748.5   28   \n",
            "1      168.9   42.2  124.3  158.3          10.8     1080.8    796.2   14   \n",
            "2      250.0    0.0   95.7  187.4           5.5      956.9    861.2   28   \n",
            "3      266.0  114.0    0.0  228.0           0.0      932.0    670.0   28   \n",
            "4      154.8  183.4    0.0  193.3           9.1     1047.4    696.7   28   \n",
            "5      255.0    0.0    0.0  192.0           0.0      889.8    945.0   90   \n",
            "6      166.8  250.2    0.0  203.5           0.0      975.6    692.6    7   \n",
            "7      251.4    0.0  118.3  188.5           6.4     1028.4    757.7   56   \n",
            "8      296.0    0.0    0.0  192.0           0.0     1085.0    765.0   28   \n",
            "9      155.0  184.0  143.0  194.0           9.0      880.0    699.0   28   \n",
            "10     151.8  178.1  138.7  167.5          18.3      944.0    694.6   28   \n",
            "11     173.0  116.0    0.0  192.0           0.0      946.8    856.8    3   \n",
            "12     385.0    0.0    0.0  186.0           0.0      966.0    763.0   14   \n",
            "13     237.5  237.5    0.0  228.0           0.0      932.0    594.0    7   \n",
            "14     167.0  187.0  195.0  185.0           7.0      898.0    636.0   28   \n",
            "15     213.8   98.1   24.5  181.7           6.7     1066.0    785.5  100   \n",
            "16     237.5  237.5    0.0  228.0           0.0      932.0    594.0   28   \n",
            "17     336.0    0.0    0.0  182.0           3.0      986.0    817.0   28   \n",
            "18     190.7    0.0  125.4  162.1           7.8     1090.0    804.0    3   \n",
            "19     312.7    0.0    0.0  178.1           8.0      999.7    822.2   28   \n",
            "20     229.7    0.0  118.2  195.2           6.1     1028.1    757.6    3   \n",
            "21     228.0  342.1    0.0  185.7           0.0      955.8    674.3    7   \n",
            "22     236.0  157.0    0.0  192.0           0.0      972.6    749.1    7   \n",
            "23     132.0  207.0  161.0  179.0           5.0      867.0    736.0   28   \n",
            "24     331.0    0.0    0.0  192.0           0.0     1025.0    821.0   28   \n",
            "25     310.0  143.0    0.0  168.0          10.0      914.0    804.0   28   \n",
            "26     304.0   76.0    0.0  228.0           0.0      932.0    670.0   90   \n",
            "27     425.0  106.3    0.0  153.5          16.5      852.1    887.1   91   \n",
            "28     166.1    0.0  163.3  176.5           4.5     1058.6    780.1   28   \n",
            "29     255.0   99.0   77.0  189.0           6.0      919.0    749.0   28   \n",
            "...      ...    ...    ...    ...           ...        ...      ...  ...   \n",
            "1000   165.0    0.0  143.6  163.8           0.0     1005.6    900.9  100   \n",
            "1001   233.8    0.0   94.6  197.9           4.6      947.0    852.2   28   \n",
            "1002   316.1  210.7    0.0  185.7           0.0      977.0    689.3   28   \n",
            "1003   323.7  282.8    0.0  183.8          10.3      942.7    659.9   56   \n",
            "1004   250.0    0.0   95.7  191.8           5.3      948.9    857.2   28   \n",
            "1005   387.0   20.0   94.0  157.0          14.3      938.0    845.0   28   \n",
            "1006   158.0    0.0  195.0  220.0          11.0      898.0    713.0   28   \n",
            "1007   288.0  192.0    0.0  192.0           0.0      932.0    717.8    3   \n",
            "1008   213.5    0.0  174.2  154.6          11.7     1052.3    775.5  100   \n",
            "1009   213.7   98.1   24.5  181.7           6.9     1065.8    785.4   28   \n",
            "1010   190.3    0.0  125.2  166.6           9.9     1079.0    798.9    3   \n",
            "1011   313.0    0.0    0.0  178.0           8.0     1000.0    822.0   28   \n",
            "1012   296.0    0.0    0.0  192.0           0.0     1085.0    765.0   90   \n",
            "1013   359.0   19.0  141.0  154.0          10.9      942.0    801.0   28   \n",
            "1014   153.1  145.0  113.0  178.5           8.0      867.2    824.0   28   \n",
            "1015   298.0    0.0  107.0  186.0           6.0      879.0    815.0   28   \n",
            "1016   140.0  133.0  103.0  200.0           7.0      916.0    753.0   28   \n",
            "1017   139.6  209.4    0.0  192.0           0.0     1047.0    806.9  180   \n",
            "1018   147.0  115.0   89.0  202.0           9.0      860.0    829.0   28   \n",
            "1019   288.0  192.0    0.0  192.0           0.0      932.0    717.8    7   \n",
            "1020   183.9  122.6    0.0  203.5           0.0      959.2    800.0    7   \n",
            "1021   203.5  305.3    0.0  203.5           0.0      963.4    630.0    3   \n",
            "1022   144.8    0.0  133.6  180.8          11.1      979.5    811.5   28   \n",
            "1023   141.3  212.0    0.0  203.5           0.0      971.8    748.5    7   \n",
            "1024   297.2    0.0  117.5  174.8           9.5     1022.8    753.5    3   \n",
            "1025   135.0    0.0  166.0  180.0          10.0      961.0    805.0   28   \n",
            "1026   531.3    0.0    0.0  141.8          28.2      852.1    893.7    3   \n",
            "1027   276.4  116.0   90.3  179.6           8.9      870.1    768.3   28   \n",
            "1028   342.0   38.0    0.0  228.0           0.0      932.0    670.0  270   \n",
            "1029   540.0    0.0    0.0  173.0           0.0     1125.0    613.0    7   \n",
            "\n",
            "      strength  \n",
            "0        29.89  \n",
            "1        23.51  \n",
            "2        29.22  \n",
            "3        45.85  \n",
            "4        18.29  \n",
            "5        21.86  \n",
            "6        15.75  \n",
            "7        36.64  \n",
            "8        21.65  \n",
            "9        28.99  \n",
            "10       36.35  \n",
            "11        6.94  \n",
            "12       27.92  \n",
            "13       26.26  \n",
            "14       23.89  \n",
            "15       49.97  \n",
            "16       30.08  \n",
            "17       44.86  \n",
            "18       15.04  \n",
            "19       25.10  \n",
            "20       13.36  \n",
            "21       21.92  \n",
            "22       20.42  \n",
            "23       33.30  \n",
            "24       31.74  \n",
            "25       45.30  \n",
            "26       49.19  \n",
            "27       65.20  \n",
            "28       21.54  \n",
            "29       33.80  \n",
            "...        ...  \n",
            "1000     37.96  \n",
            "1001     22.84  \n",
            "1002     38.70  \n",
            "1003     80.20  \n",
            "1004     27.22  \n",
            "1005     50.24  \n",
            "1006      8.54  \n",
            "1007     16.11  \n",
            "1008     59.30  \n",
            "1009     45.71  \n",
            "1010     12.55  \n",
            "1011     25.10  \n",
            "1012     29.39  \n",
            "1013     62.94  \n",
            "1014     26.23  \n",
            "1015     42.64  \n",
            "1016     36.44  \n",
            "1017     44.21  \n",
            "1018     19.99  \n",
            "1019     23.52  \n",
            "1020     10.79  \n",
            "1021      9.56  \n",
            "1022     13.20  \n",
            "1023     10.39  \n",
            "1024     21.91  \n",
            "1025     13.29  \n",
            "1026     41.30  \n",
            "1027     44.28  \n",
            "1028     55.06  \n",
            "1029     52.61  \n",
            "\n",
            "[1030 rows x 9 columns]>\n"
          ],
          "name": "stdout"
        },
        {
          "output_type": "execute_result",
          "data": {
            "text/plain": [
              "[4.442518089309977,\n",
              " 4.560002417136254,\n",
              " 92.50405550361941,\n",
              " 5.519535300205162,\n",
              " 85.89663020690534,\n",
              " 73.51499498282989,\n",
              " 2.4349424482213955,\n",
              " 14.557838329742737]"
            ]
          },
          "metadata": {
            "tags": []
          },
          "execution_count": 47
        }
      ]
    },
    {
      "cell_type": "code",
      "metadata": {
        "id": "lh6iJTo1DTgw",
        "colab_type": "code",
        "outputId": "ab877532-09d8-4cfb-f8d1-28ebbc5ad85e",
        "colab": {
          "base_uri": "https://localhost:8080/",
          "height": 670
        }
      },
      "source": [
        "# Model 'strength' ~ all features\n",
        "\n",
        "Xc = cement.iloc[: , :8]\n",
        "yc = cement.strength\n",
        "\n",
        "\n",
        "Xc = sm.add_constant(Xc)\n",
        "# print(X)\n",
        "\n",
        "model = sm.OLS(yc, Xc).fit()\n",
        "predections = model.predict(Xc)\n",
        "\n",
        "print(model.summary())"
      ],
      "execution_count": 0,
      "outputs": [
        {
          "output_type": "stream",
          "text": [
            "                            OLS Regression Results                            \n",
            "==============================================================================\n",
            "Dep. Variable:               strength   R-squared:                       0.616\n",
            "Model:                            OLS   Adj. R-squared:                  0.613\n",
            "Method:                 Least Squares   F-statistic:                     204.3\n",
            "Date:                Wed, 08 May 2019   Prob (F-statistic):          6.29e-206\n",
            "Time:                        06:12:44   Log-Likelihood:                -3869.0\n",
            "No. Observations:                1030   AIC:                             7756.\n",
            "Df Residuals:                    1021   BIC:                             7800.\n",
            "Df Model:                           8                                         \n",
            "Covariance Type:            nonrobust                                         \n",
            "================================================================================\n",
            "                   coef    std err          t      P>|t|      [0.025      0.975]\n",
            "--------------------------------------------------------------------------------\n",
            "const          -23.3312     26.586     -0.878      0.380     -75.500      28.837\n",
            "cement           0.1198      0.008     14.113      0.000       0.103       0.136\n",
            "slag             0.1039      0.010     10.247      0.000       0.084       0.124\n",
            "ash              0.0879      0.013      6.988      0.000       0.063       0.113\n",
            "water           -0.1499      0.040     -3.731      0.000      -0.229      -0.071\n",
            "superplastic     0.2922      0.093      3.128      0.002       0.109       0.476\n",
            "coarseagg        0.0181      0.009      1.926      0.054      -0.000       0.037\n",
            "fineagg          0.0202      0.011      1.887      0.059      -0.001       0.041\n",
            "age              0.1142      0.005     21.046      0.000       0.104       0.125\n",
            "==============================================================================\n",
            "Omnibus:                        5.378   Durbin-Watson:                   1.870\n",
            "Prob(Omnibus):                  0.068   Jarque-Bera (JB):                5.304\n",
            "Skew:                          -0.174   Prob(JB):                       0.0705\n",
            "Kurtosis:                       3.045   Cond. No.                     1.06e+05\n",
            "==============================================================================\n",
            "\n",
            "Warnings:\n",
            "[1] Standard Errors assume that the covariance matrix of the errors is correctly specified.\n",
            "[2] The condition number is large, 1.06e+05. This might indicate that there are\n",
            "strong multicollinearity or other numerical problems.\n"
          ],
          "name": "stdout"
        },
        {
          "output_type": "stream",
          "text": [
            "/usr/local/lib/python3.6/dist-packages/numpy/core/fromnumeric.py:2389: FutureWarning: Method .ptp is deprecated and will be removed in a future version. Use numpy.ptp instead.\n",
            "  return ptp(axis=axis, out=out, **kwargs)\n"
          ],
          "name": "stderr"
        }
      ]
    },
    {
      "cell_type": "code",
      "metadata": {
        "id": "gsbBUmDiE9Gj",
        "colab_type": "code",
        "outputId": "51e64a83-a5a9-4535-ebb2-fad3164e7a68",
        "colab": {
          "base_uri": "https://localhost:8080/",
          "height": 175
        }
      },
      "source": [
        "# VIF\n",
        "from statsmodels.stats.outliers_influence import variance_inflation_factor\n",
        "\n",
        "[variance_inflation_factor(Xc.values, j) for j in range(Xc.shape[1])]"
      ],
      "execution_count": 0,
      "outputs": [
        {
          "output_type": "execute_result",
          "data": {
            "text/plain": [
              "[6731.81153941005,\n",
              " 7.488943791050504,\n",
              " 7.276963098742672,\n",
              " 6.170634315398794,\n",
              " 7.003956703955316,\n",
              " 2.9637757487001766,\n",
              " 5.074616997481172,\n",
              " 7.005081407516046,\n",
              " 1.1183665239005427]"
            ]
          },
          "metadata": {
            "tags": []
          },
          "execution_count": 68
        }
      ]
    },
    {
      "cell_type": "code",
      "metadata": {
        "id": "uQqxr9RmKGwJ",
        "colab_type": "code",
        "outputId": "cfa6558f-d98b-4d4e-9278-a015f8ab43c8",
        "colab": {
          "base_uri": "https://localhost:8080/",
          "height": 105
        }
      },
      "source": [
        "# Drop features to get VIF < 5\n",
        "\n",
        "# Xd = Xc.drop(['water', 'slag'], axis=1)\n",
        "# Xd = Xc.drop(['cement', 'slag', 'water', 'fineagg', 'ash', 'superplastic', 'coarseagg'], axis=1)\n",
        "Xd = Xc.drop(['cement', 'water', 'fineagg', 'coarseagg'], axis=1)\n",
        "\n",
        "# VIF\n",
        "from statsmodels.stats.outliers_influence import variance_inflation_factor\n",
        "\n",
        "[variance_inflation_factor(Xd.values, j) for j in range(Xd.shape[1])]"
      ],
      "execution_count": 0,
      "outputs": [
        {
          "output_type": "execute_result",
          "data": {
            "text/plain": [
              "[4.611706497439256,\n",
              " 1.1648164502640292,\n",
              " 1.3650533648459466,\n",
              " 1.2303837819476826,\n",
              " 1.0529649753875938]"
            ]
          },
          "metadata": {
            "tags": []
          },
          "execution_count": 73
        }
      ]
    },
    {
      "cell_type": "code",
      "metadata": {
        "id": "QBwTM1ZUgcgE",
        "colab_type": "code",
        "outputId": "500202c9-bc65-4eed-8e73-9093f71c230b",
        "colab": {
          "resources": {
            "http://localhost:8080/nbextensions/google.colab/files.js": {
              "data": "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",
              "ok": true,
              "headers": [
                [
                  "content-type",
                  "application/javascript"
                ]
              ],
              "status": 200,
              "status_text": ""
            }
          },
          "base_uri": "https://localhost:8080/",
          "height": 40
        }
      },
      "source": [
        "# Simple Logistic Regression\n",
        "# in sklearn its logistic regression model\n",
        "# in OLS its logit model\n",
        "\n",
        "from google.colab import files\n",
        "uploaded = files.upload()\n",
        "\n",
        "\n"
      ],
      "execution_count": 0,
      "outputs": [
        {
          "output_type": "display_data",
          "data": {
            "text/html": [
              "\n",
              "     <input type=\"file\" id=\"files-1999bff6-7b0e-4d36-8d18-9fe1f4b3e251\" name=\"files[]\" multiple disabled />\n",
              "     <output id=\"result-1999bff6-7b0e-4d36-8d18-9fe1f4b3e251\">\n",
              "      Upload widget is only available when the cell has been executed in the\n",
              "      current browser session. Please rerun this cell to enable.\n",
              "      </output>\n",
              "      <script src=\"/nbextensions/google.colab/files.js\"></script> "
            ],
            "text/plain": [
              "<IPython.core.display.HTML object>"
            ]
          },
          "metadata": {
            "tags": []
          }
        }
      ]
    },
    {
      "cell_type": "code",
      "metadata": {
        "id": "kZbKmgZVj45H",
        "colab_type": "code",
        "outputId": "dad35355-3318-4a27-e67f-7dc6a13de416",
        "colab": {
          "base_uri": "https://localhost:8080/",
          "height": 685
        }
      },
      "source": [
        "wisc = pd.read_csv('wisc_bc_data.csv')\n",
        "\n",
        "# Check shape of cancer data\n",
        "print(wisc.shape)\n",
        "print(wisc.size)\n",
        "# Print head\n",
        "print(wisc.head())"
      ],
      "execution_count": 0,
      "outputs": [
        {
          "output_type": "stream",
          "text": [
            "(569, 32)\n",
            "18208\n",
            "         id diagnosis  radius_mean  texture_mean  perimeter_mean  area_mean  \\\n",
            "0  87139402         B        12.32         12.39           78.85      464.1   \n",
            "1   8910251         B        10.60         18.95           69.28      346.4   \n",
            "2    905520         B        11.04         16.83           70.92      373.2   \n",
            "3    868871         B        11.28         13.39           73.00      384.8   \n",
            "4   9012568         B        15.19         13.21           97.65      711.8   \n",
            "\n",
            "   smoothness_mean  compactness_mean  concavity_mean  points_mean  ...  \\\n",
            "0          0.10280           0.06981         0.03987      0.03700  ...   \n",
            "1          0.09688           0.11470         0.06387      0.02642  ...   \n",
            "2          0.10770           0.07804         0.03046      0.02480  ...   \n",
            "3          0.11640           0.11360         0.04635      0.04796  ...   \n",
            "4          0.07963           0.06934         0.03393      0.02657  ...   \n",
            "\n",
            "   radius_worst  texture_worst  perimeter_worst  area_worst  smoothness_worst  \\\n",
            "0         13.50          15.64            86.97       549.1            0.1385   \n",
            "1         11.88          22.94            78.28       424.8            0.1213   \n",
            "2         12.41          26.44            79.93       471.4            0.1369   \n",
            "3         11.92          15.77            76.53       434.0            0.1367   \n",
            "4         16.20          15.73           104.50       819.1            0.1126   \n",
            "\n",
            "   compactness_worst  concavity_worst  points_worst  symmetry_worst  \\\n",
            "0             0.1266          0.12420       0.09391          0.2827   \n",
            "1             0.2515          0.19160       0.07926          0.2940   \n",
            "2             0.1482          0.10670       0.07431          0.2998   \n",
            "3             0.1822          0.08669       0.08611          0.2102   \n",
            "4             0.1737          0.13620       0.08178          0.2487   \n",
            "\n",
            "   dimension_worst  \n",
            "0          0.06771  \n",
            "1          0.07587  \n",
            "2          0.07881  \n",
            "3          0.06784  \n",
            "4          0.06766  \n",
            "\n",
            "[5 rows x 32 columns]\n"
          ],
          "name": "stdout"
        }
      ]
    },
    {
      "cell_type": "code",
      "metadata": {
        "id": "mjZ9QJODlLqI",
        "colab_type": "code",
        "colab": {}
      },
      "source": [
        "# Model cancer.target ~ all feature\n",
        "\n",
        "# Convert to string\n",
        "wisc['diagnosis'] = wisc['diagnosis'].map({'B':'0', 'M': '1'})\n",
        "\n",
        "Xw = np.array(wisc.iloc[:, 3:])\n",
        "# np.array([3.0]).reshape(-1,1)\n",
        "yw = wisc.diagnosis\n",
        "\n",
        "\n",
        "# Xw = sm.add_constant(Xw)\n",
        "# print(Xw)\n",
        "\n",
        "# model = sm.OLS(yw, Xw).fit()\n",
        "# predections = model.predict(Xw)\n",
        "\n",
        "# print(model.summary())"
      ],
      "execution_count": 0,
      "outputs": []
    },
    {
      "cell_type": "code",
      "metadata": {
        "id": "iEG9WXmwrjiI",
        "colab_type": "code",
        "colab": {}
      },
      "source": [
        "\n",
        "model = sm.OLS(yw.astype(float), Xw.astype(float)).fit()\n",
        "predections = model.predict(Xw)\n",
        "\n",
        "print(model.summary())"
      ],
      "execution_count": 0,
      "outputs": []
    },
    {
      "cell_type": "code",
      "metadata": {
        "id": "rYKTVOAQtB_I",
        "colab_type": "code",
        "colab": {}
      },
      "source": [
        ">>> from sklearn.datasets import load_iris\n",
        ">>> from sklearn.linear_model import LogisticRegression\n",
        ">>> X, y = load_iris(return_X_y=True)\n",
        ">>> clf = LogisticRegression(random_state=0, solver='lbfgs',\n",
        "...                          multi_class='multinomial').fit(X, y)\n",
        ">>> clf.predict(X[:2, :])\n",
        "array([0, 0])\n",
        ">>> clf.predict_proba(X[:2, :]) \n",
        "array([[9.8...e-01, 1.8...e-02, 1.4...e-08],\n",
        "       [9.7...e-01, 2.8...e-02, ...e-08]])\n",
        ">>> clf.score(X, y)\n",
        "0.97..."
      ],
      "execution_count": 0,
      "outputs": []
    },
    {
      "cell_type": "code",
      "metadata": {
        "id": "JIl9AKsrtDJ-",
        "colab_type": "code",
        "outputId": "0f6d3250-8b1d-4be7-ded1-4248522819f6",
        "colab": {
          "base_uri": "https://localhost:8080/",
          "height": 237
        }
      },
      "source": [
        "from sklearn.datasets import load_iris\n",
        "from sklearn.linear_model import LogisticRegression\n",
        "\n",
        "# wisc['diagnosis'] = wisc['diagnosis'].map({'B':0, 'M': 1})\n",
        "\n",
        "# wisc['diagnosis'].dtype\n",
        "\n",
        "Xw = wisc.iloc[:, 2:]\n",
        "yw = wisc['diagnosis'].map({'B':0, 'M': 1})\n",
        "\n",
        "clf = LogisticRegression().fit(Xw,yw)\n",
        "\n",
        "y_predictions = clf.predict(Xw)\n",
        "\n",
        "print(predictions)\n",
        "print(model.summery)\n"
      ],
      "execution_count": 0,
      "outputs": [
        {
          "output_type": "error",
          "ename": "NameError",
          "evalue": "ignored",
          "traceback": [
            "\u001b[0;31m---------------------------------------------------------------------------\u001b[0m",
            "\u001b[0;31mNameError\u001b[0m                                 Traceback (most recent call last)",
            "\u001b[0;32m<ipython-input-1-b09778fa6b6a>\u001b[0m in \u001b[0;36m<module>\u001b[0;34m()\u001b[0m\n\u001b[1;32m      6\u001b[0m \u001b[0;31m# wisc['diagnosis'].dtype\u001b[0m\u001b[0;34m\u001b[0m\u001b[0;34m\u001b[0m\u001b[0;34m\u001b[0m\u001b[0m\n\u001b[1;32m      7\u001b[0m \u001b[0;34m\u001b[0m\u001b[0m\n\u001b[0;32m----> 8\u001b[0;31m \u001b[0mXw\u001b[0m \u001b[0;34m=\u001b[0m \u001b[0mwisc\u001b[0m\u001b[0;34m.\u001b[0m\u001b[0miloc\u001b[0m\u001b[0;34m[\u001b[0m\u001b[0;34m:\u001b[0m\u001b[0;34m,\u001b[0m \u001b[0;36m2\u001b[0m\u001b[0;34m:\u001b[0m\u001b[0;34m]\u001b[0m\u001b[0;34m\u001b[0m\u001b[0;34m\u001b[0m\u001b[0m\n\u001b[0m\u001b[1;32m      9\u001b[0m \u001b[0myw\u001b[0m \u001b[0;34m=\u001b[0m \u001b[0mwisc\u001b[0m\u001b[0;34m[\u001b[0m\u001b[0;34m'diagnosis'\u001b[0m\u001b[0;34m]\u001b[0m\u001b[0;34m.\u001b[0m\u001b[0mmap\u001b[0m\u001b[0;34m(\u001b[0m\u001b[0;34m{\u001b[0m\u001b[0;34m'B'\u001b[0m\u001b[0;34m:\u001b[0m\u001b[0;36m0\u001b[0m\u001b[0;34m,\u001b[0m \u001b[0;34m'M'\u001b[0m\u001b[0;34m:\u001b[0m \u001b[0;36m1\u001b[0m\u001b[0;34m}\u001b[0m\u001b[0;34m)\u001b[0m\u001b[0;34m\u001b[0m\u001b[0;34m\u001b[0m\u001b[0m\n\u001b[1;32m     10\u001b[0m \u001b[0;34m\u001b[0m\u001b[0m\n",
            "\u001b[0;31mNameError\u001b[0m: name 'wisc' is not defined"
          ]
        }
      ]
    },
    {
      "cell_type": "code",
      "metadata": {
        "id": "yKWKOfD9zm6U",
        "colab_type": "code",
        "colab": {}
      },
      "source": [
        ">>> from sklearn.metrics import balanced_accuracy_score\n",
        ">>> y_true = [0, 1, 0, 0, 1, 0]\n",
        ">>> y_pred = [0, 1, 0, 0, 0, 1]\n",
        ">>> balanced_accuracy_score(y_true, y_pred)\n",
        "0.625"
      ],
      "execution_count": 0,
      "outputs": []
    },
    {
      "cell_type": "code",
      "metadata": {
        "id": "QN7FIF7V0Rqp",
        "colab_type": "code",
        "outputId": "999f657a-e7da-4752-9dd5-ce5b84530d38",
        "colab": {
          "base_uri": "https://localhost:8080/",
          "height": 34
        }
      },
      "source": [
        "from sklearn.metrics import balanced_accuracy_score\n",
        "\n",
        "y_true = [0, 1, 0, 0, 1, 0]\n",
        "y_pred = [0, 1, 0, 0, 0, 1]\n",
        "\n",
        "balanced_accuracy_score(y_true, y_pred)"
      ],
      "execution_count": 0,
      "outputs": [
        {
          "output_type": "execute_result",
          "data": {
            "text/plain": [
              "0.625"
            ]
          },
          "metadata": {
            "tags": []
          },
          "execution_count": 131
        }
      ]
    },
    {
      "cell_type": "code",
      "metadata": {
        "id": "zJBAlZ7S4rXl",
        "colab_type": "code",
        "colab": {}
      },
      "source": [
        "# Find out\n",
        "\n",
        "# Precision, Recall\n",
        "# F1 Score\n",
        "# Sensitivity\n",
        "# Specificity"
      ],
      "execution_count": 0,
      "outputs": []
    },
    {
      "cell_type": "code",
      "metadata": {
        "id": "0KE5d3uu5hR2",
        "colab_type": "code",
        "outputId": "1bf80be1-f90c-4dc0-d7f5-2d4d8ae46d3d",
        "colab": {
          "base_uri": "https://localhost:8080/",
          "height": 34
        }
      },
      "source": [
        "from sklearn.metrics import balanced_accuracy_score\n",
        "\n",
        "# accuracy\n",
        "balanced_accuracy_score(yw, y_predictions)"
      ],
      "execution_count": 0,
      "outputs": [
        {
          "output_type": "execute_result",
          "data": {
            "text/plain": [
              "0.954376090058665"
            ]
          },
          "metadata": {
            "tags": []
          },
          "execution_count": 133
        }
      ]
    },
    {
      "cell_type": "code",
      "metadata": {
        "id": "6gzDil2X6d2S",
        "colab_type": "code",
        "colab": {}
      },
      "source": [
        "# Precision\n",
        "\n",
        "from sklearn.metrics import precision_score\n",
        "# precision_score(yw, y_predictions, average='macro')  \n",
        "precision_w = precision_score(yw, y_predictions)\n",
        "\n"
      ],
      "execution_count": 0,
      "outputs": []
    },
    {
      "cell_type": "code",
      "metadata": {
        "id": "EOmyR_YH7J5F",
        "colab_type": "code",
        "outputId": "a7b8fc07-995f-46b3-f0dc-99fbfd2f2179",
        "colab": {
          "base_uri": "https://localhost:8080/",
          "height": 34
        }
      },
      "source": [
        "precision_score(yw, y_predictions, average='micro')  \n",
        " "
      ],
      "execution_count": 0,
      "outputs": [
        {
          "output_type": "execute_result",
          "data": {
            "text/plain": [
              "0.9595782073813708"
            ]
          },
          "metadata": {
            "tags": []
          },
          "execution_count": 136
        }
      ]
    },
    {
      "cell_type": "code",
      "metadata": {
        "id": "_WBgXRmG7OVa",
        "colab_type": "code",
        "outputId": "46b91645-18ef-4271-bc06-0b98e21c2f0d",
        "colab": {
          "base_uri": "https://localhost:8080/",
          "height": 34
        }
      },
      "source": [
        "\n",
        "precision_score(yw, y_predictions, average='weighted')\n"
      ],
      "execution_count": 0,
      "outputs": [
        {
          "output_type": "execute_result",
          "data": {
            "text/plain": [
              "0.9595359909690652"
            ]
          },
          "metadata": {
            "tags": []
          },
          "execution_count": 137
        }
      ]
    },
    {
      "cell_type": "code",
      "metadata": {
        "id": "7tX8Jpn_7Rpq",
        "colab_type": "code",
        "outputId": "4806f22a-a2a9-417e-ba81-7adb0bffd25e",
        "colab": {
          "base_uri": "https://localhost:8080/",
          "height": 34
        }
      },
      "source": [
        "\n",
        "precision_score(yw, y_predictions, average=None) "
      ],
      "execution_count": 0,
      "outputs": [
        {
          "output_type": "execute_result",
          "data": {
            "text/plain": [
              "array([0.96132597, 0.95652174])"
            ]
          },
          "metadata": {
            "tags": []
          },
          "execution_count": 138
        }
      ]
    },
    {
      "cell_type": "code",
      "metadata": {
        "id": "u06BvMfg7cyZ",
        "colab_type": "code",
        "colab": {}
      },
      "source": [
        "# Recall\n",
        "\n",
        "from sklearn.metrics import recall_score\n",
        "\n",
        "recall_w = recall_score(yw, y_predictions)  "
      ],
      "execution_count": 0,
      "outputs": []
    },
    {
      "cell_type": "code",
      "metadata": {
        "id": "LNWeFoSS7k79",
        "colab_type": "code",
        "outputId": "43a01ffd-2bf4-48a1-aa45-fc3df8eaa843",
        "colab": {
          "base_uri": "https://localhost:8080/",
          "height": 34
        }
      },
      "source": [
        "from sklearn.metrics import recall_score\n",
        "\n",
        "recall_score(yw, y_predictions, average='micro')  "
      ],
      "execution_count": 0,
      "outputs": [
        {
          "output_type": "execute_result",
          "data": {
            "text/plain": [
              "0.9595782073813708"
            ]
          },
          "metadata": {
            "tags": []
          },
          "execution_count": 140
        }
      ]
    },
    {
      "cell_type": "code",
      "metadata": {
        "id": "43T1X3yd7od2",
        "colab_type": "code",
        "outputId": "75ff6646-270f-4b15-dd02-52fbe52b03ed",
        "colab": {
          "base_uri": "https://localhost:8080/",
          "height": 34
        }
      },
      "source": [
        "from sklearn.metrics import recall_score\n",
        "\n",
        "recall_score(yw, y_predictions, average='weighted')  "
      ],
      "execution_count": 0,
      "outputs": [
        {
          "output_type": "execute_result",
          "data": {
            "text/plain": [
              "0.9595782073813708"
            ]
          },
          "metadata": {
            "tags": []
          },
          "execution_count": 141
        }
      ]
    },
    {
      "cell_type": "code",
      "metadata": {
        "id": "fOuw3Wd37sIy",
        "colab_type": "code",
        "outputId": "24e6ee2f-90f7-4c9f-c033-f39077828173",
        "colab": {
          "base_uri": "https://localhost:8080/",
          "height": 34
        }
      },
      "source": [
        "recall_score(yw, y_predictions, average=None) "
      ],
      "execution_count": 0,
      "outputs": [
        {
          "output_type": "execute_result",
          "data": {
            "text/plain": [
              "array([0.97478992, 0.93396226])"
            ]
          },
          "metadata": {
            "tags": []
          },
          "execution_count": 143
        }
      ]
    },
    {
      "cell_type": "code",
      "metadata": {
        "id": "nV0lpI0m74Md",
        "colab_type": "code",
        "outputId": "b3a4a1d0-0c6a-4e9d-8791-9098fc61d7a8",
        "colab": {
          "base_uri": "https://localhost:8080/",
          "height": 34
        }
      },
      "source": [
        "from sklearn.metrics import f1_score\n",
        "\n",
        "f1_score(yw, y_predictions, average='macro')  "
      ],
      "execution_count": 0,
      "outputs": [
        {
          "output_type": "execute_result",
          "data": {
            "text/plain": [
              "0.9565592625663462"
            ]
          },
          "metadata": {
            "tags": []
          },
          "execution_count": 144
        }
      ]
    },
    {
      "cell_type": "code",
      "metadata": {
        "id": "LvWuuwrq7-6C",
        "colab_type": "code",
        "outputId": "20ed8be1-f893-48af-b7e1-c0633276a481",
        "colab": {
          "base_uri": "https://localhost:8080/",
          "height": 34
        }
      },
      "source": [
        "f1_score(yw, y_predictions, average='micro')  "
      ],
      "execution_count": 0,
      "outputs": [
        {
          "output_type": "execute_result",
          "data": {
            "text/plain": [
              "0.9595782073813708"
            ]
          },
          "metadata": {
            "tags": []
          },
          "execution_count": 145
        }
      ]
    },
    {
      "cell_type": "code",
      "metadata": {
        "id": "ISza5mSC8A8X",
        "colab_type": "code",
        "outputId": "b36d9e35-653d-4a93-c611-9f4e32ad55d1",
        "colab": {
          "base_uri": "https://localhost:8080/",
          "height": 34
        }
      },
      "source": [
        "f1_score(yw, y_predictions, average='weighted')  "
      ],
      "execution_count": 0,
      "outputs": [
        {
          "output_type": "execute_result",
          "data": {
            "text/plain": [
              "0.9594775758875367"
            ]
          },
          "metadata": {
            "tags": []
          },
          "execution_count": 147
        }
      ]
    },
    {
      "cell_type": "code",
      "metadata": {
        "id": "8qWjp_PX8GXR",
        "colab_type": "code",
        "outputId": "80f08448-e467-4cd8-b535-db3bf4277c0c",
        "colab": {
          "base_uri": "https://localhost:8080/",
          "height": 34
        }
      },
      "source": [
        "f1_score(yw, y_predictions, average=None)  "
      ],
      "execution_count": 0,
      "outputs": [
        {
          "output_type": "execute_result",
          "data": {
            "text/plain": [
              "array([0.96801113, 0.9451074 ])"
            ]
          },
          "metadata": {
            "tags": []
          },
          "execution_count": 148
        }
      ]
    },
    {
      "cell_type": "code",
      "metadata": {
        "id": "0mprniHA8dcD",
        "colab_type": "code",
        "outputId": "8b3507a6-8ecb-4ed8-c17e-3f5f53077011",
        "colab": {
          "base_uri": "https://localhost:8080/",
          "height": 52
        }
      },
      "source": [
        "from sklearn.metrics import confusion_matrix\n",
        "\n",
        "con_mat = confusion_matrix(yw, y_predictions)\n",
        "print(con_mat)"
      ],
      "execution_count": 0,
      "outputs": [
        {
          "output_type": "stream",
          "text": [
            "[[348   9]\n",
            " [ 14 198]]\n"
          ],
          "name": "stdout"
        }
      ]
    },
    {
      "cell_type": "code",
      "metadata": {
        "id": "G4CsMuau9DLU",
        "colab_type": "code",
        "outputId": "f0a68e49-b13a-4477-9f2a-6d024aefee34",
        "colab": {
          "base_uri": "https://localhost:8080/",
          "height": 34
        }
      },
      "source": [
        "# F1 score\n",
        "\n",
        "# F1 = 2 * (precision * recall) / (precision + recall)\n",
        "\n",
        "F1 = 2 * (precision_w * recall_w) / (precision_w + recall_w)\n",
        "\n",
        "print(F1)"
      ],
      "execution_count": 0,
      "outputs": [
        {
          "output_type": "stream",
          "text": [
            "0.9451073985680192\n"
          ],
          "name": "stdout"
        }
      ]
    },
    {
      "cell_type": "code",
      "metadata": {
        "id": "4v4kYga7-Eo7",
        "colab_type": "code",
        "outputId": "1301156f-cebb-4cf2-e906-cee414f444d0",
        "colab": {
          "base_uri": "https://localhost:8080/",
          "height": 34
        }
      },
      "source": [
        " from sklearn.metrics import f1_score\n",
        "  \n",
        "f1_score(yw, y_predictions, average='macro') "
      ],
      "execution_count": 0,
      "outputs": [
        {
          "output_type": "execute_result",
          "data": {
            "text/plain": [
              "0.9565592625663462"
            ]
          },
          "metadata": {
            "tags": []
          },
          "execution_count": 157
        }
      ]
    },
    {
      "cell_type": "code",
      "metadata": {
        "id": "uRctfnVn-kZu",
        "colab_type": "code",
        "colab": {}
      },
      "source": [
        ">>> from sklearn.metrics import classification_report\n",
        ">>> y_true = [0, 1, 2, 2, 2]\n",
        ">>> y_pred = [0, 0, 2, 2, 1]\n",
        ">>> target_names = ['class 0', 'class 1', 'class 2']\n",
        ">>> print(classification_report(y_true, y_pred, target_names=target_names))\n",
        "              precision    recall  f1-score   support\n",
        "\n",
        "     class 0       0.50      1.00      0.67         1\n",
        "     class 1       0.00      0.00      0.00         1\n",
        "     class 2       1.00      0.67      0.80         3\n",
        "\n",
        "   micro avg       0.60      0.60      0.60         5\n",
        "   macro avg       0.50      0.56      0.49         5\n",
        "weighted avg       0.70      0.60      0.61         5"
      ],
      "execution_count": 0,
      "outputs": []
    },
    {
      "cell_type": "code",
      "metadata": {
        "id": "nAp6_D3T-lHd",
        "colab_type": "code",
        "outputId": "b520f69e-be1d-4856-9535-300b2398e87f",
        "colab": {
          "base_uri": "https://localhost:8080/",
          "height": 175
        }
      },
      "source": [
        "# Sensitivity and Specificity\n",
        "\n",
        "from sklearn.metrics import classification_report\n",
        "\n",
        "# target_names = wisc[]\n",
        "\n",
        "print(classification_report(yw, y_predictions))"
      ],
      "execution_count": 0,
      "outputs": [
        {
          "output_type": "stream",
          "text": [
            "              precision    recall  f1-score   support\n",
            "\n",
            "           0       0.96      0.97      0.97       357\n",
            "           1       0.96      0.93      0.95       212\n",
            "\n",
            "   micro avg       0.96      0.96      0.96       569\n",
            "   macro avg       0.96      0.95      0.96       569\n",
            "weighted avg       0.96      0.96      0.96       569\n",
            "\n"
          ],
          "name": "stdout"
        }
      ]
    },
    {
      "cell_type": "code",
      "metadata": {
        "id": "DVJSq-UXAGo9",
        "colab_type": "code",
        "colab": {}
      },
      "source": [
        "sensitivity1 = cm1[0,0]/(cm1[0,0]+cm1[0,1])\n",
        "print('Sensitivity : ', sensitivity1 )\n",
        "\n",
        "specificity1 = cm1[1,1]/(cm1[1,0]+cm1[1,1])\n",
        "print('Specificity : ', specificity1)"
      ],
      "execution_count": 0,
      "outputs": []
    },
    {
      "cell_type": "code",
      "metadata": {
        "id": "iMyNdzH_AHXD",
        "colab_type": "code",
        "outputId": "18282574-77b2-46f3-ffe8-7fb2be69c6a3",
        "colab": {
          "base_uri": "https://localhost:8080/",
          "height": 52
        }
      },
      "source": [
        "sensitivity1 = con_mat[0,0]/(con_mat[0,0]+con_mat[0,1])\n",
        "print('Sensitivity : ', sensitivity1 )\n",
        "\n",
        "specificity1 = con_mat[1,1]/(con_mat[1,0]+con_mat[1,1])\n",
        "print('Specificity : ', specificity1)"
      ],
      "execution_count": 0,
      "outputs": [
        {
          "output_type": "stream",
          "text": [
            "Sensitivity :  0.9747899159663865\n",
            "Specificity :  0.9339622641509434\n"
          ],
          "name": "stdout"
        }
      ]
    },
    {
      "cell_type": "code",
      "metadata": {
        "id": "pjHKXo55P5Te",
        "colab_type": "code",
        "outputId": "165922e6-2f8f-4003-9c78-20e81801eac5",
        "colab": {
          "resources": {
            "http://localhost:8080/nbextensions/google.colab/files.js": {
              "data": "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",
              "ok": true,
              "headers": [
                [
                  "content-type",
                  "application/javascript"
                ]
              ],
              "status": 200,
              "status_text": ""
            }
          },
          "base_uri": "https://localhost:8080/",
          "height": 75
        }
      },
      "source": [
        "from google.colab import files\n",
        "uploaded = files.upload()\n"
      ],
      "execution_count": 0,
      "outputs": [
        {
          "output_type": "display_data",
          "data": {
            "text/html": [
              "\n",
              "     <input type=\"file\" id=\"files-30655a6e-d5bb-40e1-898b-82adfdff4253\" name=\"files[]\" multiple disabled />\n",
              "     <output id=\"result-30655a6e-d5bb-40e1-898b-82adfdff4253\">\n",
              "      Upload widget is only available when the cell has been executed in the\n",
              "      current browser session. Please rerun this cell to enable.\n",
              "      </output>\n",
              "      <script src=\"/nbextensions/google.colab/files.js\"></script> "
            ],
            "text/plain": [
              "<IPython.core.display.HTML object>"
            ]
          },
          "metadata": {
            "tags": []
          }
        },
        {
          "output_type": "stream",
          "text": [
            "Saving loans_imputed.csv to loans_imputed.csv\n"
          ],
          "name": "stdout"
        }
      ]
    },
    {
      "cell_type": "code",
      "metadata": {
        "id": "AHactUjTQCZo",
        "colab_type": "code",
        "outputId": "41a86a30-b166-4e99-a31b-5e5806914191",
        "colab": {
          "base_uri": "https://localhost:8080/",
          "height": 386
        }
      },
      "source": [
        "# read data from csv\n",
        "import pandas as pd\n",
        "\n",
        "loan = pd.read_csv('loans_imputed.csv')\n",
        "\n",
        "print(loan.shape)\n",
        "print(loan.head())"
      ],
      "execution_count": 70,
      "outputs": [
        {
          "output_type": "stream",
          "text": [
            "(9578, 14)\n",
            "   credit.policy             purpose  int.rate  installment  log.annual.inc  \\\n",
            "0              1  debt_consolidation    0.1189       829.10       11.350407   \n",
            "1              1         credit_card    0.1071       228.22       11.082143   \n",
            "2              1  debt_consolidation    0.1357       366.86       10.373491   \n",
            "3              1  debt_consolidation    0.1008       162.34       11.350407   \n",
            "4              1         credit_card    0.1426       102.92       11.299732   \n",
            "\n",
            "     dti  fico  days.with.cr.line  revol.bal  revol.util  inq.last.6mths  \\\n",
            "0  19.48   737        5639.958333      28854        52.1               0   \n",
            "1  14.29   707        2760.000000      33623        76.7               0   \n",
            "2  11.63   682        4710.000000       3511        25.6               1   \n",
            "3   8.10   712        2699.958333      33667        73.2               1   \n",
            "4  14.97   667        4066.000000       4740        39.5               0   \n",
            "\n",
            "   delinq.2yrs  pub.rec  not.fully.paid  \n",
            "0            0        0               0  \n",
            "1            0        0               0  \n",
            "2            0        0               0  \n",
            "3            0        0               0  \n",
            "4            1        0               0  \n"
          ],
          "name": "stdout"
        }
      ]
    },
    {
      "cell_type": "code",
      "metadata": {
        "id": "53BlnXb-Qref",
        "colab_type": "code",
        "outputId": "1d28fd93-ff5d-4bd2-a808-05a63c495ac5",
        "colab": {
          "base_uri": "https://localhost:8080/",
          "height": 368
        }
      },
      "source": [
        "# loan: Modelcredit.policy ~ all features\n",
        "\n",
        "loan['purpose'] = loan['purpose'].map({'credit_card': 0, 'debt_consolidation': 1, 'educational': 2, 'major_purchase': 3, 'small_business': 4, 'all_other': 5, 'home_improvement': 6})\n",
        "Xl = loan.iloc[:, 1:]\n",
        "yl = loan['credit.policy']\n",
        "\n",
        "\n",
        "print(Xl.head())\n"
      ],
      "execution_count": 46,
      "outputs": [
        {
          "output_type": "stream",
          "text": [
            "   purpose  int.rate  installment  log.annual.inc    dti  fico  \\\n",
            "0        1    0.1189       829.10       11.350407  19.48   737   \n",
            "1        0    0.1071       228.22       11.082143  14.29   707   \n",
            "2        1    0.1357       366.86       10.373491  11.63   682   \n",
            "3        1    0.1008       162.34       11.350407   8.10   712   \n",
            "4        0    0.1426       102.92       11.299732  14.97   667   \n",
            "\n",
            "   days.with.cr.line  revol.bal  revol.util  inq.last.6mths  delinq.2yrs  \\\n",
            "0        5639.958333      28854        52.1               0            0   \n",
            "1        2760.000000      33623        76.7               0            0   \n",
            "2        4710.000000       3511        25.6               1            0   \n",
            "3        2699.958333      33667        73.2               1            0   \n",
            "4        4066.000000       4740        39.5               0            1   \n",
            "\n",
            "   pub.rec  not.fully.paid  \n",
            "0        0               0  \n",
            "1        0               0  \n",
            "2        0               0  \n",
            "3        0               0  \n",
            "4        0               0  \n"
          ],
          "name": "stdout"
        }
      ]
    },
    {
      "cell_type": "code",
      "metadata": {
        "id": "5GRZ38EM16_c",
        "colab_type": "code",
        "colab": {
          "base_uri": "https://localhost:8080/",
          "height": 90
        },
        "outputId": "db9475d6-842d-4505-fe8f-3fb23c49be6e"
      },
      "source": [
        "from sklearn.linear_model import LogisticRegression\n",
        "\n",
        "modelL = LogisticRegression().fit(Xl,yl)\n",
        "\n",
        "loan_predictions = modelL.predict(Xl)\n",
        "\n",
        "print(loan_predictions)\n",
        "# print(modelL.summary())"
      ],
      "execution_count": 31,
      "outputs": [
        {
          "output_type": "stream",
          "text": [
            "[1 1 1 ... 0 0 0]\n"
          ],
          "name": "stdout"
        },
        {
          "output_type": "stream",
          "text": [
            "/usr/local/lib/python3.6/dist-packages/sklearn/linear_model/logistic.py:433: FutureWarning: Default solver will be changed to 'lbfgs' in 0.22. Specify a solver to silence this warning.\n",
            "  FutureWarning)\n"
          ],
          "name": "stderr"
        }
      ]
    },
    {
      "cell_type": "code",
      "metadata": {
        "id": "QnRQfv0nRpS4",
        "colab_type": "code",
        "outputId": "8c37919a-8459-4230-b5eb-e2dee151aa31",
        "colab": {
          "base_uri": "https://localhost:8080/",
          "height": 228
        }
      },
      "source": [
        "# Print precision_score, classification_report, f1_score, accuracy_score\n",
        "\n",
        "from sklearn.metrics import precision_score, classification_report, f1_score, accuracy_score\n",
        "\n",
        "precision_loan = precision_score(yl, loan_predictions)\n",
        "print(precision_loan)\n",
        "\n",
        "cla_report_loan = classification_report(yl, loan_predictions)\n",
        "print(cla_report_loan)\n",
        "\n",
        "f1_loan = f1_score(yl, loan_predictions)\n",
        "print(f1_loan)\n",
        "\n",
        "accuracy_loan = accuracy_score(yl, loan_predictions)\n",
        "print(accuracy_loan)\n",
        "\n",
        "\n"
      ],
      "execution_count": 39,
      "outputs": [
        {
          "output_type": "stream",
          "text": [
            "0.90625\n",
            "              precision    recall  f1-score   support\n",
            "\n",
            "           0       0.85      0.58      0.69      1868\n",
            "           1       0.91      0.97      0.94      7710\n",
            "\n",
            "   micro avg       0.90      0.90      0.90      9578\n",
            "   macro avg       0.88      0.78      0.81      9578\n",
            "weighted avg       0.89      0.90      0.89      9578\n",
            "\n",
            "0.9389923740467558\n",
            "0.8980998120693255\n"
          ],
          "name": "stdout"
        }
      ]
    },
    {
      "cell_type": "code",
      "metadata": {
        "id": "fZR3N-Txx84F",
        "colab_type": "code",
        "colab": {}
      },
      "source": [
        "# Day 4 : \n",
        "\n",
        "# Push the accuracy to >95%\n",
        "# Bar Plot\n",
        "# Scatter Plot\n",
        "# Histogram Plot b/w any 2 features\n",
        "# Bonus : with all of the features"
      ],
      "execution_count": 0,
      "outputs": []
    },
    {
      "cell_type": "code",
      "metadata": {
        "id": "zrEiget5y5kD",
        "colab_type": "code",
        "colab": {}
      },
      "source": [
        "# 1. Push the accuracy to >95%\n",
        "\n",
        "X_loan_d  = Xl.drop([Xl['purpose']], axis=0)\n",
        "\n",
        "# df[df['column name'].map(len) < 2]\n",
        "\n",
        "print(X_loan_d)\n",
        "\n",
        "# {'credit_card': 0, 'debt_consolidation': 1, 'educational': 2, 'major_purchase': 3, 'small_business': 4, 'all_other': 5, 'home_improvement': 6})\n",
        "\n",
        "# from sklearn.linear_model import LogisticRegression\n",
        "\n",
        "# modelL = LogisticRegression().fit(X_loan_d,yl)\n",
        "\n",
        "# loan_predictions = modelL.predict(X_loan_d)\n",
        "\n",
        "# print(loan_predictions)"
      ],
      "execution_count": 0,
      "outputs": []
    },
    {
      "cell_type": "code",
      "metadata": {
        "id": "coGBNoBaBneG",
        "colab_type": "code",
        "colab": {
          "base_uri": "https://localhost:8080/",
          "height": 283
        },
        "outputId": "5f0f89f1-038e-43e9-907f-8eaf151890c8"
      },
      "source": [
        "# Bar Plot\n",
        "\n",
        ">>> df = pd.DataFrame({'lab':['A', 'B', 'C'], 'val':[10, 30, 20]})\n",
        ">>> ax = df.plot.bar(x='lab', y='val', rot=0)"
      ],
      "execution_count": 67,
      "outputs": [
        {
          "output_type": "display_data",
          "data": {
            "image/png": "[encoded data removed]",
            "text/plain": [
              "<Figure size 432x288 with 1 Axes>"
            ]
          },
          "metadata": {
            "tags": []
          }
        }
      ]
    },
    {
      "cell_type": "code",
      "metadata": {
        "id": "sTvfq2fCB5Hb",
        "colab_type": "code",
        "colab": {}
      },
      "source": [
        "# Bar Plot for load\n",
        "\n",
        "import pandas as pd\n",
        "\n",
        "loan = pd.read_csv('loans_imputed.csv')\n",
        "\n",
        "print(loan.head())\n",
        "# df = pd.DataFrame({'purpose':loan['purpose'], 'interest':loan['int.rate']})\n",
        "ax = loan.plot.bar(x='purpose', y='int.rate', rot=0)\n",
        "# loan.plot.bar(rot=0)"
      ],
      "execution_count": 0,
      "outputs": []
    },
    {
      "cell_type": "code",
      "metadata": {
        "id": "jhQpf_FWGGsO",
        "colab_type": "code",
        "colab": {}
      },
      "source": [
        "import matplotlib.pyplot as plt\n",
        "import numpy as np\n",
        "\n",
        "X_purpose = ['credit_card', 'debt_consolidation', 'educational', 'major_purchase', 'small_business', 'all_other', 'home_improvement']\n",
        "\n",
        "Y_intrest = loan['int.rate']\n",
        "print(Y_intrest)"
      ],
      "execution_count": 0,
      "outputs": []
    },
    {
      "cell_type": "code",
      "metadata": {
        "id": "vLHpCg-TILOV",
        "colab_type": "code",
        "colab": {
          "base_uri": "https://localhost:8080/",
          "height": 311
        },
        "outputId": "fc8d74f6-9197-4dd8-b90b-7799a21294cc"
      },
      "source": [
        "import matplotlib.pyplot as plt\n",
        "import numpy as np\n",
        "\n",
        "# X_purpose = loan['installment']\n",
        "# Y_intrest = loan['int.rate']\n",
        "\n",
        "X_purpose = ['credit_card', 'debt_consolidation', 'educational', 'major_purchase', 'small_business', 'all_other', 'home_improvement']\n",
        "\n",
        "\n",
        "Y_intrest =  [\n",
        "    941,\n",
        "    854,\n",
        "    4595,\n",
        "    2125,\n",
        "    942,\n",
        "    509,\n",
        "    548\n",
        "]\n",
        "\n",
        "    # this is for plotting purpose\n",
        "index = np.arange(len(X_purpose))\n",
        "plt.bar(index, Y_intrest)\n",
        "plt.xlabel('Genre', fontsize=5)\n",
        "plt.ylabel('rate of intrest', fontsize=5)\n",
        "plt.xticks(index, X_purpose, fontsize=5, rotation=30)\n",
        "plt.title('Loan: purpose Vs intrest')\n",
        "plt.show()\n",
        "\n"
      ],
      "execution_count": 24,
      "outputs": [
        {
          "output_type": "display_data",
          "data": {
            "image/png": "[encoded data removed]",
            "text/plain": [
              "<Figure size 432x288 with 1 Axes>"
            ]
          },
          "metadata": {
            "tags": []
          }
        }
      ]
    },
    {
      "cell_type": "code",
      "metadata": {
        "id": "F5RDXt5PMWxz",
        "colab_type": "code",
        "colab": {
          "base_uri": "https://localhost:8080/",
          "height": 333
        },
        "outputId": "215e85d3-03fb-4d9e-83a7-eaabb3ae1a87"
      },
      "source": [
        "import numpy as np\n",
        "import matplotlib.pyplot as plt\n",
        "\n",
        "# Create data\n",
        "N = 500\n",
        "x = np.random.rand(N)\n",
        "y = np.random.rand(N)\n",
        "colors = (0,0,0)\n",
        "area = np.pi*3\n",
        "\n",
        "# Plot\n",
        "plt.scatter(x, y, s=area, c=colors, alpha=0.5)\n",
        "plt.title('Scatter plot pythonspot.com')\n",
        "plt.xlabel('x')\n",
        "plt.ylabel('y')\n",
        "plt.show()"
      ],
      "execution_count": 25,
      "outputs": [
        {
          "output_type": "stream",
          "text": [
            "'c' argument looks like a single numeric RGB or RGBA sequence, which should be avoided as value-mapping will have precedence in case its length matches with 'x' & 'y'.  Please use a 2-D array with a single row if you really want to specify the same RGB or RGBA value for all points.\n"
          ],
          "name": "stderr"
        },
        {
          "output_type": "display_data",
          "data": {
            "image/png": "[encoded data removed]",
            "text/plain": [
              "<Figure size 432x288 with 1 Axes>"
            ]
          },
          "metadata": {
            "tags": []
          }
        }
      ]
    },
    {
      "cell_type": "code",
      "metadata": {
        "id": "7obdrUU2Mivt",
        "colab_type": "code",
        "colab": {}
      },
      "source": [
        "import numpy as np\n",
        "import matplotlib.pyplot as plt\n",
        "\n",
        "# Create data\n",
        "N = 500\n",
        "x = np.random.rand(N)\n",
        "y = np.random.rand(N)\n",
        "colors = (0,0,0)\n",
        "area = np.pi*3\n",
        "\n",
        "# Plot\n",
        "plt.scatter(x, y, s=area, c=colors, alpha=0.5)\n",
        "plt.title('Scatter plot pythonspot.com')\n",
        "plt.xlabel('x')\n",
        "plt.ylabel('y')\n",
        "plt.show()"
      ],
      "execution_count": 0,
      "outputs": []
    },
    {
      "cell_type": "code",
      "metadata": {
        "id": "ZHbpZicjNfcX",
        "colab_type": "code",
        "colab": {}
      },
      "source": [
        "import numpy as np\n",
        "import matplotlib.pyplot as plt\n",
        "\n",
        "# Create data\n",
        "N = 60\n",
        "g1 = (0.6 + 0.6 * np.random.rand(N), np.random.rand(N))\n",
        "g2 = (0.4+0.3 * np.random.rand(N), 0.5*np.random.rand(N))\n",
        "g3 = (0.3*np.random.rand(N),0.3*np.random.rand(N))\n",
        "\n",
        "data = (g1, g2, g3)\n",
        "colors = (\"red\", \"green\", \"blue\")\n",
        "groups = (\"coffee\", \"tea\", \"water\")\n",
        "\n",
        "# Create plot\n",
        "fig = plt.figure()\n",
        "ax = fig.add_subplot(1, 1, 1, axisbg=\"1.0\")\n",
        "\n",
        "for data, color, group in zip(data, colors, groups):\n",
        "  x, y = data\n",
        "  ax.scatter(x, y, alpha=0.8, c=color, edgecolors='none', s=30, label=group)\n",
        "\n",
        "plt.title('Matplot scatter plot')\n",
        "plt.legend(loc=2)\n",
        "plt.show()"
      ],
      "execution_count": 0,
      "outputs": []
    },
    {
      "cell_type": "code",
      "metadata": {
        "id": "BfZaPG-lOpTw",
        "colab_type": "code",
        "colab": {
          "base_uri": "https://localhost:8080/",
          "height": 473
        },
        "outputId": "7bc7a67a-299a-4598-c4e0-bb2e510437f2"
      },
      "source": [
        "N_points = 100000\n",
        "n_bins = 20\n",
        "\n",
        "# Generate a normal distribution, center at x=0 and y=5\n",
        "# x = np.random.randn(N_points)\n",
        "# y = .4 * x + np.random.randn(100000) + 5\n",
        "\n",
        "x = loan['installment']\n",
        "y = loan['int.rate']\n",
        "\n",
        "fig, axs = plt.subplots(1, 2, sharey=True, tight_layout=True)\n",
        "\n",
        "# We can set the number of bins with the `bins` kwarg\n",
        "axs[0].hist(x, bins=n_bins)\n",
        "axs[1].hist(y, bins=n_bins)"
      ],
      "execution_count": 31,
      "outputs": [
        {
          "output_type": "execute_result",
          "data": {
            "text/plain": [
              "(array([  21.,  235.,  613.,  605.,  681.,  409.,  879., 1375., 1034.,\n",
              "        1083.,  811.,  766.,  410.,  217.,  183.,  119.,   68.,   32.,\n",
              "          20.,   17.]),\n",
              " array([0.06   , 0.06782, 0.07564, 0.08346, 0.09128, 0.0991 , 0.10692,\n",
              "        0.11474, 0.12256, 0.13038, 0.1382 , 0.14602, 0.15384, 0.16166,\n",
              "        0.16948, 0.1773 , 0.18512, 0.19294, 0.20076, 0.20858, 0.2164 ]),\n",
              " <a list of 20 Patch objects>)"
            ]
          },
          "metadata": {
            "tags": []
          },
          "execution_count": 31
        },
        {
          "output_type": "stream",
          "text": [
            "/usr/local/lib/python3.6/dist-packages/matplotlib/figure.py:2369: UserWarning:\n",
            "\n",
            "This figure includes Axes that are not compatible with tight_layout, so results might be incorrect.\n",
            "\n"
          ],
          "name": "stderr"
        },
        {
          "output_type": "display_data",
          "data": {
            "image/png": "[encoded data removed]",
            "text/plain": [
              "<Figure size 432x288 with 2 Axes>"
            ]
          },
          "metadata": {
            "tags": []
          }
        }
      ]
    }
  ]
}