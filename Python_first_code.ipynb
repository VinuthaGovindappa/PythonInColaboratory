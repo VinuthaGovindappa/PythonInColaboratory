{
  "nbformat": 4,
  "nbformat_minor": 0,
  "metadata": {
    "colab": {
      "name": "Python first code.ipynb",
      "version": "0.3.2",
      "provenance": [],
      "collapsed_sections": [],
      "include_colab_link": true
    },
    "kernelspec": {
      "name": "python3",
      "display_name": "Python 3"
    }
  },
  "cells": [
    {
      "cell_type": "markdown",
      "metadata": {
        "id": "view-in-github",
        "colab_type": "text"
      },
      "source": [
        "<a href=\"https://colab.research.google.com/github/VinuthaGovindappa/PythonInColaboratory/blob/master/Python_first_code.ipynb\" target=\"_parent\"><img src=\"https://colab.research.google.com/assets/colab-badge.svg\" alt=\"Open In Colab\"/></a>"
      ]
    },
    {
      "cell_type": "code",
      "metadata": {
        "id": "ja0BCBYc3BWl",
        "colab_type": "code",
        "colab": {
          "base_uri": "https://localhost:8080/",
          "height": 35
        },
        "outputId": "46809411-f15a-4fa1-c52f-df59fb139705"
      },
      "source": [
        "print(\"hello word!\")"
      ],
      "execution_count": 6,
      "outputs": [
        {
          "output_type": "stream",
          "text": [
            "hello word!\n"
          ],
          "name": "stdout"
        }
      ]
    },
    {
      "cell_type": "code",
      "metadata": {
        "id": "_r8-F_oy3VMv",
        "colab_type": "code",
        "colab": {
          "base_uri": "https://localhost:8080/",
          "height": 35
        },
        "outputId": "9a5426b6-6139-474b-f476-4ed2f7428545"
      },
      "source": [
        "2 + 5"
      ],
      "execution_count": 7,
      "outputs": [
        {
          "output_type": "execute_result",
          "data": {
            "text/plain": [
              "7"
            ]
          },
          "metadata": {
            "tags": []
          },
          "execution_count": 7
        }
      ]
    },
    {
      "cell_type": "markdown",
      "metadata": {
        "id": "AwDQ8gcq3ab1",
        "colab_type": "text"
      },
      "source": [
        "#Here is my first code"
      ]
    },
    {
      "cell_type": "code",
      "metadata": {
        "id": "JjEJObAJ6Uhn",
        "colab_type": "code",
        "colab": {
          "base_uri": "https://localhost:8080/",
          "height": 87
        },
        "outputId": "968a4fc7-c874-4b6c-edaf-e119f4f8fbaa"
      },
      "source": [
        "l1 = [2, 4, 6, 8, 10]\n",
        "l2 = [1, 3, 5, 7, 9]\n",
        "\n",
        "type(l1)\n",
        "type(l2)\n",
        "\n",
        "print(l1)\n",
        "print(l2)\n",
        "print(l1 + l2)\n",
        "print(2 * l2)\n",
        "\n"
      ],
      "execution_count": 15,
      "outputs": [
        {
          "output_type": "stream",
          "text": [
            "[2, 4, 6, 8, 10]\n",
            "[1, 3, 5, 7, 9]\n",
            "[2, 4, 6, 8, 10, 1, 3, 5, 7, 9]\n",
            "[1, 3, 5, 7, 9, 1, 3, 5, 7, 9]\n"
          ],
          "name": "stdout"
        }
      ]
    },
    {
      "cell_type": "code",
      "metadata": {
        "id": "LH27pYs2_sSa",
        "colab_type": "code",
        "colab": {
          "base_uri": "https://localhost:8080/",
          "height": 208
        },
        "outputId": "c6026936-5ed6-4489-a29c-5d366fdb4f30"
      },
      "source": [
        "angel = list(range(0, 390, 30))\n",
        "angel = list(range(0, 361, 30))\n",
        "print(angel)\n",
        "\n",
        "i1 = angel.index(90)\n",
        "print(i1)\n",
        "\n",
        "i2 = angel.index(270)\n",
        "print(i2)\n",
        "\n",
        "print(len(angel))\n",
        "\n",
        "angel_len = len(angel)\n",
        "\n",
        "i1_rev = angel_len - i1 - 1\n",
        "\n",
        "i1_rev = i1 - angel_len\n",
        "\n",
        "print(i1_rev)\n",
        "\n",
        "i2_rev = angel_len - i2 - 1\n",
        "\n",
        "print(i2_rev)\n",
        "\n",
        "subset = angel[i1: i2+1]\n",
        "\n",
        "subset.reverse()\n",
        "\n",
        "print(subset)\n",
        "\n",
        "subset1 = angel[i1+1: i1_rev+1]\n",
        "\n",
        "subset1.reverse()\n",
        "\n",
        "print(subset1)\n",
        "\n",
        "print(angel[i1_rev:i2_rev:-1])\n",
        "\n",
        "print(angel[-1])\n",
        "\n",
        "print(angel[-i1_rev:-i2_rev])"
      ],
      "execution_count": 54,
      "outputs": [
        {
          "output_type": "stream",
          "text": [
            "[0, 30, 60, 90, 120, 150, 180, 210, 240, 270, 300, 330, 360]\n",
            "3\n",
            "9\n",
            "13\n",
            "9\n",
            "3\n",
            "[270, 240, 210, 180, 150, 120, 90]\n",
            "[270, 240, 210, 180, 150, 120]\n",
            "[270, 240, 210, 180, 150, 120]\n",
            "360\n",
            "[120, 150, 180, 210, 240, 270]\n"
          ],
          "name": "stdout"
        }
      ]
    },
    {
      "cell_type": "code",
      "metadata": {
        "id": "zqdQZX1Md989",
        "colab_type": "code",
        "colab": {
          "base_uri": "https://localhost:8080/",
          "height": 225
        },
        "outputId": "e38c17c5-bcc8-4cbb-cfb4-3c43fe6308c3"
      },
      "source": [
        "L1 = [2, 4, 6, 8, 10]\n",
        "\n",
        "L2 = L1\n",
        "\n",
        "print(L2)\n",
        "\n",
        "L2.remove(L2[3])\n",
        "\n",
        "print(L2)\n",
        "print(L1)\n",
        "\n",
        "L3 = L1.copy()\n",
        "\n",
        "print(L3)\n",
        "\n",
        "\n",
        "L1 = [2, 4, 6, 8, 10]\n",
        "\n",
        "L2 = L1.copy()\n",
        "\n",
        "print(L2)\n",
        "\n",
        "L2.remove(L2[3])\n",
        "del(L2[3])\n",
        "\n",
        "print(L2)\n",
        "print(L1)\n",
        "\n",
        "L3 = L1.copy()\n",
        "\n",
        "print(L3)\n",
        "\n",
        "\n",
        "L1 = [2, 4, 6, 8, 10]\n",
        "\n",
        "L2 = L1[:]\n",
        "\n",
        "print(L2)\n",
        "\n",
        "L2.remove(L2[3])\n",
        "\n",
        "print(L2)\n",
        "print(L1)\n",
        "\n",
        "L3 = L1.copy()\n",
        "\n",
        "print(L3)\n",
        "\n"
      ],
      "execution_count": 80,
      "outputs": [
        {
          "output_type": "stream",
          "text": [
            "[2, 4, 6, 8, 10]\n",
            "[2, 4, 6, 10]\n",
            "[2, 4, 6, 10]\n",
            "[2, 4, 6, 10]\n",
            "[2, 4, 6, 8, 10]\n",
            "[2, 4, 6]\n",
            "[2, 4, 6, 8, 10]\n",
            "[2, 4, 6, 8, 10]\n",
            "[2, 4, 6, 8, 10]\n",
            "[2, 4, 6, 10]\n",
            "[2, 4, 6, 8, 10]\n",
            "[2, 4, 6, 8, 10]\n"
          ],
          "name": "stdout"
        }
      ]
    },
    {
      "cell_type": "code",
      "metadata": {
        "id": "enPPjxO8b_0g",
        "colab_type": "code",
        "colab": {
          "base_uri": "https://localhost:8080/",
          "height": 87
        },
        "outputId": "e69e1447-5664-4cb2-e5d8-5fcd7e0132e2"
      },
      "source": [
        "spam_amount = 0\n",
        "\n",
        "print(spam_amount)\n",
        "\n",
        "spam_amount = spam_amount + 4\n",
        "\n",
        "if spam_amount > 0:\n",
        "  print(\"But I dont want any Spam!\")\n",
        "  \n",
        "vinu_spam = \"Spam \" * spam_amount\n",
        "\n",
        "print(vinu_spam)\n",
        "\n",
        "type(spam_amount)\n",
        "\n",
        "x = 19.05\n",
        "\n",
        "type(x)"
      ],
      "execution_count": 77,
      "outputs": [
        {
          "output_type": "stream",
          "text": [
            "0\n",
            "But I dont want any Spam!\n",
            "Spam Spam Spam Spam \n"
          ],
          "name": "stdout"
        },
        {
          "output_type": "execute_result",
          "data": {
            "text/plain": [
              "float"
            ]
          },
          "metadata": {
            "tags": []
          },
          "execution_count": 77
        }
      ]
    },
    {
      "cell_type": "code",
      "metadata": {
        "id": "9qsIaUDXiSgp",
        "colab_type": "code",
        "colab": {
          "base_uri": "https://localhost:8080/",
          "height": 156
        },
        "outputId": "e082c4b4-0dfa-4eb5-a6e6-2f026e00793b"
      },
      "source": [
        "a = 5\n",
        "b = 2\n",
        "\n",
        "print(a + b)\n",
        "print(a - b)\n",
        "print(a * b)\n",
        "print(a / b)\n",
        "print(a % b)\n",
        "\n",
        "print(a ** b)\n",
        "print(a // b)\n",
        "print(-a)\n"
      ],
      "execution_count": 79,
      "outputs": [
        {
          "output_type": "stream",
          "text": [
            "7\n",
            "3\n",
            "10\n",
            "2.5\n",
            "1\n",
            "25\n",
            "2\n",
            "-5\n"
          ],
          "name": "stdout"
        }
      ]
    },
    {
      "cell_type": "code",
      "metadata": {
        "id": "KqnDkbGyna70",
        "colab_type": "code",
        "colab": {
          "base_uri": "https://localhost:8080/",
          "height": 339
        },
        "outputId": "a3fa1695-dbe8-41ef-add7-f403f16271f1"
      },
      "source": [
        "import numpy as np\n",
        "import tensorflow as tf\n",
        "import pytorch"
      ],
      "execution_count": 83,
      "outputs": [
        {
          "output_type": "error",
          "ename": "ModuleNotFoundError",
          "evalue": "ignored",
          "traceback": [
            "\u001b[0;31m---------------------------------------------------------------------------\u001b[0m",
            "\u001b[0;31mModuleNotFoundError\u001b[0m                       Traceback (most recent call last)",
            "\u001b[0;32m<ipython-input-83-95d827f593f7>\u001b[0m in \u001b[0;36m<module>\u001b[0;34m()\u001b[0m\n\u001b[1;32m      1\u001b[0m \u001b[0;32mimport\u001b[0m \u001b[0mnumpy\u001b[0m \u001b[0;32mas\u001b[0m \u001b[0mnp\u001b[0m\u001b[0;34m\u001b[0m\u001b[0;34m\u001b[0m\u001b[0m\n\u001b[1;32m      2\u001b[0m \u001b[0;32mimport\u001b[0m \u001b[0mtensorflow\u001b[0m \u001b[0;32mas\u001b[0m \u001b[0mtf\u001b[0m\u001b[0;34m\u001b[0m\u001b[0;34m\u001b[0m\u001b[0m\n\u001b[0;32m----> 3\u001b[0;31m \u001b[0;32mimport\u001b[0m \u001b[0mpytorch\u001b[0m\u001b[0;34m\u001b[0m\u001b[0;34m\u001b[0m\u001b[0m\n\u001b[0m",
            "\u001b[0;31mModuleNotFoundError\u001b[0m: No module named 'pytorch'",
            "",
            "\u001b[0;31m---------------------------------------------------------------------------\u001b[0;32m\nNOTE: If your import is failing due to a missing package, you can\nmanually install dependencies using either !pip or !apt.\n\nTo view examples of installing some common dependencies, click the\n\"Open Examples\" button below.\n\u001b[0;31m---------------------------------------------------------------------------\u001b[0m\n"
          ]
        }
      ]
    },
    {
      "cell_type": "code",
      "metadata": {
        "id": "acKu4R6JomS7",
        "colab_type": "code",
        "colab": {
          "base_uri": "https://localhost:8080/",
          "height": 339
        },
        "outputId": "4da2c05b-6b0c-49d1-8d9a-69e810a1f2ec"
      },
      "source": [
        "tup1 = (\"vinu\", \"bala\", \"sujana\")\n",
        "print(tup1)\n",
        "\n",
        "t1 = (2, 4, 6)\n",
        "print(t1)\n",
        "\n",
        "t2 = (8,)\n",
        "print(t2)\n",
        "\n",
        "t1 = t1 + (9,)\n",
        "print(t1)\n",
        "print(type(t1))\n",
        "\n",
        "t3 = t1 + t2\n",
        "print(t3)\n",
        "\n",
        "del(t3[3])\n",
        "print(t3)\n",
        "\n",
        "t3.remove(t3[3])\n",
        "print(t3)"
      ],
      "execution_count": 97,
      "outputs": [
        {
          "output_type": "stream",
          "text": [
            "('vinu', 'bala', 'sujana')\n",
            "(2, 4, 6)\n",
            "(8,)\n",
            "(2, 4, 6, 9)\n",
            "<class 'tuple'>\n",
            "(2, 4, 6, 9, 8)\n"
          ],
          "name": "stdout"
        },
        {
          "output_type": "error",
          "ename": "TypeError",
          "evalue": "ignored",
          "traceback": [
            "\u001b[0;31m---------------------------------------------------------------------------\u001b[0m",
            "\u001b[0;31mTypeError\u001b[0m                                 Traceback (most recent call last)",
            "\u001b[0;32m<ipython-input-97-ff62573d683a>\u001b[0m in \u001b[0;36m<module>\u001b[0;34m()\u001b[0m\n\u001b[1;32m     15\u001b[0m \u001b[0mprint\u001b[0m\u001b[0;34m(\u001b[0m\u001b[0mt3\u001b[0m\u001b[0;34m)\u001b[0m\u001b[0;34m\u001b[0m\u001b[0;34m\u001b[0m\u001b[0m\n\u001b[1;32m     16\u001b[0m \u001b[0;34m\u001b[0m\u001b[0m\n\u001b[0;32m---> 17\u001b[0;31m \u001b[0;32mdel\u001b[0m\u001b[0;34m(\u001b[0m\u001b[0mt3\u001b[0m\u001b[0;34m[\u001b[0m\u001b[0;36m3\u001b[0m\u001b[0;34m]\u001b[0m\u001b[0;34m)\u001b[0m\u001b[0;34m\u001b[0m\u001b[0;34m\u001b[0m\u001b[0m\n\u001b[0m\u001b[1;32m     18\u001b[0m \u001b[0mprint\u001b[0m\u001b[0;34m(\u001b[0m\u001b[0mt3\u001b[0m\u001b[0;34m)\u001b[0m\u001b[0;34m\u001b[0m\u001b[0;34m\u001b[0m\u001b[0m\n\u001b[1;32m     19\u001b[0m \u001b[0;34m\u001b[0m\u001b[0m\n",
            "\u001b[0;31mTypeError\u001b[0m: 'tuple' object doesn't support item deletion"
          ]
        }
      ]
    },
    {
      "cell_type": "code",
      "metadata": {
        "id": "66Nr1VVVynPu",
        "colab_type": "code",
        "colab": {
          "base_uri": "https://localhost:8080/",
          "height": 89
        },
        "outputId": "e548c945-35e2-4d07-f06c-3bf635aa593a"
      },
      "source": [
        "states = {\n",
        "    'Karnataka' : [52934890, 'Bangalore', True],\n",
        "    'Bihar' : [2879465, 'Patna', True],\n",
        "    'Andhra pradesh': [4976354, 'Hyderabad', False],\n",
        "    'Assam' : [3124553, 'Dispur', False]\n",
        "}\n",
        "\n",
        "print(states)\n",
        "\n",
        "print(states['Bihar'])\n",
        "\n",
        "states['Telangana'] = [3576354, 'Hyderabad', False]\n",
        "\n",
        "print(states)"
      ],
      "execution_count": 104,
      "outputs": [
        {
          "output_type": "stream",
          "text": [
            "{'Karnataka': [52934890, 'Bangalore', True], 'Bihar': [2879465, 'Patna', True], 'Andhra pradesh': [4976354, 'Hyderabad', False], 'Assam': [3124553, 'Dispur', False]}\n",
            "[2879465, 'Patna', True]\n",
            "{'Karnataka': [52934890, 'Bangalore', True], 'Bihar': [2879465, 'Patna', True], 'Andhra pradesh': [4976354, 'Hyderabad', False], 'Assam': [3124553, 'Dispur', False], 'Telangana': [3576354, 'Hyderabad', False]}\n"
          ],
          "name": "stdout"
        }
      ]
    },
    {
      "cell_type": "code",
      "metadata": {
        "id": "nLENv3DK3ktr",
        "colab_type": "code",
        "colab": {
          "base_uri": "https://localhost:8080/",
          "height": 35
        },
        "outputId": "60141157-1f7d-4caf-9ef4-53c39d422d2a"
      },
      "source": [
        "-3 + 4 * 2\n",
        "\n",
        "-3 * 4 + 2\n",
        "\n"
      ],
      "execution_count": 108,
      "outputs": [
        {
          "output_type": "execute_result",
          "data": {
            "text/plain": [
              "-10"
            ]
          },
          "metadata": {
            "tags": []
          },
          "execution_count": 108
        }
      ]
    },
    {
      "cell_type": "code",
      "metadata": {
        "id": "a3Acz2V44KpT",
        "colab_type": "code",
        "colab": {
          "base_uri": "https://localhost:8080/",
          "height": 35
        },
        "outputId": "8cb2cc70-1012-4299-f6e6-36524d621f72"
      },
      "source": [
        "hat_height_cm = 25\n",
        "my_height_cm = 154\n",
        "\n",
        "# Calculate total height in meters\n",
        "\n",
        "total_height_m = hat_height_cm + my_height_cm / 100\n",
        "\n",
        "total_height_m1 = (hat_height_cm + my_height_cm) / 100\n",
        "\n",
        "print(\"Total height in meters \" , total_height_m , total_height_m1,  \" meters\")"
      ],
      "execution_count": 112,
      "outputs": [
        {
          "output_type": "stream",
          "text": [
            "Total height in meters  26.54 1.79  meters\n"
          ],
          "name": "stdout"
        }
      ]
    },
    {
      "cell_type": "code",
      "metadata": {
        "id": "VP0tmKEd5S62",
        "colab_type": "code",
        "colab": {
          "base_uri": "https://localhost:8080/",
          "height": 52
        },
        "outputId": "bb28674c-ba4e-4f66-ce66-e9382562dd08"
      },
      "source": [
        "print(min(1, 2, 3))\n",
        "\n",
        "print(max(1, 2, 3))"
      ],
      "execution_count": 114,
      "outputs": [
        {
          "output_type": "stream",
          "text": [
            "1\n",
            "3\n"
          ],
          "name": "stdout"
        }
      ]
    },
    {
      "cell_type": "code",
      "metadata": {
        "id": "nudBMTpK5a6_",
        "colab_type": "code",
        "colab": {
          "base_uri": "https://localhost:8080/",
          "height": 52
        },
        "outputId": "f83ef814-9d89-4e75-c354-5c62be8c91d8"
      },
      "source": [
        "\n",
        "print(abs(32))\n",
        "print(abs(-32))\n"
      ],
      "execution_count": 117,
      "outputs": [
        {
          "output_type": "stream",
          "text": [
            "32\n",
            "32\n"
          ],
          "name": "stdout"
        }
      ]
    },
    {
      "cell_type": "code",
      "metadata": {
        "id": "DFdIdgt75tPV",
        "colab_type": "code",
        "colab": {
          "base_uri": "https://localhost:8080/",
          "height": 69
        },
        "outputId": "bdcb70ee-c5da-4280-9b76-c0280c95daf3"
      },
      "source": [
        "print(int(19.65))\n",
        "print(float(10))\n",
        "\n",
        "print(int(9.5 + 3) +6)"
      ],
      "execution_count": 119,
      "outputs": [
        {
          "output_type": "stream",
          "text": [
            "19\n",
            "10.0\n",
            "18\n"
          ],
          "name": "stdout"
        }
      ]
    },
    {
      "cell_type": "code",
      "metadata": {
        "id": "_nde35A57R--",
        "colab_type": "code",
        "colab": {
          "base_uri": "https://localhost:8080/",
          "height": 35
        },
        "outputId": "636cf4f2-d9b7-43d4-a912-0697a45d6ade"
      },
      "source": [
        "\n",
        "print(\"Setup complete! You're ready to start question 0.\")"
      ],
      "execution_count": 122,
      "outputs": [
        {
          "output_type": "stream",
          "text": [
            "Setup complete! You're ready to start question 0.\n"
          ],
          "name": "stdout"
        }
      ]
    },
    {
      "cell_type": "code",
      "metadata": {
        "id": "GjKUHLqN-vyD",
        "colab_type": "code",
        "colab": {
          "base_uri": "https://localhost:8080/",
          "height": 87
        },
        "outputId": "cf8da4f5-80bc-4a0c-946b-c2ef453fab2b"
      },
      "source": [
        "# Function and lambda\n",
        "\n",
        "import numpy as np\n",
        "\n",
        "def deg_rad(deg):\n",
        "    rad = deg * (22 / 7 / 180)\n",
        "    return(rad)\n",
        "  \n",
        "rad_angle = deg_rad(360)\n",
        "\n",
        "print(rad_angle)\n",
        "\n",
        "angles = [30, 60, 90, 180, 360]\n",
        "\n",
        "np_angels = np.array(angles)\n",
        "\n",
        "print(deg_rad(np_angels))\n",
        "\n",
        "# deg_rad(angles)\n",
        "\n",
        "angles = [deg_rad(30), 60, 90, 180, 360]\n",
        "\n",
        "print(angles)\n",
        "\n",
        "\n",
        "# lambda\n",
        "\n",
        "deg_rad_inline = lambda angle,rotate: angle/360*22/7+rotate\n",
        "\n",
        "deg_rad_inline(30,deg_rad(360))\n"
      ],
      "execution_count": 134,
      "outputs": [
        {
          "output_type": "stream",
          "text": [
            "6.285714285714286\n",
            "[0.52380952 1.04761905 1.57142857 3.14285714 6.28571429]\n",
            "[0.5238095238095238, 60, 90, 180, 360]\n"
          ],
          "name": "stdout"
        },
        {
          "output_type": "execute_result",
          "data": {
            "text/plain": [
              "6.5476190476190474"
            ]
          },
          "metadata": {
            "tags": []
          },
          "execution_count": 134
        }
      ]
    }
  ]
}